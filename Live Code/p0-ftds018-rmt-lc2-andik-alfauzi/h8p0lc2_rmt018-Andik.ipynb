{
  "nbformat": 4,
  "nbformat_minor": 0,
  "metadata": {
    "colab": {
      "provenance": []
    },
    "kernelspec": {
      "name": "python3",
      "display_name": "Python 3"
    },
    "language_info": {
      "name": "python"
    }
  },
  "cells": [
    {
      "cell_type": "markdown",
      "source": [
        "# Live Code - 2\n",
        "\n",
        "\n",
        "---\n",
        "\n"
      ],
      "metadata": {
        "id": "Gm_s3KgEpxJs"
      }
    },
    {
      "cell_type": "markdown",
      "source": [
        "- Andik Al Fauzi - FTDS-RMT-018"
      ],
      "metadata": {
        "id": "WKHX8LNKpyE_"
      }
    },
    {
      "cell_type": "markdown",
      "source": [
        "# SQL Query\n",
        "\n",
        "\n",
        "---\n",
        "\n"
      ],
      "metadata": {
        "id": "Su6Meonop42z"
      }
    },
    {
      "cell_type": "code",
      "execution_count": 36,
      "metadata": {
        "id": "r6VWD4z_pLPq"
      },
      "outputs": [],
      "source": [
        "# SQL Query for Problem 2\n",
        "\n",
        "# SELECT operation, property_type, price FROM `bigquery-public-data.properati_properties_ar.properties_rent_201501`\n",
        "# WHERE (operation = 'rent')\n",
        "# AND (property_type = 'apartment')"
      ]
    },
    {
      "cell_type": "markdown",
      "source": [
        "# Data Preparation\n",
        "\n",
        "\n",
        "---\n",
        "\n"
      ],
      "metadata": {
        "id": "BvM4ILSSp_qi"
      }
    },
    {
      "cell_type": "code",
      "source": [
        "# Importing Library\n",
        "\n",
        "import pandas as pd\n",
        "import numpy as np \n",
        "import seaborn as sns\n",
        "import statistics\n",
        "from numpy import percentile\n",
        "from numpy.linalg import linalg\n",
        "import matplotlib\n",
        "import matplotlib.pyplot as plt\n"
      ],
      "metadata": {
        "id": "7if5MaK4p_Pv"
      },
      "execution_count": 45,
      "outputs": []
    },
    {
      "cell_type": "code",
      "source": [
        "# Create DataFrame for Problem 1\n",
        "\n",
        "Rumah = ['Rumah 1', 'Rumah 2']\n",
        "LT = [100, 200]\n",
        "LB = [240, 200]\n",
        "JL = [3, 2]\n",
        "JKT = [3, 2]\n",
        "JKM = [2, 2]\n",
        "HB = [0, 2]\n",
        "Park = [1, 1]\n",
        "DPK = [1, 1]\n",
        "Harga = [800, 600]\n",
        "\n",
        "list = {'Rumah': Rumah, 'Luas Tanah': LT, 'Luas Bangunan': LB, 'Jumlah Lantai': JL, \n",
        "        'Jumlah Kamar Tidur': JKT, 'Jumlah Kamar Mandi': JKM, 'Ada Halaman Belakang': HB,\n",
        "        'Ada Parkiran': Park, 'Dekat Pusat Kota': DPK, 'Harga': Harga}\n",
        "\n",
        "# Inserting list to DataFrame\n",
        "\n",
        "dfProblem1 = pd.DataFrame(list)"
      ],
      "metadata": {
        "id": "oX7Ex8BL3qvV"
      },
      "execution_count": null,
      "outputs": []
    },
    {
      "cell_type": "code",
      "source": [
        "# Show Dataframe Problem 1\n",
        "\n",
        "dfProblem1"
      ],
      "metadata": {
        "colab": {
          "base_uri": "https://localhost:8080/",
          "height": 112
        },
        "id": "U4NbQxo7uv0s",
        "outputId": "26e8d13d-c8ac-4d13-ccc7-5381be055ac8"
      },
      "execution_count": 16,
      "outputs": [
        {
          "output_type": "execute_result",
          "data": {
            "text/plain": [
              "     Rumah  Luas Tanah  Luas Bangunan  Jumlah Lantai  Jumlah Kamar Tidur  \\\n",
              "0  Rumah 1         100            240              3                   3   \n",
              "1  Rumah 2         200            200              2                   2   \n",
              "\n",
              "   Jumlah Kamar Mandi  Ada Halaman Belakang  Ada Parkiran  Dekat Pusat Kota  \\\n",
              "0                   2                     0             1                 1   \n",
              "1                   2                     2             1                 1   \n",
              "\n",
              "   Harga  \n",
              "0    800  \n",
              "1    600  "
            ],
            "text/html": [
              "\n",
              "  <div id=\"df-0d5e7a8a-6fea-433a-9248-a87c62e34662\">\n",
              "    <div class=\"colab-df-container\">\n",
              "      <div>\n",
              "<style scoped>\n",
              "    .dataframe tbody tr th:only-of-type {\n",
              "        vertical-align: middle;\n",
              "    }\n",
              "\n",
              "    .dataframe tbody tr th {\n",
              "        vertical-align: top;\n",
              "    }\n",
              "\n",
              "    .dataframe thead th {\n",
              "        text-align: right;\n",
              "    }\n",
              "</style>\n",
              "<table border=\"1\" class=\"dataframe\">\n",
              "  <thead>\n",
              "    <tr style=\"text-align: right;\">\n",
              "      <th></th>\n",
              "      <th>Rumah</th>\n",
              "      <th>Luas Tanah</th>\n",
              "      <th>Luas Bangunan</th>\n",
              "      <th>Jumlah Lantai</th>\n",
              "      <th>Jumlah Kamar Tidur</th>\n",
              "      <th>Jumlah Kamar Mandi</th>\n",
              "      <th>Ada Halaman Belakang</th>\n",
              "      <th>Ada Parkiran</th>\n",
              "      <th>Dekat Pusat Kota</th>\n",
              "      <th>Harga</th>\n",
              "    </tr>\n",
              "  </thead>\n",
              "  <tbody>\n",
              "    <tr>\n",
              "      <th>0</th>\n",
              "      <td>Rumah 1</td>\n",
              "      <td>100</td>\n",
              "      <td>240</td>\n",
              "      <td>3</td>\n",
              "      <td>3</td>\n",
              "      <td>2</td>\n",
              "      <td>0</td>\n",
              "      <td>1</td>\n",
              "      <td>1</td>\n",
              "      <td>800</td>\n",
              "    </tr>\n",
              "    <tr>\n",
              "      <th>1</th>\n",
              "      <td>Rumah 2</td>\n",
              "      <td>200</td>\n",
              "      <td>200</td>\n",
              "      <td>2</td>\n",
              "      <td>2</td>\n",
              "      <td>2</td>\n",
              "      <td>2</td>\n",
              "      <td>1</td>\n",
              "      <td>1</td>\n",
              "      <td>600</td>\n",
              "    </tr>\n",
              "  </tbody>\n",
              "</table>\n",
              "</div>\n",
              "      <button class=\"colab-df-convert\" onclick=\"convertToInteractive('df-0d5e7a8a-6fea-433a-9248-a87c62e34662')\"\n",
              "              title=\"Convert this dataframe to an interactive table.\"\n",
              "              style=\"display:none;\">\n",
              "        \n",
              "  <svg xmlns=\"http://www.w3.org/2000/svg\" height=\"24px\"viewBox=\"0 0 24 24\"\n",
              "       width=\"24px\">\n",
              "    <path d=\"M0 0h24v24H0V0z\" fill=\"none\"/>\n",
              "    <path d=\"M18.56 5.44l.94 2.06.94-2.06 2.06-.94-2.06-.94-.94-2.06-.94 2.06-2.06.94zm-11 1L8.5 8.5l.94-2.06 2.06-.94-2.06-.94L8.5 2.5l-.94 2.06-2.06.94zm10 10l.94 2.06.94-2.06 2.06-.94-2.06-.94-.94-2.06-.94 2.06-2.06.94z\"/><path d=\"M17.41 7.96l-1.37-1.37c-.4-.4-.92-.59-1.43-.59-.52 0-1.04.2-1.43.59L10.3 9.45l-7.72 7.72c-.78.78-.78 2.05 0 2.83L4 21.41c.39.39.9.59 1.41.59.51 0 1.02-.2 1.41-.59l7.78-7.78 2.81-2.81c.8-.78.8-2.07 0-2.86zM5.41 20L4 18.59l7.72-7.72 1.47 1.35L5.41 20z\"/>\n",
              "  </svg>\n",
              "      </button>\n",
              "      \n",
              "  <style>\n",
              "    .colab-df-container {\n",
              "      display:flex;\n",
              "      flex-wrap:wrap;\n",
              "      gap: 12px;\n",
              "    }\n",
              "\n",
              "    .colab-df-convert {\n",
              "      background-color: #E8F0FE;\n",
              "      border: none;\n",
              "      border-radius: 50%;\n",
              "      cursor: pointer;\n",
              "      display: none;\n",
              "      fill: #1967D2;\n",
              "      height: 32px;\n",
              "      padding: 0 0 0 0;\n",
              "      width: 32px;\n",
              "    }\n",
              "\n",
              "    .colab-df-convert:hover {\n",
              "      background-color: #E2EBFA;\n",
              "      box-shadow: 0px 1px 2px rgba(60, 64, 67, 0.3), 0px 1px 3px 1px rgba(60, 64, 67, 0.15);\n",
              "      fill: #174EA6;\n",
              "    }\n",
              "\n",
              "    [theme=dark] .colab-df-convert {\n",
              "      background-color: #3B4455;\n",
              "      fill: #D2E3FC;\n",
              "    }\n",
              "\n",
              "    [theme=dark] .colab-df-convert:hover {\n",
              "      background-color: #434B5C;\n",
              "      box-shadow: 0px 1px 3px 1px rgba(0, 0, 0, 0.15);\n",
              "      filter: drop-shadow(0px 1px 2px rgba(0, 0, 0, 0.3));\n",
              "      fill: #FFFFFF;\n",
              "    }\n",
              "  </style>\n",
              "\n",
              "      <script>\n",
              "        const buttonEl =\n",
              "          document.querySelector('#df-0d5e7a8a-6fea-433a-9248-a87c62e34662 button.colab-df-convert');\n",
              "        buttonEl.style.display =\n",
              "          google.colab.kernel.accessAllowed ? 'block' : 'none';\n",
              "\n",
              "        async function convertToInteractive(key) {\n",
              "          const element = document.querySelector('#df-0d5e7a8a-6fea-433a-9248-a87c62e34662');\n",
              "          const dataTable =\n",
              "            await google.colab.kernel.invokeFunction('convertToInteractive',\n",
              "                                                     [key], {});\n",
              "          if (!dataTable) return;\n",
              "\n",
              "          const docLinkHtml = 'Like what you see? Visit the ' +\n",
              "            '<a target=\"_blank\" href=https://colab.research.google.com/notebooks/data_table.ipynb>data table notebook</a>'\n",
              "            + ' to learn more about interactive tables.';\n",
              "          element.innerHTML = '';\n",
              "          dataTable['output_type'] = 'display_data';\n",
              "          await google.colab.output.renderOutput(dataTable, element);\n",
              "          const docLink = document.createElement('div');\n",
              "          docLink.innerHTML = docLinkHtml;\n",
              "          element.appendChild(docLink);\n",
              "        }\n",
              "      </script>\n",
              "    </div>\n",
              "  </div>\n",
              "  "
            ]
          },
          "metadata": {},
          "execution_count": 16
        }
      ]
    },
    {
      "cell_type": "code",
      "source": [
        "# DFProblem1 without Column = Harga\n",
        "\n",
        "dfProblem1Copy = dfProblem1.copy()"
      ],
      "metadata": {
        "id": "QiFZEbqFvddN"
      },
      "execution_count": 20,
      "outputs": []
    },
    {
      "cell_type": "code",
      "source": [
        "# Load Data CSV for 2nd Problem\n",
        "\n",
        "dfProb2 = pd.read_csv('/content/h8dsft_P0LC3_Andik_Al_Fauzi.csv')"
      ],
      "metadata": {
        "id": "LEMaGhwDqS1G"
      },
      "execution_count": 28,
      "outputs": []
    },
    {
      "cell_type": "code",
      "source": [
        "# Creata a copy data to make sure original data is untouchable\n",
        "\n",
        "dfProb2Copy = dfProb2.copy()"
      ],
      "metadata": {
        "id": "ggzqikfcqbWp"
      },
      "execution_count": 29,
      "outputs": []
    },
    {
      "cell_type": "code",
      "source": [
        "# Check Data Head\n",
        "\n",
        "dfProb2Copy.head(5)"
      ],
      "metadata": {
        "colab": {
          "base_uri": "https://localhost:8080/",
          "height": 206
        },
        "id": "1RkRpSTfqmOU",
        "outputId": "d3946b3e-cf71-43cc-aa06-868a6c329e8f"
      },
      "execution_count": 33,
      "outputs": [
        {
          "output_type": "execute_result",
          "data": {
            "text/plain": [
              "  operation property_type   price\n",
              "0      rent     apartment  2500.0\n",
              "1      rent     apartment  3500.0\n",
              "2      rent     apartment  2850.0\n",
              "3      rent     apartment  1850.0\n",
              "4      rent     apartment  1000.0"
            ],
            "text/html": [
              "\n",
              "  <div id=\"df-98b4f00f-80f8-47a4-9451-8cb8fdd959fd\">\n",
              "    <div class=\"colab-df-container\">\n",
              "      <div>\n",
              "<style scoped>\n",
              "    .dataframe tbody tr th:only-of-type {\n",
              "        vertical-align: middle;\n",
              "    }\n",
              "\n",
              "    .dataframe tbody tr th {\n",
              "        vertical-align: top;\n",
              "    }\n",
              "\n",
              "    .dataframe thead th {\n",
              "        text-align: right;\n",
              "    }\n",
              "</style>\n",
              "<table border=\"1\" class=\"dataframe\">\n",
              "  <thead>\n",
              "    <tr style=\"text-align: right;\">\n",
              "      <th></th>\n",
              "      <th>operation</th>\n",
              "      <th>property_type</th>\n",
              "      <th>price</th>\n",
              "    </tr>\n",
              "  </thead>\n",
              "  <tbody>\n",
              "    <tr>\n",
              "      <th>0</th>\n",
              "      <td>rent</td>\n",
              "      <td>apartment</td>\n",
              "      <td>2500.0</td>\n",
              "    </tr>\n",
              "    <tr>\n",
              "      <th>1</th>\n",
              "      <td>rent</td>\n",
              "      <td>apartment</td>\n",
              "      <td>3500.0</td>\n",
              "    </tr>\n",
              "    <tr>\n",
              "      <th>2</th>\n",
              "      <td>rent</td>\n",
              "      <td>apartment</td>\n",
              "      <td>2850.0</td>\n",
              "    </tr>\n",
              "    <tr>\n",
              "      <th>3</th>\n",
              "      <td>rent</td>\n",
              "      <td>apartment</td>\n",
              "      <td>1850.0</td>\n",
              "    </tr>\n",
              "    <tr>\n",
              "      <th>4</th>\n",
              "      <td>rent</td>\n",
              "      <td>apartment</td>\n",
              "      <td>1000.0</td>\n",
              "    </tr>\n",
              "  </tbody>\n",
              "</table>\n",
              "</div>\n",
              "      <button class=\"colab-df-convert\" onclick=\"convertToInteractive('df-98b4f00f-80f8-47a4-9451-8cb8fdd959fd')\"\n",
              "              title=\"Convert this dataframe to an interactive table.\"\n",
              "              style=\"display:none;\">\n",
              "        \n",
              "  <svg xmlns=\"http://www.w3.org/2000/svg\" height=\"24px\"viewBox=\"0 0 24 24\"\n",
              "       width=\"24px\">\n",
              "    <path d=\"M0 0h24v24H0V0z\" fill=\"none\"/>\n",
              "    <path d=\"M18.56 5.44l.94 2.06.94-2.06 2.06-.94-2.06-.94-.94-2.06-.94 2.06-2.06.94zm-11 1L8.5 8.5l.94-2.06 2.06-.94-2.06-.94L8.5 2.5l-.94 2.06-2.06.94zm10 10l.94 2.06.94-2.06 2.06-.94-2.06-.94-.94-2.06-.94 2.06-2.06.94z\"/><path d=\"M17.41 7.96l-1.37-1.37c-.4-.4-.92-.59-1.43-.59-.52 0-1.04.2-1.43.59L10.3 9.45l-7.72 7.72c-.78.78-.78 2.05 0 2.83L4 21.41c.39.39.9.59 1.41.59.51 0 1.02-.2 1.41-.59l7.78-7.78 2.81-2.81c.8-.78.8-2.07 0-2.86zM5.41 20L4 18.59l7.72-7.72 1.47 1.35L5.41 20z\"/>\n",
              "  </svg>\n",
              "      </button>\n",
              "      \n",
              "  <style>\n",
              "    .colab-df-container {\n",
              "      display:flex;\n",
              "      flex-wrap:wrap;\n",
              "      gap: 12px;\n",
              "    }\n",
              "\n",
              "    .colab-df-convert {\n",
              "      background-color: #E8F0FE;\n",
              "      border: none;\n",
              "      border-radius: 50%;\n",
              "      cursor: pointer;\n",
              "      display: none;\n",
              "      fill: #1967D2;\n",
              "      height: 32px;\n",
              "      padding: 0 0 0 0;\n",
              "      width: 32px;\n",
              "    }\n",
              "\n",
              "    .colab-df-convert:hover {\n",
              "      background-color: #E2EBFA;\n",
              "      box-shadow: 0px 1px 2px rgba(60, 64, 67, 0.3), 0px 1px 3px 1px rgba(60, 64, 67, 0.15);\n",
              "      fill: #174EA6;\n",
              "    }\n",
              "\n",
              "    [theme=dark] .colab-df-convert {\n",
              "      background-color: #3B4455;\n",
              "      fill: #D2E3FC;\n",
              "    }\n",
              "\n",
              "    [theme=dark] .colab-df-convert:hover {\n",
              "      background-color: #434B5C;\n",
              "      box-shadow: 0px 1px 3px 1px rgba(0, 0, 0, 0.15);\n",
              "      filter: drop-shadow(0px 1px 2px rgba(0, 0, 0, 0.3));\n",
              "      fill: #FFFFFF;\n",
              "    }\n",
              "  </style>\n",
              "\n",
              "      <script>\n",
              "        const buttonEl =\n",
              "          document.querySelector('#df-98b4f00f-80f8-47a4-9451-8cb8fdd959fd button.colab-df-convert');\n",
              "        buttonEl.style.display =\n",
              "          google.colab.kernel.accessAllowed ? 'block' : 'none';\n",
              "\n",
              "        async function convertToInteractive(key) {\n",
              "          const element = document.querySelector('#df-98b4f00f-80f8-47a4-9451-8cb8fdd959fd');\n",
              "          const dataTable =\n",
              "            await google.colab.kernel.invokeFunction('convertToInteractive',\n",
              "                                                     [key], {});\n",
              "          if (!dataTable) return;\n",
              "\n",
              "          const docLinkHtml = 'Like what you see? Visit the ' +\n",
              "            '<a target=\"_blank\" href=https://colab.research.google.com/notebooks/data_table.ipynb>data table notebook</a>'\n",
              "            + ' to learn more about interactive tables.';\n",
              "          element.innerHTML = '';\n",
              "          dataTable['output_type'] = 'display_data';\n",
              "          await google.colab.output.renderOutput(dataTable, element);\n",
              "          const docLink = document.createElement('div');\n",
              "          docLink.innerHTML = docLinkHtml;\n",
              "          element.appendChild(docLink);\n",
              "        }\n",
              "      </script>\n",
              "    </div>\n",
              "  </div>\n",
              "  "
            ]
          },
          "metadata": {},
          "execution_count": 33
        }
      ]
    },
    {
      "cell_type": "code",
      "source": [
        "# Check Data Tail\n",
        "\n",
        "dfProb2Copy.tail(5)"
      ],
      "metadata": {
        "colab": {
          "base_uri": "https://localhost:8080/",
          "height": 206
        },
        "id": "zFvvCr841AtE",
        "outputId": "8651c2a0-7c0f-4daf-91ea-c10cea193509"
      },
      "execution_count": 34,
      "outputs": [
        {
          "output_type": "execute_result",
          "data": {
            "text/plain": [
              "     operation property_type  price\n",
              "1767      rent     apartment  500.0\n",
              "1768      rent     apartment  500.0\n",
              "1769      rent     apartment  500.0\n",
              "1770      rent     apartment  500.0\n",
              "1771      rent     apartment  500.0"
            ],
            "text/html": [
              "\n",
              "  <div id=\"df-408d3267-e542-498e-bc14-069a4aeea3cc\">\n",
              "    <div class=\"colab-df-container\">\n",
              "      <div>\n",
              "<style scoped>\n",
              "    .dataframe tbody tr th:only-of-type {\n",
              "        vertical-align: middle;\n",
              "    }\n",
              "\n",
              "    .dataframe tbody tr th {\n",
              "        vertical-align: top;\n",
              "    }\n",
              "\n",
              "    .dataframe thead th {\n",
              "        text-align: right;\n",
              "    }\n",
              "</style>\n",
              "<table border=\"1\" class=\"dataframe\">\n",
              "  <thead>\n",
              "    <tr style=\"text-align: right;\">\n",
              "      <th></th>\n",
              "      <th>operation</th>\n",
              "      <th>property_type</th>\n",
              "      <th>price</th>\n",
              "    </tr>\n",
              "  </thead>\n",
              "  <tbody>\n",
              "    <tr>\n",
              "      <th>1767</th>\n",
              "      <td>rent</td>\n",
              "      <td>apartment</td>\n",
              "      <td>500.0</td>\n",
              "    </tr>\n",
              "    <tr>\n",
              "      <th>1768</th>\n",
              "      <td>rent</td>\n",
              "      <td>apartment</td>\n",
              "      <td>500.0</td>\n",
              "    </tr>\n",
              "    <tr>\n",
              "      <th>1769</th>\n",
              "      <td>rent</td>\n",
              "      <td>apartment</td>\n",
              "      <td>500.0</td>\n",
              "    </tr>\n",
              "    <tr>\n",
              "      <th>1770</th>\n",
              "      <td>rent</td>\n",
              "      <td>apartment</td>\n",
              "      <td>500.0</td>\n",
              "    </tr>\n",
              "    <tr>\n",
              "      <th>1771</th>\n",
              "      <td>rent</td>\n",
              "      <td>apartment</td>\n",
              "      <td>500.0</td>\n",
              "    </tr>\n",
              "  </tbody>\n",
              "</table>\n",
              "</div>\n",
              "      <button class=\"colab-df-convert\" onclick=\"convertToInteractive('df-408d3267-e542-498e-bc14-069a4aeea3cc')\"\n",
              "              title=\"Convert this dataframe to an interactive table.\"\n",
              "              style=\"display:none;\">\n",
              "        \n",
              "  <svg xmlns=\"http://www.w3.org/2000/svg\" height=\"24px\"viewBox=\"0 0 24 24\"\n",
              "       width=\"24px\">\n",
              "    <path d=\"M0 0h24v24H0V0z\" fill=\"none\"/>\n",
              "    <path d=\"M18.56 5.44l.94 2.06.94-2.06 2.06-.94-2.06-.94-.94-2.06-.94 2.06-2.06.94zm-11 1L8.5 8.5l.94-2.06 2.06-.94-2.06-.94L8.5 2.5l-.94 2.06-2.06.94zm10 10l.94 2.06.94-2.06 2.06-.94-2.06-.94-.94-2.06-.94 2.06-2.06.94z\"/><path d=\"M17.41 7.96l-1.37-1.37c-.4-.4-.92-.59-1.43-.59-.52 0-1.04.2-1.43.59L10.3 9.45l-7.72 7.72c-.78.78-.78 2.05 0 2.83L4 21.41c.39.39.9.59 1.41.59.51 0 1.02-.2 1.41-.59l7.78-7.78 2.81-2.81c.8-.78.8-2.07 0-2.86zM5.41 20L4 18.59l7.72-7.72 1.47 1.35L5.41 20z\"/>\n",
              "  </svg>\n",
              "      </button>\n",
              "      \n",
              "  <style>\n",
              "    .colab-df-container {\n",
              "      display:flex;\n",
              "      flex-wrap:wrap;\n",
              "      gap: 12px;\n",
              "    }\n",
              "\n",
              "    .colab-df-convert {\n",
              "      background-color: #E8F0FE;\n",
              "      border: none;\n",
              "      border-radius: 50%;\n",
              "      cursor: pointer;\n",
              "      display: none;\n",
              "      fill: #1967D2;\n",
              "      height: 32px;\n",
              "      padding: 0 0 0 0;\n",
              "      width: 32px;\n",
              "    }\n",
              "\n",
              "    .colab-df-convert:hover {\n",
              "      background-color: #E2EBFA;\n",
              "      box-shadow: 0px 1px 2px rgba(60, 64, 67, 0.3), 0px 1px 3px 1px rgba(60, 64, 67, 0.15);\n",
              "      fill: #174EA6;\n",
              "    }\n",
              "\n",
              "    [theme=dark] .colab-df-convert {\n",
              "      background-color: #3B4455;\n",
              "      fill: #D2E3FC;\n",
              "    }\n",
              "\n",
              "    [theme=dark] .colab-df-convert:hover {\n",
              "      background-color: #434B5C;\n",
              "      box-shadow: 0px 1px 3px 1px rgba(0, 0, 0, 0.15);\n",
              "      filter: drop-shadow(0px 1px 2px rgba(0, 0, 0, 0.3));\n",
              "      fill: #FFFFFF;\n",
              "    }\n",
              "  </style>\n",
              "\n",
              "      <script>\n",
              "        const buttonEl =\n",
              "          document.querySelector('#df-408d3267-e542-498e-bc14-069a4aeea3cc button.colab-df-convert');\n",
              "        buttonEl.style.display =\n",
              "          google.colab.kernel.accessAllowed ? 'block' : 'none';\n",
              "\n",
              "        async function convertToInteractive(key) {\n",
              "          const element = document.querySelector('#df-408d3267-e542-498e-bc14-069a4aeea3cc');\n",
              "          const dataTable =\n",
              "            await google.colab.kernel.invokeFunction('convertToInteractive',\n",
              "                                                     [key], {});\n",
              "          if (!dataTable) return;\n",
              "\n",
              "          const docLinkHtml = 'Like what you see? Visit the ' +\n",
              "            '<a target=\"_blank\" href=https://colab.research.google.com/notebooks/data_table.ipynb>data table notebook</a>'\n",
              "            + ' to learn more about interactive tables.';\n",
              "          element.innerHTML = '';\n",
              "          dataTable['output_type'] = 'display_data';\n",
              "          await google.colab.output.renderOutput(dataTable, element);\n",
              "          const docLink = document.createElement('div');\n",
              "          docLink.innerHTML = docLinkHtml;\n",
              "          element.appendChild(docLink);\n",
              "        }\n",
              "      </script>\n",
              "    </div>\n",
              "  </div>\n",
              "  "
            ]
          },
          "metadata": {},
          "execution_count": 34
        }
      ]
    },
    {
      "cell_type": "code",
      "source": [
        "# Cek Description Data\n",
        "\n",
        "dfProb2Copy.describe()"
      ],
      "metadata": {
        "colab": {
          "base_uri": "https://localhost:8080/",
          "height": 300
        },
        "id": "OQbF2q6nqw0j",
        "outputId": "48b88372-3d7a-4223-f8e1-4808a0e65166"
      },
      "execution_count": 31,
      "outputs": [
        {
          "output_type": "execute_result",
          "data": {
            "text/plain": [
              "               price\n",
              "count    1658.000000\n",
              "mean     5166.355247\n",
              "std      8995.996301\n",
              "min         0.000000\n",
              "25%         0.000000\n",
              "50%      2700.000000\n",
              "75%      5500.000000\n",
              "max    100000.000000"
            ],
            "text/html": [
              "\n",
              "  <div id=\"df-06fc70a7-ae8f-4ebb-999d-0cbd86c98e3f\">\n",
              "    <div class=\"colab-df-container\">\n",
              "      <div>\n",
              "<style scoped>\n",
              "    .dataframe tbody tr th:only-of-type {\n",
              "        vertical-align: middle;\n",
              "    }\n",
              "\n",
              "    .dataframe tbody tr th {\n",
              "        vertical-align: top;\n",
              "    }\n",
              "\n",
              "    .dataframe thead th {\n",
              "        text-align: right;\n",
              "    }\n",
              "</style>\n",
              "<table border=\"1\" class=\"dataframe\">\n",
              "  <thead>\n",
              "    <tr style=\"text-align: right;\">\n",
              "      <th></th>\n",
              "      <th>price</th>\n",
              "    </tr>\n",
              "  </thead>\n",
              "  <tbody>\n",
              "    <tr>\n",
              "      <th>count</th>\n",
              "      <td>1658.000000</td>\n",
              "    </tr>\n",
              "    <tr>\n",
              "      <th>mean</th>\n",
              "      <td>5166.355247</td>\n",
              "    </tr>\n",
              "    <tr>\n",
              "      <th>std</th>\n",
              "      <td>8995.996301</td>\n",
              "    </tr>\n",
              "    <tr>\n",
              "      <th>min</th>\n",
              "      <td>0.000000</td>\n",
              "    </tr>\n",
              "    <tr>\n",
              "      <th>25%</th>\n",
              "      <td>0.000000</td>\n",
              "    </tr>\n",
              "    <tr>\n",
              "      <th>50%</th>\n",
              "      <td>2700.000000</td>\n",
              "    </tr>\n",
              "    <tr>\n",
              "      <th>75%</th>\n",
              "      <td>5500.000000</td>\n",
              "    </tr>\n",
              "    <tr>\n",
              "      <th>max</th>\n",
              "      <td>100000.000000</td>\n",
              "    </tr>\n",
              "  </tbody>\n",
              "</table>\n",
              "</div>\n",
              "      <button class=\"colab-df-convert\" onclick=\"convertToInteractive('df-06fc70a7-ae8f-4ebb-999d-0cbd86c98e3f')\"\n",
              "              title=\"Convert this dataframe to an interactive table.\"\n",
              "              style=\"display:none;\">\n",
              "        \n",
              "  <svg xmlns=\"http://www.w3.org/2000/svg\" height=\"24px\"viewBox=\"0 0 24 24\"\n",
              "       width=\"24px\">\n",
              "    <path d=\"M0 0h24v24H0V0z\" fill=\"none\"/>\n",
              "    <path d=\"M18.56 5.44l.94 2.06.94-2.06 2.06-.94-2.06-.94-.94-2.06-.94 2.06-2.06.94zm-11 1L8.5 8.5l.94-2.06 2.06-.94-2.06-.94L8.5 2.5l-.94 2.06-2.06.94zm10 10l.94 2.06.94-2.06 2.06-.94-2.06-.94-.94-2.06-.94 2.06-2.06.94z\"/><path d=\"M17.41 7.96l-1.37-1.37c-.4-.4-.92-.59-1.43-.59-.52 0-1.04.2-1.43.59L10.3 9.45l-7.72 7.72c-.78.78-.78 2.05 0 2.83L4 21.41c.39.39.9.59 1.41.59.51 0 1.02-.2 1.41-.59l7.78-7.78 2.81-2.81c.8-.78.8-2.07 0-2.86zM5.41 20L4 18.59l7.72-7.72 1.47 1.35L5.41 20z\"/>\n",
              "  </svg>\n",
              "      </button>\n",
              "      \n",
              "  <style>\n",
              "    .colab-df-container {\n",
              "      display:flex;\n",
              "      flex-wrap:wrap;\n",
              "      gap: 12px;\n",
              "    }\n",
              "\n",
              "    .colab-df-convert {\n",
              "      background-color: #E8F0FE;\n",
              "      border: none;\n",
              "      border-radius: 50%;\n",
              "      cursor: pointer;\n",
              "      display: none;\n",
              "      fill: #1967D2;\n",
              "      height: 32px;\n",
              "      padding: 0 0 0 0;\n",
              "      width: 32px;\n",
              "    }\n",
              "\n",
              "    .colab-df-convert:hover {\n",
              "      background-color: #E2EBFA;\n",
              "      box-shadow: 0px 1px 2px rgba(60, 64, 67, 0.3), 0px 1px 3px 1px rgba(60, 64, 67, 0.15);\n",
              "      fill: #174EA6;\n",
              "    }\n",
              "\n",
              "    [theme=dark] .colab-df-convert {\n",
              "      background-color: #3B4455;\n",
              "      fill: #D2E3FC;\n",
              "    }\n",
              "\n",
              "    [theme=dark] .colab-df-convert:hover {\n",
              "      background-color: #434B5C;\n",
              "      box-shadow: 0px 1px 3px 1px rgba(0, 0, 0, 0.15);\n",
              "      filter: drop-shadow(0px 1px 2px rgba(0, 0, 0, 0.3));\n",
              "      fill: #FFFFFF;\n",
              "    }\n",
              "  </style>\n",
              "\n",
              "      <script>\n",
              "        const buttonEl =\n",
              "          document.querySelector('#df-06fc70a7-ae8f-4ebb-999d-0cbd86c98e3f button.colab-df-convert');\n",
              "        buttonEl.style.display =\n",
              "          google.colab.kernel.accessAllowed ? 'block' : 'none';\n",
              "\n",
              "        async function convertToInteractive(key) {\n",
              "          const element = document.querySelector('#df-06fc70a7-ae8f-4ebb-999d-0cbd86c98e3f');\n",
              "          const dataTable =\n",
              "            await google.colab.kernel.invokeFunction('convertToInteractive',\n",
              "                                                     [key], {});\n",
              "          if (!dataTable) return;\n",
              "\n",
              "          const docLinkHtml = 'Like what you see? Visit the ' +\n",
              "            '<a target=\"_blank\" href=https://colab.research.google.com/notebooks/data_table.ipynb>data table notebook</a>'\n",
              "            + ' to learn more about interactive tables.';\n",
              "          element.innerHTML = '';\n",
              "          dataTable['output_type'] = 'display_data';\n",
              "          await google.colab.output.renderOutput(dataTable, element);\n",
              "          const docLink = document.createElement('div');\n",
              "          docLink.innerHTML = docLinkHtml;\n",
              "          element.appendChild(docLink);\n",
              "        }\n",
              "      </script>\n",
              "    </div>\n",
              "  </div>\n",
              "  "
            ]
          },
          "metadata": {},
          "execution_count": 31
        }
      ]
    },
    {
      "cell_type": "code",
      "source": [
        "# Check Data info + Check missing value\n",
        "\n",
        "dfProb2Copy.info()"
      ],
      "metadata": {
        "colab": {
          "base_uri": "https://localhost:8080/"
        },
        "id": "aQ337111rEyB",
        "outputId": "ecd400cb-1e06-46e0-bb93-5d2bda3813d9"
      },
      "execution_count": 32,
      "outputs": [
        {
          "output_type": "stream",
          "name": "stdout",
          "text": [
            "<class 'pandas.core.frame.DataFrame'>\n",
            "RangeIndex: 1772 entries, 0 to 1771\n",
            "Data columns (total 3 columns):\n",
            " #   Column         Non-Null Count  Dtype  \n",
            "---  ------         --------------  -----  \n",
            " 0   operation      1772 non-null   object \n",
            " 1   property_type  1772 non-null   object \n",
            " 2   price          1658 non-null   float64\n",
            "dtypes: float64(1), object(2)\n",
            "memory usage: 41.7+ KB\n"
          ]
        }
      ]
    },
    {
      "cell_type": "markdown",
      "source": [
        "note : ada missing value di column price yang nantinya akan kita handle"
      ],
      "metadata": {
        "id": "lMFBzcH403Em"
      }
    },
    {
      "cell_type": "code",
      "source": [
        "# Cek isnull\n",
        "\n",
        "dfProb2Copy.isna().sum()"
      ],
      "metadata": {
        "colab": {
          "base_uri": "https://localhost:8080/"
        },
        "id": "P1jFmMfE8DLJ",
        "outputId": "6ace7691-4aa5-41a0-fbc3-0a08dd6612f0"
      },
      "execution_count": 51,
      "outputs": [
        {
          "output_type": "execute_result",
          "data": {
            "text/plain": [
              "operation          0\n",
              "property_type      0\n",
              "price            114\n",
              "dtype: int64"
            ]
          },
          "metadata": {},
          "execution_count": 51
        }
      ]
    },
    {
      "cell_type": "markdown",
      "source": [
        "# Problem 1\n",
        "\n",
        "---\n",
        "\n"
      ],
      "metadata": {
        "id": "47yVb66-vraP"
      }
    },
    {
      "cell_type": "code",
      "source": [
        "# Drop column Harga untuk cosine similiarity / sesuai instruksi assignment yg mengabaikan kolom harga\n",
        "\n",
        "dfProblem1Copy.drop(['Harga'], axis=1, inplace=True)"
      ],
      "metadata": {
        "id": "EwcNOF9JvtAj"
      },
      "execution_count": 21,
      "outputs": []
    },
    {
      "cell_type": "code",
      "source": [
        "# Cek Hasil Drop\n",
        "\n",
        "dfProblem1Copy"
      ],
      "metadata": {
        "colab": {
          "base_uri": "https://localhost:8080/",
          "height": 112
        },
        "id": "SSCynJkTwE_2",
        "outputId": "fadba7c1-dd15-40c6-ac2a-944af3afde88"
      },
      "execution_count": 25,
      "outputs": [
        {
          "output_type": "execute_result",
          "data": {
            "text/plain": [
              "     Rumah  Luas Tanah  Luas Bangunan  Jumlah Lantai  Jumlah Kamar Tidur  \\\n",
              "0  Rumah 1         100            240              3                   3   \n",
              "1  Rumah 2         200            200              2                   2   \n",
              "\n",
              "   Jumlah Kamar Mandi  Ada Halaman Belakang  Ada Parkiran  Dekat Pusat Kota  \n",
              "0                   2                     0             1                 1  \n",
              "1                   2                     2             1                 1  "
            ],
            "text/html": [
              "\n",
              "  <div id=\"df-cc75a81c-082e-4a68-b20b-324aa6b1bbc4\">\n",
              "    <div class=\"colab-df-container\">\n",
              "      <div>\n",
              "<style scoped>\n",
              "    .dataframe tbody tr th:only-of-type {\n",
              "        vertical-align: middle;\n",
              "    }\n",
              "\n",
              "    .dataframe tbody tr th {\n",
              "        vertical-align: top;\n",
              "    }\n",
              "\n",
              "    .dataframe thead th {\n",
              "        text-align: right;\n",
              "    }\n",
              "</style>\n",
              "<table border=\"1\" class=\"dataframe\">\n",
              "  <thead>\n",
              "    <tr style=\"text-align: right;\">\n",
              "      <th></th>\n",
              "      <th>Rumah</th>\n",
              "      <th>Luas Tanah</th>\n",
              "      <th>Luas Bangunan</th>\n",
              "      <th>Jumlah Lantai</th>\n",
              "      <th>Jumlah Kamar Tidur</th>\n",
              "      <th>Jumlah Kamar Mandi</th>\n",
              "      <th>Ada Halaman Belakang</th>\n",
              "      <th>Ada Parkiran</th>\n",
              "      <th>Dekat Pusat Kota</th>\n",
              "    </tr>\n",
              "  </thead>\n",
              "  <tbody>\n",
              "    <tr>\n",
              "      <th>0</th>\n",
              "      <td>Rumah 1</td>\n",
              "      <td>100</td>\n",
              "      <td>240</td>\n",
              "      <td>3</td>\n",
              "      <td>3</td>\n",
              "      <td>2</td>\n",
              "      <td>0</td>\n",
              "      <td>1</td>\n",
              "      <td>1</td>\n",
              "    </tr>\n",
              "    <tr>\n",
              "      <th>1</th>\n",
              "      <td>Rumah 2</td>\n",
              "      <td>200</td>\n",
              "      <td>200</td>\n",
              "      <td>2</td>\n",
              "      <td>2</td>\n",
              "      <td>2</td>\n",
              "      <td>2</td>\n",
              "      <td>1</td>\n",
              "      <td>1</td>\n",
              "    </tr>\n",
              "  </tbody>\n",
              "</table>\n",
              "</div>\n",
              "      <button class=\"colab-df-convert\" onclick=\"convertToInteractive('df-cc75a81c-082e-4a68-b20b-324aa6b1bbc4')\"\n",
              "              title=\"Convert this dataframe to an interactive table.\"\n",
              "              style=\"display:none;\">\n",
              "        \n",
              "  <svg xmlns=\"http://www.w3.org/2000/svg\" height=\"24px\"viewBox=\"0 0 24 24\"\n",
              "       width=\"24px\">\n",
              "    <path d=\"M0 0h24v24H0V0z\" fill=\"none\"/>\n",
              "    <path d=\"M18.56 5.44l.94 2.06.94-2.06 2.06-.94-2.06-.94-.94-2.06-.94 2.06-2.06.94zm-11 1L8.5 8.5l.94-2.06 2.06-.94-2.06-.94L8.5 2.5l-.94 2.06-2.06.94zm10 10l.94 2.06.94-2.06 2.06-.94-2.06-.94-.94-2.06-.94 2.06-2.06.94z\"/><path d=\"M17.41 7.96l-1.37-1.37c-.4-.4-.92-.59-1.43-.59-.52 0-1.04.2-1.43.59L10.3 9.45l-7.72 7.72c-.78.78-.78 2.05 0 2.83L4 21.41c.39.39.9.59 1.41.59.51 0 1.02-.2 1.41-.59l7.78-7.78 2.81-2.81c.8-.78.8-2.07 0-2.86zM5.41 20L4 18.59l7.72-7.72 1.47 1.35L5.41 20z\"/>\n",
              "  </svg>\n",
              "      </button>\n",
              "      \n",
              "  <style>\n",
              "    .colab-df-container {\n",
              "      display:flex;\n",
              "      flex-wrap:wrap;\n",
              "      gap: 12px;\n",
              "    }\n",
              "\n",
              "    .colab-df-convert {\n",
              "      background-color: #E8F0FE;\n",
              "      border: none;\n",
              "      border-radius: 50%;\n",
              "      cursor: pointer;\n",
              "      display: none;\n",
              "      fill: #1967D2;\n",
              "      height: 32px;\n",
              "      padding: 0 0 0 0;\n",
              "      width: 32px;\n",
              "    }\n",
              "\n",
              "    .colab-df-convert:hover {\n",
              "      background-color: #E2EBFA;\n",
              "      box-shadow: 0px 1px 2px rgba(60, 64, 67, 0.3), 0px 1px 3px 1px rgba(60, 64, 67, 0.15);\n",
              "      fill: #174EA6;\n",
              "    }\n",
              "\n",
              "    [theme=dark] .colab-df-convert {\n",
              "      background-color: #3B4455;\n",
              "      fill: #D2E3FC;\n",
              "    }\n",
              "\n",
              "    [theme=dark] .colab-df-convert:hover {\n",
              "      background-color: #434B5C;\n",
              "      box-shadow: 0px 1px 3px 1px rgba(0, 0, 0, 0.15);\n",
              "      filter: drop-shadow(0px 1px 2px rgba(0, 0, 0, 0.3));\n",
              "      fill: #FFFFFF;\n",
              "    }\n",
              "  </style>\n",
              "\n",
              "      <script>\n",
              "        const buttonEl =\n",
              "          document.querySelector('#df-cc75a81c-082e-4a68-b20b-324aa6b1bbc4 button.colab-df-convert');\n",
              "        buttonEl.style.display =\n",
              "          google.colab.kernel.accessAllowed ? 'block' : 'none';\n",
              "\n",
              "        async function convertToInteractive(key) {\n",
              "          const element = document.querySelector('#df-cc75a81c-082e-4a68-b20b-324aa6b1bbc4');\n",
              "          const dataTable =\n",
              "            await google.colab.kernel.invokeFunction('convertToInteractive',\n",
              "                                                     [key], {});\n",
              "          if (!dataTable) return;\n",
              "\n",
              "          const docLinkHtml = 'Like what you see? Visit the ' +\n",
              "            '<a target=\"_blank\" href=https://colab.research.google.com/notebooks/data_table.ipynb>data table notebook</a>'\n",
              "            + ' to learn more about interactive tables.';\n",
              "          element.innerHTML = '';\n",
              "          dataTable['output_type'] = 'display_data';\n",
              "          await google.colab.output.renderOutput(dataTable, element);\n",
              "          const docLink = document.createElement('div');\n",
              "          docLink.innerHTML = docLinkHtml;\n",
              "          element.appendChild(docLink);\n",
              "        }\n",
              "      </script>\n",
              "    </div>\n",
              "  </div>\n",
              "  "
            ]
          },
          "metadata": {},
          "execution_count": 25
        }
      ]
    },
    {
      "cell_type": "code",
      "source": [
        "# Cosine Similiarity Function\n",
        "\n",
        "# cosine = np.dot(dfProblem1Copy[0, 1]) / (linalg(0)*linalg(1))\n",
        "# print(\"Cosine Similiarity : \", cosine)"
      ],
      "metadata": {
        "id": "DjYLjHb1wOXb"
      },
      "execution_count": 27,
      "outputs": []
    },
    {
      "cell_type": "markdown",
      "source": [
        "# Problem 2\n",
        "\n",
        "---\n",
        "\n"
      ],
      "metadata": {
        "id": "gZSuk6BPy3vl"
      }
    },
    {
      "cell_type": "markdown",
      "source": [
        "\n",
        "\n",
        "1.   Lakukan perhitungan central tendency (mean, median, modus) terhadap data sebelum dideteksi adanya anomali.\n",
        "\n"
      ],
      "metadata": {
        "id": "6AVqlrPe1etf"
      }
    },
    {
      "cell_type": "code",
      "source": [
        "# Central Tendency (Mean, Median, Modus)\n",
        "\n",
        "# Max Value\n",
        "\n",
        "print('Nilai Max dari Column Price: ', dfProb2Copy.price.max())\n",
        "\n",
        "# Min Value\n",
        "\n",
        "print('Nilai Min dari Column Price: ', dfProb2Copy.price.min())\n",
        "\n",
        "# Mean\n",
        "print('Nilai Mean dari Column Price: ', dfProb2Copy.price.mean())\n",
        "\n",
        "# Median\n",
        "print('Nilai Median dari Column Price : ', dfProb2Copy.price.median())\n",
        "\n",
        "# Modus\n",
        "print('Nilai Modus dari Column Price : ', dfProb2Copy.price.mode())"
      ],
      "metadata": {
        "colab": {
          "base_uri": "https://localhost:8080/"
        },
        "id": "umnyv1Lgy6a1",
        "outputId": "bd17da44-649e-4166-8a33-5d8594abe92c"
      },
      "execution_count": 44,
      "outputs": [
        {
          "output_type": "stream",
          "name": "stdout",
          "text": [
            "Nilai Max dari Column Price:  100000.0\n",
            "Nilai Min dari Column Price:  0.0\n",
            "Nilai Mean dari Column Price:  5166.355247285886\n",
            "Nilai Median dari Column Price :  2700.0\n",
            "Nilai Modus dari Column Price :  0    0.0\n",
            "dtype: float64\n"
          ]
        }
      ]
    },
    {
      "cell_type": "markdown",
      "source": [
        "note : anomali terjadi di nilai modus `price` = 0, kemungkinan pembuat dataset miss untuk input. akan dihandle kemudian"
      ],
      "metadata": {
        "id": "h0NKgBAL18Jh"
      }
    },
    {
      "cell_type": "markdown",
      "source": [
        "2. Cek skewness data untuk mengetahui apakah data terdistribusi normal atau tidak."
      ],
      "metadata": {
        "id": "hlxYBdD72tNu"
      }
    },
    {
      "cell_type": "code",
      "source": [
        "# Plot for Distribution Data\n",
        "\n",
        "dfProb2Copy.plot.hist(title='Rent Apartment', color='green', bins=25)\n",
        "plt.axvline(dfProb2Copy['price'].mean(), color='magenta', linestyle='dashed', linewidth=2)\n",
        "plt.axvline(dfProb2Copy['price'].median(), color='yellow', linestyle='dashed', linewidth=2)\n",
        "plt.show()"
      ],
      "metadata": {
        "colab": {
          "base_uri": "https://localhost:8080/",
          "height": 281
        },
        "id": "Dky477ho3GwY",
        "outputId": "79ab5f7d-1117-48da-e531-e5dcec9be521"
      },
      "execution_count": 43,
      "outputs": [
        {
          "output_type": "display_data",
          "data": {
            "text/plain": [
              "<Figure size 432x288 with 1 Axes>"
            ],
            "image/png": "[encoded data removed]"
          },
          "metadata": {
            "needs_background": "light"
          }
        }
      ]
    },
    {
      "cell_type": "markdown",
      "source": [
        "Note : data terdistribusi dengan normal dengan kecendrungan Extreme positive skewness (Kemungkinan missing value blm terhandle)"
      ],
      "metadata": {
        "id": "XIvJkG7s4oB2"
      }
    },
    {
      "cell_type": "code",
      "source": [
        "# Function check skewness\n",
        "\n",
        "print('Nilai Skewness dari Column Price : ',dfProb2Copy['price'].skew())"
      ],
      "metadata": {
        "colab": {
          "base_uri": "https://localhost:8080/"
        },
        "id": "hzhrygM72CAq",
        "outputId": "ce437234-8d25-4c89-f5ed-053091364c63"
      },
      "execution_count": 40,
      "outputs": [
        {
          "output_type": "stream",
          "name": "stdout",
          "text": [
            "Nilai Skewness dari Column Price :  4.2401362864090695\n"
          ]
        }
      ]
    },
    {
      "cell_type": "markdown",
      "source": [
        "\n",
        "3. Lakukan pengolahan data dengan menggunakan extreme value analysis.\n"
      ],
      "metadata": {
        "id": "oo99yprd5HpF"
      }
    },
    {
      "cell_type": "code",
      "source": [
        "# Define Percentile, Quartile & Extreme Value Function\n",
        "\n",
        "Quartile = percentile(dfProb2Copy['price'], [25, 50, 75])\n",
        "\n",
        "Quart0 = Quartile[0]\n",
        "Quart1 = Quartile[1]\n",
        "Quart2 = Quartile[2]\n",
        "\n",
        "IQR = Quart2 - Quart0\n",
        "nUpper = Quart2 + 1.5 * IQR\n",
        "nLower = Quart0 - 1.5 * IQR\n",
        "\n",
        "# Print Value\n",
        "print('Quartile ke 0 dari Data : ', Quart0)\n",
        "print('Quartile ke 1 dari Data : ', Quart1)\n",
        "print('Quartile ke 2 dari Data : ', Quart2)\n",
        "print('Nilai Extreme dari Data : ', IQR)\n",
        "print('Nilai Upper dari Data : ', nUpper)\n",
        "print('Nilai Lower dari Data : ', nLower)"
      ],
      "metadata": {
        "colab": {
          "base_uri": "https://localhost:8080/"
        },
        "id": "0JeDE0OI5HFu",
        "outputId": "8387a06e-95e9-41b0-8fd9-188c1fbdeedb"
      },
      "execution_count": 113,
      "outputs": [
        {
          "output_type": "stream",
          "name": "stdout",
          "text": [
            "Quartile ke 0 dari Data :  nan\n",
            "Quartile ke 1 dari Data :  nan\n",
            "Quartile ke 2 dari Data :  nan\n",
            "Nilai Extreme dari Data :  nan\n",
            "Nilai Upper dari Data :  nan\n",
            "Nilai Lower dari Data :  nan\n"
          ]
        }
      ]
    },
    {
      "cell_type": "markdown",
      "source": [
        "4. Buat variabel baru yang menyimpan data yang sudah dibuang data anomalinya"
      ],
      "metadata": {
        "id": "l5LQiqcM8Uxk"
      }
    },
    {
      "cell_type": "code",
      "source": [
        "# Buat Dataframe baru untuk persiapan pembuangan data anomali\n",
        "\n",
        "dfProb2Right = dfProb2Copy.copy()"
      ],
      "metadata": {
        "id": "10pd7Dvx75Mf"
      },
      "execution_count": 131,
      "outputs": []
    },
    {
      "cell_type": "code",
      "source": [
        "# cek info\n",
        "dfProb2Right.info()"
      ],
      "metadata": {
        "colab": {
          "base_uri": "https://localhost:8080/"
        },
        "id": "dvIcTj0H8ka7",
        "outputId": "90f07df8-3fbd-4367-b78e-91aef4f4f4bd"
      },
      "execution_count": 132,
      "outputs": [
        {
          "output_type": "stream",
          "name": "stdout",
          "text": [
            "<class 'pandas.core.frame.DataFrame'>\n",
            "RangeIndex: 1772 entries, 0 to 1771\n",
            "Data columns (total 3 columns):\n",
            " #   Column         Non-Null Count  Dtype  \n",
            "---  ------         --------------  -----  \n",
            " 0   operation      1772 non-null   object \n",
            " 1   property_type  1772 non-null   object \n",
            " 2   price          1658 non-null   float64\n",
            "dtypes: float64(1), object(2)\n",
            "memory usage: 41.7+ KB\n"
          ]
        }
      ]
    },
    {
      "cell_type": "code",
      "source": [
        "# Handle Missing Value with mean of price column\n",
        "\n",
        "dfProb2Right['price'].fillna(dfProb2Right['price'].mean(), inplace=True)"
      ],
      "metadata": {
        "id": "sQgTtc6w8qKM"
      },
      "execution_count": 133,
      "outputs": []
    },
    {
      "cell_type": "code",
      "source": [
        "# Handle Missing Value & price=0 with mean of price column\n",
        "\n",
        "prob2Mean = dfProb2Right['price'].mean()\n",
        "\n",
        "dfProb2Right['price'] = dfProb2Right['price'].replace(0, prob2Mean)"
      ],
      "metadata": {
        "id": "Y5GFE1pKAf-U"
      },
      "execution_count": 134,
      "outputs": []
    },
    {
      "cell_type": "code",
      "source": [
        "# Cek Summary Data\n",
        "\n",
        "dfProb2Right.isnull().sum()"
      ],
      "metadata": {
        "colab": {
          "base_uri": "https://localhost:8080/"
        },
        "id": "UqjrIN2V9Aq3",
        "outputId": "9d858cac-578d-46c1-e0ee-c1c20199dd40"
      },
      "execution_count": 135,
      "outputs": [
        {
          "output_type": "execute_result",
          "data": {
            "text/plain": [
              "operation        0\n",
              "property_type    0\n",
              "price            0\n",
              "dtype: int64"
            ]
          },
          "metadata": {},
          "execution_count": 135
        }
      ]
    },
    {
      "cell_type": "code",
      "source": [
        "# Cek Replacing data price = 0 telah diisi dengan mean\n",
        "\n",
        "dfProb2Right.price.value_counts()"
      ],
      "metadata": {
        "colab": {
          "base_uri": "https://localhost:8080/"
        },
        "id": "oQMQ6_5k_3H5",
        "outputId": "514905de-a9a0-479b-fd2e-2babfa77f9d5"
      },
      "execution_count": 136,
      "outputs": [
        {
          "output_type": "execute_result",
          "data": {
            "text/plain": [
              "5166.355247     567\n",
              "2500.000000      55\n",
              "3500.000000      54\n",
              "3000.000000      42\n",
              "2800.000000      41\n",
              "               ... \n",
              "8700.000000       1\n",
              "3060.000000       1\n",
              "450.000000        1\n",
              "21000.000000      1\n",
              "6050.000000       1\n",
              "Name: price, Length: 172, dtype: int64"
            ]
          },
          "metadata": {},
          "execution_count": 136
        }
      ]
    },
    {
      "cell_type": "markdown",
      "source": [
        "Note : Missing value sudah terisi dengan nilai mean dari kolom `price`"
      ],
      "metadata": {
        "id": "rvCx0vQA9EP4"
      }
    },
    {
      "cell_type": "code",
      "source": [
        "# Central Tendency (Mean, Median, Modus)\n",
        "\n",
        "# Max Value\n",
        "\n",
        "print('Nilai Max dari Column Price: ', dfProb2Right.price.max())\n",
        "\n",
        "# Min Value\n",
        "\n",
        "print('Nilai Min dari Column Price: ', dfProb2Right.price.min())\n",
        "\n",
        "# Mean\n",
        "print('Nilai Mean dari Column Price: ', dfProb2Right.price.mean())\n",
        "\n",
        "# Median\n",
        "print('Nilai Median dari Column Price : ', dfProb2Right.price.median())\n",
        "\n",
        "# Modus\n",
        "print('Nilai Modus dari Column Price : ', dfProb2Right.price.mode())"
      ],
      "metadata": {
        "colab": {
          "base_uri": "https://localhost:8080/"
        },
        "id": "_sahz7Wl9N5S",
        "outputId": "d6b8bd4c-6a19-4929-f859-59954f8b7530"
      },
      "execution_count": 137,
      "outputs": [
        {
          "output_type": "stream",
          "name": "stdout",
          "text": [
            "Nilai Max dari Column Price:  100000.0\n",
            "Nilai Min dari Column Price:  450.0\n",
            "Nilai Mean dari Column Price:  6487.099562760213\n",
            "Nilai Median dari Column Price :  5166.355247285886\n",
            "Nilai Modus dari Column Price :  0    5166.355247\n",
            "dtype: float64\n"
          ]
        }
      ]
    },
    {
      "cell_type": "code",
      "source": [
        "# Plot for Distribution Data\n",
        "\n",
        "dfProb2Right.plot.hist(title='Rent Apartment', color='green', bins=25)\n",
        "plt.axvline(dfProb2Right['price'].mean(), color='magenta', linestyle='dashed', linewidth=2)\n",
        "plt.axvline(dfProb2Right['price'].median(), color='yellow', linestyle='dashed', linewidth=2)\n",
        "plt.show()"
      ],
      "metadata": {
        "colab": {
          "base_uri": "https://localhost:8080/",
          "height": 281
        },
        "id": "B0Uw-rmyCQ8I",
        "outputId": "c84155a8-339b-4ad3-a17e-f6d03a50c037"
      },
      "execution_count": 138,
      "outputs": [
        {
          "output_type": "display_data",
          "data": {
            "text/plain": [
              "<Figure size 432x288 with 1 Axes>"
            ],
            "image/png": "[encoded data removed]"
          },
          "metadata": {
            "needs_background": "light"
          }
        }
      ]
    },
    {
      "cell_type": "code",
      "source": [
        "# Function check skewness\n",
        "\n",
        "print('Nilai Skewness dari Column Price : ',dfProb2Right['price'].skew())"
      ],
      "metadata": {
        "colab": {
          "base_uri": "https://localhost:8080/"
        },
        "id": "AeV9VR_cCllv",
        "outputId": "4796d585-7e14-4a42-db74-fca5f6f4449c"
      },
      "execution_count": 139,
      "outputs": [
        {
          "output_type": "stream",
          "name": "stdout",
          "text": [
            "Nilai Skewness dari Column Price :  4.824798826542466\n"
          ]
        }
      ]
    },
    {
      "cell_type": "code",
      "source": [
        "# Define Percentile, Quartile & Extreme Value Function\n",
        "\n",
        "Quartile = percentile(dfProb2Right['price'], [25, 50, 75])\n",
        "\n",
        "Quart0 = Quartile[0]\n",
        "Quart1 = Quartile[1]\n",
        "Quart2 = Quartile[2]\n",
        "\n",
        "IQR = Quart2 - Quart0\n",
        "nUpper = Quart2 + 1.5 * IQR\n",
        "nLower = Quart0 - 1.5 * IQR\n",
        "\n",
        "# Print Value\n",
        "print('Quartile ke 0 dari Data : ', Quart0)\n",
        "print('Quartile ke 1 dari Data : ', Quart1)\n",
        "print('Quartile ke 2 dari Data : ', Quart2)\n",
        "print('Nilai Extreme dari Data : ', IQR)\n",
        "print('Nilai Upper dari Data : ', nUpper)\n",
        "print('Nilai Lower dari Data : ', nLower)"
      ],
      "metadata": {
        "colab": {
          "base_uri": "https://localhost:8080/"
        },
        "id": "ToY6RFAgCrF3",
        "outputId": "5e348c54-04e9-4833-eada-195cfe255063"
      },
      "execution_count": 140,
      "outputs": [
        {
          "output_type": "stream",
          "name": "stdout",
          "text": [
            "Quartile ke 0 dari Data :  3000.0\n",
            "Quartile ke 1 dari Data :  5166.355247285886\n",
            "Quartile ke 2 dari Data :  5166.355247285886\n",
            "Nilai Extreme dari Data :  2166.3552472858864\n",
            "Nilai Upper dari Data :  8415.888118214716\n",
            "Nilai Lower dari Data :  -249.53287092882965\n"
          ]
        }
      ]
    },
    {
      "cell_type": "code",
      "source": [
        "sns.boxplot(data = dfProb2Right, y = 'price')"
      ],
      "metadata": {
        "colab": {
          "base_uri": "https://localhost:8080/",
          "height": 269
        },
        "id": "Dr1jHxLVFPax",
        "outputId": "9443be2c-8a58-4840-c515-e3a36df5bfb3"
      },
      "execution_count": 141,
      "outputs": [
        {
          "output_type": "execute_result",
          "data": {
            "text/plain": [
              "<matplotlib.axes._subplots.AxesSubplot at 0x7f297c699ac0>"
            ]
          },
          "metadata": {},
          "execution_count": 141
        },
        {
          "output_type": "display_data",
          "data": {
            "text/plain": [
              "<Figure size 432x288 with 1 Axes>"
            ],
            "image/png": "[encoded data removed]"
          },
          "metadata": {
            "needs_background": "light"
          }
        }
      ]
    },
    {
      "cell_type": "markdown",
      "source": [
        "note : ada banyak data outlier"
      ],
      "metadata": {
        "id": "kI9P3JT5HW-S"
      }
    },
    {
      "cell_type": "code",
      "source": [
        "# Function to find outlier\n",
        "\n",
        "lowOutlier = []\n",
        "maxOutlier = []\n",
        "\n",
        "for i in dfProb2Right['price']:\n",
        "  if (i < nLower) : \n",
        "    lowOutlier.append(i)\n",
        "  if (i > nUpper) :\n",
        "    maxOutlier.append(i)\n",
        "\n",
        "print('Lower Outlier : ', lowOutlier)\n",
        "print('Upper Outlier : \\n', maxOutlier)"
      ],
      "metadata": {
        "colab": {
          "base_uri": "https://localhost:8080/"
        },
        "id": "A8P78xqOD37_",
        "outputId": "4f3db90b-beca-4413-b449-0596d7fb9b35"
      },
      "execution_count": 144,
      "outputs": [
        {
          "output_type": "stream",
          "name": "stdout",
          "text": [
            "Lower Outlier :  []\n",
            "Upper Outlier : \n",
            " [15000.0, 12000.0, 9000.0, 19000.0, 30000.0, 13500.0, 45000.0, 12000.0, 16000.0, 9400.0, 9000.0, 13200.0, 23000.0, 18000.0, 80000.0, 12500.0, 46000.0, 13000.0, 12000.0, 46000.0, 12000.0, 16000.0, 27000.0, 12000.0, 12000.0, 15000.0, 16000.0, 14000.0, 15000.0, 10500.0, 20000.0, 25000.0, 30000.0, 8700.0, 35000.0, 9000.0, 16000.0, 13000.0, 17000.0, 11000.0, 25000.0, 30000.0, 10000.0, 8500.0, 69000.0, 60000.0, 10500.0, 9000.0, 8500.0, 13000.0, 9500.0, 50000.0, 45000.0, 20000.0, 80000.0, 14000.0, 36900.0, 15000.0, 27000.0, 17500.0, 27000.0, 18000.0, 19000.0, 33000.0, 27000.0, 8950.0, 34000.0, 9500.0, 12000.0, 8500.0, 23000.0, 18000.0, 15000.0, 15000.0, 18000.0, 55000.0, 10500.0, 19000.0, 25000.0, 20000.0, 16000.0, 13500.0, 20000.0, 8500.0, 32000.0, 27000.0, 11000.0, 27000.0, 9200.0, 12000.0, 12000.0, 12000.0, 25000.0, 20000.0, 18000.0, 24000.0, 27000.0, 75000.0, 20000.0, 16500.0, 22000.0, 35000.0, 25000.0, 41000.0, 16500.0, 14000.0, 11000.0, 9000.0, 9500.0, 10000.0, 9000.0, 13000.0, 14000.0, 10500.0, 30000.0, 21000.0, 13000.0, 11000.0, 13000.0, 10500.0, 15000.0, 12000.0, 12000.0, 10500.0, 20000.0, 28000.0, 43000.0, 27000.0, 28800.0, 55000.0, 18000.0, 11111.0, 58000.0, 16000.0, 13500.0, 26000.0, 40000.0, 13500.0, 22000.0, 20000.0, 18000.0, 13000.0, 16500.0, 18000.0, 65000.0, 32000.0, 13500.0, 45000.0, 10800.0, 36000.0, 16500.0, 13500.0, 23000.0, 31500.0, 18000.0, 15500.0, 32000.0, 23000.0, 20000.0, 16500.0, 24500.0, 22000.0, 10000.0, 13000.0, 46000.0, 31000.0, 20000.0, 19500.0, 25000.0, 55000.0, 45000.0, 15000.0, 30000.0, 15000.0, 9000.0, 12000.0, 28000.0, 11111.0, 27000.0, 16500.0, 22000.0, 13500.0, 36000.0, 13200.0, 20000.0, 10500.0, 36000.0, 38000.0, 42000.0, 20000.0, 10000.0, 18000.0, 22000.0, 11500.0, 20000.0, 32000.0, 9000.0, 10000.0, 12000.0, 9000.0, 8500.0, 12000.0, 12000.0, 10000.0, 14000.0, 11000.0, 13000.0, 12000.0, 11000.0, 11000.0, 17000.0, 14000.0, 14000.0, 9500.0, 15000.0, 14000.0, 11000.0, 12000.0, 11000.0, 25000.0, 14000.0, 12000.0, 18000.0, 11000.0, 18000.0, 22000.0, 9000.0, 14000.0, 10000.0, 9000.0, 22000.0, 12500.0, 10000.0, 14000.0, 12000.0, 12000.0, 25000.0, 15000.0, 8500.0, 17000.0, 10500.0, 100000.0, 28000.0, 16000.0, 17000.0, 14000.0, 9000.0, 24000.0, 12000.0, 18000.0, 10500.0, 76000.0, 10000.0, 14000.0, 12000.0, 12000.0, 25000.0, 9000.0, 15000.0, 9000.0, 24000.0, 12000.0, 10000.0, 11000.0, 8500.0, 13000.0, 16000.0, 9000.0, 12000.0, 10000.0, 9100.0, 9500.0, 11500.0, 9500.0]\n"
          ]
        }
      ]
    },
    {
      "cell_type": "code",
      "source": [
        "# Create kolom price_outlier untuk simpan hasil fungsi\n",
        "\n",
        "dfProb2Right['price_outlier'] = False\n",
        "\n",
        "for index, row in dfProb2Right.iterrows():\n",
        "  if row['price'] > nUpper :\n",
        "    dfProb2Right.at[index, 'price_outlier'] = True"
      ],
      "metadata": {
        "id": "AXya0lGUF748"
      },
      "execution_count": 150,
      "outputs": []
    },
    {
      "cell_type": "code",
      "source": [
        "# Input nilai ke kolom price_outlier yang diambil dari fungsi\n",
        "\n",
        "prob2Outlier = dfProb2Right.groupby('price_outlier')['price'].mean()\n",
        "prob2Outlier[0]"
      ],
      "metadata": {
        "colab": {
          "base_uri": "https://localhost:8080/"
        },
        "id": "3UZDBLr7GuVr",
        "outputId": "4a0af5ce-01c0-410f-df57-a3d2298415cb"
      },
      "execution_count": 151,
      "outputs": [
        {
          "output_type": "execute_result",
          "data": {
            "text/plain": [
              "3989.097747136914"
            ]
          },
          "metadata": {},
          "execution_count": 151
        }
      ]
    },
    {
      "cell_type": "code",
      "source": [
        "# Input nilai ke kolom price_outlier yang diambil dari fungsi\n",
        "\n",
        "for index, row in dfProb2Right.iterrows():\n",
        "  if row['price_outlier'] == True :\n",
        "    dfProb2Right.at[index, 'price'] = prob2Outlier[0]"
      ],
      "metadata": {
        "id": "HxjeEV8lHAIt"
      },
      "execution_count": 152,
      "outputs": []
    },
    {
      "cell_type": "code",
      "source": [
        "# Visualisasi outlier\n",
        "\n",
        "sns.boxplot(data = dfProb2Right, y = 'price')"
      ],
      "metadata": {
        "colab": {
          "base_uri": "https://localhost:8080/",
          "height": 269
        },
        "id": "ZR2_A2PNHRwZ",
        "outputId": "6f07d841-2feb-40c9-d167-d386a8c97edf"
      },
      "execution_count": 153,
      "outputs": [
        {
          "output_type": "execute_result",
          "data": {
            "text/plain": [
              "<matplotlib.axes._subplots.AxesSubplot at 0x7f297985f130>"
            ]
          },
          "metadata": {},
          "execution_count": 153
        },
        {
          "output_type": "display_data",
          "data": {
            "text/plain": [
              "<Figure size 432x288 with 1 Axes>"
            ],
            "image/png": "[encoded data removed]"
          },
          "metadata": {
            "needs_background": "light"
          }
        }
      ]
    },
    {
      "cell_type": "markdown",
      "source": [
        "note : outlier sudah berhasil di handle"
      ],
      "metadata": {
        "id": "i1zt11XpIPNk"
      }
    },
    {
      "cell_type": "markdown",
      "source": [
        "# Question Mark Problem 2\n",
        "\n",
        "---\n",
        "\n"
      ],
      "metadata": {
        "id": "jJ4L0LvfC8_V"
      }
    },
    {
      "cell_type": "markdown",
      "source": [
        "\n",
        "\n",
        "1.   Berapa rata-rata, median, dan modus dari data tersebut sebelum dihilangkan outliernya? Bagaimana kecerendungan pemusatan datanya? jelaskan jawabanmu!\n",
        "- Nilai Mean = 6487.099562760213, median = 5166.355247285886 modus = 5166.355247\n",
        "- Kecendrungan datanya bersifat extreme skewness, karena data `price` terdapat missing value dan banyak terdapat nilai 0, sehingga datanya kurang dapat tervalidasi dengan baik \n",
        "2. Sebelum melakukan extreme value analysis, kamu harus melakukan pengecekan skewness dari distribusi datanya. Apakah datanya skew atau normal? jelaskan jawabanmu!\n",
        "- Datanya cenderung skew, karena nilai skew nya = 4.2401362864090695 yang menandakan masih banyak terdapat nilai `price` = 0 sehingga sangat mempengaruhi skewness\n",
        "3. Ada dua teknik untuk melakukan extreme value analysis, teknik yang mana yang kamu pakai? berikan alasanmu berdasarkan data!\n",
        "- Saya menggunakan metode IQR untuk menerapkan nilai Quartile dari data di kolom `price`, sehingga nantinya akan terlihat adanya nilai outlier yang lebih besar dari nilai Quartile dan lalu saya kombinasikan dengan menggunakan  BoxPlot, karena lebih mudah dalam visualisasinya. disana terdapat beberapa value yang dapat kita lihat sebanyak apa nilai outliernya."
      ],
      "metadata": {
        "id": "eIuvILMfDALx"
      }
    }
  ]
}