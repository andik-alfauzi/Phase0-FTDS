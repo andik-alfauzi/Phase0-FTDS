{
  "nbformat": 4,
  "nbformat_minor": 0,
  "metadata": {
    "colab": {
      "provenance": []
    },
    "kernelspec": {
      "name": "python3",
      "display_name": "Python 3"
    },
    "language_info": {
      "name": "python"
    }
  },
  "cells": [
    {
      "cell_type": "markdown",
      "source": [
        "# Live Code 3\n",
        "\n",
        "---\n",
        "\n"
      ],
      "metadata": {
        "id": "juxZHFhqsBBp"
      }
    },
    {
      "cell_type": "markdown",
      "source": [
        "- Andik Al Fauzi - FTDS-RMT-018"
      ],
      "metadata": {
        "id": "mfPaMlUSsEE5"
      }
    },
    {
      "cell_type": "markdown",
      "source": [
        "# Problem Statement Background\n",
        "\n",
        "---\n",
        "\n"
      ],
      "metadata": {
        "id": "8mypKtjgsLzx"
      }
    },
    {
      "cell_type": "markdown",
      "source": [
        "Austin City adalah salah satu kota dengan tingkat kriminalitas yang cukup tinggi. Para penegak hukum di kota ini sedang berusaha semaksimal mungkin untuk mengurangi tingkat kriminalitas tersebut dengan cara menganalisa data-data kriminalitas yang sudah terjadi sebelumnya agar di kemudian hari dapat bekerja dengan efektif dan semaksimal mungkin. Berikut breakdown untuk problem statementnya : \n",
        "1. Specific\n",
        "\n",
        "  - Apakah Data yang ditampilkan sudah sesuai dengan problem list point yang dijabarkan\n",
        "2. Measurable\n",
        "  - Bagaimana pengukurang yang dilakukan terhadap dataset tersebut?\n",
        "3. Achiveable\n",
        "  - Apakah tingkat keberhasilan data tersebut sudah cukup tinggi\n",
        "4. Relevant\n",
        "  - Apakah data-data tersebut memiliki keterikatan satu-sama lain\n",
        "5. Time-bond Goals\n",
        "  - Berapa lama para penegak hukum dalam menangani suatu kasus"
      ],
      "metadata": {
        "id": "F6FMdAitsPeA"
      }
    },
    {
      "cell_type": "markdown",
      "source": [
        "# Data Preparation\n",
        "\n",
        "---\n",
        "\n"
      ],
      "metadata": {
        "id": "Mys9umINs28W"
      }
    },
    {
      "cell_type": "code",
      "source": [
        "# Importing library\n",
        "\n",
        "import pandas as pd\n",
        "import numpy as np"
      ],
      "metadata": {
        "id": "kPJggoius6Mr"
      },
      "execution_count": 1,
      "outputs": []
    },
    {
      "cell_type": "code",
      "source": [
        "from google.colab import auth\n",
        "from google.cloud import bigquery\n",
        "\n",
        "auth.authenticate_user()\n",
        "project_id = 'abiding-state-376306'\n",
        "client = bigquery.Client(project=project_id)"
      ],
      "metadata": {
        "id": "v7p42dGHv8P8"
      },
      "execution_count": 10,
      "outputs": []
    },
    {
      "cell_type": "code",
      "execution_count": 2,
      "metadata": {
        "id": "zikpMJcTryBT"
      },
      "outputs": [],
      "source": [
        "# Uploading dataset\n",
        "\n",
        "crimeDF = pd.read_csv('/content/P0LC3_Andik_1.csv')"
      ]
    },
    {
      "cell_type": "code",
      "source": [
        "# Create a copy dataset to make sure the original one is untouchable\n",
        "\n",
        "copyDF = crimeDF.copy()"
      ],
      "metadata": {
        "id": "dRiGPajrtShq"
      },
      "execution_count": 3,
      "outputs": []
    },
    {
      "cell_type": "markdown",
      "source": [
        "# Problem List Point\n",
        "\n",
        "---\n",
        "\n"
      ],
      "metadata": {
        "id": "DqWwlgU9tk_K"
      }
    },
    {
      "cell_type": "markdown",
      "source": [
        "1. Tampilkan tabel crime sampai 5 baris pertama\n",
        "2. Apa saja jenis tindak kejahatan yang terjadi di kota Austin selama tahun 2016?\n",
        "3. Berapa banyak kasus tindak kejahatan berdasarkan kasus pembersihannya (clearance status) selama tahun 2016?\n",
        "4. Jenis kejahatan apa saja yang paling banyak belum terselesaikan kasusnya di tahun 2016?\n",
        "5. Di bulan apa di tahun 2016 kasus pencurian (theft) sangat banyak terjadi?\n",
        "6. Di distrik apa yang paling banyak terjadi kasus pencurian selama 2016?\n",
        "7. Berapa lama rata-rata waktu (dalam hari) kasus tindak kejahatan 'theft' terselesaikan sejak kasus tersebut terangkat selama tahun 2016? (Hint: Hitung selisih hari dari timestamp hingga clearance date)"
      ],
      "metadata": {
        "id": "X5FqxUKVtnut"
      }
    },
    {
      "cell_type": "markdown",
      "source": [
        "# Answer of Problem List Point 1\n",
        "\n",
        "---\n",
        "\n"
      ],
      "metadata": {
        "id": "1cugEV9iu6i_"
      }
    },
    {
      "cell_type": "markdown",
      "source": [
        "1. Tampilkan tabel crime sampai 5 baris pertama"
      ],
      "metadata": {
        "id": "_LaI1jXZvCZC"
      }
    },
    {
      "cell_type": "code",
      "source": [
        "copyDF.head(5)"
      ],
      "metadata": {
        "colab": {
          "base_uri": "https://localhost:8080/",
          "height": 444
        },
        "id": "SfjGcCQwvED4",
        "outputId": "66e0cd61-3bef-4802-d406-9b3c70eb18e1"
      },
      "execution_count": 4,
      "outputs": [
        {
          "output_type": "execute_result",
          "data": {
            "text/plain": [
              "    unique_key     address  census_tract                  clearance_date  \\\n",
              "0  20165002898  Austin, TX           NaN  2016-03-14 12:00:00.000000 UTC   \n",
              "1  20165004843  Austin, TX           NaN  2016-03-31 12:00:00.000000 UTC   \n",
              "2   2016250988  Austin, TX           NaN  2016-09-16 12:00:00.000000 UTC   \n",
              "3  20165003839  Austin, TX           NaN  2016-02-09 12:00:00.000000 UTC   \n",
              "4   2016321746  Austin, TX           NaN  2016-03-22 12:00:00.000000 UTC   \n",
              "\n",
              "  clearance_status  council_district_code                     description  \\\n",
              "0      Not cleared                    NaN  RAPE                             \n",
              "1      Not cleared                    NaN  RAPE                             \n",
              "2      Not cleared                    NaN  RAPE                             \n",
              "3      Not cleared                    NaN  AGG RAPE OF A CHILD              \n",
              "4      Not cleared                    NaN  RAPE OF A CHILD                  \n",
              "\n",
              "  district  latitude  longitude location location_description primary_type  \\\n",
              "0       UK       NaN        NaN      NaN                  NaN         Rape   \n",
              "1       UK       NaN        NaN      NaN                  NaN         Rape   \n",
              "2       UK       NaN        NaN      NaN                  NaN         Rape   \n",
              "3       UK       NaN        NaN      NaN                  NaN         Rape   \n",
              "4       UK       NaN        NaN      NaN                  NaN         Rape   \n",
              "\n",
              "                        timestamp  x_coordinate  y_coordinate  year  zipcode  \n",
              "0  2016-01-19 12:00:00.000000 UTC           NaN           NaN  2016      NaN  \n",
              "1  2016-01-25 12:00:00.000000 UTC           NaN           NaN  2016      NaN  \n",
              "2  2016-01-25 12:00:00.000000 UTC           NaN           NaN  2016      NaN  \n",
              "3  2016-01-27 12:00:00.000000 UTC           NaN           NaN  2016      NaN  \n",
              "4  2016-02-01 12:00:00.000000 UTC           NaN           NaN  2016      NaN  "
            ],
            "text/html": [
              "\n",
              "  <div id=\"df-417a38f5-e337-4298-aff6-62128af57ff0\">\n",
              "    <div class=\"colab-df-container\">\n",
              "      <div>\n",
              "<style scoped>\n",
              "    .dataframe tbody tr th:only-of-type {\n",
              "        vertical-align: middle;\n",
              "    }\n",
              "\n",
              "    .dataframe tbody tr th {\n",
              "        vertical-align: top;\n",
              "    }\n",
              "\n",
              "    .dataframe thead th {\n",
              "        text-align: right;\n",
              "    }\n",
              "</style>\n",
              "<table border=\"1\" class=\"dataframe\">\n",
              "  <thead>\n",
              "    <tr style=\"text-align: right;\">\n",
              "      <th></th>\n",
              "      <th>unique_key</th>\n",
              "      <th>address</th>\n",
              "      <th>census_tract</th>\n",
              "      <th>clearance_date</th>\n",
              "      <th>clearance_status</th>\n",
              "      <th>council_district_code</th>\n",
              "      <th>description</th>\n",
              "      <th>district</th>\n",
              "      <th>latitude</th>\n",
              "      <th>longitude</th>\n",
              "      <th>location</th>\n",
              "      <th>location_description</th>\n",
              "      <th>primary_type</th>\n",
              "      <th>timestamp</th>\n",
              "      <th>x_coordinate</th>\n",
              "      <th>y_coordinate</th>\n",
              "      <th>year</th>\n",
              "      <th>zipcode</th>\n",
              "    </tr>\n",
              "  </thead>\n",
              "  <tbody>\n",
              "    <tr>\n",
              "      <th>0</th>\n",
              "      <td>20165002898</td>\n",
              "      <td>Austin, TX</td>\n",
              "      <td>NaN</td>\n",
              "      <td>2016-03-14 12:00:00.000000 UTC</td>\n",
              "      <td>Not cleared</td>\n",
              "      <td>NaN</td>\n",
              "      <td>RAPE</td>\n",
              "      <td>UK</td>\n",
              "      <td>NaN</td>\n",
              "      <td>NaN</td>\n",
              "      <td>NaN</td>\n",
              "      <td>NaN</td>\n",
              "      <td>Rape</td>\n",
              "      <td>2016-01-19 12:00:00.000000 UTC</td>\n",
              "      <td>NaN</td>\n",
              "      <td>NaN</td>\n",
              "      <td>2016</td>\n",
              "      <td>NaN</td>\n",
              "    </tr>\n",
              "    <tr>\n",
              "      <th>1</th>\n",
              "      <td>20165004843</td>\n",
              "      <td>Austin, TX</td>\n",
              "      <td>NaN</td>\n",
              "      <td>2016-03-31 12:00:00.000000 UTC</td>\n",
              "      <td>Not cleared</td>\n",
              "      <td>NaN</td>\n",
              "      <td>RAPE</td>\n",
              "      <td>UK</td>\n",
              "      <td>NaN</td>\n",
              "      <td>NaN</td>\n",
              "      <td>NaN</td>\n",
              "      <td>NaN</td>\n",
              "      <td>Rape</td>\n",
              "      <td>2016-01-25 12:00:00.000000 UTC</td>\n",
              "      <td>NaN</td>\n",
              "      <td>NaN</td>\n",
              "      <td>2016</td>\n",
              "      <td>NaN</td>\n",
              "    </tr>\n",
              "    <tr>\n",
              "      <th>2</th>\n",
              "      <td>2016250988</td>\n",
              "      <td>Austin, TX</td>\n",
              "      <td>NaN</td>\n",
              "      <td>2016-09-16 12:00:00.000000 UTC</td>\n",
              "      <td>Not cleared</td>\n",
              "      <td>NaN</td>\n",
              "      <td>RAPE</td>\n",
              "      <td>UK</td>\n",
              "      <td>NaN</td>\n",
              "      <td>NaN</td>\n",
              "      <td>NaN</td>\n",
              "      <td>NaN</td>\n",
              "      <td>Rape</td>\n",
              "      <td>2016-01-25 12:00:00.000000 UTC</td>\n",
              "      <td>NaN</td>\n",
              "      <td>NaN</td>\n",
              "      <td>2016</td>\n",
              "      <td>NaN</td>\n",
              "    </tr>\n",
              "    <tr>\n",
              "      <th>3</th>\n",
              "      <td>20165003839</td>\n",
              "      <td>Austin, TX</td>\n",
              "      <td>NaN</td>\n",
              "      <td>2016-02-09 12:00:00.000000 UTC</td>\n",
              "      <td>Not cleared</td>\n",
              "      <td>NaN</td>\n",
              "      <td>AGG RAPE OF A CHILD</td>\n",
              "      <td>UK</td>\n",
              "      <td>NaN</td>\n",
              "      <td>NaN</td>\n",
              "      <td>NaN</td>\n",
              "      <td>NaN</td>\n",
              "      <td>Rape</td>\n",
              "      <td>2016-01-27 12:00:00.000000 UTC</td>\n",
              "      <td>NaN</td>\n",
              "      <td>NaN</td>\n",
              "      <td>2016</td>\n",
              "      <td>NaN</td>\n",
              "    </tr>\n",
              "    <tr>\n",
              "      <th>4</th>\n",
              "      <td>2016321746</td>\n",
              "      <td>Austin, TX</td>\n",
              "      <td>NaN</td>\n",
              "      <td>2016-03-22 12:00:00.000000 UTC</td>\n",
              "      <td>Not cleared</td>\n",
              "      <td>NaN</td>\n",
              "      <td>RAPE OF A CHILD</td>\n",
              "      <td>UK</td>\n",
              "      <td>NaN</td>\n",
              "      <td>NaN</td>\n",
              "      <td>NaN</td>\n",
              "      <td>NaN</td>\n",
              "      <td>Rape</td>\n",
              "      <td>2016-02-01 12:00:00.000000 UTC</td>\n",
              "      <td>NaN</td>\n",
              "      <td>NaN</td>\n",
              "      <td>2016</td>\n",
              "      <td>NaN</td>\n",
              "    </tr>\n",
              "  </tbody>\n",
              "</table>\n",
              "</div>\n",
              "      <button class=\"colab-df-convert\" onclick=\"convertToInteractive('df-417a38f5-e337-4298-aff6-62128af57ff0')\"\n",
              "              title=\"Convert this dataframe to an interactive table.\"\n",
              "              style=\"display:none;\">\n",
              "        \n",
              "  <svg xmlns=\"http://www.w3.org/2000/svg\" height=\"24px\"viewBox=\"0 0 24 24\"\n",
              "       width=\"24px\">\n",
              "    <path d=\"M0 0h24v24H0V0z\" fill=\"none\"/>\n",
              "    <path d=\"M18.56 5.44l.94 2.06.94-2.06 2.06-.94-2.06-.94-.94-2.06-.94 2.06-2.06.94zm-11 1L8.5 8.5l.94-2.06 2.06-.94-2.06-.94L8.5 2.5l-.94 2.06-2.06.94zm10 10l.94 2.06.94-2.06 2.06-.94-2.06-.94-.94-2.06-.94 2.06-2.06.94z\"/><path d=\"M17.41 7.96l-1.37-1.37c-.4-.4-.92-.59-1.43-.59-.52 0-1.04.2-1.43.59L10.3 9.45l-7.72 7.72c-.78.78-.78 2.05 0 2.83L4 21.41c.39.39.9.59 1.41.59.51 0 1.02-.2 1.41-.59l7.78-7.78 2.81-2.81c.8-.78.8-2.07 0-2.86zM5.41 20L4 18.59l7.72-7.72 1.47 1.35L5.41 20z\"/>\n",
              "  </svg>\n",
              "      </button>\n",
              "      \n",
              "  <style>\n",
              "    .colab-df-container {\n",
              "      display:flex;\n",
              "      flex-wrap:wrap;\n",
              "      gap: 12px;\n",
              "    }\n",
              "\n",
              "    .colab-df-convert {\n",
              "      background-color: #E8F0FE;\n",
              "      border: none;\n",
              "      border-radius: 50%;\n",
              "      cursor: pointer;\n",
              "      display: none;\n",
              "      fill: #1967D2;\n",
              "      height: 32px;\n",
              "      padding: 0 0 0 0;\n",
              "      width: 32px;\n",
              "    }\n",
              "\n",
              "    .colab-df-convert:hover {\n",
              "      background-color: #E2EBFA;\n",
              "      box-shadow: 0px 1px 2px rgba(60, 64, 67, 0.3), 0px 1px 3px 1px rgba(60, 64, 67, 0.15);\n",
              "      fill: #174EA6;\n",
              "    }\n",
              "\n",
              "    [theme=dark] .colab-df-convert {\n",
              "      background-color: #3B4455;\n",
              "      fill: #D2E3FC;\n",
              "    }\n",
              "\n",
              "    [theme=dark] .colab-df-convert:hover {\n",
              "      background-color: #434B5C;\n",
              "      box-shadow: 0px 1px 3px 1px rgba(0, 0, 0, 0.15);\n",
              "      filter: drop-shadow(0px 1px 2px rgba(0, 0, 0, 0.3));\n",
              "      fill: #FFFFFF;\n",
              "    }\n",
              "  </style>\n",
              "\n",
              "      <script>\n",
              "        const buttonEl =\n",
              "          document.querySelector('#df-417a38f5-e337-4298-aff6-62128af57ff0 button.colab-df-convert');\n",
              "        buttonEl.style.display =\n",
              "          google.colab.kernel.accessAllowed ? 'block' : 'none';\n",
              "\n",
              "        async function convertToInteractive(key) {\n",
              "          const element = document.querySelector('#df-417a38f5-e337-4298-aff6-62128af57ff0');\n",
              "          const dataTable =\n",
              "            await google.colab.kernel.invokeFunction('convertToInteractive',\n",
              "                                                     [key], {});\n",
              "          if (!dataTable) return;\n",
              "\n",
              "          const docLinkHtml = 'Like what you see? Visit the ' +\n",
              "            '<a target=\"_blank\" href=https://colab.research.google.com/notebooks/data_table.ipynb>data table notebook</a>'\n",
              "            + ' to learn more about interactive tables.';\n",
              "          element.innerHTML = '';\n",
              "          dataTable['output_type'] = 'display_data';\n",
              "          await google.colab.output.renderOutput(dataTable, element);\n",
              "          const docLink = document.createElement('div');\n",
              "          docLink.innerHTML = docLinkHtml;\n",
              "          element.appendChild(docLink);\n",
              "        }\n",
              "      </script>\n",
              "    </div>\n",
              "  </div>\n",
              "  "
            ]
          },
          "metadata": {},
          "execution_count": 4
        }
      ]
    },
    {
      "cell_type": "markdown",
      "source": [
        "# Answer of Problem List Point 2\n",
        "\n",
        "---\n",
        "\n"
      ],
      "metadata": {
        "id": "RPGmt4MHvoxp"
      }
    },
    {
      "cell_type": "markdown",
      "source": [
        "2. Apa saja jenis tindak kejahatan yang terjadi di kota Austin selama tahun 2016?"
      ],
      "metadata": {
        "id": "2bSWothBvt-v"
      }
    },
    {
      "cell_type": "code",
      "source": [
        "# Query to get criminal type in 2016\n",
        "\n",
        "df2016 = client.query('''\n",
        "SELECT address, primary_type, clearance_date, timestamp,\n",
        "FROM `bigquery-public-data.austin_crime.crime`\n",
        "WHERE timestamp between '2016-01-01' AND '2016-12-31'\n",
        "ORDER BY clearance_date\n",
        "''').to_dataframe()"
      ],
      "metadata": {
        "id": "fjcX3Bfxvu--"
      },
      "execution_count": 17,
      "outputs": []
    },
    {
      "cell_type": "code",
      "source": [
        "# Find unique key of criminal\n",
        "\n",
        "df2016.primary_type.unique()"
      ],
      "metadata": {
        "colab": {
          "base_uri": "https://localhost:8080/"
        },
        "id": "GvAgCzMc4Toy",
        "outputId": "5c33067b-4a80-43f4-fb1d-d6e469f009a3"
      },
      "execution_count": 19,
      "outputs": [
        {
          "output_type": "execute_result",
          "data": {
            "text/plain": [
              "array(['Rape', 'Theft', 'Robbery', 'Burglary', 'Agg Assault',\n",
              "       'Auto Theft', 'Murder'], dtype=object)"
            ]
          },
          "metadata": {},
          "execution_count": 19
        }
      ]
    },
    {
      "cell_type": "markdown",
      "source": [
        "- Insight :\n",
        "\n",
        "---\n",
        "\n"
      ],
      "metadata": {
        "id": "muQjCIei4Yxl"
      }
    },
    {
      "cell_type": "markdown",
      "source": [
        "- Selama tahun 2016 tindah kejahatan yang terjadi adalah `Rape`, `Theft`, `Robbery`, `Burglary`, `Agg Asault`, `Auto-Theft`, `Murder`"
      ],
      "metadata": {
        "id": "6sjG47Z24bVz"
      }
    },
    {
      "cell_type": "markdown",
      "source": [
        "# Answer of Problem List Point 3\n",
        "\n",
        "---\n",
        "\n"
      ],
      "metadata": {
        "id": "xo1NJlbH4yUp"
      }
    },
    {
      "cell_type": "markdown",
      "source": [
        "Berapa banyak kasus tindak kejahatan berdasarkan kasus pembersihannya (clearance status) selama tahun 2016?"
      ],
      "metadata": {
        "id": "tkLJvT81461V"
      }
    },
    {
      "cell_type": "code",
      "source": [
        "# Query to get clearance status in 2016\n",
        "\n",
        "clearanceDF = client.query('''\n",
        "select address, clearance_status, clearance_date \n",
        "FROM `bigquery-public-data.austin_crime.crime`\n",
        "WHERE clearance_date between '2016-01-01' and '2016-12-31'\n",
        "AND clearance_status LIKE 'Cleared%%'\n",
        "ORDER BY clearance_date\n",
        "''').to_dataframe()"
      ],
      "metadata": {
        "id": "q0xqbFFX47dG"
      },
      "execution_count": 20,
      "outputs": []
    },
    {
      "cell_type": "code",
      "source": [
        "# find a unique key of clearance status\n",
        "clearanceDF.clearance_status.unique()"
      ],
      "metadata": {
        "colab": {
          "base_uri": "https://localhost:8080/"
        },
        "id": "3zHtZyus6APa",
        "outputId": "cdbed33f-d4a0-4802-b055-4bdea9c54a3c"
      },
      "execution_count": 22,
      "outputs": [
        {
          "output_type": "execute_result",
          "data": {
            "text/plain": [
              "array(['Cleared by Arrest', 'Cleared by Exception'], dtype=object)"
            ]
          },
          "metadata": {},
          "execution_count": 22
        }
      ]
    },
    {
      "cell_type": "code",
      "source": [
        "# function to find the summary of clearence status = clear\n",
        "arrestDF = (clearanceDF['clearance_status'] =='Cleared by Arrest').sum()\n",
        "exceptionDF = (clearanceDF['clearance_status'] =='Cleared by Exception').sum()\n",
        "\n",
        "# print data\n",
        "print('Case with status Cleared by Arrest : ', arrestDF)\n",
        "print('Case with status Cleared by Exception :', exceptionDF)"
      ],
      "metadata": {
        "colab": {
          "base_uri": "https://localhost:8080/"
        },
        "id": "3pUnVxi96Nn2",
        "outputId": "45a4df60-fce3-45f8-acd7-271b0b5d9b19"
      },
      "execution_count": 25,
      "outputs": [
        {
          "output_type": "stream",
          "name": "stdout",
          "text": [
            "Case with status Cleared by Arrest :  5071\n",
            "Case with status Cleared by Exception : 992\n"
          ]
        }
      ]
    },
    {
      "cell_type": "markdown",
      "source": [
        "- Insight : \n",
        "\n",
        "---\n",
        "\n"
      ],
      "metadata": {
        "id": "3oEaAD1h7Lnw"
      }
    },
    {
      "cell_type": "markdown",
      "source": [
        "- Dari data diatas dapat dilihat bahwa penanganan kasus dengan status `Cleared by Arrest` mencapai angka `5,071`, ini manandakan bahwa petugas dengan sigap manangkap para pelaku tindak kejahatan. sementara dengan status `Cleared by Exception` sebanyak `992`, hal ini terjadi bisa saja ada toleransi yang diberikan oleh petugas, semisal pelaku kejahatan masih dibawah umur ataupun ada gangguan mental yang dialami oleh pelaku kejahatan. "
      ],
      "metadata": {
        "id": "pOF_GgRg7Ob0"
      }
    },
    {
      "cell_type": "markdown",
      "source": [
        "# Answer of Problem List Point 4\n",
        "\n",
        "---\n",
        "\n"
      ],
      "metadata": {
        "id": "bsGXN7XG7veJ"
      }
    },
    {
      "cell_type": "markdown",
      "source": [
        "4. Jenis kejahatan apa saja yang paling banyak belum terselesaikan kasusnya di tahun 2016?"
      ],
      "metadata": {
        "id": "7OHHq7an7zVn"
      }
    },
    {
      "cell_type": "code",
      "source": [
        "# Query SQL to get status not cleared from clearance_status\n",
        "\n",
        "notClearDF = client.query('''\n",
        "select address, clearance_status, clearance_date, primary_type \n",
        "FROM `bigquery-public-data.austin_crime.crime`\n",
        "WHERE clearance_date between '2016-01-01' and '2016-12-31'\n",
        "AND clearance_status LIKE 'Not%%'\n",
        "ORDER BY clearance_date\n",
        "''').to_dataframe()"
      ],
      "metadata": {
        "id": "mr6zgV1b75XV"
      },
      "execution_count": 27,
      "outputs": []
    },
    {
      "cell_type": "code",
      "source": [
        "# find the criminal category\n",
        "notClearDF.primary_type.unique()"
      ],
      "metadata": {
        "colab": {
          "base_uri": "https://localhost:8080/"
        },
        "id": "4hzGhp-59b0f",
        "outputId": "23f73c9d-9bdb-4917-a32e-cf4ea99a826e"
      },
      "execution_count": 29,
      "outputs": [
        {
          "output_type": "execute_result",
          "data": {
            "text/plain": [
              "array(['Theft', 'Auto Theft', 'Agg Assault', 'Burglary', 'Robbery',\n",
              "       'Rape'], dtype=object)"
            ]
          },
          "metadata": {},
          "execution_count": 29
        }
      ]
    },
    {
      "cell_type": "code",
      "source": [
        "# function to find summary of each criminal category\n",
        "theftDF = (notClearDF['primary_type'] == 'Theft').sum()\n",
        "autoDF = (notClearDF['primary_type'] == ' Auto Theft').sum()\n",
        "aggDF = (notClearDF['primary_type'] == 'Agg Asault').sum()\n",
        "burgDF = (notClearDF['primary_type'] == 'Bruglary').sum()\n",
        "robbDF = (notClearDF['primary_type'] == 'Robbery').sum()\n",
        "rapeDF = (notClearDF['primary_type'] == 'Rape').sum()\n",
        "\n",
        "# Print Data\n",
        "print('Jumlah kasus Theft sebanyak : ', theftDF)\n",
        "print('Jumlah kasus Auto Theft sebanyak : ', autoDF)\n",
        "print('Jumlah kasus Agg Asault sebanyak : ', aggDF)\n",
        "print('Jumlah kasus Burglary sebanyak : ', burgDF)\n",
        "print('Jumlah kasus Robbery sebanyak : ', robbDF)\n",
        "print('Jumlah kasus Rape sebanyak : ', rapeDF)"
      ],
      "metadata": {
        "colab": {
          "base_uri": "https://localhost:8080/"
        },
        "id": "b_zwLode9p4t",
        "outputId": "1594e38b-71c4-4739-9efb-ad3b02601fe3"
      },
      "execution_count": 31,
      "outputs": [
        {
          "output_type": "stream",
          "name": "stdout",
          "text": [
            "Jumlah kasus Theft sebanyak :  21945\n",
            "Jumlah kasus Auto Theft sebanyak :  0\n",
            "Jumlah kasus Agg Asault sebanyak :  0\n",
            "Jumlah kasus Burglary sebanyak :  0\n",
            "Jumlah kasus Robbery sebanyak :  559\n",
            "Jumlah kasus Rape sebanyak :  330\n"
          ]
        }
      ]
    },
    {
      "cell_type": "markdown",
      "source": [
        "- Insight : \n",
        "\n",
        "---\n",
        "\n"
      ],
      "metadata": {
        "id": "HlLVm3BW-0Qy"
      }
    },
    {
      "cell_type": "markdown",
      "source": [
        "- Kasus yang belum selesai ditangani sebanyak `21,945` adalah kasus dengan jenis `Theft` yang mana menduduki peringkat pertama. Hal ini sulit dilakukan karena kemungkinan para pelaku kejahatan dengan cepat untuk menjual/menyalurkan hasil kejahatannya di pasar gelap, dan mungkin juga para pelaku melarikan diri ke daerah lain sehingga para petugas kesulitan untuk melacak para pelaku. Sedangkan untuk kasus `Auto Theft`, `Agg Asault` dan `Burglary` semua sudah selesai ditangani dengan baik."
      ],
      "metadata": {
        "id": "BsiGuBE4-2m4"
      }
    },
    {
      "cell_type": "markdown",
      "source": [
        "# Answer of Problem List Point 5\n",
        "\n",
        "---\n",
        "\n"
      ],
      "metadata": {
        "id": "kLE6L9KC_ktL"
      }
    },
    {
      "cell_type": "markdown",
      "source": [
        "5. Di bulan apa di tahun 2016 kasus pencurian (theft) sangat banyak terjadi?"
      ],
      "metadata": {
        "id": "pwgMi7M5_nU0"
      }
    },
    {
      "cell_type": "code",
      "source": [
        "# Query to get month in case `Theft`\n",
        "monthTheftDF = client.query('''\n",
        "SELECT \n",
        "  EXTRACT(Month FROM clearance_date) AS Month,\n",
        "  COUNT(*) AS TotalTheft\n",
        "FROM `bigquery-public-data.austin_crime.crime`\n",
        "WHERE primary_type LIKE '%Theft%'\n",
        "AND EXTRACT(year FROM clearance_date) = 2016\n",
        "Group BY Month \n",
        "ORDER BY Month\n",
        "''').to_dataframe()"
      ],
      "metadata": {
        "id": "JMJm--wF_sd6"
      },
      "execution_count": 40,
      "outputs": []
    },
    {
      "cell_type": "code",
      "source": [
        "monthTheftDF"
      ],
      "metadata": {
        "colab": {
          "base_uri": "https://localhost:8080/",
          "height": 426
        },
        "id": "pHixrly_Co03",
        "outputId": "8fc3a36e-8725-4034-f4e4-363a4752d34b"
      },
      "execution_count": 43,
      "outputs": [
        {
          "output_type": "execute_result",
          "data": {
            "text/plain": [
              "    Month  TotalTheft\n",
              "0       1        2350\n",
              "1       2        2133\n",
              "2       3        2243\n",
              "3       4        2164\n",
              "4       5        2358\n",
              "5       6        2211\n",
              "6       7        1989\n",
              "7       8        2553\n",
              "8       9        2128\n",
              "9      10        2168\n",
              "10     11        2492\n",
              "11     12        2232"
            ],
            "text/html": [
              "\n",
              "  <div id=\"df-e134158c-0fbe-4e2f-89c7-c5bf848f0cc3\">\n",
              "    <div class=\"colab-df-container\">\n",
              "      <div>\n",
              "<style scoped>\n",
              "    .dataframe tbody tr th:only-of-type {\n",
              "        vertical-align: middle;\n",
              "    }\n",
              "\n",
              "    .dataframe tbody tr th {\n",
              "        vertical-align: top;\n",
              "    }\n",
              "\n",
              "    .dataframe thead th {\n",
              "        text-align: right;\n",
              "    }\n",
              "</style>\n",
              "<table border=\"1\" class=\"dataframe\">\n",
              "  <thead>\n",
              "    <tr style=\"text-align: right;\">\n",
              "      <th></th>\n",
              "      <th>Month</th>\n",
              "      <th>TotalTheft</th>\n",
              "    </tr>\n",
              "  </thead>\n",
              "  <tbody>\n",
              "    <tr>\n",
              "      <th>0</th>\n",
              "      <td>1</td>\n",
              "      <td>2350</td>\n",
              "    </tr>\n",
              "    <tr>\n",
              "      <th>1</th>\n",
              "      <td>2</td>\n",
              "      <td>2133</td>\n",
              "    </tr>\n",
              "    <tr>\n",
              "      <th>2</th>\n",
              "      <td>3</td>\n",
              "      <td>2243</td>\n",
              "    </tr>\n",
              "    <tr>\n",
              "      <th>3</th>\n",
              "      <td>4</td>\n",
              "      <td>2164</td>\n",
              "    </tr>\n",
              "    <tr>\n",
              "      <th>4</th>\n",
              "      <td>5</td>\n",
              "      <td>2358</td>\n",
              "    </tr>\n",
              "    <tr>\n",
              "      <th>5</th>\n",
              "      <td>6</td>\n",
              "      <td>2211</td>\n",
              "    </tr>\n",
              "    <tr>\n",
              "      <th>6</th>\n",
              "      <td>7</td>\n",
              "      <td>1989</td>\n",
              "    </tr>\n",
              "    <tr>\n",
              "      <th>7</th>\n",
              "      <td>8</td>\n",
              "      <td>2553</td>\n",
              "    </tr>\n",
              "    <tr>\n",
              "      <th>8</th>\n",
              "      <td>9</td>\n",
              "      <td>2128</td>\n",
              "    </tr>\n",
              "    <tr>\n",
              "      <th>9</th>\n",
              "      <td>10</td>\n",
              "      <td>2168</td>\n",
              "    </tr>\n",
              "    <tr>\n",
              "      <th>10</th>\n",
              "      <td>11</td>\n",
              "      <td>2492</td>\n",
              "    </tr>\n",
              "    <tr>\n",
              "      <th>11</th>\n",
              "      <td>12</td>\n",
              "      <td>2232</td>\n",
              "    </tr>\n",
              "  </tbody>\n",
              "</table>\n",
              "</div>\n",
              "      <button class=\"colab-df-convert\" onclick=\"convertToInteractive('df-e134158c-0fbe-4e2f-89c7-c5bf848f0cc3')\"\n",
              "              title=\"Convert this dataframe to an interactive table.\"\n",
              "              style=\"display:none;\">\n",
              "        \n",
              "  <svg xmlns=\"http://www.w3.org/2000/svg\" height=\"24px\"viewBox=\"0 0 24 24\"\n",
              "       width=\"24px\">\n",
              "    <path d=\"M0 0h24v24H0V0z\" fill=\"none\"/>\n",
              "    <path d=\"M18.56 5.44l.94 2.06.94-2.06 2.06-.94-2.06-.94-.94-2.06-.94 2.06-2.06.94zm-11 1L8.5 8.5l.94-2.06 2.06-.94-2.06-.94L8.5 2.5l-.94 2.06-2.06.94zm10 10l.94 2.06.94-2.06 2.06-.94-2.06-.94-.94-2.06-.94 2.06-2.06.94z\"/><path d=\"M17.41 7.96l-1.37-1.37c-.4-.4-.92-.59-1.43-.59-.52 0-1.04.2-1.43.59L10.3 9.45l-7.72 7.72c-.78.78-.78 2.05 0 2.83L4 21.41c.39.39.9.59 1.41.59.51 0 1.02-.2 1.41-.59l7.78-7.78 2.81-2.81c.8-.78.8-2.07 0-2.86zM5.41 20L4 18.59l7.72-7.72 1.47 1.35L5.41 20z\"/>\n",
              "  </svg>\n",
              "      </button>\n",
              "      \n",
              "  <style>\n",
              "    .colab-df-container {\n",
              "      display:flex;\n",
              "      flex-wrap:wrap;\n",
              "      gap: 12px;\n",
              "    }\n",
              "\n",
              "    .colab-df-convert {\n",
              "      background-color: #E8F0FE;\n",
              "      border: none;\n",
              "      border-radius: 50%;\n",
              "      cursor: pointer;\n",
              "      display: none;\n",
              "      fill: #1967D2;\n",
              "      height: 32px;\n",
              "      padding: 0 0 0 0;\n",
              "      width: 32px;\n",
              "    }\n",
              "\n",
              "    .colab-df-convert:hover {\n",
              "      background-color: #E2EBFA;\n",
              "      box-shadow: 0px 1px 2px rgba(60, 64, 67, 0.3), 0px 1px 3px 1px rgba(60, 64, 67, 0.15);\n",
              "      fill: #174EA6;\n",
              "    }\n",
              "\n",
              "    [theme=dark] .colab-df-convert {\n",
              "      background-color: #3B4455;\n",
              "      fill: #D2E3FC;\n",
              "    }\n",
              "\n",
              "    [theme=dark] .colab-df-convert:hover {\n",
              "      background-color: #434B5C;\n",
              "      box-shadow: 0px 1px 3px 1px rgba(0, 0, 0, 0.15);\n",
              "      filter: drop-shadow(0px 1px 2px rgba(0, 0, 0, 0.3));\n",
              "      fill: #FFFFFF;\n",
              "    }\n",
              "  </style>\n",
              "\n",
              "      <script>\n",
              "        const buttonEl =\n",
              "          document.querySelector('#df-e134158c-0fbe-4e2f-89c7-c5bf848f0cc3 button.colab-df-convert');\n",
              "        buttonEl.style.display =\n",
              "          google.colab.kernel.accessAllowed ? 'block' : 'none';\n",
              "\n",
              "        async function convertToInteractive(key) {\n",
              "          const element = document.querySelector('#df-e134158c-0fbe-4e2f-89c7-c5bf848f0cc3');\n",
              "          const dataTable =\n",
              "            await google.colab.kernel.invokeFunction('convertToInteractive',\n",
              "                                                     [key], {});\n",
              "          if (!dataTable) return;\n",
              "\n",
              "          const docLinkHtml = 'Like what you see? Visit the ' +\n",
              "            '<a target=\"_blank\" href=https://colab.research.google.com/notebooks/data_table.ipynb>data table notebook</a>'\n",
              "            + ' to learn more about interactive tables.';\n",
              "          element.innerHTML = '';\n",
              "          dataTable['output_type'] = 'display_data';\n",
              "          await google.colab.output.renderOutput(dataTable, element);\n",
              "          const docLink = document.createElement('div');\n",
              "          docLink.innerHTML = docLinkHtml;\n",
              "          element.appendChild(docLink);\n",
              "        }\n",
              "      </script>\n",
              "    </div>\n",
              "  </div>\n",
              "  "
            ]
          },
          "metadata": {},
          "execution_count": 43
        }
      ]
    },
    {
      "cell_type": "markdown",
      "source": [
        "- Insight : \n",
        "\n",
        "---\n",
        "\n"
      ],
      "metadata": {
        "id": "DkDcfgAbJ082"
      }
    },
    {
      "cell_type": "markdown",
      "source": [
        "- Bulan August 2016 merupakan bulan terbanyak kasus `Theft` dengan total `2,553` kasus, dan bulan terendah di bulan July 2016 dengan total kasus `1,989`"
      ],
      "metadata": {
        "id": "jQ18fCnDJ20A"
      }
    },
    {
      "cell_type": "markdown",
      "source": [
        "# Answer of Problem List Point 6\n",
        "\n",
        "---\n",
        "\n"
      ],
      "metadata": {
        "id": "s5rWMWvwGDZr"
      }
    },
    {
      "cell_type": "markdown",
      "source": [
        "6. Di distrik apa yang paling banyak terjadi kasus pencurian selama 2016?"
      ],
      "metadata": {
        "id": "QN8QSSixGG9X"
      }
    },
    {
      "cell_type": "code",
      "source": [
        "districDF = client.query('''\n",
        "SELECT district,\n",
        "count(*) AS TotalTheft\n",
        "FROM `bigquery-public-data.austin_crime.crime`\n",
        "where timestamp between '2016-01-01' And '2016-12-31'\n",
        "group by district\n",
        "order by TotalTheft\n",
        "''').to_dataframe()"
      ],
      "metadata": {
        "id": "3mn93UsOGIBs"
      },
      "execution_count": 50,
      "outputs": []
    },
    {
      "cell_type": "code",
      "source": [
        "districDF"
      ],
      "metadata": {
        "colab": {
          "base_uri": "https://localhost:8080/",
          "height": 426
        },
        "id": "_1rwpLiZMG-P",
        "outputId": "cb1b0558-9c6e-413d-ce5d-f9415c0c67ec"
      },
      "execution_count": 51,
      "outputs": [
        {
          "output_type": "execute_result",
          "data": {
            "text/plain": [
              "   district  TotalTheft\n",
              "0        88          26\n",
              "1        UK         134\n",
              "2        AP         162\n",
              "3         G        2640\n",
              "4         C        2822\n",
              "5         A        4139\n",
              "6         I        4244\n",
              "7         H        4251\n",
              "8         B        4267\n",
              "9         F        4495\n",
              "10        E        4772\n",
              "11        D        5434"
            ],
            "text/html": [
              "\n",
              "  <div id=\"df-cfbaeb93-0e89-4549-be72-c0ee5de7f22e\">\n",
              "    <div class=\"colab-df-container\">\n",
              "      <div>\n",
              "<style scoped>\n",
              "    .dataframe tbody tr th:only-of-type {\n",
              "        vertical-align: middle;\n",
              "    }\n",
              "\n",
              "    .dataframe tbody tr th {\n",
              "        vertical-align: top;\n",
              "    }\n",
              "\n",
              "    .dataframe thead th {\n",
              "        text-align: right;\n",
              "    }\n",
              "</style>\n",
              "<table border=\"1\" class=\"dataframe\">\n",
              "  <thead>\n",
              "    <tr style=\"text-align: right;\">\n",
              "      <th></th>\n",
              "      <th>district</th>\n",
              "      <th>TotalTheft</th>\n",
              "    </tr>\n",
              "  </thead>\n",
              "  <tbody>\n",
              "    <tr>\n",
              "      <th>0</th>\n",
              "      <td>88</td>\n",
              "      <td>26</td>\n",
              "    </tr>\n",
              "    <tr>\n",
              "      <th>1</th>\n",
              "      <td>UK</td>\n",
              "      <td>134</td>\n",
              "    </tr>\n",
              "    <tr>\n",
              "      <th>2</th>\n",
              "      <td>AP</td>\n",
              "      <td>162</td>\n",
              "    </tr>\n",
              "    <tr>\n",
              "      <th>3</th>\n",
              "      <td>G</td>\n",
              "      <td>2640</td>\n",
              "    </tr>\n",
              "    <tr>\n",
              "      <th>4</th>\n",
              "      <td>C</td>\n",
              "      <td>2822</td>\n",
              "    </tr>\n",
              "    <tr>\n",
              "      <th>5</th>\n",
              "      <td>A</td>\n",
              "      <td>4139</td>\n",
              "    </tr>\n",
              "    <tr>\n",
              "      <th>6</th>\n",
              "      <td>I</td>\n",
              "      <td>4244</td>\n",
              "    </tr>\n",
              "    <tr>\n",
              "      <th>7</th>\n",
              "      <td>H</td>\n",
              "      <td>4251</td>\n",
              "    </tr>\n",
              "    <tr>\n",
              "      <th>8</th>\n",
              "      <td>B</td>\n",
              "      <td>4267</td>\n",
              "    </tr>\n",
              "    <tr>\n",
              "      <th>9</th>\n",
              "      <td>F</td>\n",
              "      <td>4495</td>\n",
              "    </tr>\n",
              "    <tr>\n",
              "      <th>10</th>\n",
              "      <td>E</td>\n",
              "      <td>4772</td>\n",
              "    </tr>\n",
              "    <tr>\n",
              "      <th>11</th>\n",
              "      <td>D</td>\n",
              "      <td>5434</td>\n",
              "    </tr>\n",
              "  </tbody>\n",
              "</table>\n",
              "</div>\n",
              "      <button class=\"colab-df-convert\" onclick=\"convertToInteractive('df-cfbaeb93-0e89-4549-be72-c0ee5de7f22e')\"\n",
              "              title=\"Convert this dataframe to an interactive table.\"\n",
              "              style=\"display:none;\">\n",
              "        \n",
              "  <svg xmlns=\"http://www.w3.org/2000/svg\" height=\"24px\"viewBox=\"0 0 24 24\"\n",
              "       width=\"24px\">\n",
              "    <path d=\"M0 0h24v24H0V0z\" fill=\"none\"/>\n",
              "    <path d=\"M18.56 5.44l.94 2.06.94-2.06 2.06-.94-2.06-.94-.94-2.06-.94 2.06-2.06.94zm-11 1L8.5 8.5l.94-2.06 2.06-.94-2.06-.94L8.5 2.5l-.94 2.06-2.06.94zm10 10l.94 2.06.94-2.06 2.06-.94-2.06-.94-.94-2.06-.94 2.06-2.06.94z\"/><path d=\"M17.41 7.96l-1.37-1.37c-.4-.4-.92-.59-1.43-.59-.52 0-1.04.2-1.43.59L10.3 9.45l-7.72 7.72c-.78.78-.78 2.05 0 2.83L4 21.41c.39.39.9.59 1.41.59.51 0 1.02-.2 1.41-.59l7.78-7.78 2.81-2.81c.8-.78.8-2.07 0-2.86zM5.41 20L4 18.59l7.72-7.72 1.47 1.35L5.41 20z\"/>\n",
              "  </svg>\n",
              "      </button>\n",
              "      \n",
              "  <style>\n",
              "    .colab-df-container {\n",
              "      display:flex;\n",
              "      flex-wrap:wrap;\n",
              "      gap: 12px;\n",
              "    }\n",
              "\n",
              "    .colab-df-convert {\n",
              "      background-color: #E8F0FE;\n",
              "      border: none;\n",
              "      border-radius: 50%;\n",
              "      cursor: pointer;\n",
              "      display: none;\n",
              "      fill: #1967D2;\n",
              "      height: 32px;\n",
              "      padding: 0 0 0 0;\n",
              "      width: 32px;\n",
              "    }\n",
              "\n",
              "    .colab-df-convert:hover {\n",
              "      background-color: #E2EBFA;\n",
              "      box-shadow: 0px 1px 2px rgba(60, 64, 67, 0.3), 0px 1px 3px 1px rgba(60, 64, 67, 0.15);\n",
              "      fill: #174EA6;\n",
              "    }\n",
              "\n",
              "    [theme=dark] .colab-df-convert {\n",
              "      background-color: #3B4455;\n",
              "      fill: #D2E3FC;\n",
              "    }\n",
              "\n",
              "    [theme=dark] .colab-df-convert:hover {\n",
              "      background-color: #434B5C;\n",
              "      box-shadow: 0px 1px 3px 1px rgba(0, 0, 0, 0.15);\n",
              "      filter: drop-shadow(0px 1px 2px rgba(0, 0, 0, 0.3));\n",
              "      fill: #FFFFFF;\n",
              "    }\n",
              "  </style>\n",
              "\n",
              "      <script>\n",
              "        const buttonEl =\n",
              "          document.querySelector('#df-cfbaeb93-0e89-4549-be72-c0ee5de7f22e button.colab-df-convert');\n",
              "        buttonEl.style.display =\n",
              "          google.colab.kernel.accessAllowed ? 'block' : 'none';\n",
              "\n",
              "        async function convertToInteractive(key) {\n",
              "          const element = document.querySelector('#df-cfbaeb93-0e89-4549-be72-c0ee5de7f22e');\n",
              "          const dataTable =\n",
              "            await google.colab.kernel.invokeFunction('convertToInteractive',\n",
              "                                                     [key], {});\n",
              "          if (!dataTable) return;\n",
              "\n",
              "          const docLinkHtml = 'Like what you see? Visit the ' +\n",
              "            '<a target=\"_blank\" href=https://colab.research.google.com/notebooks/data_table.ipynb>data table notebook</a>'\n",
              "            + ' to learn more about interactive tables.';\n",
              "          element.innerHTML = '';\n",
              "          dataTable['output_type'] = 'display_data';\n",
              "          await google.colab.output.renderOutput(dataTable, element);\n",
              "          const docLink = document.createElement('div');\n",
              "          docLink.innerHTML = docLinkHtml;\n",
              "          element.appendChild(docLink);\n",
              "        }\n",
              "      </script>\n",
              "    </div>\n",
              "  </div>\n",
              "  "
            ]
          },
          "metadata": {},
          "execution_count": 51
        }
      ]
    },
    {
      "cell_type": "markdown",
      "source": [
        "- Insight : \n",
        "\n",
        "---\n",
        "\n"
      ],
      "metadata": {
        "id": "cdaVHg5qMJrM"
      }
    },
    {
      "cell_type": "markdown",
      "source": [
        "- Di `District` E paling banyak kasus tindak kejahatan dengan total `4,772` kasus kejahatan"
      ],
      "metadata": {
        "id": "CuBlcDNVMRWl"
      }
    },
    {
      "cell_type": "markdown",
      "source": [
        "# Answer of Problem List Point 7\n",
        "\n",
        "---\n",
        "\n"
      ],
      "metadata": {
        "id": "7bcaiqBnMr7G"
      }
    },
    {
      "cell_type": "markdown",
      "source": [
        "7. Berapa lama rata-rata waktu (dalam hari) kasus tindak kejahatan 'theft' terselesaikan sejak kasus tersebut terangkat selama tahun 2016? (Hint: Hitung selisih hari dari timestamp hingga clearance date)"
      ],
      "metadata": {
        "id": "CeLr6nfCM0Ta"
      }
    },
    {
      "cell_type": "code",
      "source": [
        "#Query to get average ratio\n",
        "averageDF = client.query('''\n",
        "SELECT\n",
        "  AVG(TIMESTAMP_DIFF(clearance_date, timestamp, DAY)) AS avg_time_to_clear,\n",
        "  COUNT(*) AS num_cases\n",
        "FROM\n",
        "  `bigquery-public-data.austin_crime.crime`\n",
        "WHERE\n",
        "  primary_type = 'Theft' AND EXTRACT(YEAR FROM timestamp) = 2016\n",
        "  AND clearance_date IS NOT NULL\n",
        "''').to_dataframe"
      ],
      "metadata": {
        "id": "LOrbS14iMrYu"
      },
      "execution_count": 59,
      "outputs": []
    },
    {
      "cell_type": "code",
      "source": [
        "averageDF()"
      ],
      "metadata": {
        "colab": {
          "base_uri": "https://localhost:8080/",
          "height": 81
        },
        "id": "OfBvbx3vNBnA",
        "outputId": "132c7303-97e0-4501-de4f-b6cf884a8dfb"
      },
      "execution_count": 57,
      "outputs": [
        {
          "output_type": "execute_result",
          "data": {
            "text/plain": [
              "   avg_time_to_clear  num_cases\n",
              "0          17.628652      24955"
            ],
            "text/html": [
              "\n",
              "  <div id=\"df-80203539-e119-4c01-be0b-bbed4f4f221e\">\n",
              "    <div class=\"colab-df-container\">\n",
              "      <div>\n",
              "<style scoped>\n",
              "    .dataframe tbody tr th:only-of-type {\n",
              "        vertical-align: middle;\n",
              "    }\n",
              "\n",
              "    .dataframe tbody tr th {\n",
              "        vertical-align: top;\n",
              "    }\n",
              "\n",
              "    .dataframe thead th {\n",
              "        text-align: right;\n",
              "    }\n",
              "</style>\n",
              "<table border=\"1\" class=\"dataframe\">\n",
              "  <thead>\n",
              "    <tr style=\"text-align: right;\">\n",
              "      <th></th>\n",
              "      <th>avg_time_to_clear</th>\n",
              "      <th>num_cases</th>\n",
              "    </tr>\n",
              "  </thead>\n",
              "  <tbody>\n",
              "    <tr>\n",
              "      <th>0</th>\n",
              "      <td>17.628652</td>\n",
              "      <td>24955</td>\n",
              "    </tr>\n",
              "  </tbody>\n",
              "</table>\n",
              "</div>\n",
              "      <button class=\"colab-df-convert\" onclick=\"convertToInteractive('df-80203539-e119-4c01-be0b-bbed4f4f221e')\"\n",
              "              title=\"Convert this dataframe to an interactive table.\"\n",
              "              style=\"display:none;\">\n",
              "        \n",
              "  <svg xmlns=\"http://www.w3.org/2000/svg\" height=\"24px\"viewBox=\"0 0 24 24\"\n",
              "       width=\"24px\">\n",
              "    <path d=\"M0 0h24v24H0V0z\" fill=\"none\"/>\n",
              "    <path d=\"M18.56 5.44l.94 2.06.94-2.06 2.06-.94-2.06-.94-.94-2.06-.94 2.06-2.06.94zm-11 1L8.5 8.5l.94-2.06 2.06-.94-2.06-.94L8.5 2.5l-.94 2.06-2.06.94zm10 10l.94 2.06.94-2.06 2.06-.94-2.06-.94-.94-2.06-.94 2.06-2.06.94z\"/><path d=\"M17.41 7.96l-1.37-1.37c-.4-.4-.92-.59-1.43-.59-.52 0-1.04.2-1.43.59L10.3 9.45l-7.72 7.72c-.78.78-.78 2.05 0 2.83L4 21.41c.39.39.9.59 1.41.59.51 0 1.02-.2 1.41-.59l7.78-7.78 2.81-2.81c.8-.78.8-2.07 0-2.86zM5.41 20L4 18.59l7.72-7.72 1.47 1.35L5.41 20z\"/>\n",
              "  </svg>\n",
              "      </button>\n",
              "      \n",
              "  <style>\n",
              "    .colab-df-container {\n",
              "      display:flex;\n",
              "      flex-wrap:wrap;\n",
              "      gap: 12px;\n",
              "    }\n",
              "\n",
              "    .colab-df-convert {\n",
              "      background-color: #E8F0FE;\n",
              "      border: none;\n",
              "      border-radius: 50%;\n",
              "      cursor: pointer;\n",
              "      display: none;\n",
              "      fill: #1967D2;\n",
              "      height: 32px;\n",
              "      padding: 0 0 0 0;\n",
              "      width: 32px;\n",
              "    }\n",
              "\n",
              "    .colab-df-convert:hover {\n",
              "      background-color: #E2EBFA;\n",
              "      box-shadow: 0px 1px 2px rgba(60, 64, 67, 0.3), 0px 1px 3px 1px rgba(60, 64, 67, 0.15);\n",
              "      fill: #174EA6;\n",
              "    }\n",
              "\n",
              "    [theme=dark] .colab-df-convert {\n",
              "      background-color: #3B4455;\n",
              "      fill: #D2E3FC;\n",
              "    }\n",
              "\n",
              "    [theme=dark] .colab-df-convert:hover {\n",
              "      background-color: #434B5C;\n",
              "      box-shadow: 0px 1px 3px 1px rgba(0, 0, 0, 0.15);\n",
              "      filter: drop-shadow(0px 1px 2px rgba(0, 0, 0, 0.3));\n",
              "      fill: #FFFFFF;\n",
              "    }\n",
              "  </style>\n",
              "\n",
              "      <script>\n",
              "        const buttonEl =\n",
              "          document.querySelector('#df-80203539-e119-4c01-be0b-bbed4f4f221e button.colab-df-convert');\n",
              "        buttonEl.style.display =\n",
              "          google.colab.kernel.accessAllowed ? 'block' : 'none';\n",
              "\n",
              "        async function convertToInteractive(key) {\n",
              "          const element = document.querySelector('#df-80203539-e119-4c01-be0b-bbed4f4f221e');\n",
              "          const dataTable =\n",
              "            await google.colab.kernel.invokeFunction('convertToInteractive',\n",
              "                                                     [key], {});\n",
              "          if (!dataTable) return;\n",
              "\n",
              "          const docLinkHtml = 'Like what you see? Visit the ' +\n",
              "            '<a target=\"_blank\" href=https://colab.research.google.com/notebooks/data_table.ipynb>data table notebook</a>'\n",
              "            + ' to learn more about interactive tables.';\n",
              "          element.innerHTML = '';\n",
              "          dataTable['output_type'] = 'display_data';\n",
              "          await google.colab.output.renderOutput(dataTable, element);\n",
              "          const docLink = document.createElement('div');\n",
              "          docLink.innerHTML = docLinkHtml;\n",
              "          element.appendChild(docLink);\n",
              "        }\n",
              "      </script>\n",
              "    </div>\n",
              "  </div>\n",
              "  "
            ]
          },
          "metadata": {},
          "execution_count": 57
        }
      ]
    },
    {
      "cell_type": "markdown",
      "source": [
        "- Insight :\n",
        "- Rata-rata penyelasaian kasus adalah 17,6 bulan dari total kasus di 2016 sebanyak `24,955`"
      ],
      "metadata": {
        "id": "npIfD5d1NeAa"
      }
    },
    {
      "cell_type": "markdown",
      "source": [
        "# Problem Statement Solving\n",
        "\n",
        "---\n",
        "\n"
      ],
      "metadata": {
        "id": "8_x-qGvBNLYb"
      }
    },
    {
      "cell_type": "markdown",
      "source": [
        "1. Spesific\n",
        "- Data-data yang ada sudah disajikan dengan spesifik mungkin di range tahun 2016\n",
        "2. Measurable\n",
        "- Data-data tersebut dapat diukur dengan baik, baik dari segi total kejahatan per distrik, per bulan maupun dari jenis kejahatannya itu sendiri\n",
        "3. Achiveable\n",
        "- Tingkat keberhasilan petugas dalam menangani kasus kejahatan pun termasuk tinggi\n",
        "4. Relevant\n",
        "- Data tersaji sudah sangat relevant, mengingat pembagian datanya sudah baik\n",
        "5. Time Bond Goals\n",
        "- Tujuan dari data ini adalah agar para petugas dapat sebaik mungkin untuk meminimalisir tingkat kejahatan dengan range waktu yang tegolong singkat"
      ],
      "metadata": {
        "id": "rI5yxmj2NOKa"
      }
    },
    {
      "cell_type": "markdown",
      "source": [
        "# Conclusion\n",
        "\n",
        "---\n",
        "\n"
      ],
      "metadata": {
        "id": "oOVuyfglOmj1"
      }
    },
    {
      "cell_type": "markdown",
      "source": [
        "Para Petugas sudah dengan sangat baik menangani tindak kejahatan yg terjadi dikota austin, dengan bukti rata-rata penyelesaian di angkat 17,6 per 24,995 kasus. Kinerja ini diiringi dengan semangat agar tingkat kejahatan kota Austin di 2017 dapat menurun dibanding dengan tahun 2016"
      ],
      "metadata": {
        "id": "QScAAWAnOoSd"
      }
    }
  ]
}