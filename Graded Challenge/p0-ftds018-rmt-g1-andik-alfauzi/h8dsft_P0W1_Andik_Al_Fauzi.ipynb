{
  "cells": [
    {
      "cell_type": "markdown",
      "metadata": {
        "id": "ZIUMY0TQUFem"
      },
      "source": [
        "# Graded Challange 1 - Andik Al Fauzi"
      ]
    },
    {
      "cell_type": "markdown",
      "metadata": {
        "id": "ksyyAJUmUFep"
      },
      "source": [
        "## Description\n",
        "\n",
        "### Objective\n",
        "\n",
        "Data Diri\n",
        "Andik Al Fauzi - FTDS-RMT-018\n",
        "\n",
        "Latar Belakang Masalah\n",
        "Sejak tahun 2019 Covid-19 mulai merebak dihampir seluruh dunia, menjadikan hal ini suatu wabah dan ancaman yang serius bagi masing-masing negara yang terjangkit sehingga diperlukan adanya record data dan riwayat dari masing-masing penduduk di negara tersebut. Recording data tersebut dibuat dalam satu database menyeluruh, sehingga dapat dengan mudah diakses oleh siapapun untuk dijadikan langkah penanggulangan dan pencegahan agar virus Covid-19 tersebut tidak semakin meluas. Khususnya di negara Amerika yang memiliki jumlah populasi yang besar dan dibagi menjadi beberapa negara bagian.\n",
        "\n",
        "### Problem Statement\n",
        "\n",
        "1. Total penduduk United States yang terjangkit virus Covid-19 sampai dengan tahun 2022?\n",
        "2. Total penduduk United States yang meninggal sampai tahun 2022 karena virus Covid-19?\n",
        "3. Kota mana saja di United States sajakah yang menjadi top 5 pandemi Covid-19?\n",
        "4. Total penduduk United States yang berhasil sembuh dari Covid-19 sampai dengan tahun 2022? "
      ]
    },
    {
      "cell_type": "markdown",
      "metadata": {
        "id": "F_ZumZQdUFes"
      },
      "source": [
        "## Working Area\n",
        "\n",
        "```txt\n",
        "Put your code, analysis, everything below this line\n",
        "\n",
        "Make sure to check everything the rubric requires before you submit\n",
        "```"
      ]
    },
    {
      "cell_type": "code",
      "execution_count": 1,
      "metadata": {
        "id": "sXkRhdvwUFeu"
      },
      "outputs": [],
      "source": [
        "import pandas as pd\n",
        "import numpy as np\n",
        "\n",
        "# Query from Big Query\n",
        "# select * from bigquery-public-data.covid19_jhu_csse_eu.summary \n",
        "# then export to local and save as name is summaryFromBigQuery.csv "
      ]
    },
    {
      "cell_type": "code",
      "execution_count": 2,
      "metadata": {
        "colab": {
          "base_uri": "https://localhost:8080/"
        },
        "id": "l06P0a3PUFe0",
        "outputId": "90b175dc-848d-4db9-bda1-025708509610"
      },
      "outputs": [
        {
          "name": "stdout",
          "output_type": "stream",
          "text": [
            "<class 'pandas.core.frame.DataFrame'>\n",
            "RangeIndex: 34391 entries, 0 to 34390\n",
            "Data columns (total 13 columns):\n",
            " #   Column          Non-Null Count  Dtype  \n",
            "---  ------          --------------  -----  \n",
            " 0   province_state  32865 non-null  object \n",
            " 1   country_region  34391 non-null  object \n",
            " 2   date            34391 non-null  object \n",
            " 3   latitude        33670 non-null  float64\n",
            " 4   longitude       33670 non-null  float64\n",
            " 5   location_geom   33670 non-null  object \n",
            " 6   confirmed       34391 non-null  int64  \n",
            " 7   deaths          34391 non-null  int64  \n",
            " 8   recovered       15164 non-null  float64\n",
            " 9   active          15158 non-null  float64\n",
            " 10  fips            28762 non-null  float64\n",
            " 11  admin2          28784 non-null  object \n",
            " 12  combined_key    34391 non-null  object \n",
            "dtypes: float64(5), int64(2), object(6)\n",
            "memory usage: 3.4+ MB\n"
          ]
        }
      ],
      "source": [
        "# Load CSV Datatable\n",
        "\n",
        "df = pd.read_csv('summaryFromBigQuery.csv')\n",
        "df.info()"
      ]
    },
    {
      "cell_type": "markdown",
      "metadata": {
        "id": "3Oo2TKvZUFe5"
      },
      "source": [
        "Dari info tersebut dapat sementara disimpulkan bahwa ada 32865 baris data yang terisi di kolom province_state, sedangkan sisanya 1526 baris data berupa data kosong yang bisa kita singkirkan nantinya."
      ]
    },
    {
      "cell_type": "code",
      "execution_count": 3,
      "metadata": {
        "id": "PUeZbpb6UFe7"
      },
      "outputs": [],
      "source": [
        "copyDF = df.copy()"
      ]
    },
    {
      "cell_type": "code",
      "execution_count": 4,
      "metadata": {
        "id": "54E2tvfOUFe9"
      },
      "outputs": [],
      "source": [
        "# Rename Column province_state\n",
        "\n",
        "copyDF = copyDF.rename(columns={'province_state' : 'province'})\n",
        "\n",
        "# Rename Column country_region\n",
        "\n",
        "copyDF = copyDF.rename(columns={'country_region' : 'country'})\n",
        "\n",
        "# Declare new column : year\n",
        "\n",
        "copyDF['year_id'] = pd.DatetimeIndex(copyDF['date']).year\n",
        "\n",
        "# Declare new column : survive\n",
        "\n",
        "copyDF[\"survive\"] = copyDF[\"confirmed\"] - copyDF[\"deaths\"]"
      ]
    },
    {
      "cell_type": "code",
      "execution_count": 5,
      "metadata": {
        "id": "ZT2TpNr-UFfB"
      },
      "outputs": [],
      "source": [
        "# Drop unused column\n",
        "\n",
        "locDrop = ['latitude', 'longitude', 'location_geom']\n",
        "copyDF.drop(locDrop, inplace=True, axis=1)\n",
        "\n",
        "adminDrop = ['admin2', 'combined_key']\n",
        "copyDF.drop(adminDrop, inplace=True, axis=1)\n",
        "\n",
        "fipsDrop = ['fips']\n",
        "copyDF.drop(fipsDrop, inplace=True, axis=1)"
      ]
    },
    {
      "cell_type": "code",
      "execution_count": 6,
      "metadata": {
        "colab": {
          "base_uri": "https://localhost:8080/"
        },
        "id": "glVt3K5PUFfE",
        "outputId": "2d5d6d19-116a-477e-8cc7-403104263ba3"
      },
      "outputs": [
        {
          "data": {
            "text/plain": [
              "(34391, 9)"
            ]
          },
          "execution_count": 6,
          "metadata": {},
          "output_type": "execute_result"
        }
      ],
      "source": [
        "copyDF.shape"
      ]
    },
    {
      "cell_type": "code",
      "execution_count": 7,
      "metadata": {
        "id": "Qhks4pNyUFfG"
      },
      "outputs": [],
      "source": [
        "testDF1 = copyDF.copy()"
      ]
    },
    {
      "cell_type": "code",
      "execution_count": 8,
      "metadata": {
        "colab": {
          "base_uri": "https://localhost:8080/",
          "height": 423
        },
        "id": "s7dD0kHgUFfH",
        "outputId": "1abd339a-5f36-4186-f1fb-66096aeb841d"
      },
      "outputs": [
        {
          "data": {
            "text/html": [
              "<div>\n",
              "<style scoped>\n",
              "    .dataframe tbody tr th:only-of-type {\n",
              "        vertical-align: middle;\n",
              "    }\n",
              "\n",
              "    .dataframe tbody tr th {\n",
              "        vertical-align: top;\n",
              "    }\n",
              "\n",
              "    .dataframe thead th {\n",
              "        text-align: right;\n",
              "    }\n",
              "</style>\n",
              "<table border=\"1\" class=\"dataframe\">\n",
              "  <thead>\n",
              "    <tr style=\"text-align: right;\">\n",
              "      <th></th>\n",
              "      <th>province</th>\n",
              "      <th>country</th>\n",
              "      <th>date</th>\n",
              "      <th>confirmed</th>\n",
              "      <th>deaths</th>\n",
              "      <th>recovered</th>\n",
              "      <th>active</th>\n",
              "      <th>year_id</th>\n",
              "      <th>survive</th>\n",
              "    </tr>\n",
              "  </thead>\n",
              "  <tbody>\n",
              "    <tr>\n",
              "      <th>0</th>\n",
              "      <td>False</td>\n",
              "      <td>False</td>\n",
              "      <td>False</td>\n",
              "      <td>False</td>\n",
              "      <td>False</td>\n",
              "      <td>True</td>\n",
              "      <td>True</td>\n",
              "      <td>False</td>\n",
              "      <td>False</td>\n",
              "    </tr>\n",
              "    <tr>\n",
              "      <th>1</th>\n",
              "      <td>False</td>\n",
              "      <td>False</td>\n",
              "      <td>False</td>\n",
              "      <td>False</td>\n",
              "      <td>False</td>\n",
              "      <td>True</td>\n",
              "      <td>True</td>\n",
              "      <td>False</td>\n",
              "      <td>False</td>\n",
              "    </tr>\n",
              "    <tr>\n",
              "      <th>2</th>\n",
              "      <td>False</td>\n",
              "      <td>False</td>\n",
              "      <td>False</td>\n",
              "      <td>False</td>\n",
              "      <td>False</td>\n",
              "      <td>True</td>\n",
              "      <td>True</td>\n",
              "      <td>False</td>\n",
              "      <td>False</td>\n",
              "    </tr>\n",
              "    <tr>\n",
              "      <th>3</th>\n",
              "      <td>False</td>\n",
              "      <td>False</td>\n",
              "      <td>False</td>\n",
              "      <td>False</td>\n",
              "      <td>False</td>\n",
              "      <td>True</td>\n",
              "      <td>True</td>\n",
              "      <td>False</td>\n",
              "      <td>False</td>\n",
              "    </tr>\n",
              "    <tr>\n",
              "      <th>4</th>\n",
              "      <td>False</td>\n",
              "      <td>False</td>\n",
              "      <td>False</td>\n",
              "      <td>False</td>\n",
              "      <td>False</td>\n",
              "      <td>True</td>\n",
              "      <td>True</td>\n",
              "      <td>False</td>\n",
              "      <td>False</td>\n",
              "    </tr>\n",
              "    <tr>\n",
              "      <th>...</th>\n",
              "      <td>...</td>\n",
              "      <td>...</td>\n",
              "      <td>...</td>\n",
              "      <td>...</td>\n",
              "      <td>...</td>\n",
              "      <td>...</td>\n",
              "      <td>...</td>\n",
              "      <td>...</td>\n",
              "      <td>...</td>\n",
              "    </tr>\n",
              "    <tr>\n",
              "      <th>34386</th>\n",
              "      <td>False</td>\n",
              "      <td>False</td>\n",
              "      <td>False</td>\n",
              "      <td>False</td>\n",
              "      <td>False</td>\n",
              "      <td>True</td>\n",
              "      <td>True</td>\n",
              "      <td>False</td>\n",
              "      <td>False</td>\n",
              "    </tr>\n",
              "    <tr>\n",
              "      <th>34387</th>\n",
              "      <td>False</td>\n",
              "      <td>False</td>\n",
              "      <td>False</td>\n",
              "      <td>False</td>\n",
              "      <td>False</td>\n",
              "      <td>True</td>\n",
              "      <td>True</td>\n",
              "      <td>False</td>\n",
              "      <td>False</td>\n",
              "    </tr>\n",
              "    <tr>\n",
              "      <th>34388</th>\n",
              "      <td>False</td>\n",
              "      <td>False</td>\n",
              "      <td>False</td>\n",
              "      <td>False</td>\n",
              "      <td>False</td>\n",
              "      <td>True</td>\n",
              "      <td>True</td>\n",
              "      <td>False</td>\n",
              "      <td>False</td>\n",
              "    </tr>\n",
              "    <tr>\n",
              "      <th>34389</th>\n",
              "      <td>False</td>\n",
              "      <td>False</td>\n",
              "      <td>False</td>\n",
              "      <td>False</td>\n",
              "      <td>False</td>\n",
              "      <td>True</td>\n",
              "      <td>True</td>\n",
              "      <td>False</td>\n",
              "      <td>False</td>\n",
              "    </tr>\n",
              "    <tr>\n",
              "      <th>34390</th>\n",
              "      <td>False</td>\n",
              "      <td>False</td>\n",
              "      <td>False</td>\n",
              "      <td>False</td>\n",
              "      <td>False</td>\n",
              "      <td>True</td>\n",
              "      <td>True</td>\n",
              "      <td>False</td>\n",
              "      <td>False</td>\n",
              "    </tr>\n",
              "  </tbody>\n",
              "</table>\n",
              "<p>34391 rows × 9 columns</p>\n",
              "</div>"
            ],
            "text/plain": [
              "       province  country   date  confirmed  deaths  recovered  active  \\\n",
              "0         False    False  False      False   False       True    True   \n",
              "1         False    False  False      False   False       True    True   \n",
              "2         False    False  False      False   False       True    True   \n",
              "3         False    False  False      False   False       True    True   \n",
              "4         False    False  False      False   False       True    True   \n",
              "...         ...      ...    ...        ...     ...        ...     ...   \n",
              "34386     False    False  False      False   False       True    True   \n",
              "34387     False    False  False      False   False       True    True   \n",
              "34388     False    False  False      False   False       True    True   \n",
              "34389     False    False  False      False   False       True    True   \n",
              "34390     False    False  False      False   False       True    True   \n",
              "\n",
              "       year_id  survive  \n",
              "0        False    False  \n",
              "1        False    False  \n",
              "2        False    False  \n",
              "3        False    False  \n",
              "4        False    False  \n",
              "...        ...      ...  \n",
              "34386    False    False  \n",
              "34387    False    False  \n",
              "34388    False    False  \n",
              "34389    False    False  \n",
              "34390    False    False  \n",
              "\n",
              "[34391 rows x 9 columns]"
            ]
          },
          "execution_count": 8,
          "metadata": {},
          "output_type": "execute_result"
        }
      ],
      "source": [
        "testDF1.isna()"
      ]
    },
    {
      "cell_type": "code",
      "execution_count": 9,
      "metadata": {
        "colab": {
          "base_uri": "https://localhost:8080/"
        },
        "id": "UOYTZPL9UFfJ",
        "outputId": "4f9c3fd1-385a-433c-9324-4e7bb31e168b"
      },
      "outputs": [
        {
          "data": {
            "text/plain": [
              "province      1526\n",
              "country          0\n",
              "date             0\n",
              "confirmed        0\n",
              "deaths           0\n",
              "recovered    19227\n",
              "active       19233\n",
              "year_id          0\n",
              "survive          0\n",
              "dtype: int64"
            ]
          },
          "execution_count": 9,
          "metadata": {},
          "output_type": "execute_result"
        }
      ],
      "source": [
        "testDF1.isna().sum()"
      ]
    },
    {
      "cell_type": "code",
      "execution_count": 10,
      "metadata": {
        "id": "-G1c-ZLkUFfK"
      },
      "outputs": [],
      "source": [
        "# Handle missing values for column province\n",
        "\n",
        "testDF1['province'] = testDF1['province'].fillna(\"Unknown_Province\")\n",
        "\n",
        "# Fill column recoverd with 0 value\n",
        "\n",
        "testDF1['recovered'] = testDF1['recovered'].fillna(0)\n",
        "\n",
        "# Fill column active with 0 value\n",
        "\n",
        "testDF1['active'] = testDF1['active'].fillna(0)\n",
        "\n",
        "# Drop Column Flip\n",
        "\n",
        "# testDF1.drop(testDF1['fips'], inplace=True, axis=1)"
      ]
    },
    {
      "cell_type": "code",
      "execution_count": 11,
      "metadata": {
        "colab": {
          "base_uri": "https://localhost:8080/"
        },
        "id": "Mypdn4AQUFfM",
        "outputId": "42176c04-1598-406e-bc6c-0d5bb41a13bc"
      },
      "outputs": [
        {
          "data": {
            "text/plain": [
              "province     0\n",
              "country      0\n",
              "date         0\n",
              "confirmed    0\n",
              "deaths       0\n",
              "recovered    0\n",
              "active       0\n",
              "year_id      0\n",
              "survive      0\n",
              "dtype: int64"
            ]
          },
          "execution_count": 11,
          "metadata": {},
          "output_type": "execute_result"
        }
      ],
      "source": [
        "testDF1.isna().sum()"
      ]
    },
    {
      "cell_type": "code",
      "execution_count": 12,
      "metadata": {
        "colab": {
          "base_uri": "https://localhost:8080/"
        },
        "id": "eBsRi7LkUFfN",
        "outputId": "e11d8c6f-da5d-459f-cfbf-db61bc4debdf"
      },
      "outputs": [
        {
          "name": "stdout",
          "output_type": "stream",
          "text": [
            "<class 'pandas.core.frame.DataFrame'>\n",
            "RangeIndex: 34391 entries, 0 to 34390\n",
            "Data columns (total 9 columns):\n",
            " #   Column     Non-Null Count  Dtype  \n",
            "---  ------     --------------  -----  \n",
            " 0   province   34391 non-null  object \n",
            " 1   country    34391 non-null  object \n",
            " 2   date       34391 non-null  object \n",
            " 3   confirmed  34391 non-null  int64  \n",
            " 4   deaths     34391 non-null  int64  \n",
            " 5   recovered  34391 non-null  float64\n",
            " 6   active     34391 non-null  float64\n",
            " 7   year_id    34391 non-null  int64  \n",
            " 8   survive    34391 non-null  int64  \n",
            "dtypes: float64(2), int64(4), object(3)\n",
            "memory usage: 2.4+ MB\n"
          ]
        }
      ],
      "source": [
        "testDF1.info()"
      ]
    },
    {
      "cell_type": "code",
      "execution_count": 13,
      "metadata": {
        "colab": {
          "base_uri": "https://localhost:8080/"
        },
        "id": "u8Y8RLyhUFfO",
        "outputId": "5559f4d5-0b09-46c3-c6f0-6eea43b7e577"
      },
      "outputs": [
        {
          "name": "stdout",
          "output_type": "stream",
          "text": [
            "      province country        date  confirmed  deaths  year_id  survive\n",
            "0    Minnesota      US  2021-11-30       1206      16     2021     1190\n",
            "1    Minnesota      US  2021-11-30      25830     216     2021    25614\n",
            "2  Mississippi      US  2021-11-30       6451     151     2021     6300\n",
            "3  Mississippi      US  2021-11-30       1749      41     2021     1708\n",
            "4  Mississippi      US  2021-11-30       3161      67     2021     3094\n"
          ]
        }
      ],
      "source": [
        "# # Merge & Drop Province & Country Column\n",
        "testDF1.drop(['recovered', 'active'], axis=1, inplace=True)\n",
        "print(testDF1.head())"
      ]
    },
    {
      "cell_type": "code",
      "execution_count": 14,
      "metadata": {
        "colab": {
          "base_uri": "https://localhost:8080/"
        },
        "id": "vxurfZhGUFfR",
        "outputId": "3fa4b8a0-09cd-48ca-d23f-75b26edb2f33"
      },
      "outputs": [
        {
          "name": "stdout",
          "output_type": "stream",
          "text": [
            "          province country        date  confirmed  deaths  year_id  survive\n",
            "0        Minnesota      US  2021-11-30       1206      16     2021     1190\n",
            "1        Minnesota      US  2021-11-30      25830     216     2021    25614\n",
            "2      Mississippi      US  2021-11-30       6451     151     2021     6300\n",
            "3      Mississippi      US  2021-11-30       1749      41     2021     1708\n",
            "4      Mississippi      US  2021-11-30       3161      67     2021     3094\n",
            "...            ...     ...         ...        ...     ...      ...      ...\n",
            "34386    Louisiana      US  2022-09-21      16183     149     2022    16034\n",
            "34387    Louisiana      US  2022-09-21       2124      25     2022     2099\n",
            "34388    Louisiana      US  2022-09-21      12470     186     2022    12284\n",
            "34389    Louisiana      US  2022-09-21      14504     196     2022    14308\n",
            "34390    Louisiana      US  2022-09-21      14607     275     2022    14332\n",
            "\n",
            "[34391 rows x 7 columns]\n"
          ]
        }
      ],
      "source": [
        "# DFIndex = testDF1.set_index(testDF1[\"Country/Province\", \"date\", \"year_id\", \"confirmed\", \"deaths\", \"survive\"], inplace=True, append=True)\n",
        "# IndexDF.sort_index()\n",
        "# print(IndexDF.head())\n",
        "\n",
        "DF_Index = {\"Country/Province\", \"date\", \"year_id\", \"confirmed\", \"deaths\", \"survive\"}\n",
        "DF_Index = pd.DataFrame(testDF1)\n",
        "DF_Index.sort_index\n",
        "print(DF_Index)"
      ]
    },
    {
      "cell_type": "code",
      "execution_count": 15,
      "metadata": {
        "colab": {
          "base_uri": "https://localhost:8080/"
        },
        "id": "zozsT113UFfS",
        "outputId": "9e166c5f-7dea-49ae-c6ac-e178d30486b2"
      },
      "outputs": [
        {
          "name": "stdout",
          "output_type": "stream",
          "text": [
            "<class 'pandas.core.frame.DataFrame'>\n",
            "RangeIndex: 34391 entries, 0 to 34390\n",
            "Data columns (total 7 columns):\n",
            " #   Column     Non-Null Count  Dtype \n",
            "---  ------     --------------  ----- \n",
            " 0   province   34391 non-null  object\n",
            " 1   country    34391 non-null  object\n",
            " 2   date       34391 non-null  object\n",
            " 3   confirmed  34391 non-null  int64 \n",
            " 4   deaths     34391 non-null  int64 \n",
            " 5   year_id    34391 non-null  int64 \n",
            " 6   survive    34391 non-null  int64 \n",
            "dtypes: int64(4), object(3)\n",
            "memory usage: 1.8+ MB\n"
          ]
        }
      ],
      "source": [
        "DF_Index.info()"
      ]
    },
    {
      "cell_type": "code",
      "execution_count": 16,
      "metadata": {
        "colab": {
          "base_uri": "https://localhost:8080/",
          "height": 363
        },
        "id": "XbWjxjfLYrSg",
        "outputId": "c27fdb04-ed65-4fca-98b5-d10f260e23d7"
      },
      "outputs": [
        {
          "data": {
            "text/html": [
              "<div>\n",
              "<style scoped>\n",
              "    .dataframe tbody tr th:only-of-type {\n",
              "        vertical-align: middle;\n",
              "    }\n",
              "\n",
              "    .dataframe tbody tr th {\n",
              "        vertical-align: top;\n",
              "    }\n",
              "\n",
              "    .dataframe thead th {\n",
              "        text-align: right;\n",
              "    }\n",
              "</style>\n",
              "<table border=\"1\" class=\"dataframe\">\n",
              "  <thead>\n",
              "    <tr style=\"text-align: right;\">\n",
              "      <th></th>\n",
              "      <th>province</th>\n",
              "      <th>country</th>\n",
              "      <th>date</th>\n",
              "      <th>confirmed</th>\n",
              "      <th>deaths</th>\n",
              "      <th>year_id</th>\n",
              "      <th>survive</th>\n",
              "    </tr>\n",
              "  </thead>\n",
              "  <tbody>\n",
              "    <tr>\n",
              "      <th>0</th>\n",
              "      <td>Minnesota</td>\n",
              "      <td>US</td>\n",
              "      <td>2021-11-30</td>\n",
              "      <td>1206</td>\n",
              "      <td>16</td>\n",
              "      <td>2021</td>\n",
              "      <td>1190</td>\n",
              "    </tr>\n",
              "    <tr>\n",
              "      <th>1</th>\n",
              "      <td>Minnesota</td>\n",
              "      <td>US</td>\n",
              "      <td>2021-11-30</td>\n",
              "      <td>25830</td>\n",
              "      <td>216</td>\n",
              "      <td>2021</td>\n",
              "      <td>25614</td>\n",
              "    </tr>\n",
              "    <tr>\n",
              "      <th>2</th>\n",
              "      <td>Mississippi</td>\n",
              "      <td>US</td>\n",
              "      <td>2021-11-30</td>\n",
              "      <td>6451</td>\n",
              "      <td>151</td>\n",
              "      <td>2021</td>\n",
              "      <td>6300</td>\n",
              "    </tr>\n",
              "    <tr>\n",
              "      <th>3</th>\n",
              "      <td>Mississippi</td>\n",
              "      <td>US</td>\n",
              "      <td>2021-11-30</td>\n",
              "      <td>1749</td>\n",
              "      <td>41</td>\n",
              "      <td>2021</td>\n",
              "      <td>1708</td>\n",
              "    </tr>\n",
              "    <tr>\n",
              "      <th>4</th>\n",
              "      <td>Mississippi</td>\n",
              "      <td>US</td>\n",
              "      <td>2021-11-30</td>\n",
              "      <td>3161</td>\n",
              "      <td>67</td>\n",
              "      <td>2021</td>\n",
              "      <td>3094</td>\n",
              "    </tr>\n",
              "    <tr>\n",
              "      <th>5</th>\n",
              "      <td>Mississippi</td>\n",
              "      <td>US</td>\n",
              "      <td>2021-11-30</td>\n",
              "      <td>4570</td>\n",
              "      <td>95</td>\n",
              "      <td>2021</td>\n",
              "      <td>4475</td>\n",
              "    </tr>\n",
              "    <tr>\n",
              "      <th>6</th>\n",
              "      <td>Mississippi</td>\n",
              "      <td>US</td>\n",
              "      <td>2021-11-30</td>\n",
              "      <td>33270</td>\n",
              "      <td>432</td>\n",
              "      <td>2021</td>\n",
              "      <td>32838</td>\n",
              "    </tr>\n",
              "    <tr>\n",
              "      <th>7</th>\n",
              "      <td>Mississippi</td>\n",
              "      <td>US</td>\n",
              "      <td>2021-11-30</td>\n",
              "      <td>34920</td>\n",
              "      <td>557</td>\n",
              "      <td>2021</td>\n",
              "      <td>34363</td>\n",
              "    </tr>\n",
              "    <tr>\n",
              "      <th>8</th>\n",
              "      <td>Mississippi</td>\n",
              "      <td>US</td>\n",
              "      <td>2021-11-30</td>\n",
              "      <td>2718</td>\n",
              "      <td>89</td>\n",
              "      <td>2021</td>\n",
              "      <td>2629</td>\n",
              "    </tr>\n",
              "    <tr>\n",
              "      <th>9</th>\n",
              "      <td>Mississippi</td>\n",
              "      <td>US</td>\n",
              "      <td>2021-11-30</td>\n",
              "      <td>1321</td>\n",
              "      <td>39</td>\n",
              "      <td>2021</td>\n",
              "      <td>1282</td>\n",
              "    </tr>\n",
              "  </tbody>\n",
              "</table>\n",
              "</div>"
            ],
            "text/plain": [
              "      province country        date  confirmed  deaths  year_id  survive\n",
              "0    Minnesota      US  2021-11-30       1206      16     2021     1190\n",
              "1    Minnesota      US  2021-11-30      25830     216     2021    25614\n",
              "2  Mississippi      US  2021-11-30       6451     151     2021     6300\n",
              "3  Mississippi      US  2021-11-30       1749      41     2021     1708\n",
              "4  Mississippi      US  2021-11-30       3161      67     2021     3094\n",
              "5  Mississippi      US  2021-11-30       4570      95     2021     4475\n",
              "6  Mississippi      US  2021-11-30      33270     432     2021    32838\n",
              "7  Mississippi      US  2021-11-30      34920     557     2021    34363\n",
              "8  Mississippi      US  2021-11-30       2718      89     2021     2629\n",
              "9  Mississippi      US  2021-11-30       1321      39     2021     1282"
            ]
          },
          "execution_count": 16,
          "metadata": {},
          "output_type": "execute_result"
        }
      ],
      "source": [
        "DF_Index.head(10)"
      ]
    },
    {
      "cell_type": "code",
      "execution_count": 17,
      "metadata": {
        "colab": {
          "base_uri": "https://localhost:8080/"
        },
        "id": "P1kyYZaxalcn",
        "outputId": "eb21bd74-0e9c-403a-80df-4829464b90ce"
      },
      "outputs": [
        {
          "data": {
            "text/plain": [
              "False"
            ]
          },
          "execution_count": 17,
          "metadata": {},
          "output_type": "execute_result"
        }
      ],
      "source": [
        "'date' in DF_Index.index"
      ]
    },
    {
      "cell_type": "code",
      "execution_count": 18,
      "metadata": {
        "colab": {
          "base_uri": "https://localhost:8080/",
          "height": 455
        },
        "id": "VqWQ3pTjf6PF",
        "outputId": "e688dd80-7c78-48c2-dca6-2fc4075f3f0a"
      },
      "outputs": [
        {
          "data": {
            "text/html": [
              "<div>\n",
              "<style scoped>\n",
              "    .dataframe tbody tr th:only-of-type {\n",
              "        vertical-align: middle;\n",
              "    }\n",
              "\n",
              "    .dataframe tbody tr th {\n",
              "        vertical-align: top;\n",
              "    }\n",
              "\n",
              "    .dataframe thead th {\n",
              "        text-align: right;\n",
              "    }\n",
              "</style>\n",
              "<table border=\"1\" class=\"dataframe\">\n",
              "  <thead>\n",
              "    <tr style=\"text-align: right;\">\n",
              "      <th></th>\n",
              "      <th></th>\n",
              "      <th>province</th>\n",
              "      <th>date</th>\n",
              "      <th>confirmed</th>\n",
              "      <th>deaths</th>\n",
              "      <th>survive</th>\n",
              "    </tr>\n",
              "    <tr>\n",
              "      <th>year_id</th>\n",
              "      <th>country</th>\n",
              "      <th></th>\n",
              "      <th></th>\n",
              "      <th></th>\n",
              "      <th></th>\n",
              "      <th></th>\n",
              "    </tr>\n",
              "  </thead>\n",
              "  <tbody>\n",
              "    <tr>\n",
              "      <th rowspan=\"5\" valign=\"top\">2021</th>\n",
              "      <th>US</th>\n",
              "      <td>Minnesota</td>\n",
              "      <td>2021-11-30</td>\n",
              "      <td>1206</td>\n",
              "      <td>16</td>\n",
              "      <td>1190</td>\n",
              "    </tr>\n",
              "    <tr>\n",
              "      <th>US</th>\n",
              "      <td>Minnesota</td>\n",
              "      <td>2021-11-30</td>\n",
              "      <td>25830</td>\n",
              "      <td>216</td>\n",
              "      <td>25614</td>\n",
              "    </tr>\n",
              "    <tr>\n",
              "      <th>US</th>\n",
              "      <td>Mississippi</td>\n",
              "      <td>2021-11-30</td>\n",
              "      <td>6451</td>\n",
              "      <td>151</td>\n",
              "      <td>6300</td>\n",
              "    </tr>\n",
              "    <tr>\n",
              "      <th>US</th>\n",
              "      <td>Mississippi</td>\n",
              "      <td>2021-11-30</td>\n",
              "      <td>1749</td>\n",
              "      <td>41</td>\n",
              "      <td>1708</td>\n",
              "    </tr>\n",
              "    <tr>\n",
              "      <th>US</th>\n",
              "      <td>Mississippi</td>\n",
              "      <td>2021-11-30</td>\n",
              "      <td>3161</td>\n",
              "      <td>67</td>\n",
              "      <td>3094</td>\n",
              "    </tr>\n",
              "    <tr>\n",
              "      <th>...</th>\n",
              "      <th>...</th>\n",
              "      <td>...</td>\n",
              "      <td>...</td>\n",
              "      <td>...</td>\n",
              "      <td>...</td>\n",
              "      <td>...</td>\n",
              "    </tr>\n",
              "    <tr>\n",
              "      <th rowspan=\"5\" valign=\"top\">2022</th>\n",
              "      <th>US</th>\n",
              "      <td>Louisiana</td>\n",
              "      <td>2022-09-21</td>\n",
              "      <td>16183</td>\n",
              "      <td>149</td>\n",
              "      <td>16034</td>\n",
              "    </tr>\n",
              "    <tr>\n",
              "      <th>US</th>\n",
              "      <td>Louisiana</td>\n",
              "      <td>2022-09-21</td>\n",
              "      <td>2124</td>\n",
              "      <td>25</td>\n",
              "      <td>2099</td>\n",
              "    </tr>\n",
              "    <tr>\n",
              "      <th>US</th>\n",
              "      <td>Louisiana</td>\n",
              "      <td>2022-09-21</td>\n",
              "      <td>12470</td>\n",
              "      <td>186</td>\n",
              "      <td>12284</td>\n",
              "    </tr>\n",
              "    <tr>\n",
              "      <th>US</th>\n",
              "      <td>Louisiana</td>\n",
              "      <td>2022-09-21</td>\n",
              "      <td>14504</td>\n",
              "      <td>196</td>\n",
              "      <td>14308</td>\n",
              "    </tr>\n",
              "    <tr>\n",
              "      <th>US</th>\n",
              "      <td>Louisiana</td>\n",
              "      <td>2022-09-21</td>\n",
              "      <td>14607</td>\n",
              "      <td>275</td>\n",
              "      <td>14332</td>\n",
              "    </tr>\n",
              "  </tbody>\n",
              "</table>\n",
              "<p>34391 rows × 5 columns</p>\n",
              "</div>"
            ],
            "text/plain": [
              "                    province        date  confirmed  deaths  survive\n",
              "year_id country                                                     \n",
              "2021    US         Minnesota  2021-11-30       1206      16     1190\n",
              "        US         Minnesota  2021-11-30      25830     216    25614\n",
              "        US       Mississippi  2021-11-30       6451     151     6300\n",
              "        US       Mississippi  2021-11-30       1749      41     1708\n",
              "        US       Mississippi  2021-11-30       3161      67     3094\n",
              "...                      ...         ...        ...     ...      ...\n",
              "2022    US         Louisiana  2022-09-21      16183     149    16034\n",
              "        US         Louisiana  2022-09-21       2124      25     2099\n",
              "        US         Louisiana  2022-09-21      12470     186    12284\n",
              "        US         Louisiana  2022-09-21      14504     196    14308\n",
              "        US         Louisiana  2022-09-21      14607     275    14332\n",
              "\n",
              "[34391 rows x 5 columns]"
            ]
          },
          "execution_count": 18,
          "metadata": {},
          "output_type": "execute_result"
        }
      ],
      "source": [
        "DF_Index.set_index(['year_id', 'country'])"
      ]
    },
    {
      "cell_type": "code",
      "execution_count": 19,
      "metadata": {
        "colab": {
          "base_uri": "https://localhost:8080/"
        },
        "id": "5P8YfRWAqbix",
        "outputId": "8598bb0d-f544-48af-8cc5-2306c903d410"
      },
      "outputs": [
        {
          "data": {
            "text/plain": [
              "<bound method NDFrame.describe of           province country        date  confirmed  deaths  year_id  survive\n",
              "0        Minnesota      US  2021-11-30       1206      16     2021     1190\n",
              "1        Minnesota      US  2021-11-30      25830     216     2021    25614\n",
              "2      Mississippi      US  2021-11-30       6451     151     2021     6300\n",
              "3      Mississippi      US  2021-11-30       1749      41     2021     1708\n",
              "4      Mississippi      US  2021-11-30       3161      67     2021     3094\n",
              "...            ...     ...         ...        ...     ...      ...      ...\n",
              "34386    Louisiana      US  2022-09-21      16183     149     2022    16034\n",
              "34387    Louisiana      US  2022-09-21       2124      25     2022     2099\n",
              "34388    Louisiana      US  2022-09-21      12470     186     2022    12284\n",
              "34389    Louisiana      US  2022-09-21      14504     196     2022    14308\n",
              "34390    Louisiana      US  2022-09-21      14607     275     2022    14332\n",
              "\n",
              "[34391 rows x 7 columns]>"
            ]
          },
          "execution_count": 19,
          "metadata": {},
          "output_type": "execute_result"
        }
      ],
      "source": [
        "DF_Index.describe"
      ]
    },
    {
      "cell_type": "code",
      "execution_count": 20,
      "metadata": {
        "id": "dBX-bZLevW8I"
      },
      "outputs": [],
      "source": [
        "# DF_Index['date'] = pd.to_datetime(DF_Index['date'])\n",
        "# DF_Index['YMConvert'] = DF_Index['date'].map(lambda dt: dt.strftime('%Y-%m'))\n",
        "# groupDF = DF_Index.groupby('YMConvert').size().to_frame()"
      ]
    },
    {
      "cell_type": "code",
      "execution_count": 21,
      "metadata": {
        "colab": {
          "base_uri": "https://localhost:8080/",
          "height": 423
        },
        "id": "ggsOr0lDrJ4P",
        "outputId": "4811736f-8c88-4a08-d3fb-9aa4f8373eac"
      },
      "outputs": [
        {
          "data": {
            "text/html": [
              "<div>\n",
              "<style scoped>\n",
              "    .dataframe tbody tr th:only-of-type {\n",
              "        vertical-align: middle;\n",
              "    }\n",
              "\n",
              "    .dataframe tbody tr th {\n",
              "        vertical-align: top;\n",
              "    }\n",
              "\n",
              "    .dataframe thead th {\n",
              "        text-align: right;\n",
              "    }\n",
              "</style>\n",
              "<table border=\"1\" class=\"dataframe\">\n",
              "  <thead>\n",
              "    <tr style=\"text-align: right;\">\n",
              "      <th></th>\n",
              "      <th>province</th>\n",
              "      <th>country</th>\n",
              "      <th>date</th>\n",
              "      <th>confirmed</th>\n",
              "      <th>deaths</th>\n",
              "      <th>year_id</th>\n",
              "      <th>survive</th>\n",
              "    </tr>\n",
              "  </thead>\n",
              "  <tbody>\n",
              "    <tr>\n",
              "      <th>0</th>\n",
              "      <td>Minnesota</td>\n",
              "      <td>US</td>\n",
              "      <td>2021-11-30</td>\n",
              "      <td>1206</td>\n",
              "      <td>16</td>\n",
              "      <td>2021</td>\n",
              "      <td>1190</td>\n",
              "    </tr>\n",
              "    <tr>\n",
              "      <th>1</th>\n",
              "      <td>Minnesota</td>\n",
              "      <td>US</td>\n",
              "      <td>2021-11-30</td>\n",
              "      <td>25830</td>\n",
              "      <td>216</td>\n",
              "      <td>2021</td>\n",
              "      <td>25614</td>\n",
              "    </tr>\n",
              "    <tr>\n",
              "      <th>2</th>\n",
              "      <td>Mississippi</td>\n",
              "      <td>US</td>\n",
              "      <td>2021-11-30</td>\n",
              "      <td>6451</td>\n",
              "      <td>151</td>\n",
              "      <td>2021</td>\n",
              "      <td>6300</td>\n",
              "    </tr>\n",
              "    <tr>\n",
              "      <th>3</th>\n",
              "      <td>Mississippi</td>\n",
              "      <td>US</td>\n",
              "      <td>2021-11-30</td>\n",
              "      <td>1749</td>\n",
              "      <td>41</td>\n",
              "      <td>2021</td>\n",
              "      <td>1708</td>\n",
              "    </tr>\n",
              "    <tr>\n",
              "      <th>4</th>\n",
              "      <td>Mississippi</td>\n",
              "      <td>US</td>\n",
              "      <td>2021-11-30</td>\n",
              "      <td>3161</td>\n",
              "      <td>67</td>\n",
              "      <td>2021</td>\n",
              "      <td>3094</td>\n",
              "    </tr>\n",
              "    <tr>\n",
              "      <th>...</th>\n",
              "      <td>...</td>\n",
              "      <td>...</td>\n",
              "      <td>...</td>\n",
              "      <td>...</td>\n",
              "      <td>...</td>\n",
              "      <td>...</td>\n",
              "      <td>...</td>\n",
              "    </tr>\n",
              "    <tr>\n",
              "      <th>32618</th>\n",
              "      <td>Isle of Man</td>\n",
              "      <td>United Kingdom</td>\n",
              "      <td>2021-08-29</td>\n",
              "      <td>6629</td>\n",
              "      <td>38</td>\n",
              "      <td>2021</td>\n",
              "      <td>6591</td>\n",
              "    </tr>\n",
              "    <tr>\n",
              "      <th>32619</th>\n",
              "      <td>Scotland</td>\n",
              "      <td>United Kingdom</td>\n",
              "      <td>2021-08-29</td>\n",
              "      <td>420622</td>\n",
              "      <td>8111</td>\n",
              "      <td>2021</td>\n",
              "      <td>412511</td>\n",
              "    </tr>\n",
              "    <tr>\n",
              "      <th>32620</th>\n",
              "      <td>Unknown_Province</td>\n",
              "      <td>Venezuela</td>\n",
              "      <td>2021-08-29</td>\n",
              "      <td>333125</td>\n",
              "      <td>3998</td>\n",
              "      <td>2021</td>\n",
              "      <td>329127</td>\n",
              "    </tr>\n",
              "    <tr>\n",
              "      <th>32621</th>\n",
              "      <td>Unknown_Province</td>\n",
              "      <td>Vietnam</td>\n",
              "      <td>2021-08-29</td>\n",
              "      <td>435265</td>\n",
              "      <td>10749</td>\n",
              "      <td>2021</td>\n",
              "      <td>424516</td>\n",
              "    </tr>\n",
              "    <tr>\n",
              "      <th>32622</th>\n",
              "      <td>Unknown_Province</td>\n",
              "      <td>Yemen</td>\n",
              "      <td>2021-08-29</td>\n",
              "      <td>7784</td>\n",
              "      <td>1461</td>\n",
              "      <td>2021</td>\n",
              "      <td>6323</td>\n",
              "    </tr>\n",
              "  </tbody>\n",
              "</table>\n",
              "<p>9940 rows × 7 columns</p>\n",
              "</div>"
            ],
            "text/plain": [
              "               province         country        date  confirmed  deaths  \\\n",
              "0             Minnesota              US  2021-11-30       1206      16   \n",
              "1             Minnesota              US  2021-11-30      25830     216   \n",
              "2           Mississippi              US  2021-11-30       6451     151   \n",
              "3           Mississippi              US  2021-11-30       1749      41   \n",
              "4           Mississippi              US  2021-11-30       3161      67   \n",
              "...                 ...             ...         ...        ...     ...   \n",
              "32618       Isle of Man  United Kingdom  2021-08-29       6629      38   \n",
              "32619          Scotland  United Kingdom  2021-08-29     420622    8111   \n",
              "32620  Unknown_Province       Venezuela  2021-08-29     333125    3998   \n",
              "32621  Unknown_Province         Vietnam  2021-08-29     435265   10749   \n",
              "32622  Unknown_Province           Yemen  2021-08-29       7784    1461   \n",
              "\n",
              "       year_id  survive  \n",
              "0         2021     1190  \n",
              "1         2021    25614  \n",
              "2         2021     6300  \n",
              "3         2021     1708  \n",
              "4         2021     3094  \n",
              "...        ...      ...  \n",
              "32618     2021     6591  \n",
              "32619     2021   412511  \n",
              "32620     2021   329127  \n",
              "32621     2021   424516  \n",
              "32622     2021     6323  \n",
              "\n",
              "[9940 rows x 7 columns]"
            ]
          },
          "execution_count": 21,
          "metadata": {},
          "output_type": "execute_result"
        }
      ],
      "source": [
        "DF_Index.loc[DF_Index['date'].between('2021-01-01', '2021-12-31')]"
      ]
    },
    {
      "cell_type": "code",
      "execution_count": 22,
      "metadata": {
        "colab": {
          "base_uri": "https://localhost:8080/"
        },
        "id": "d8j5dBVAxyJM",
        "outputId": "1ef4b3a8-3afc-4ab7-a9e4-622f659f486a"
      },
      "outputs": [
        {
          "data": {
            "text/plain": [
              "date        province  confirmed\n",
              "2021-01-11  Alabama   581            581\n",
              "                      734            734\n",
              "                      908            908\n",
              "                      934            934\n",
              "                      977            977\n",
              "                                   ...  \n",
              "2021-11-30  Wyoming   2142          2142\n",
              "                      2322          2322\n",
              "                      2645          2645\n",
              "                      3065          3065\n",
              "                      17501        17501\n",
              "Name: confirmed, Length: 8261, dtype: int64"
            ]
          },
          "execution_count": 22,
          "metadata": {},
          "output_type": "execute_result"
        }
      ],
      "source": [
        "DF_Index[\n",
        "    (DF_Index['country'] == 'US') &\n",
        "    (DF_Index['province']) &\n",
        "    (DF_Index['date'].between('2021-01-01','2021-31-12'))\n",
        "    ].groupby(['date', 'province', 'confirmed'])['confirmed'].sum()"
      ]
    },
    {
      "cell_type": "code",
      "execution_count": 23,
      "metadata": {
        "colab": {
          "base_uri": "https://localhost:8080/",
          "height": 323
        },
        "id": "kJdK8xfIy-sz",
        "outputId": "f245e910-97be-479d-ba2f-501960f625ba"
      },
      "outputs": [
        {
          "data": {
            "text/plain": [
              "<AxesSubplot: xlabel='date'>"
            ]
          },
          "execution_count": 23,
          "metadata": {},
          "output_type": "execute_result"
        },
        {
          "data": {
            "image/png": "[encoded data removed]",
            "text/plain": [
              "<Figure size 640x480 with 1 Axes>"
            ]
          },
          "metadata": {},
          "output_type": "display_data"
        }
      ],
      "source": [
        "# DF_Index[\n",
        "#     (DF_Index['country'] == \"US\") &\n",
        "#     (DF_Index['province']) &\n",
        "#     (DF_Index['date'].between('2021-01-01','2021-31-12'))\n",
        "#     ].groupby(['date', 'province', 'confirmed'])['confirmed'].sum().plot(kind='bar')\n",
        "\n",
        "# dateRange = DF_Index[DF_Index['date'].between('2021-01-01', '2021-12-31')]\n",
        "\n",
        "DF_Index[DF_Index['country'] == 'US'].groupby(DF_Index['date'].between('2021-01-01', '2021-12-31'))['confirmed'].sum().plot(kind='bar')"
      ]
    },
    {
      "cell_type": "code",
      "execution_count": 24,
      "metadata": {
        "colab": {
          "base_uri": "https://localhost:8080/"
        },
        "id": "dkAprVOLwxOE",
        "outputId": "049a4901-2656-4f2a-b82e-c0b480461f6d"
      },
      "outputs": [
        {
          "name": "stdout",
          "output_type": "stream",
          "text": [
            "<class 'pandas.core.frame.DataFrame'>\n",
            "RangeIndex: 34391 entries, 0 to 34390\n",
            "Data columns (total 7 columns):\n",
            " #   Column     Non-Null Count  Dtype \n",
            "---  ------     --------------  ----- \n",
            " 0   province   34391 non-null  object\n",
            " 1   country    34391 non-null  object\n",
            " 2   date       34391 non-null  object\n",
            " 3   confirmed  34391 non-null  int64 \n",
            " 4   deaths     34391 non-null  int64 \n",
            " 5   year_id    34391 non-null  int64 \n",
            " 6   survive    34391 non-null  int64 \n",
            "dtypes: int64(4), object(3)\n",
            "memory usage: 1.8+ MB\n"
          ]
        }
      ],
      "source": [
        "DF_Index.info()"
      ]
    },
    {
      "cell_type": "code",
      "execution_count": 25,
      "metadata": {
        "id": "l8DsRT5SrfzJ"
      },
      "outputs": [],
      "source": [
        "DF_2021Conf = DF_Index.loc[DF_Index['date'].between('2021-01-01', '2021-01-31')]"
      ]
    },
    {
      "cell_type": "code",
      "execution_count": 26,
      "metadata": {
        "colab": {
          "base_uri": "https://localhost:8080/",
          "height": 323
        },
        "id": "BIeoFg8zs2pb",
        "outputId": "70fc424c-af70-45a9-d1ef-1fe813d53a02"
      },
      "outputs": [
        {
          "data": {
            "text/plain": [
              "<AxesSubplot: xlabel='country'>"
            ]
          },
          "execution_count": 26,
          "metadata": {},
          "output_type": "execute_result"
        },
        {
          "data": {
            "image/png": "[encoded data removed]",
            "text/plain": [
              "<Figure size 640x480 with 1 Axes>"
            ]
          },
          "metadata": {},
          "output_type": "display_data"
        }
      ],
      "source": [
        "DF_2021Conf.groupby([DF_2021Conf['province']] and [DF_Index['country'] == 'US'])['confirmed'].sum().plot(kind='bar')"
      ]
    },
    {
      "cell_type": "code",
      "execution_count": 27,
      "metadata": {
        "colab": {
          "base_uri": "https://localhost:8080/",
          "height": 323
        },
        "id": "pTi7reiAuAjk",
        "outputId": "eaffa059-65a1-4230-b850-8323d2a5be08"
      },
      "outputs": [
        {
          "data": {
            "text/plain": [
              "<AxesSubplot: xlabel='country'>"
            ]
          },
          "execution_count": 27,
          "metadata": {},
          "output_type": "execute_result"
        },
        {
          "data": {
            "image/png": "[encoded data removed]",
            "text/plain": [
              "<Figure size 640x480 with 1 Axes>"
            ]
          },
          "metadata": {},
          "output_type": "display_data"
        }
      ],
      "source": [
        "DF_Index[DF_Index['date'].between('2021-01-01', '2021-12-31')].groupby([DF_Index['country'] == 'US'])['confirmed'].sum().plot(kind='bar')"
      ]
    },
    {
      "cell_type": "code",
      "execution_count": 28,
      "metadata": {
        "id": "HWpzwLxgfd19"
      },
      "outputs": [],
      "source": [
        "# testDF1[testDF1['year_id'] <= 2022].groupby([testDF1['Country/Province'] == 'USD'])['confirmed'].sum().plot(kind=\"bar\")\n",
        "\n",
        "# DF_Index[DF_Index['year_id'] <= 2021].groupby([DF_Index['country'] == \"US\"])['confirmed'].sum().plot(kind=\"bar\")\n",
        "\n",
        "# DF_Index.plot(x=(DF_Index['year_id'] <= 2021), y=\"confirmed\", kind=\"bar\")\n",
        "\n",
        "# DF_Index[DF_2021Conf].groupby([DF_Index['country'] == \"US\"])['confirmed'].sum().plot(kind='bar')"
      ]
    },
    {
      "cell_type": "code",
      "execution_count": 29,
      "metadata": {
        "colab": {
          "base_uri": "https://localhost:8080/"
        },
        "id": "YlBMueDUo6P1",
        "outputId": "5977752f-58fd-496b-9683-0eec7f31c2e5"
      },
      "outputs": [
        {
          "name": "stdout",
          "output_type": "stream",
          "text": [
            "Total Data:  2148993571\n"
          ]
        }
      ],
      "source": [
        "print(\"Total Data: \", DF_Index[DF_Index['year_id'] <= 2022]['confirmed'].sum())"
      ]
    },
    {
      "cell_type": "code",
      "execution_count": 30,
      "metadata": {
        "id": "fcYfoFT6UFfV"
      },
      "outputs": [],
      "source": [
        "# testDF1.loc['2021']\n",
        "# print(\"Dataset Confirmed : \\n\", testDF1)\n",
        "\n",
        "# idx = pd.IndexSlice\n",
        "# df_jan2019 = df.loc[idx[:, \"2019-01-01\":\"2019-01-31\"], :]\n",
        "# print(\"Dataset akhir:\\n\", df_jan2019)"
      ]
    },
    {
      "cell_type": "code",
      "execution_count": 31,
      "metadata": {
        "id": "hSuEc0cCUFfW"
      },
      "outputs": [],
      "source": [
        "# Slice DataFrame into only US Country Data\n",
        "\n",
        "# DataUS = testDF1[(testDF1['province'].notna()) &\n",
        "#                  (testDF1['country'] == 'US') &\n",
        "#                  (testDF1['confirmed'].notna()) &\n",
        "#                  (testDF1['deaths'].notna()) & \n",
        "#                  (testDF1['year_id'].notna()) &\n",
        "#                  (testDF1['survive'].notna())\n",
        "# ] \n",
        "\n",
        "# DataUS"
      ]
    },
    {
      "cell_type": "code",
      "execution_count": 32,
      "metadata": {
        "id": "Rfcu-plIUFfX"
      },
      "outputs": [],
      "source": [
        "# DataUS.shape"
      ]
    },
    {
      "cell_type": "code",
      "execution_count": 33,
      "metadata": {
        "id": "3T2vvFh1UFfZ"
      },
      "outputs": [],
      "source": [
        "# Import matplotlib\n",
        "\n",
        "%matplotlib inline"
      ]
    },
    {
      "cell_type": "markdown",
      "metadata": {
        "id": "3bNidbDDUFfa"
      },
      "source": [
        "# 1. Total penduduk United States yang terjangkit virus Covid-19 sampai dengan tahun 2021?"
      ]
    },
    {
      "cell_type": "code",
      "execution_count": 34,
      "metadata": {
        "id": "dlumVSs0aGhW"
      },
      "outputs": [],
      "source": [
        "# testDF1[testDF1['year_id'] <= 2022].groupby([testDF1['Country/Province'] == 'USD'])['confirmed'].sum().plot(kind=\"bar\")"
      ]
    },
    {
      "cell_type": "code",
      "execution_count": 35,
      "metadata": {
        "id": "16py71wlUFfb"
      },
      "outputs": [],
      "source": [
        "# # Displaying total confirmed positive of Covid-19 in US under 2021\n",
        "\n",
        "# DataUS[DataUS['year_id'] <= 2022].groupby(\"province_state\")[\"confirmed\"].sum().plot(kind=\"bar\")\n",
        "\n",
        "# # yearData[yearData['year_id'] <= 2021].groupby('province_state')['confirmed'].sum().plot(kind='bar')"
      ]
    },
    {
      "cell_type": "code",
      "execution_count": 36,
      "metadata": {
        "id": "XLeTWYzVUFfc"
      },
      "outputs": [],
      "source": [
        "# Detail of total confirmed positive of Covid-19 in US until period 2021\n",
        "\n",
        "# DataUS[DataUS[\"year_id\"] <= 2022].groupby(\"province_state\")[\"confirmed\"].sum()\n",
        "\n",
        "# yearData[yearData['year_id'] <= 2021].groupby('province_state')['confirmed'].sum()"
      ]
    },
    {
      "cell_type": "code",
      "execution_count": 37,
      "metadata": {
        "id": "hu4ATkPcUFfd"
      },
      "outputs": [],
      "source": [
        "# print(\"Total Data: \", DataUS[DataUS['year_id'] <= 2022]['confirmed'].sum())"
      ]
    },
    {
      "cell_type": "markdown",
      "metadata": {
        "id": "Ph9ZjUq_UFfh"
      },
      "source": [
        "# 2. Total penduduk United States yang meninggal sampai tahun 2022 karena virus Covid-19?"
      ]
    },
    {
      "cell_type": "code",
      "execution_count": 38,
      "metadata": {
        "id": "oxkL1NLUUFfj"
      },
      "outputs": [],
      "source": [
        "# Displaying total deaths Covid-19 case until 2021\n",
        "\n",
        "# DataUS[DataUS['year_id'] <= 2022].groupby(\"province_state\")[\"deaths\"].sum().plot(kind=\"bar\")"
      ]
    },
    {
      "cell_type": "code",
      "execution_count": 39,
      "metadata": {
        "id": "QmZT_2UcUFfk"
      },
      "outputs": [],
      "source": [
        "# Summary of total deaths Covid-19 case until 2021\n",
        "\n",
        "# DataUS[DataUS['year_id'] <= 2022].groupby(\"province_state\")[\"deaths\"].sum()"
      ]
    },
    {
      "cell_type": "code",
      "execution_count": 40,
      "metadata": {
        "id": "-_iue0VGUFfl"
      },
      "outputs": [],
      "source": [
        "# print(\"Total Data : \", DataUS[DataUS['year_id'] <= 2022]['deaths'].sum())"
      ]
    },
    {
      "cell_type": "markdown",
      "metadata": {
        "id": "e_ldVXIgUFfm"
      },
      "source": [
        "# 3. Kota mana saja di United States sajakah yang menjadi top 5 pandemi Covid-19?"
      ]
    },
    {
      "cell_type": "code",
      "execution_count": 41,
      "metadata": {
        "id": "dH_41Y4KUFfn"
      },
      "outputs": [],
      "source": [
        "# Displaying top 5 in US of confirmed Covid-19\n",
        "\n",
        "# DataUS['confirmed'].value_counts().head(5).plot(kind=\"bar\")"
      ]
    },
    {
      "cell_type": "code",
      "execution_count": 42,
      "metadata": {
        "id": "Aj6_wJRtUFfo"
      },
      "outputs": [],
      "source": [
        "# Summary of total top 5 confirmed in US\n",
        "\n",
        "# DataUS[\"province_state\"].value_counts().head(5)"
      ]
    },
    {
      "cell_type": "markdown",
      "metadata": {
        "id": "4ZliYtGtUFfp"
      },
      "source": [
        "# 4. Total penduduk United States yang berhasil sembuh dari Covid-19 sampai dengan tahun 2022?"
      ]
    },
    {
      "cell_type": "code",
      "execution_count": 43,
      "metadata": {
        "id": "UWTyGMbjUFfq"
      },
      "outputs": [],
      "source": [
        "# Displaying total number of survivor Covid-19\n",
        "\n",
        "# DataUS[DataUS['year_id'] <= 2022].groupby(\"province_state\")[\"survive\"].sum().plot(kind=\"bar\")"
      ]
    },
    {
      "cell_type": "code",
      "execution_count": 44,
      "metadata": {
        "id": "nFk8ORnsUFfr"
      },
      "outputs": [],
      "source": [
        "# Summary of total survivor Covid-19 overall\n",
        "\n",
        "# DataUS[DataUS['year_id'] <= 2022].groupby(\"province_state\")[\"survive\"].sum()"
      ]
    },
    {
      "cell_type": "code",
      "execution_count": 45,
      "metadata": {
        "id": "Iv6hYVrIUFfs"
      },
      "outputs": [],
      "source": [
        "# print(\"Total Data : \", DataUS[DataUS['year_id'] <= 2022]['survive'].sum())"
      ]
    },
    {
      "cell_type": "markdown",
      "metadata": {
        "id": "ZMkQQaoaUFfu"
      },
      "source": [
        "## Conclusions, Assumptions, Overall Analysis\n",
        "\n"
      ]
    },
    {
      "cell_type": "markdown",
      "metadata": {
        "id": "pllaX93OUFfu"
      },
      "source": [
        "Based on the data obtained, here are some conclusions\n",
        "1. The total population in the US that is positive for Covid-19 during 2022 is 369861801 people\n",
        "2. A total of 5039247 died due to Covid-19 until 2022\n",
        "3. Texas City, US is the fifth city with the highest number of Covid-19 cases\n",
        "4. The population who successfully recovered from Covid-19 cases was 364822554 people"
      ]
    }
  ],
  "metadata": {
    "colab": {
      "provenance": []
    },
    "kernelspec": {
      "display_name": "Python 3",
      "language": "python",
      "name": "python3"
    },
    "language_info": {
      "codemirror_mode": {
        "name": "ipython",
        "version": 3
      },
      "file_extension": ".py",
      "mimetype": "text/x-python",
      "name": "python",
      "nbconvert_exporter": "python",
      "pygments_lexer": "ipython3",
      "version": "3.8.4"
    },
    "orig_nbformat": 4,
    "vscode": {
      "interpreter": {
        "hash": "f1d84ef95e6b3140fac2756f01c561393c9e2beb61a624e5de7a07bd06698279"
      }
    }
  },
  "nbformat": 4,
  "nbformat_minor": 0
}
