{
  "nbformat": 4,
  "nbformat_minor": 0,
  "metadata": {
    "colab": {
      "provenance": [],
      "toc_visible": true
    },
    "kernelspec": {
      "name": "python3",
      "display_name": "Python 3"
    },
    "language_info": {
      "name": "python"
    }
  },
  "cells": [
    {
      "cell_type": "markdown",
      "source": [
        "# Graded Challenge 2\n",
        "\n",
        "---\n",
        "\n"
      ],
      "metadata": {
        "id": "pzxWqcPFl9mY"
      }
    },
    {
      "cell_type": "markdown",
      "source": [
        "- Andik Al Fauzi - FTDS-RMT-018"
      ],
      "metadata": {
        "id": "Mryr9g85mHMb"
      }
    },
    {
      "cell_type": "markdown",
      "source": [
        "# SQL Query to get data from Big Query\n",
        "\n",
        "---\n",
        "\n"
      ],
      "metadata": {
        "id": "BHGFl3Ca-HsN"
      }
    },
    {
      "cell_type": "code",
      "execution_count": 88,
      "metadata": {
        "id": "wmXXdvKu-DLS"
      },
      "outputs": [],
      "source": [
        "# Load Data from Google Big Query\n",
        "\n",
        "# SELECT report_date,load_time, load_type, load_weight, dropoff_site FROM bigquery-public-data.austin_waste.waste_and_diversion\n",
        "# WHERE report_date BETWEEN '2021-01-01' AND '2021-12-31'"
      ]
    },
    {
      "cell_type": "markdown",
      "source": [
        "# Data Preparation\n",
        "\n",
        "---\n",
        "\n"
      ],
      "metadata": {
        "id": "NtmPC6VDrS4m"
      }
    },
    {
      "cell_type": "code",
      "source": [
        "# Importing Library\n",
        "\n",
        "import pandas as pd\n",
        "import numpy as np\n",
        "from numpy import percentile\n",
        "import matplotlib.pyplot as plt\n",
        "import scipy.stats as stats\n",
        "import seaborn as sns\n",
        "import statistics"
      ],
      "metadata": {
        "id": "WU-hrkTj-Ona"
      },
      "execution_count": 154,
      "outputs": []
    },
    {
      "cell_type": "code",
      "source": [
        "# Load Data CSV\n",
        "\n",
        "df = pd.read_csv('/content/h8dsft_P0W2_Andik_Al_Fauzi.csv')"
      ],
      "metadata": {
        "id": "ZgIbhWm0FfIW"
      },
      "execution_count": 90,
      "outputs": []
    },
    {
      "cell_type": "code",
      "source": [
        "# Create a copy data\n",
        "# Reason : make sure the original data is untouchable\n",
        "\n",
        "dfCopy = df.copy()"
      ],
      "metadata": {
        "id": "Lc1NcYw6LGOW"
      },
      "execution_count": 91,
      "outputs": []
    },
    {
      "cell_type": "code",
      "source": [
        "# show 10 row of data\n",
        "\n",
        "dfCopy.head()"
      ],
      "metadata": {
        "colab": {
          "base_uri": "https://localhost:8080/",
          "height": 206
        },
        "id": "p4LsNULzFtVm",
        "outputId": "fd5bed23-fb39-45a4-8333-7133049b4328"
      },
      "execution_count": 92,
      "outputs": [
        {
          "output_type": "execute_result",
          "data": {
            "text/plain": [
              "  report_date                       load_time load_type  load_weight  \\\n",
              "0  2021-07-08  2021-07-08 12:00:00.000000 UTC     TIRES       2260.0   \n",
              "1  2021-07-08  2021-07-08 11:00:00.000000 UTC     TIRES       1260.0   \n",
              "2  2021-07-08  2021-07-08 03:00:00.000000 UTC     TIRES        800.0   \n",
              "3  2021-05-01  2021-05-01 12:29:00.000000 UTC     TIRES        760.0   \n",
              "4  2021-07-03  2021-07-03 12:09:00.000000 UTC     TIRES       1400.0   \n",
              "\n",
              "  dropoff_site  \n",
              "0          MRF  \n",
              "1          MRF  \n",
              "2          MRF  \n",
              "3          MRF  \n",
              "4          MRF  "
            ],
            "text/html": [
              "\n",
              "  <div id=\"df-a79d52d0-dedc-4b46-9f87-f85480fb9e33\">\n",
              "    <div class=\"colab-df-container\">\n",
              "      <div>\n",
              "<style scoped>\n",
              "    .dataframe tbody tr th:only-of-type {\n",
              "        vertical-align: middle;\n",
              "    }\n",
              "\n",
              "    .dataframe tbody tr th {\n",
              "        vertical-align: top;\n",
              "    }\n",
              "\n",
              "    .dataframe thead th {\n",
              "        text-align: right;\n",
              "    }\n",
              "</style>\n",
              "<table border=\"1\" class=\"dataframe\">\n",
              "  <thead>\n",
              "    <tr style=\"text-align: right;\">\n",
              "      <th></th>\n",
              "      <th>report_date</th>\n",
              "      <th>load_time</th>\n",
              "      <th>load_type</th>\n",
              "      <th>load_weight</th>\n",
              "      <th>dropoff_site</th>\n",
              "    </tr>\n",
              "  </thead>\n",
              "  <tbody>\n",
              "    <tr>\n",
              "      <th>0</th>\n",
              "      <td>2021-07-08</td>\n",
              "      <td>2021-07-08 12:00:00.000000 UTC</td>\n",
              "      <td>TIRES</td>\n",
              "      <td>2260.0</td>\n",
              "      <td>MRF</td>\n",
              "    </tr>\n",
              "    <tr>\n",
              "      <th>1</th>\n",
              "      <td>2021-07-08</td>\n",
              "      <td>2021-07-08 11:00:00.000000 UTC</td>\n",
              "      <td>TIRES</td>\n",
              "      <td>1260.0</td>\n",
              "      <td>MRF</td>\n",
              "    </tr>\n",
              "    <tr>\n",
              "      <th>2</th>\n",
              "      <td>2021-07-08</td>\n",
              "      <td>2021-07-08 03:00:00.000000 UTC</td>\n",
              "      <td>TIRES</td>\n",
              "      <td>800.0</td>\n",
              "      <td>MRF</td>\n",
              "    </tr>\n",
              "    <tr>\n",
              "      <th>3</th>\n",
              "      <td>2021-05-01</td>\n",
              "      <td>2021-05-01 12:29:00.000000 UTC</td>\n",
              "      <td>TIRES</td>\n",
              "      <td>760.0</td>\n",
              "      <td>MRF</td>\n",
              "    </tr>\n",
              "    <tr>\n",
              "      <th>4</th>\n",
              "      <td>2021-07-03</td>\n",
              "      <td>2021-07-03 12:09:00.000000 UTC</td>\n",
              "      <td>TIRES</td>\n",
              "      <td>1400.0</td>\n",
              "      <td>MRF</td>\n",
              "    </tr>\n",
              "  </tbody>\n",
              "</table>\n",
              "</div>\n",
              "      <button class=\"colab-df-convert\" onclick=\"convertToInteractive('df-a79d52d0-dedc-4b46-9f87-f85480fb9e33')\"\n",
              "              title=\"Convert this dataframe to an interactive table.\"\n",
              "              style=\"display:none;\">\n",
              "        \n",
              "  <svg xmlns=\"http://www.w3.org/2000/svg\" height=\"24px\"viewBox=\"0 0 24 24\"\n",
              "       width=\"24px\">\n",
              "    <path d=\"M0 0h24v24H0V0z\" fill=\"none\"/>\n",
              "    <path d=\"M18.56 5.44l.94 2.06.94-2.06 2.06-.94-2.06-.94-.94-2.06-.94 2.06-2.06.94zm-11 1L8.5 8.5l.94-2.06 2.06-.94-2.06-.94L8.5 2.5l-.94 2.06-2.06.94zm10 10l.94 2.06.94-2.06 2.06-.94-2.06-.94-.94-2.06-.94 2.06-2.06.94z\"/><path d=\"M17.41 7.96l-1.37-1.37c-.4-.4-.92-.59-1.43-.59-.52 0-1.04.2-1.43.59L10.3 9.45l-7.72 7.72c-.78.78-.78 2.05 0 2.83L4 21.41c.39.39.9.59 1.41.59.51 0 1.02-.2 1.41-.59l7.78-7.78 2.81-2.81c.8-.78.8-2.07 0-2.86zM5.41 20L4 18.59l7.72-7.72 1.47 1.35L5.41 20z\"/>\n",
              "  </svg>\n",
              "      </button>\n",
              "      \n",
              "  <style>\n",
              "    .colab-df-container {\n",
              "      display:flex;\n",
              "      flex-wrap:wrap;\n",
              "      gap: 12px;\n",
              "    }\n",
              "\n",
              "    .colab-df-convert {\n",
              "      background-color: #E8F0FE;\n",
              "      border: none;\n",
              "      border-radius: 50%;\n",
              "      cursor: pointer;\n",
              "      display: none;\n",
              "      fill: #1967D2;\n",
              "      height: 32px;\n",
              "      padding: 0 0 0 0;\n",
              "      width: 32px;\n",
              "    }\n",
              "\n",
              "    .colab-df-convert:hover {\n",
              "      background-color: #E2EBFA;\n",
              "      box-shadow: 0px 1px 2px rgba(60, 64, 67, 0.3), 0px 1px 3px 1px rgba(60, 64, 67, 0.15);\n",
              "      fill: #174EA6;\n",
              "    }\n",
              "\n",
              "    [theme=dark] .colab-df-convert {\n",
              "      background-color: #3B4455;\n",
              "      fill: #D2E3FC;\n",
              "    }\n",
              "\n",
              "    [theme=dark] .colab-df-convert:hover {\n",
              "      background-color: #434B5C;\n",
              "      box-shadow: 0px 1px 3px 1px rgba(0, 0, 0, 0.15);\n",
              "      filter: drop-shadow(0px 1px 2px rgba(0, 0, 0, 0.3));\n",
              "      fill: #FFFFFF;\n",
              "    }\n",
              "  </style>\n",
              "\n",
              "      <script>\n",
              "        const buttonEl =\n",
              "          document.querySelector('#df-a79d52d0-dedc-4b46-9f87-f85480fb9e33 button.colab-df-convert');\n",
              "        buttonEl.style.display =\n",
              "          google.colab.kernel.accessAllowed ? 'block' : 'none';\n",
              "\n",
              "        async function convertToInteractive(key) {\n",
              "          const element = document.querySelector('#df-a79d52d0-dedc-4b46-9f87-f85480fb9e33');\n",
              "          const dataTable =\n",
              "            await google.colab.kernel.invokeFunction('convertToInteractive',\n",
              "                                                     [key], {});\n",
              "          if (!dataTable) return;\n",
              "\n",
              "          const docLinkHtml = 'Like what you see? Visit the ' +\n",
              "            '<a target=\"_blank\" href=https://colab.research.google.com/notebooks/data_table.ipynb>data table notebook</a>'\n",
              "            + ' to learn more about interactive tables.';\n",
              "          element.innerHTML = '';\n",
              "          dataTable['output_type'] = 'display_data';\n",
              "          await google.colab.output.renderOutput(dataTable, element);\n",
              "          const docLink = document.createElement('div');\n",
              "          docLink.innerHTML = docLinkHtml;\n",
              "          element.appendChild(docLink);\n",
              "        }\n",
              "      </script>\n",
              "    </div>\n",
              "  </div>\n",
              "  "
            ]
          },
          "metadata": {},
          "execution_count": 92
        }
      ]
    },
    {
      "cell_type": "code",
      "source": [
        "# Cek row & column data\n",
        "\n",
        "dfCopy.shape"
      ],
      "metadata": {
        "colab": {
          "base_uri": "https://localhost:8080/"
        },
        "id": "RV4EMjpNF5Ai",
        "outputId": "34db10ec-d60c-46ec-9634-3b35807904c4"
      },
      "execution_count": 93,
      "outputs": [
        {
          "output_type": "execute_result",
          "data": {
            "text/plain": [
              "(26157, 5)"
            ]
          },
          "metadata": {},
          "execution_count": 93
        }
      ]
    },
    {
      "cell_type": "code",
      "source": [
        "# Cek data \n",
        "\n",
        "dfCopy.describe()"
      ],
      "metadata": {
        "colab": {
          "base_uri": "https://localhost:8080/",
          "height": 300
        },
        "id": "KrLMymttIJRI",
        "outputId": "ac7ea0a2-0221-41fd-a52e-f5909fc8c042"
      },
      "execution_count": 94,
      "outputs": [
        {
          "output_type": "execute_result",
          "data": {
            "text/plain": [
              "         load_weight\n",
              "count   25109.000000\n",
              "mean    12227.136307\n",
              "std      7135.059565\n",
              "min         0.000000\n",
              "25%      7060.000000\n",
              "50%     11300.000000\n",
              "75%     16380.000000\n",
              "max    245540.000000"
            ],
            "text/html": [
              "\n",
              "  <div id=\"df-a276b1c2-1594-4b78-94c0-afa1b5007933\">\n",
              "    <div class=\"colab-df-container\">\n",
              "      <div>\n",
              "<style scoped>\n",
              "    .dataframe tbody tr th:only-of-type {\n",
              "        vertical-align: middle;\n",
              "    }\n",
              "\n",
              "    .dataframe tbody tr th {\n",
              "        vertical-align: top;\n",
              "    }\n",
              "\n",
              "    .dataframe thead th {\n",
              "        text-align: right;\n",
              "    }\n",
              "</style>\n",
              "<table border=\"1\" class=\"dataframe\">\n",
              "  <thead>\n",
              "    <tr style=\"text-align: right;\">\n",
              "      <th></th>\n",
              "      <th>load_weight</th>\n",
              "    </tr>\n",
              "  </thead>\n",
              "  <tbody>\n",
              "    <tr>\n",
              "      <th>count</th>\n",
              "      <td>25109.000000</td>\n",
              "    </tr>\n",
              "    <tr>\n",
              "      <th>mean</th>\n",
              "      <td>12227.136307</td>\n",
              "    </tr>\n",
              "    <tr>\n",
              "      <th>std</th>\n",
              "      <td>7135.059565</td>\n",
              "    </tr>\n",
              "    <tr>\n",
              "      <th>min</th>\n",
              "      <td>0.000000</td>\n",
              "    </tr>\n",
              "    <tr>\n",
              "      <th>25%</th>\n",
              "      <td>7060.000000</td>\n",
              "    </tr>\n",
              "    <tr>\n",
              "      <th>50%</th>\n",
              "      <td>11300.000000</td>\n",
              "    </tr>\n",
              "    <tr>\n",
              "      <th>75%</th>\n",
              "      <td>16380.000000</td>\n",
              "    </tr>\n",
              "    <tr>\n",
              "      <th>max</th>\n",
              "      <td>245540.000000</td>\n",
              "    </tr>\n",
              "  </tbody>\n",
              "</table>\n",
              "</div>\n",
              "      <button class=\"colab-df-convert\" onclick=\"convertToInteractive('df-a276b1c2-1594-4b78-94c0-afa1b5007933')\"\n",
              "              title=\"Convert this dataframe to an interactive table.\"\n",
              "              style=\"display:none;\">\n",
              "        \n",
              "  <svg xmlns=\"http://www.w3.org/2000/svg\" height=\"24px\"viewBox=\"0 0 24 24\"\n",
              "       width=\"24px\">\n",
              "    <path d=\"M0 0h24v24H0V0z\" fill=\"none\"/>\n",
              "    <path d=\"M18.56 5.44l.94 2.06.94-2.06 2.06-.94-2.06-.94-.94-2.06-.94 2.06-2.06.94zm-11 1L8.5 8.5l.94-2.06 2.06-.94-2.06-.94L8.5 2.5l-.94 2.06-2.06.94zm10 10l.94 2.06.94-2.06 2.06-.94-2.06-.94-.94-2.06-.94 2.06-2.06.94z\"/><path d=\"M17.41 7.96l-1.37-1.37c-.4-.4-.92-.59-1.43-.59-.52 0-1.04.2-1.43.59L10.3 9.45l-7.72 7.72c-.78.78-.78 2.05 0 2.83L4 21.41c.39.39.9.59 1.41.59.51 0 1.02-.2 1.41-.59l7.78-7.78 2.81-2.81c.8-.78.8-2.07 0-2.86zM5.41 20L4 18.59l7.72-7.72 1.47 1.35L5.41 20z\"/>\n",
              "  </svg>\n",
              "      </button>\n",
              "      \n",
              "  <style>\n",
              "    .colab-df-container {\n",
              "      display:flex;\n",
              "      flex-wrap:wrap;\n",
              "      gap: 12px;\n",
              "    }\n",
              "\n",
              "    .colab-df-convert {\n",
              "      background-color: #E8F0FE;\n",
              "      border: none;\n",
              "      border-radius: 50%;\n",
              "      cursor: pointer;\n",
              "      display: none;\n",
              "      fill: #1967D2;\n",
              "      height: 32px;\n",
              "      padding: 0 0 0 0;\n",
              "      width: 32px;\n",
              "    }\n",
              "\n",
              "    .colab-df-convert:hover {\n",
              "      background-color: #E2EBFA;\n",
              "      box-shadow: 0px 1px 2px rgba(60, 64, 67, 0.3), 0px 1px 3px 1px rgba(60, 64, 67, 0.15);\n",
              "      fill: #174EA6;\n",
              "    }\n",
              "\n",
              "    [theme=dark] .colab-df-convert {\n",
              "      background-color: #3B4455;\n",
              "      fill: #D2E3FC;\n",
              "    }\n",
              "\n",
              "    [theme=dark] .colab-df-convert:hover {\n",
              "      background-color: #434B5C;\n",
              "      box-shadow: 0px 1px 3px 1px rgba(0, 0, 0, 0.15);\n",
              "      filter: drop-shadow(0px 1px 2px rgba(0, 0, 0, 0.3));\n",
              "      fill: #FFFFFF;\n",
              "    }\n",
              "  </style>\n",
              "\n",
              "      <script>\n",
              "        const buttonEl =\n",
              "          document.querySelector('#df-a276b1c2-1594-4b78-94c0-afa1b5007933 button.colab-df-convert');\n",
              "        buttonEl.style.display =\n",
              "          google.colab.kernel.accessAllowed ? 'block' : 'none';\n",
              "\n",
              "        async function convertToInteractive(key) {\n",
              "          const element = document.querySelector('#df-a276b1c2-1594-4b78-94c0-afa1b5007933');\n",
              "          const dataTable =\n",
              "            await google.colab.kernel.invokeFunction('convertToInteractive',\n",
              "                                                     [key], {});\n",
              "          if (!dataTable) return;\n",
              "\n",
              "          const docLinkHtml = 'Like what you see? Visit the ' +\n",
              "            '<a target=\"_blank\" href=https://colab.research.google.com/notebooks/data_table.ipynb>data table notebook</a>'\n",
              "            + ' to learn more about interactive tables.';\n",
              "          element.innerHTML = '';\n",
              "          dataTable['output_type'] = 'display_data';\n",
              "          await google.colab.output.renderOutput(dataTable, element);\n",
              "          const docLink = document.createElement('div');\n",
              "          docLink.innerHTML = docLinkHtml;\n",
              "          element.appendChild(docLink);\n",
              "        }\n",
              "      </script>\n",
              "    </div>\n",
              "  </div>\n",
              "  "
            ]
          },
          "metadata": {},
          "execution_count": 94
        }
      ]
    },
    {
      "cell_type": "code",
      "source": [
        "# Cek data type\n",
        "\n",
        "dfCopy.info()"
      ],
      "metadata": {
        "colab": {
          "base_uri": "https://localhost:8080/"
        },
        "id": "hVSAq2JiF8E9",
        "outputId": "2daf6824-4a97-42f7-f5e1-9821c5a161db"
      },
      "execution_count": 95,
      "outputs": [
        {
          "output_type": "stream",
          "name": "stdout",
          "text": [
            "<class 'pandas.core.frame.DataFrame'>\n",
            "RangeIndex: 26157 entries, 0 to 26156\n",
            "Data columns (total 5 columns):\n",
            " #   Column        Non-Null Count  Dtype  \n",
            "---  ------        --------------  -----  \n",
            " 0   report_date   26157 non-null  object \n",
            " 1   load_time     26157 non-null  object \n",
            " 2   load_type     26157 non-null  object \n",
            " 3   load_weight   25109 non-null  float64\n",
            " 4   dropoff_site  26157 non-null  object \n",
            "dtypes: float64(1), object(4)\n",
            "memory usage: 1021.9+ KB\n"
          ]
        }
      ]
    },
    {
      "cell_type": "code",
      "source": [
        "# Convert kolom report_date to datetime\n",
        "\n",
        "dfCopy['report_date'] = pd.to_datetime(dfCopy['report_date'])\n",
        "\n",
        "# Inserting new date format\n",
        "# reason : karena jika pakai kolom lama maka ada beberapa internal error jika dipanggil variable nya untuk kemudian di plot\n",
        "\n",
        "dfCopy['date'] = dfCopy['report_date'].dt.date\n",
        "\n",
        "# Convert kolom load_weight to float\n",
        "dfCopy['load_weight'] = dfCopy['load_weight'].astype(float)"
      ],
      "metadata": {
        "id": "CSYv6gQc4UU5"
      },
      "execution_count": 96,
      "outputs": []
    },
    {
      "cell_type": "code",
      "source": [
        "# Drop column load_time & report_time because it's unnecessary\n",
        "\n",
        "dfCopy.drop(['load_time'], axis=1, inplace=True)\n",
        "dfCopy.drop(['report_date'], axis=1, inplace=True)"
      ],
      "metadata": {
        "id": "zOg0s2XfFZPC"
      },
      "execution_count": 97,
      "outputs": []
    },
    {
      "cell_type": "code",
      "source": [
        "# Cek status convert & drop\n",
        "\n",
        "dfCopy.info()"
      ],
      "metadata": {
        "colab": {
          "base_uri": "https://localhost:8080/"
        },
        "id": "kw-Jzi5B46wJ",
        "outputId": "12bbd0f9-9ff5-4bc9-a264-4d7a9087c011"
      },
      "execution_count": 98,
      "outputs": [
        {
          "output_type": "stream",
          "name": "stdout",
          "text": [
            "<class 'pandas.core.frame.DataFrame'>\n",
            "RangeIndex: 26157 entries, 0 to 26156\n",
            "Data columns (total 4 columns):\n",
            " #   Column        Non-Null Count  Dtype  \n",
            "---  ------        --------------  -----  \n",
            " 0   load_type     26157 non-null  object \n",
            " 1   load_weight   25109 non-null  float64\n",
            " 2   dropoff_site  26157 non-null  object \n",
            " 3   date          26157 non-null  object \n",
            "dtypes: float64(1), object(3)\n",
            "memory usage: 817.5+ KB\n"
          ]
        }
      ]
    },
    {
      "cell_type": "markdown",
      "source": [
        "note : there was a missing value at the column `load_weight`"
      ],
      "metadata": {
        "id": "GmexJkPvMl7l"
      }
    },
    {
      "cell_type": "code",
      "source": [
        "# Cek maximal date from `report_date` column\n",
        "\n",
        "dfCopy['date'].max()"
      ],
      "metadata": {
        "colab": {
          "base_uri": "https://localhost:8080/"
        },
        "id": "Nq8LUluNGAHS",
        "outputId": "a4a9108d-faaf-45c3-dcc5-ea476c57c125"
      },
      "execution_count": 99,
      "outputs": [
        {
          "output_type": "execute_result",
          "data": {
            "text/plain": [
              "datetime.date(2021, 7, 9)"
            ]
          },
          "metadata": {},
          "execution_count": 99
        }
      ]
    },
    {
      "cell_type": "markdown",
      "source": [
        "note : check the data whether it is in accordance with what is informed in the Assignment (max data on July 09, 2021)."
      ],
      "metadata": {
        "id": "5xKUqnn0jqjP"
      }
    },
    {
      "cell_type": "code",
      "source": [
        "# Cek total data null\n",
        "\n",
        "dfCopy.isnull().sum()"
      ],
      "metadata": {
        "colab": {
          "base_uri": "https://localhost:8080/"
        },
        "id": "b1WnRn8lLSAc",
        "outputId": "d422575b-7e61-495d-976d-383b761c4846"
      },
      "execution_count": 100,
      "outputs": [
        {
          "output_type": "execute_result",
          "data": {
            "text/plain": [
              "load_type          0\n",
              "load_weight     1048\n",
              "dropoff_site       0\n",
              "date               0\n",
              "dtype: int64"
            ]
          },
          "metadata": {},
          "execution_count": 100
        }
      ]
    },
    {
      "cell_type": "markdown",
      "source": [
        "In the `load_weight` column there are 1048 missing value rows"
      ],
      "metadata": {
        "id": "Al62L9xasKoo"
      }
    },
    {
      "cell_type": "markdown",
      "source": [
        "# Problem 1.1 Handle Missing Value\n",
        "\n",
        "---\n",
        "\n"
      ],
      "metadata": {
        "id": "l9jKbNKwfF0F"
      }
    },
    {
      "cell_type": "code",
      "source": [
        "# Insert Missing Value in load_weight with mean\n",
        "# Reason : Karena kemungkinan missing value tersebut dapat diisi dengan rata-rata sampah yang diangkut pada setiap sitenya\n",
        "\n",
        "dfCopy.fillna(dfCopy['load_weight'].mean(), inplace=True)"
      ],
      "metadata": {
        "id": "DDlKSuD4PV7i"
      },
      "execution_count": 101,
      "outputs": []
    },
    {
      "cell_type": "code",
      "source": [
        "# Cek data null yang sudah diinsert\n",
        "\n",
        "dfCopy.isnull().sum()"
      ],
      "metadata": {
        "colab": {
          "base_uri": "https://localhost:8080/"
        },
        "id": "YPTdq0DsPuYq",
        "outputId": "b75a09fc-428f-44a1-aeed-de57c685bb4f"
      },
      "execution_count": 102,
      "outputs": [
        {
          "output_type": "execute_result",
          "data": {
            "text/plain": [
              "load_type       0\n",
              "load_weight     0\n",
              "dropoff_site    0\n",
              "date            0\n",
              "dtype: int64"
            ]
          },
          "metadata": {},
          "execution_count": 102
        }
      ]
    },
    {
      "cell_type": "markdown",
      "source": [
        "Note: replacing null data has been successful by entering the mean value of the `load_weight` column."
      ],
      "metadata": {
        "id": "HsmMPFMgjWr2"
      }
    },
    {
      "cell_type": "markdown",
      "source": [
        "# Problem 1.2.1 : Melihat rentang waktu pengambilan data\n",
        "\n",
        "---\n",
        "\n"
      ],
      "metadata": {
        "id": "pJ1a_4rDjI0W"
      }
    },
    {
      "cell_type": "code",
      "source": [
        "# Cek total data\n",
        "\n",
        "dfCopy['date'].max() - dfCopy['date'].min()"
      ],
      "metadata": {
        "colab": {
          "base_uri": "https://localhost:8080/"
        },
        "id": "kTdib4dofvro",
        "outputId": "680bb48c-f67b-4149-b99a-27dead3f4957"
      },
      "execution_count": 103,
      "outputs": [
        {
          "output_type": "execute_result",
          "data": {
            "text/plain": [
              "datetime.timedelta(days=189)"
            ]
          },
          "metadata": {},
          "execution_count": 103
        }
      ]
    },
    {
      "cell_type": "markdown",
      "source": [
        "note : There are 189 day of range data"
      ],
      "metadata": {
        "id": "ZNNcoH3Rv8Gf"
      }
    },
    {
      "cell_type": "markdown",
      "source": [
        "# Problem 1.2.2 : Ada apa saja tipe load sampah di kota Austin berdasarkan data\n",
        "\n",
        "---\n",
        "\n"
      ],
      "metadata": {
        "id": "_dcWgNgj51i6"
      }
    },
    {
      "cell_type": "code",
      "source": [
        "# Cek Unique Data kolom load_type\n",
        "\n",
        "dfCopy.load_type.unique()"
      ],
      "metadata": {
        "colab": {
          "base_uri": "https://localhost:8080/"
        },
        "id": "4WLuwy1Lij71",
        "outputId": "8a3b02a3-8a63-4883-8ad8-6b2b18d56fc2"
      },
      "execution_count": 104,
      "outputs": [
        {
          "output_type": "execute_result",
          "data": {
            "text/plain": [
              "array(['TIRES', 'RECYCLING - SINGLE STREAM', 'SWEEPING', 'BRUSH',\n",
              "       'GARBAGE COLLECTIONS', 'YARD TRIMMING', 'BULK', 'ORGANICS',\n",
              "       'DEAD ANIMAL', 'MIXED LITTER', 'LITTER', 'RECYCLED METAL',\n",
              "       'CONTAMINATED RECYCLING', 'CONTAMINATED ORGANICS'], dtype=object)"
            ]
          },
          "metadata": {},
          "execution_count": 104
        }
      ]
    },
    {
      "cell_type": "code",
      "source": [
        "# Cek unique di kolom dropoff_site\n",
        "\n",
        "dfCopy.dropoff_site.unique()"
      ],
      "metadata": {
        "colab": {
          "base_uri": "https://localhost:8080/"
        },
        "id": "q8PBleOl5m3e",
        "outputId": "79806030-831b-4c42-f8cb-3dbc0dfd1991"
      },
      "execution_count": 105,
      "outputs": [
        {
          "output_type": "execute_result",
          "data": {
            "text/plain": [
              "array(['MRF', 'TDS - MRF', 'ONION CREEK', 'PARK CENTER', 'HORNSBY BEND',\n",
              "       'TDS LANDFILL', 'GREAT NORTHERN', 'ORGANICS BY GOSH',\n",
              "       'BALCONES RECYCLING', 'ON ROUTE HIGH DUMP',\n",
              "       'AUSTIN IRON AND METAL', 'PARK BEND', 'BALCONES WOODS',\n",
              "       'STEINER LANDFILL', 'WESTFIELD', 'ST. EDWARDS',\n",
              "       'AUSTIN WOOD RECYCLING', 'WILCAB'], dtype=object)"
            ]
          },
          "metadata": {},
          "execution_count": 105
        }
      ]
    },
    {
      "cell_type": "code",
      "source": [
        "# Cek Total Data di masing-masing load_type\n",
        "\n",
        "dfCopy['load_type'].value_counts()"
      ],
      "metadata": {
        "colab": {
          "base_uri": "https://localhost:8080/"
        },
        "id": "7vRXEiC3jdUX",
        "outputId": "1e5aa92e-8625-49a2-916e-1564f6b7d0c2"
      },
      "execution_count": 106,
      "outputs": [
        {
          "output_type": "execute_result",
          "data": {
            "text/plain": [
              "GARBAGE COLLECTIONS          8242\n",
              "RECYCLING - SINGLE STREAM    6760\n",
              "ORGANICS                     5763\n",
              "BULK                         1594\n",
              "BRUSH                        1517\n",
              "SWEEPING                     1390\n",
              "MIXED LITTER                  329\n",
              "TIRES                         175\n",
              "DEAD ANIMAL                   150\n",
              "YARD TRIMMING                 137\n",
              "RECYCLED METAL                 57\n",
              "LITTER                         41\n",
              "CONTAMINATED RECYCLING          1\n",
              "CONTAMINATED ORGANICS           1\n",
              "Name: load_type, dtype: int64"
            ]
          },
          "metadata": {},
          "execution_count": 106
        }
      ]
    },
    {
      "cell_type": "markdown",
      "source": [
        "Note: there are 14 types of waste in landfills in the country of Austin and the most common is `GARBAGE COLLECTIONS`"
      ],
      "metadata": {
        "id": "lPjqNofT6e-_"
      }
    },
    {
      "cell_type": "markdown",
      "source": [
        "# Problem 1.2.3 : Mengetahui tempat pembuangan sampah ada dimana saja\n",
        "\n",
        "---\n",
        "\n"
      ],
      "metadata": {
        "id": "6oPkj7VC6uEV"
      }
    },
    {
      "cell_type": "code",
      "source": [
        "# Check Total Data in dropoff_site column\n",
        "\n",
        "dfCopy['dropoff_site'].value_counts()"
      ],
      "metadata": {
        "colab": {
          "base_uri": "https://localhost:8080/"
        },
        "id": "ipBLIms56Pgl",
        "outputId": "b1cda976-a1fd-469a-fb66-bc97a2516ee5"
      },
      "execution_count": 107,
      "outputs": [
        {
          "output_type": "execute_result",
          "data": {
            "text/plain": [
              "TDS LANDFILL             10694\n",
              "ORGANICS BY GOSH          5755\n",
              "BALCONES RECYCLING        3837\n",
              "TDS - MRF                 2948\n",
              "HORNSBY BEND              1655\n",
              "ONION CREEK                813\n",
              "MRF                        168\n",
              "ON ROUTE HIGH DUMP          81\n",
              "PARK CENTER                 75\n",
              "GREAT NORTHERN              70\n",
              "AUSTIN IRON AND METAL       50\n",
              "PARK BEND                    4\n",
              "AUSTIN WOOD RECYCLING        2\n",
              "BALCONES WOODS               1\n",
              "STEINER LANDFILL             1\n",
              "WESTFIELD                    1\n",
              "ST. EDWARDS                  1\n",
              "WILCAB                       1\n",
              "Name: dropoff_site, dtype: int64"
            ]
          },
          "metadata": {},
          "execution_count": 107
        }
      ]
    },
    {
      "cell_type": "markdown",
      "source": [
        "Note: there are 18 waste sites that exist in landfills in the country of Austin."
      ],
      "metadata": {
        "id": "UBfSTciI6khC"
      }
    },
    {
      "cell_type": "markdown",
      "source": [
        "# Problem 1.3 : Central Tendency untuk Beginning Insight\n",
        "\n",
        "---\n",
        "\n"
      ],
      "metadata": {
        "id": "uMxTmqSEa7dD"
      }
    },
    {
      "cell_type": "code",
      "source": [
        "# Cek data maximal di load_weight\n",
        "\n",
        "dfCopy['load_weight'].max()"
      ],
      "metadata": {
        "colab": {
          "base_uri": "https://localhost:8080/"
        },
        "id": "GicFSa-8zGaV",
        "outputId": "642ee3b0-1f97-4fb8-9175-a2233ddeea1b"
      },
      "execution_count": 108,
      "outputs": [
        {
          "output_type": "execute_result",
          "data": {
            "text/plain": [
              "245540.0"
            ]
          },
          "metadata": {},
          "execution_count": 108
        }
      ]
    },
    {
      "cell_type": "code",
      "source": [
        "# Cek data minimal di load_weight\n",
        "\n",
        "dfCopy['load_weight'].min()"
      ],
      "metadata": {
        "colab": {
          "base_uri": "https://localhost:8080/"
        },
        "id": "1j36ZYra1Bp-",
        "outputId": "55023075-79bf-4c40-b6cb-6db32f3a21ee"
      },
      "execution_count": 109,
      "outputs": [
        {
          "output_type": "execute_result",
          "data": {
            "text/plain": [
              "0.0"
            ]
          },
          "metadata": {},
          "execution_count": 109
        }
      ]
    },
    {
      "cell_type": "code",
      "source": [
        "# Nilai Mean kolom dropoff_site & load_weight\n",
        "\n",
        "dfCopy.groupby(dfCopy['dropoff_site'], sort=True)['load_weight'].mean()"
      ],
      "metadata": {
        "id": "44DB4h7Na3Qa",
        "colab": {
          "base_uri": "https://localhost:8080/"
        },
        "outputId": "f6936772-5254-40c9-d9c6-7351220ac8d2"
      },
      "execution_count": 110,
      "outputs": [
        {
          "output_type": "execute_result",
          "data": {
            "text/plain": [
              "dropoff_site\n",
              "AUSTIN IRON AND METAL      451.200000\n",
              "AUSTIN WOOD RECYCLING     4050.000000\n",
              "BALCONES RECYCLING        9464.652072\n",
              "BALCONES WOODS            8460.000000\n",
              "GREAT NORTHERN           12820.810338\n",
              "HORNSBY BEND              6638.792392\n",
              "MRF                       1799.982143\n",
              "ON ROUTE HIGH DUMP       12252.939342\n",
              "ONION CREEK              12227.136307\n",
              "ORGANICS BY GOSH         11819.476266\n",
              "PARK BEND                13385.000000\n",
              "PARK CENTER              12227.136307\n",
              "ST. EDWARDS              12227.136307\n",
              "STEINER LANDFILL           780.000000\n",
              "TDS - MRF                 9872.550882\n",
              "TDS LANDFILL             15168.581817\n",
              "WESTFIELD                16020.000000\n",
              "WILCAB                   12227.136307\n",
              "Name: load_weight, dtype: float64"
            ]
          },
          "metadata": {},
          "execution_count": 110
        }
      ]
    },
    {
      "cell_type": "markdown",
      "source": [
        "Note: the following is the mean data in each landfill site"
      ],
      "metadata": {
        "id": "0OpemH_oIfMs"
      }
    },
    {
      "cell_type": "code",
      "source": [
        "# Median Data dropoff_site & load_weight column\n",
        "\n",
        "dfCopy.groupby(dfCopy['dropoff_site'], sort=True)['load_weight'].median()"
      ],
      "metadata": {
        "colab": {
          "base_uri": "https://localhost:8080/"
        },
        "id": "ggujsmsByocM",
        "outputId": "bfd4cf00-c485-45cf-9005-e3f51f47d4f2"
      },
      "execution_count": 111,
      "outputs": [
        {
          "output_type": "execute_result",
          "data": {
            "text/plain": [
              "dropoff_site\n",
              "AUSTIN IRON AND METAL      400.000000\n",
              "AUSTIN WOOD RECYCLING     4050.000000\n",
              "BALCONES RECYCLING        9840.000000\n",
              "BALCONES WOODS            8460.000000\n",
              "GREAT NORTHERN           12227.136307\n",
              "HORNSBY BEND              6400.000000\n",
              "MRF                       1360.000000\n",
              "ON ROUTE HIGH DUMP       12227.136307\n",
              "ONION CREEK              12227.136307\n",
              "ORGANICS BY GOSH         11920.000000\n",
              "PARK BEND                12330.000000\n",
              "PARK CENTER              12227.136307\n",
              "ST. EDWARDS              12227.136307\n",
              "STEINER LANDFILL           780.000000\n",
              "TDS - MRF                10330.000000\n",
              "TDS LANDFILL             14920.000000\n",
              "WESTFIELD                16020.000000\n",
              "WILCAB                   12227.136307\n",
              "Name: load_weight, dtype: float64"
            ]
          },
          "metadata": {},
          "execution_count": 111
        }
      ]
    },
    {
      "cell_type": "markdown",
      "source": [
        "Note: the following is the median data at each landfill in the city of Austin"
      ],
      "metadata": {
        "id": "OqbbJfiFIqbo"
      }
    },
    {
      "cell_type": "code",
      "source": [
        "# Mencari Nilai Modus di kolom dropoff_site\n",
        "\n",
        "dfCopy['dropoff_site'].mode()"
      ],
      "metadata": {
        "id": "V48M4vwNcPU5",
        "colab": {
          "base_uri": "https://localhost:8080/"
        },
        "outputId": "6374d0c5-982b-4f50-f3ad-2f0c40077289"
      },
      "execution_count": 112,
      "outputs": [
        {
          "output_type": "execute_result",
          "data": {
            "text/plain": [
              "0    TDS LANDFILL\n",
              "dtype: object"
            ]
          },
          "metadata": {},
          "execution_count": 112
        }
      ]
    },
    {
      "cell_type": "markdown",
      "source": [
        "Note: The most selected waste disposal site is TDS LANDFILL."
      ],
      "metadata": {
        "id": "M982qi8MgzVN"
      }
    },
    {
      "cell_type": "code",
      "source": [
        "# Preparation Data for Analyze\n",
        "\n",
        "dfCopy.groupby(dfCopy['dropoff_site'], sort=True)['load_weight'].apply(pd.Series.mode).to_frame()"
      ],
      "metadata": {
        "colab": {
          "base_uri": "https://localhost:8080/",
          "height": 896
        },
        "id": "zhxNE8e7pfm5",
        "outputId": "4d4d1fc1-5278-402c-f9f3-f6f32ef582d6"
      },
      "execution_count": 113,
      "outputs": [
        {
          "output_type": "execute_result",
          "data": {
            "text/plain": [
              "                          load_weight\n",
              "dropoff_site                         \n",
              "AUSTIN IRON AND METAL 0    260.000000\n",
              "                      1    320.000000\n",
              "                      2    520.000000\n",
              "AUSTIN WOOD RECYCLING 0   2340.000000\n",
              "                      1   5760.000000\n",
              "BALCONES RECYCLING    0  11880.000000\n",
              "BALCONES WOODS        0   8460.000000\n",
              "GREAT NORTHERN        0  12227.136307\n",
              "HORNSBY BEND          0   5500.000000\n",
              "MRF                   0    960.000000\n",
              "ON ROUTE HIGH DUMP    0  12227.136307\n",
              "ONION CREEK           0  12227.136307\n",
              "ORGANICS BY GOSH      0  14580.000000\n",
              "PARK BEND             0   8480.000000\n",
              "                      1   8960.000000\n",
              "                      2  15700.000000\n",
              "                      3  20400.000000\n",
              "PARK CENTER           0  12227.136307\n",
              "ST. EDWARDS           0  12227.136307\n",
              "STEINER LANDFILL      0    780.000000\n",
              "TDS - MRF             0  10360.000000\n",
              "TDS LANDFILL          0     20.000000\n",
              "                      1     60.000000\n",
              "                      2  12020.000000\n",
              "WESTFIELD             0  16020.000000\n",
              "WILCAB                0  12227.136307"
            ],
            "text/html": [
              "\n",
              "  <div id=\"df-3c18f343-966c-4560-93ce-e214c0456385\">\n",
              "    <div class=\"colab-df-container\">\n",
              "      <div>\n",
              "<style scoped>\n",
              "    .dataframe tbody tr th:only-of-type {\n",
              "        vertical-align: middle;\n",
              "    }\n",
              "\n",
              "    .dataframe tbody tr th {\n",
              "        vertical-align: top;\n",
              "    }\n",
              "\n",
              "    .dataframe thead th {\n",
              "        text-align: right;\n",
              "    }\n",
              "</style>\n",
              "<table border=\"1\" class=\"dataframe\">\n",
              "  <thead>\n",
              "    <tr style=\"text-align: right;\">\n",
              "      <th></th>\n",
              "      <th></th>\n",
              "      <th>load_weight</th>\n",
              "    </tr>\n",
              "    <tr>\n",
              "      <th>dropoff_site</th>\n",
              "      <th></th>\n",
              "      <th></th>\n",
              "    </tr>\n",
              "  </thead>\n",
              "  <tbody>\n",
              "    <tr>\n",
              "      <th rowspan=\"3\" valign=\"top\">AUSTIN IRON AND METAL</th>\n",
              "      <th>0</th>\n",
              "      <td>260.000000</td>\n",
              "    </tr>\n",
              "    <tr>\n",
              "      <th>1</th>\n",
              "      <td>320.000000</td>\n",
              "    </tr>\n",
              "    <tr>\n",
              "      <th>2</th>\n",
              "      <td>520.000000</td>\n",
              "    </tr>\n",
              "    <tr>\n",
              "      <th rowspan=\"2\" valign=\"top\">AUSTIN WOOD RECYCLING</th>\n",
              "      <th>0</th>\n",
              "      <td>2340.000000</td>\n",
              "    </tr>\n",
              "    <tr>\n",
              "      <th>1</th>\n",
              "      <td>5760.000000</td>\n",
              "    </tr>\n",
              "    <tr>\n",
              "      <th>BALCONES RECYCLING</th>\n",
              "      <th>0</th>\n",
              "      <td>11880.000000</td>\n",
              "    </tr>\n",
              "    <tr>\n",
              "      <th>BALCONES WOODS</th>\n",
              "      <th>0</th>\n",
              "      <td>8460.000000</td>\n",
              "    </tr>\n",
              "    <tr>\n",
              "      <th>GREAT NORTHERN</th>\n",
              "      <th>0</th>\n",
              "      <td>12227.136307</td>\n",
              "    </tr>\n",
              "    <tr>\n",
              "      <th>HORNSBY BEND</th>\n",
              "      <th>0</th>\n",
              "      <td>5500.000000</td>\n",
              "    </tr>\n",
              "    <tr>\n",
              "      <th>MRF</th>\n",
              "      <th>0</th>\n",
              "      <td>960.000000</td>\n",
              "    </tr>\n",
              "    <tr>\n",
              "      <th>ON ROUTE HIGH DUMP</th>\n",
              "      <th>0</th>\n",
              "      <td>12227.136307</td>\n",
              "    </tr>\n",
              "    <tr>\n",
              "      <th>ONION CREEK</th>\n",
              "      <th>0</th>\n",
              "      <td>12227.136307</td>\n",
              "    </tr>\n",
              "    <tr>\n",
              "      <th>ORGANICS BY GOSH</th>\n",
              "      <th>0</th>\n",
              "      <td>14580.000000</td>\n",
              "    </tr>\n",
              "    <tr>\n",
              "      <th rowspan=\"4\" valign=\"top\">PARK BEND</th>\n",
              "      <th>0</th>\n",
              "      <td>8480.000000</td>\n",
              "    </tr>\n",
              "    <tr>\n",
              "      <th>1</th>\n",
              "      <td>8960.000000</td>\n",
              "    </tr>\n",
              "    <tr>\n",
              "      <th>2</th>\n",
              "      <td>15700.000000</td>\n",
              "    </tr>\n",
              "    <tr>\n",
              "      <th>3</th>\n",
              "      <td>20400.000000</td>\n",
              "    </tr>\n",
              "    <tr>\n",
              "      <th>PARK CENTER</th>\n",
              "      <th>0</th>\n",
              "      <td>12227.136307</td>\n",
              "    </tr>\n",
              "    <tr>\n",
              "      <th>ST. EDWARDS</th>\n",
              "      <th>0</th>\n",
              "      <td>12227.136307</td>\n",
              "    </tr>\n",
              "    <tr>\n",
              "      <th>STEINER LANDFILL</th>\n",
              "      <th>0</th>\n",
              "      <td>780.000000</td>\n",
              "    </tr>\n",
              "    <tr>\n",
              "      <th>TDS - MRF</th>\n",
              "      <th>0</th>\n",
              "      <td>10360.000000</td>\n",
              "    </tr>\n",
              "    <tr>\n",
              "      <th rowspan=\"3\" valign=\"top\">TDS LANDFILL</th>\n",
              "      <th>0</th>\n",
              "      <td>20.000000</td>\n",
              "    </tr>\n",
              "    <tr>\n",
              "      <th>1</th>\n",
              "      <td>60.000000</td>\n",
              "    </tr>\n",
              "    <tr>\n",
              "      <th>2</th>\n",
              "      <td>12020.000000</td>\n",
              "    </tr>\n",
              "    <tr>\n",
              "      <th>WESTFIELD</th>\n",
              "      <th>0</th>\n",
              "      <td>16020.000000</td>\n",
              "    </tr>\n",
              "    <tr>\n",
              "      <th>WILCAB</th>\n",
              "      <th>0</th>\n",
              "      <td>12227.136307</td>\n",
              "    </tr>\n",
              "  </tbody>\n",
              "</table>\n",
              "</div>\n",
              "      <button class=\"colab-df-convert\" onclick=\"convertToInteractive('df-3c18f343-966c-4560-93ce-e214c0456385')\"\n",
              "              title=\"Convert this dataframe to an interactive table.\"\n",
              "              style=\"display:none;\">\n",
              "        \n",
              "  <svg xmlns=\"http://www.w3.org/2000/svg\" height=\"24px\"viewBox=\"0 0 24 24\"\n",
              "       width=\"24px\">\n",
              "    <path d=\"M0 0h24v24H0V0z\" fill=\"none\"/>\n",
              "    <path d=\"M18.56 5.44l.94 2.06.94-2.06 2.06-.94-2.06-.94-.94-2.06-.94 2.06-2.06.94zm-11 1L8.5 8.5l.94-2.06 2.06-.94-2.06-.94L8.5 2.5l-.94 2.06-2.06.94zm10 10l.94 2.06.94-2.06 2.06-.94-2.06-.94-.94-2.06-.94 2.06-2.06.94z\"/><path d=\"M17.41 7.96l-1.37-1.37c-.4-.4-.92-.59-1.43-.59-.52 0-1.04.2-1.43.59L10.3 9.45l-7.72 7.72c-.78.78-.78 2.05 0 2.83L4 21.41c.39.39.9.59 1.41.59.51 0 1.02-.2 1.41-.59l7.78-7.78 2.81-2.81c.8-.78.8-2.07 0-2.86zM5.41 20L4 18.59l7.72-7.72 1.47 1.35L5.41 20z\"/>\n",
              "  </svg>\n",
              "      </button>\n",
              "      \n",
              "  <style>\n",
              "    .colab-df-container {\n",
              "      display:flex;\n",
              "      flex-wrap:wrap;\n",
              "      gap: 12px;\n",
              "    }\n",
              "\n",
              "    .colab-df-convert {\n",
              "      background-color: #E8F0FE;\n",
              "      border: none;\n",
              "      border-radius: 50%;\n",
              "      cursor: pointer;\n",
              "      display: none;\n",
              "      fill: #1967D2;\n",
              "      height: 32px;\n",
              "      padding: 0 0 0 0;\n",
              "      width: 32px;\n",
              "    }\n",
              "\n",
              "    .colab-df-convert:hover {\n",
              "      background-color: #E2EBFA;\n",
              "      box-shadow: 0px 1px 2px rgba(60, 64, 67, 0.3), 0px 1px 3px 1px rgba(60, 64, 67, 0.15);\n",
              "      fill: #174EA6;\n",
              "    }\n",
              "\n",
              "    [theme=dark] .colab-df-convert {\n",
              "      background-color: #3B4455;\n",
              "      fill: #D2E3FC;\n",
              "    }\n",
              "\n",
              "    [theme=dark] .colab-df-convert:hover {\n",
              "      background-color: #434B5C;\n",
              "      box-shadow: 0px 1px 3px 1px rgba(0, 0, 0, 0.15);\n",
              "      filter: drop-shadow(0px 1px 2px rgba(0, 0, 0, 0.3));\n",
              "      fill: #FFFFFF;\n",
              "    }\n",
              "  </style>\n",
              "\n",
              "      <script>\n",
              "        const buttonEl =\n",
              "          document.querySelector('#df-3c18f343-966c-4560-93ce-e214c0456385 button.colab-df-convert');\n",
              "        buttonEl.style.display =\n",
              "          google.colab.kernel.accessAllowed ? 'block' : 'none';\n",
              "\n",
              "        async function convertToInteractive(key) {\n",
              "          const element = document.querySelector('#df-3c18f343-966c-4560-93ce-e214c0456385');\n",
              "          const dataTable =\n",
              "            await google.colab.kernel.invokeFunction('convertToInteractive',\n",
              "                                                     [key], {});\n",
              "          if (!dataTable) return;\n",
              "\n",
              "          const docLinkHtml = 'Like what you see? Visit the ' +\n",
              "            '<a target=\"_blank\" href=https://colab.research.google.com/notebooks/data_table.ipynb>data table notebook</a>'\n",
              "            + ' to learn more about interactive tables.';\n",
              "          element.innerHTML = '';\n",
              "          dataTable['output_type'] = 'display_data';\n",
              "          await google.colab.output.renderOutput(dataTable, element);\n",
              "          const docLink = document.createElement('div');\n",
              "          docLink.innerHTML = docLinkHtml;\n",
              "          element.appendChild(docLink);\n",
              "        }\n",
              "      </script>\n",
              "    </div>\n",
              "  </div>\n",
              "  "
            ]
          },
          "metadata": {},
          "execution_count": 113
        }
      ]
    },
    {
      "cell_type": "code",
      "source": [
        "# Lihat banyak data berdasarkan tipe sampah\n",
        "\n",
        "dfCopy['load_type'].value_counts()"
      ],
      "metadata": {
        "colab": {
          "base_uri": "https://localhost:8080/"
        },
        "id": "QUP9pMR230jr",
        "outputId": "7c4d1946-8abc-4999-df08-fe4504a01792"
      },
      "execution_count": 114,
      "outputs": [
        {
          "output_type": "execute_result",
          "data": {
            "text/plain": [
              "GARBAGE COLLECTIONS          8242\n",
              "RECYCLING - SINGLE STREAM    6760\n",
              "ORGANICS                     5763\n",
              "BULK                         1594\n",
              "BRUSH                        1517\n",
              "SWEEPING                     1390\n",
              "MIXED LITTER                  329\n",
              "TIRES                         175\n",
              "DEAD ANIMAL                   150\n",
              "YARD TRIMMING                 137\n",
              "RECYCLED METAL                 57\n",
              "LITTER                         41\n",
              "CONTAMINATED RECYCLING          1\n",
              "CONTAMINATED ORGANICS           1\n",
              "Name: load_type, dtype: int64"
            ]
          },
          "metadata": {},
          "execution_count": 114
        }
      ]
    },
    {
      "cell_type": "markdown",
      "source": [
        "Note : from the above waste types, the `RECYCLING - SINGLE STREAM` waste type will be selected for further analysis."
      ],
      "metadata": {
        "id": "2xO-4qo147Gy"
      }
    },
    {
      "cell_type": "code",
      "source": [
        "# Mengelompokan data berdasarkan `RECYCLING - SINGLE STREAM` di kolom `load_type`\n",
        "\n",
        "dfRecycle = dfCopy.loc[dfCopy['load_type'] == 'RECYCLING - SINGLE STREAM']\n",
        "dfRecycle"
      ],
      "metadata": {
        "colab": {
          "base_uri": "https://localhost:8080/",
          "height": 423
        },
        "id": "sMGOfA_W5GON",
        "outputId": "224617da-57a9-409c-e0a2-7516521ba408"
      },
      "execution_count": 115,
      "outputs": [
        {
          "output_type": "execute_result",
          "data": {
            "text/plain": [
              "                       load_type  load_weight        dropoff_site        date\n",
              "15     RECYCLING - SINGLE STREAM        700.0           TDS - MRF  2021-05-01\n",
              "16     RECYCLING - SINGLE STREAM        720.0           TDS - MRF  2021-06-12\n",
              "17     RECYCLING - SINGLE STREAM        300.0           TDS - MRF  2021-03-06\n",
              "1051   RECYCLING - SINGLE STREAM       3260.0  BALCONES RECYCLING  2021-02-11\n",
              "1052   RECYCLING - SINGLE STREAM       5300.0  BALCONES RECYCLING  2021-02-11\n",
              "...                          ...          ...                 ...         ...\n",
              "25989  RECYCLING - SINGLE STREAM       9220.0           TDS - MRF  2021-03-01\n",
              "25990  RECYCLING - SINGLE STREAM      11780.0           TDS - MRF  2021-03-01\n",
              "25991  RECYCLING - SINGLE STREAM       4180.0           TDS - MRF  2021-03-01\n",
              "25992  RECYCLING - SINGLE STREAM      15080.0           TDS - MRF  2021-03-01\n",
              "26112  RECYCLING - SINGLE STREAM       5320.0        TDS LANDFILL  2021-03-01\n",
              "\n",
              "[6760 rows x 4 columns]"
            ],
            "text/html": [
              "\n",
              "  <div id=\"df-dd4b77c1-51f8-4fb8-a1a4-ad1fd3d5c3e4\">\n",
              "    <div class=\"colab-df-container\">\n",
              "      <div>\n",
              "<style scoped>\n",
              "    .dataframe tbody tr th:only-of-type {\n",
              "        vertical-align: middle;\n",
              "    }\n",
              "\n",
              "    .dataframe tbody tr th {\n",
              "        vertical-align: top;\n",
              "    }\n",
              "\n",
              "    .dataframe thead th {\n",
              "        text-align: right;\n",
              "    }\n",
              "</style>\n",
              "<table border=\"1\" class=\"dataframe\">\n",
              "  <thead>\n",
              "    <tr style=\"text-align: right;\">\n",
              "      <th></th>\n",
              "      <th>load_type</th>\n",
              "      <th>load_weight</th>\n",
              "      <th>dropoff_site</th>\n",
              "      <th>date</th>\n",
              "    </tr>\n",
              "  </thead>\n",
              "  <tbody>\n",
              "    <tr>\n",
              "      <th>15</th>\n",
              "      <td>RECYCLING - SINGLE STREAM</td>\n",
              "      <td>700.0</td>\n",
              "      <td>TDS - MRF</td>\n",
              "      <td>2021-05-01</td>\n",
              "    </tr>\n",
              "    <tr>\n",
              "      <th>16</th>\n",
              "      <td>RECYCLING - SINGLE STREAM</td>\n",
              "      <td>720.0</td>\n",
              "      <td>TDS - MRF</td>\n",
              "      <td>2021-06-12</td>\n",
              "    </tr>\n",
              "    <tr>\n",
              "      <th>17</th>\n",
              "      <td>RECYCLING - SINGLE STREAM</td>\n",
              "      <td>300.0</td>\n",
              "      <td>TDS - MRF</td>\n",
              "      <td>2021-03-06</td>\n",
              "    </tr>\n",
              "    <tr>\n",
              "      <th>1051</th>\n",
              "      <td>RECYCLING - SINGLE STREAM</td>\n",
              "      <td>3260.0</td>\n",
              "      <td>BALCONES RECYCLING</td>\n",
              "      <td>2021-02-11</td>\n",
              "    </tr>\n",
              "    <tr>\n",
              "      <th>1052</th>\n",
              "      <td>RECYCLING - SINGLE STREAM</td>\n",
              "      <td>5300.0</td>\n",
              "      <td>BALCONES RECYCLING</td>\n",
              "      <td>2021-02-11</td>\n",
              "    </tr>\n",
              "    <tr>\n",
              "      <th>...</th>\n",
              "      <td>...</td>\n",
              "      <td>...</td>\n",
              "      <td>...</td>\n",
              "      <td>...</td>\n",
              "    </tr>\n",
              "    <tr>\n",
              "      <th>25989</th>\n",
              "      <td>RECYCLING - SINGLE STREAM</td>\n",
              "      <td>9220.0</td>\n",
              "      <td>TDS - MRF</td>\n",
              "      <td>2021-03-01</td>\n",
              "    </tr>\n",
              "    <tr>\n",
              "      <th>25990</th>\n",
              "      <td>RECYCLING - SINGLE STREAM</td>\n",
              "      <td>11780.0</td>\n",
              "      <td>TDS - MRF</td>\n",
              "      <td>2021-03-01</td>\n",
              "    </tr>\n",
              "    <tr>\n",
              "      <th>25991</th>\n",
              "      <td>RECYCLING - SINGLE STREAM</td>\n",
              "      <td>4180.0</td>\n",
              "      <td>TDS - MRF</td>\n",
              "      <td>2021-03-01</td>\n",
              "    </tr>\n",
              "    <tr>\n",
              "      <th>25992</th>\n",
              "      <td>RECYCLING - SINGLE STREAM</td>\n",
              "      <td>15080.0</td>\n",
              "      <td>TDS - MRF</td>\n",
              "      <td>2021-03-01</td>\n",
              "    </tr>\n",
              "    <tr>\n",
              "      <th>26112</th>\n",
              "      <td>RECYCLING - SINGLE STREAM</td>\n",
              "      <td>5320.0</td>\n",
              "      <td>TDS LANDFILL</td>\n",
              "      <td>2021-03-01</td>\n",
              "    </tr>\n",
              "  </tbody>\n",
              "</table>\n",
              "<p>6760 rows × 4 columns</p>\n",
              "</div>\n",
              "      <button class=\"colab-df-convert\" onclick=\"convertToInteractive('df-dd4b77c1-51f8-4fb8-a1a4-ad1fd3d5c3e4')\"\n",
              "              title=\"Convert this dataframe to an interactive table.\"\n",
              "              style=\"display:none;\">\n",
              "        \n",
              "  <svg xmlns=\"http://www.w3.org/2000/svg\" height=\"24px\"viewBox=\"0 0 24 24\"\n",
              "       width=\"24px\">\n",
              "    <path d=\"M0 0h24v24H0V0z\" fill=\"none\"/>\n",
              "    <path d=\"M18.56 5.44l.94 2.06.94-2.06 2.06-.94-2.06-.94-.94-2.06-.94 2.06-2.06.94zm-11 1L8.5 8.5l.94-2.06 2.06-.94-2.06-.94L8.5 2.5l-.94 2.06-2.06.94zm10 10l.94 2.06.94-2.06 2.06-.94-2.06-.94-.94-2.06-.94 2.06-2.06.94z\"/><path d=\"M17.41 7.96l-1.37-1.37c-.4-.4-.92-.59-1.43-.59-.52 0-1.04.2-1.43.59L10.3 9.45l-7.72 7.72c-.78.78-.78 2.05 0 2.83L4 21.41c.39.39.9.59 1.41.59.51 0 1.02-.2 1.41-.59l7.78-7.78 2.81-2.81c.8-.78.8-2.07 0-2.86zM5.41 20L4 18.59l7.72-7.72 1.47 1.35L5.41 20z\"/>\n",
              "  </svg>\n",
              "      </button>\n",
              "      \n",
              "  <style>\n",
              "    .colab-df-container {\n",
              "      display:flex;\n",
              "      flex-wrap:wrap;\n",
              "      gap: 12px;\n",
              "    }\n",
              "\n",
              "    .colab-df-convert {\n",
              "      background-color: #E8F0FE;\n",
              "      border: none;\n",
              "      border-radius: 50%;\n",
              "      cursor: pointer;\n",
              "      display: none;\n",
              "      fill: #1967D2;\n",
              "      height: 32px;\n",
              "      padding: 0 0 0 0;\n",
              "      width: 32px;\n",
              "    }\n",
              "\n",
              "    .colab-df-convert:hover {\n",
              "      background-color: #E2EBFA;\n",
              "      box-shadow: 0px 1px 2px rgba(60, 64, 67, 0.3), 0px 1px 3px 1px rgba(60, 64, 67, 0.15);\n",
              "      fill: #174EA6;\n",
              "    }\n",
              "\n",
              "    [theme=dark] .colab-df-convert {\n",
              "      background-color: #3B4455;\n",
              "      fill: #D2E3FC;\n",
              "    }\n",
              "\n",
              "    [theme=dark] .colab-df-convert:hover {\n",
              "      background-color: #434B5C;\n",
              "      box-shadow: 0px 1px 3px 1px rgba(0, 0, 0, 0.15);\n",
              "      filter: drop-shadow(0px 1px 2px rgba(0, 0, 0, 0.3));\n",
              "      fill: #FFFFFF;\n",
              "    }\n",
              "  </style>\n",
              "\n",
              "      <script>\n",
              "        const buttonEl =\n",
              "          document.querySelector('#df-dd4b77c1-51f8-4fb8-a1a4-ad1fd3d5c3e4 button.colab-df-convert');\n",
              "        buttonEl.style.display =\n",
              "          google.colab.kernel.accessAllowed ? 'block' : 'none';\n",
              "\n",
              "        async function convertToInteractive(key) {\n",
              "          const element = document.querySelector('#df-dd4b77c1-51f8-4fb8-a1a4-ad1fd3d5c3e4');\n",
              "          const dataTable =\n",
              "            await google.colab.kernel.invokeFunction('convertToInteractive',\n",
              "                                                     [key], {});\n",
              "          if (!dataTable) return;\n",
              "\n",
              "          const docLinkHtml = 'Like what you see? Visit the ' +\n",
              "            '<a target=\"_blank\" href=https://colab.research.google.com/notebooks/data_table.ipynb>data table notebook</a>'\n",
              "            + ' to learn more about interactive tables.';\n",
              "          element.innerHTML = '';\n",
              "          dataTable['output_type'] = 'display_data';\n",
              "          await google.colab.output.renderOutput(dataTable, element);\n",
              "          const docLink = document.createElement('div');\n",
              "          docLink.innerHTML = docLinkHtml;\n",
              "          element.appendChild(docLink);\n",
              "        }\n",
              "      </script>\n",
              "    </div>\n",
              "  </div>\n",
              "  "
            ]
          },
          "metadata": {},
          "execution_count": 115
        }
      ]
    },
    {
      "cell_type": "markdown",
      "source": [
        "note : there are 6760 rows of data where `load_type` = `RECYCLING - SINGLE STREAM`"
      ],
      "metadata": {
        "id": "EjFXkgDmwNKI"
      }
    },
    {
      "cell_type": "code",
      "source": [
        "# Mencari total data `RECYCLING - SINGLE STREAM` di masing-masing `dropoff_site`\n",
        "\n",
        "totalRecycle = dfRecycle.groupby(dfRecycle['dropoff_site'],sort=True)['load_weight'].sum()\n",
        "totalRecycle"
      ],
      "metadata": {
        "colab": {
          "base_uri": "https://localhost:8080/"
        },
        "id": "L_0mfb435jBK",
        "outputId": "eaf268e2-4ff2-45f1-cf22-7b0a15989aa1"
      },
      "execution_count": 116,
      "outputs": [
        {
          "output_type": "execute_result",
          "data": {
            "text/plain": [
              "dropoff_site\n",
              "AUSTIN WOOD RECYCLING        8100.0\n",
              "BALCONES RECYCLING       36315870.0\n",
              "BALCONES WOODS               8460.0\n",
              "TDS - MRF                28614260.0\n",
              "TDS LANDFILL                 7740.0\n",
              "Name: load_weight, dtype: float64"
            ]
          },
          "metadata": {},
          "execution_count": 116
        }
      ]
    },
    {
      "cell_type": "markdown",
      "source": [
        "Notes: `BALCONES RECYCLING` is the most places in processing `RECYCLING - SINGLE STREAM` type waste."
      ],
      "metadata": {
        "id": "YbuhNFTT52LU"
      }
    },
    {
      "cell_type": "markdown",
      "source": [
        "# Problem 1.4 : Pemilihan Site Pengolahan Sampah\n",
        "\n",
        "---\n",
        "\n"
      ],
      "metadata": {
        "id": "F9F2K3s44P0f"
      }
    },
    {
      "cell_type": "markdown",
      "source": [
        "Reason: because `BALCONES RECYCLING` site manages the most recycled waste of `RECYCLING - SINGLE STREAM`"
      ],
      "metadata": {
        "id": "FP3PLYPw4YxO"
      }
    },
    {
      "cell_type": "code",
      "source": [
        "# Fungsi untuk mengelompokan berdasarkan dropoff_site = BALCONES RECYCLING\n",
        "\n",
        "dfBalcones = dfCopy.loc[dfCopy['dropoff_site'] == 'BALCONES RECYCLING']\n",
        "dfBalcones"
      ],
      "metadata": {
        "id": "nvlxg1BWI8Pt",
        "colab": {
          "base_uri": "https://localhost:8080/",
          "height": 423
        },
        "outputId": "519a4dc7-fe86-47b4-eef7-45d2162143d2"
      },
      "execution_count": 117,
      "outputs": [
        {
          "output_type": "execute_result",
          "data": {
            "text/plain": [
              "                       load_type  load_weight        dropoff_site        date\n",
              "1051   RECYCLING - SINGLE STREAM       3260.0  BALCONES RECYCLING  2021-02-11\n",
              "1052   RECYCLING - SINGLE STREAM       5300.0  BALCONES RECYCLING  2021-02-11\n",
              "1053   RECYCLING - SINGLE STREAM       4880.0  BALCONES RECYCLING  2021-02-11\n",
              "1054   RECYCLING - SINGLE STREAM      12420.0  BALCONES RECYCLING  2021-02-11\n",
              "1055   RECYCLING - SINGLE STREAM      12280.0  BALCONES RECYCLING  2021-02-11\n",
              "...                          ...          ...                 ...         ...\n",
              "25911  RECYCLING - SINGLE STREAM      11640.0  BALCONES RECYCLING  2021-02-26\n",
              "25912  RECYCLING - SINGLE STREAM      11780.0  BALCONES RECYCLING  2021-02-26\n",
              "25913  RECYCLING - SINGLE STREAM       8520.0  BALCONES RECYCLING  2021-02-26\n",
              "25914  RECYCLING - SINGLE STREAM       6800.0  BALCONES RECYCLING  2021-02-26\n",
              "25915  RECYCLING - SINGLE STREAM      10860.0  BALCONES RECYCLING  2021-02-26\n",
              "\n",
              "[3837 rows x 4 columns]"
            ],
            "text/html": [
              "\n",
              "  <div id=\"df-ba012fee-891f-4c35-8453-b6e65dab0326\">\n",
              "    <div class=\"colab-df-container\">\n",
              "      <div>\n",
              "<style scoped>\n",
              "    .dataframe tbody tr th:only-of-type {\n",
              "        vertical-align: middle;\n",
              "    }\n",
              "\n",
              "    .dataframe tbody tr th {\n",
              "        vertical-align: top;\n",
              "    }\n",
              "\n",
              "    .dataframe thead th {\n",
              "        text-align: right;\n",
              "    }\n",
              "</style>\n",
              "<table border=\"1\" class=\"dataframe\">\n",
              "  <thead>\n",
              "    <tr style=\"text-align: right;\">\n",
              "      <th></th>\n",
              "      <th>load_type</th>\n",
              "      <th>load_weight</th>\n",
              "      <th>dropoff_site</th>\n",
              "      <th>date</th>\n",
              "    </tr>\n",
              "  </thead>\n",
              "  <tbody>\n",
              "    <tr>\n",
              "      <th>1051</th>\n",
              "      <td>RECYCLING - SINGLE STREAM</td>\n",
              "      <td>3260.0</td>\n",
              "      <td>BALCONES RECYCLING</td>\n",
              "      <td>2021-02-11</td>\n",
              "    </tr>\n",
              "    <tr>\n",
              "      <th>1052</th>\n",
              "      <td>RECYCLING - SINGLE STREAM</td>\n",
              "      <td>5300.0</td>\n",
              "      <td>BALCONES RECYCLING</td>\n",
              "      <td>2021-02-11</td>\n",
              "    </tr>\n",
              "    <tr>\n",
              "      <th>1053</th>\n",
              "      <td>RECYCLING - SINGLE STREAM</td>\n",
              "      <td>4880.0</td>\n",
              "      <td>BALCONES RECYCLING</td>\n",
              "      <td>2021-02-11</td>\n",
              "    </tr>\n",
              "    <tr>\n",
              "      <th>1054</th>\n",
              "      <td>RECYCLING - SINGLE STREAM</td>\n",
              "      <td>12420.0</td>\n",
              "      <td>BALCONES RECYCLING</td>\n",
              "      <td>2021-02-11</td>\n",
              "    </tr>\n",
              "    <tr>\n",
              "      <th>1055</th>\n",
              "      <td>RECYCLING - SINGLE STREAM</td>\n",
              "      <td>12280.0</td>\n",
              "      <td>BALCONES RECYCLING</td>\n",
              "      <td>2021-02-11</td>\n",
              "    </tr>\n",
              "    <tr>\n",
              "      <th>...</th>\n",
              "      <td>...</td>\n",
              "      <td>...</td>\n",
              "      <td>...</td>\n",
              "      <td>...</td>\n",
              "    </tr>\n",
              "    <tr>\n",
              "      <th>25911</th>\n",
              "      <td>RECYCLING - SINGLE STREAM</td>\n",
              "      <td>11640.0</td>\n",
              "      <td>BALCONES RECYCLING</td>\n",
              "      <td>2021-02-26</td>\n",
              "    </tr>\n",
              "    <tr>\n",
              "      <th>25912</th>\n",
              "      <td>RECYCLING - SINGLE STREAM</td>\n",
              "      <td>11780.0</td>\n",
              "      <td>BALCONES RECYCLING</td>\n",
              "      <td>2021-02-26</td>\n",
              "    </tr>\n",
              "    <tr>\n",
              "      <th>25913</th>\n",
              "      <td>RECYCLING - SINGLE STREAM</td>\n",
              "      <td>8520.0</td>\n",
              "      <td>BALCONES RECYCLING</td>\n",
              "      <td>2021-02-26</td>\n",
              "    </tr>\n",
              "    <tr>\n",
              "      <th>25914</th>\n",
              "      <td>RECYCLING - SINGLE STREAM</td>\n",
              "      <td>6800.0</td>\n",
              "      <td>BALCONES RECYCLING</td>\n",
              "      <td>2021-02-26</td>\n",
              "    </tr>\n",
              "    <tr>\n",
              "      <th>25915</th>\n",
              "      <td>RECYCLING - SINGLE STREAM</td>\n",
              "      <td>10860.0</td>\n",
              "      <td>BALCONES RECYCLING</td>\n",
              "      <td>2021-02-26</td>\n",
              "    </tr>\n",
              "  </tbody>\n",
              "</table>\n",
              "<p>3837 rows × 4 columns</p>\n",
              "</div>\n",
              "      <button class=\"colab-df-convert\" onclick=\"convertToInteractive('df-ba012fee-891f-4c35-8453-b6e65dab0326')\"\n",
              "              title=\"Convert this dataframe to an interactive table.\"\n",
              "              style=\"display:none;\">\n",
              "        \n",
              "  <svg xmlns=\"http://www.w3.org/2000/svg\" height=\"24px\"viewBox=\"0 0 24 24\"\n",
              "       width=\"24px\">\n",
              "    <path d=\"M0 0h24v24H0V0z\" fill=\"none\"/>\n",
              "    <path d=\"M18.56 5.44l.94 2.06.94-2.06 2.06-.94-2.06-.94-.94-2.06-.94 2.06-2.06.94zm-11 1L8.5 8.5l.94-2.06 2.06-.94-2.06-.94L8.5 2.5l-.94 2.06-2.06.94zm10 10l.94 2.06.94-2.06 2.06-.94-2.06-.94-.94-2.06-.94 2.06-2.06.94z\"/><path d=\"M17.41 7.96l-1.37-1.37c-.4-.4-.92-.59-1.43-.59-.52 0-1.04.2-1.43.59L10.3 9.45l-7.72 7.72c-.78.78-.78 2.05 0 2.83L4 21.41c.39.39.9.59 1.41.59.51 0 1.02-.2 1.41-.59l7.78-7.78 2.81-2.81c.8-.78.8-2.07 0-2.86zM5.41 20L4 18.59l7.72-7.72 1.47 1.35L5.41 20z\"/>\n",
              "  </svg>\n",
              "      </button>\n",
              "      \n",
              "  <style>\n",
              "    .colab-df-container {\n",
              "      display:flex;\n",
              "      flex-wrap:wrap;\n",
              "      gap: 12px;\n",
              "    }\n",
              "\n",
              "    .colab-df-convert {\n",
              "      background-color: #E8F0FE;\n",
              "      border: none;\n",
              "      border-radius: 50%;\n",
              "      cursor: pointer;\n",
              "      display: none;\n",
              "      fill: #1967D2;\n",
              "      height: 32px;\n",
              "      padding: 0 0 0 0;\n",
              "      width: 32px;\n",
              "    }\n",
              "\n",
              "    .colab-df-convert:hover {\n",
              "      background-color: #E2EBFA;\n",
              "      box-shadow: 0px 1px 2px rgba(60, 64, 67, 0.3), 0px 1px 3px 1px rgba(60, 64, 67, 0.15);\n",
              "      fill: #174EA6;\n",
              "    }\n",
              "\n",
              "    [theme=dark] .colab-df-convert {\n",
              "      background-color: #3B4455;\n",
              "      fill: #D2E3FC;\n",
              "    }\n",
              "\n",
              "    [theme=dark] .colab-df-convert:hover {\n",
              "      background-color: #434B5C;\n",
              "      box-shadow: 0px 1px 3px 1px rgba(0, 0, 0, 0.15);\n",
              "      filter: drop-shadow(0px 1px 2px rgba(0, 0, 0, 0.3));\n",
              "      fill: #FFFFFF;\n",
              "    }\n",
              "  </style>\n",
              "\n",
              "      <script>\n",
              "        const buttonEl =\n",
              "          document.querySelector('#df-ba012fee-891f-4c35-8453-b6e65dab0326 button.colab-df-convert');\n",
              "        buttonEl.style.display =\n",
              "          google.colab.kernel.accessAllowed ? 'block' : 'none';\n",
              "\n",
              "        async function convertToInteractive(key) {\n",
              "          const element = document.querySelector('#df-ba012fee-891f-4c35-8453-b6e65dab0326');\n",
              "          const dataTable =\n",
              "            await google.colab.kernel.invokeFunction('convertToInteractive',\n",
              "                                                     [key], {});\n",
              "          if (!dataTable) return;\n",
              "\n",
              "          const docLinkHtml = 'Like what you see? Visit the ' +\n",
              "            '<a target=\"_blank\" href=https://colab.research.google.com/notebooks/data_table.ipynb>data table notebook</a>'\n",
              "            + ' to learn more about interactive tables.';\n",
              "          element.innerHTML = '';\n",
              "          dataTable['output_type'] = 'display_data';\n",
              "          await google.colab.output.renderOutput(dataTable, element);\n",
              "          const docLink = document.createElement('div');\n",
              "          docLink.innerHTML = docLinkHtml;\n",
              "          element.appendChild(docLink);\n",
              "        }\n",
              "      </script>\n",
              "    </div>\n",
              "  </div>\n",
              "  "
            ]
          },
          "metadata": {},
          "execution_count": 117
        }
      ]
    },
    {
      "cell_type": "code",
      "source": [
        "sumBalcones = dfBalcones.value_counts().sum()\n",
        "sumBalcones"
      ],
      "metadata": {
        "colab": {
          "base_uri": "https://localhost:8080/"
        },
        "id": "LBcZQl34YbLy",
        "outputId": "775b30a4-053f-435a-b668-4d68daa0062b"
      },
      "execution_count": 118,
      "outputs": [
        {
          "output_type": "execute_result",
          "data": {
            "text/plain": [
              "3837"
            ]
          },
          "metadata": {},
          "execution_count": 118
        }
      ]
    },
    {
      "cell_type": "markdown",
      "source": [
        "Note : There are 3837 data at `BALCONES RECYCLING`"
      ],
      "metadata": {
        "id": "199ogjg1-s2e"
      }
    },
    {
      "cell_type": "code",
      "source": [
        "volRecycle = dfBalcones.groupby(dfBalcones['load_type'] == 'RECYCLING - SINGLE STREAM')['load_weight'].sum()\n",
        "volRecycle"
      ],
      "metadata": {
        "colab": {
          "base_uri": "https://localhost:8080/"
        },
        "id": "Pme4YBkl80or",
        "outputId": "bd3aedd5-9409-4f5c-9b22-413942324c1c"
      },
      "execution_count": 119,
      "outputs": [
        {
          "output_type": "execute_result",
          "data": {
            "text/plain": [
              "load_type\n",
              "True    36315870.0\n",
              "Name: load_weight, dtype: float64"
            ]
          },
          "metadata": {},
          "execution_count": 119
        }
      ]
    },
    {
      "cell_type": "markdown",
      "source": [
        "note: there are `36315870` volumes of waste of type `RECYCLING - SINGLE STREAM`"
      ],
      "metadata": {
        "id": "NJ_lM4JM9GZz"
      }
    },
    {
      "cell_type": "code",
      "source": [
        "sumRecycle = dfRecycle.value_counts().sum()\n",
        "sumRecycle"
      ],
      "metadata": {
        "colab": {
          "base_uri": "https://localhost:8080/"
        },
        "id": "IRwILqlEijhv",
        "outputId": "3dabde28-9c6a-44d6-efcc-17a4ffed42c4"
      },
      "execution_count": 120,
      "outputs": [
        {
          "output_type": "execute_result",
          "data": {
            "text/plain": [
              "6760"
            ]
          },
          "metadata": {},
          "execution_count": 120
        }
      ]
    },
    {
      "cell_type": "markdown",
      "source": [
        "Note : There are 6760 data at `RECYCLING - SINGLE STREAM`"
      ],
      "metadata": {
        "id": "cCje2a9xG-l1"
      }
    },
    {
      "cell_type": "code",
      "source": [
        "sumRecycle = sumBalcones/sumRecycle * 100\n",
        "print(sumRecycle, '%')"
      ],
      "metadata": {
        "colab": {
          "base_uri": "https://localhost:8080/"
        },
        "id": "Mf6xB22pi48z",
        "outputId": "6e719965-10c0-48bb-a16c-af786db92ddb"
      },
      "execution_count": 121,
      "outputs": [
        {
          "output_type": "stream",
          "name": "stdout",
          "text": [
            "56.760355029585796 %\n"
          ]
        }
      ]
    },
    {
      "cell_type": "markdown",
      "source": [
        "note: the total `RECYCLING - SINGLE STREAM` waste is processed at `BALCONES RECYCLING` by 56.760355029585796%"
      ],
      "metadata": {
        "id": "ywiH4EXQjVGT"
      }
    },
    {
      "cell_type": "code",
      "source": [
        "# Cek Missing Value di dfBalcones\n",
        "\n",
        "dfBalcones.isnull().sum()"
      ],
      "metadata": {
        "colab": {
          "base_uri": "https://localhost:8080/"
        },
        "id": "bzNMbjUPj0mF",
        "outputId": "51316a97-a514-4773-ee46-81181e733a9a"
      },
      "execution_count": 122,
      "outputs": [
        {
          "output_type": "execute_result",
          "data": {
            "text/plain": [
              "load_type       0\n",
              "load_weight     0\n",
              "dropoff_site    0\n",
              "date            0\n",
              "dtype: int64"
            ]
          },
          "metadata": {},
          "execution_count": 122
        }
      ]
    },
    {
      "cell_type": "code",
      "source": [
        "# Cek Missing Value di dfRecycle\n",
        "\n",
        "dfRecycle.isnull().sum()"
      ],
      "metadata": {
        "colab": {
          "base_uri": "https://localhost:8080/"
        },
        "id": "5muUfQ_z_I67",
        "outputId": "a36110db-9198-477b-ed79-b0cf57358e37"
      },
      "execution_count": 123,
      "outputs": [
        {
          "output_type": "execute_result",
          "data": {
            "text/plain": [
              "load_type       0\n",
              "load_weight     0\n",
              "dropoff_site    0\n",
              "date            0\n",
              "dtype: int64"
            ]
          },
          "metadata": {},
          "execution_count": 123
        }
      ]
    },
    {
      "cell_type": "markdown",
      "source": [
        "note : there are no missing value data"
      ],
      "metadata": {
        "id": "bOv8oZT1j--q"
      }
    },
    {
      "cell_type": "code",
      "source": [
        "# Get Z-Score\n",
        "\n",
        "dfRecycle['Z-Score'] = stats.zscore(dfRecycle['load_weight'])\n",
        "dfRecycle"
      ],
      "metadata": {
        "colab": {
          "base_uri": "https://localhost:8080/",
          "height": 527
        },
        "id": "MiAXjERjzIKr",
        "outputId": "1f1561f4-48d0-44dc-e87f-094ecc63d090"
      },
      "execution_count": 156,
      "outputs": [
        {
          "output_type": "stream",
          "name": "stderr",
          "text": [
            "<ipython-input-156-b5d940528132>:3: SettingWithCopyWarning: \n",
            "A value is trying to be set on a copy of a slice from a DataFrame.\n",
            "Try using .loc[row_indexer,col_indexer] = value instead\n",
            "\n",
            "See the caveats in the documentation: https://pandas.pydata.org/pandas-docs/stable/user_guide/indexing.html#returning-a-view-versus-a-copy\n",
            "  dfRecycle['Z-Score'] = stats.zscore(dfRecycle['load_weight'])\n"
          ]
        },
        {
          "output_type": "execute_result",
          "data": {
            "text/plain": [
              "                       load_type  load_weight        dropoff_site        date  \\\n",
              "15     RECYCLING - SINGLE STREAM        700.0           TDS - MRF  2021-05-01   \n",
              "16     RECYCLING - SINGLE STREAM        720.0           TDS - MRF  2021-06-12   \n",
              "17     RECYCLING - SINGLE STREAM        300.0           TDS - MRF  2021-03-06   \n",
              "1051   RECYCLING - SINGLE STREAM       3260.0  BALCONES RECYCLING  2021-02-11   \n",
              "1052   RECYCLING - SINGLE STREAM       5300.0  BALCONES RECYCLING  2021-02-11   \n",
              "...                          ...          ...                 ...         ...   \n",
              "25989  RECYCLING - SINGLE STREAM       9220.0           TDS - MRF  2021-03-01   \n",
              "25990  RECYCLING - SINGLE STREAM      11780.0           TDS - MRF  2021-03-01   \n",
              "25991  RECYCLING - SINGLE STREAM       4180.0           TDS - MRF  2021-03-01   \n",
              "25992  RECYCLING - SINGLE STREAM      15080.0           TDS - MRF  2021-03-01   \n",
              "26112  RECYCLING - SINGLE STREAM       5320.0        TDS LANDFILL  2021-03-01   \n",
              "\n",
              "        Z-Score  \n",
              "15    -2.272903  \n",
              "16    -2.267800  \n",
              "17    -2.374957  \n",
              "1051  -1.619758  \n",
              "1052  -1.099284  \n",
              "...         ...  \n",
              "25989 -0.099156  \n",
              "25990  0.553988  \n",
              "25991 -1.385034  \n",
              "25992  1.395932  \n",
              "26112 -1.094181  \n",
              "\n",
              "[6760 rows x 5 columns]"
            ],
            "text/html": [
              "\n",
              "  <div id=\"df-f46eecc4-59fb-43cb-a6b1-43d81eebf698\">\n",
              "    <div class=\"colab-df-container\">\n",
              "      <div>\n",
              "<style scoped>\n",
              "    .dataframe tbody tr th:only-of-type {\n",
              "        vertical-align: middle;\n",
              "    }\n",
              "\n",
              "    .dataframe tbody tr th {\n",
              "        vertical-align: top;\n",
              "    }\n",
              "\n",
              "    .dataframe thead th {\n",
              "        text-align: right;\n",
              "    }\n",
              "</style>\n",
              "<table border=\"1\" class=\"dataframe\">\n",
              "  <thead>\n",
              "    <tr style=\"text-align: right;\">\n",
              "      <th></th>\n",
              "      <th>load_type</th>\n",
              "      <th>load_weight</th>\n",
              "      <th>dropoff_site</th>\n",
              "      <th>date</th>\n",
              "      <th>Z-Score</th>\n",
              "    </tr>\n",
              "  </thead>\n",
              "  <tbody>\n",
              "    <tr>\n",
              "      <th>15</th>\n",
              "      <td>RECYCLING - SINGLE STREAM</td>\n",
              "      <td>700.0</td>\n",
              "      <td>TDS - MRF</td>\n",
              "      <td>2021-05-01</td>\n",
              "      <td>-2.272903</td>\n",
              "    </tr>\n",
              "    <tr>\n",
              "      <th>16</th>\n",
              "      <td>RECYCLING - SINGLE STREAM</td>\n",
              "      <td>720.0</td>\n",
              "      <td>TDS - MRF</td>\n",
              "      <td>2021-06-12</td>\n",
              "      <td>-2.267800</td>\n",
              "    </tr>\n",
              "    <tr>\n",
              "      <th>17</th>\n",
              "      <td>RECYCLING - SINGLE STREAM</td>\n",
              "      <td>300.0</td>\n",
              "      <td>TDS - MRF</td>\n",
              "      <td>2021-03-06</td>\n",
              "      <td>-2.374957</td>\n",
              "    </tr>\n",
              "    <tr>\n",
              "      <th>1051</th>\n",
              "      <td>RECYCLING - SINGLE STREAM</td>\n",
              "      <td>3260.0</td>\n",
              "      <td>BALCONES RECYCLING</td>\n",
              "      <td>2021-02-11</td>\n",
              "      <td>-1.619758</td>\n",
              "    </tr>\n",
              "    <tr>\n",
              "      <th>1052</th>\n",
              "      <td>RECYCLING - SINGLE STREAM</td>\n",
              "      <td>5300.0</td>\n",
              "      <td>BALCONES RECYCLING</td>\n",
              "      <td>2021-02-11</td>\n",
              "      <td>-1.099284</td>\n",
              "    </tr>\n",
              "    <tr>\n",
              "      <th>...</th>\n",
              "      <td>...</td>\n",
              "      <td>...</td>\n",
              "      <td>...</td>\n",
              "      <td>...</td>\n",
              "      <td>...</td>\n",
              "    </tr>\n",
              "    <tr>\n",
              "      <th>25989</th>\n",
              "      <td>RECYCLING - SINGLE STREAM</td>\n",
              "      <td>9220.0</td>\n",
              "      <td>TDS - MRF</td>\n",
              "      <td>2021-03-01</td>\n",
              "      <td>-0.099156</td>\n",
              "    </tr>\n",
              "    <tr>\n",
              "      <th>25990</th>\n",
              "      <td>RECYCLING - SINGLE STREAM</td>\n",
              "      <td>11780.0</td>\n",
              "      <td>TDS - MRF</td>\n",
              "      <td>2021-03-01</td>\n",
              "      <td>0.553988</td>\n",
              "    </tr>\n",
              "    <tr>\n",
              "      <th>25991</th>\n",
              "      <td>RECYCLING - SINGLE STREAM</td>\n",
              "      <td>4180.0</td>\n",
              "      <td>TDS - MRF</td>\n",
              "      <td>2021-03-01</td>\n",
              "      <td>-1.385034</td>\n",
              "    </tr>\n",
              "    <tr>\n",
              "      <th>25992</th>\n",
              "      <td>RECYCLING - SINGLE STREAM</td>\n",
              "      <td>15080.0</td>\n",
              "      <td>TDS - MRF</td>\n",
              "      <td>2021-03-01</td>\n",
              "      <td>1.395932</td>\n",
              "    </tr>\n",
              "    <tr>\n",
              "      <th>26112</th>\n",
              "      <td>RECYCLING - SINGLE STREAM</td>\n",
              "      <td>5320.0</td>\n",
              "      <td>TDS LANDFILL</td>\n",
              "      <td>2021-03-01</td>\n",
              "      <td>-1.094181</td>\n",
              "    </tr>\n",
              "  </tbody>\n",
              "</table>\n",
              "<p>6760 rows × 5 columns</p>\n",
              "</div>\n",
              "      <button class=\"colab-df-convert\" onclick=\"convertToInteractive('df-f46eecc4-59fb-43cb-a6b1-43d81eebf698')\"\n",
              "              title=\"Convert this dataframe to an interactive table.\"\n",
              "              style=\"display:none;\">\n",
              "        \n",
              "  <svg xmlns=\"http://www.w3.org/2000/svg\" height=\"24px\"viewBox=\"0 0 24 24\"\n",
              "       width=\"24px\">\n",
              "    <path d=\"M0 0h24v24H0V0z\" fill=\"none\"/>\n",
              "    <path d=\"M18.56 5.44l.94 2.06.94-2.06 2.06-.94-2.06-.94-.94-2.06-.94 2.06-2.06.94zm-11 1L8.5 8.5l.94-2.06 2.06-.94-2.06-.94L8.5 2.5l-.94 2.06-2.06.94zm10 10l.94 2.06.94-2.06 2.06-.94-2.06-.94-.94-2.06-.94 2.06-2.06.94z\"/><path d=\"M17.41 7.96l-1.37-1.37c-.4-.4-.92-.59-1.43-.59-.52 0-1.04.2-1.43.59L10.3 9.45l-7.72 7.72c-.78.78-.78 2.05 0 2.83L4 21.41c.39.39.9.59 1.41.59.51 0 1.02-.2 1.41-.59l7.78-7.78 2.81-2.81c.8-.78.8-2.07 0-2.86zM5.41 20L4 18.59l7.72-7.72 1.47 1.35L5.41 20z\"/>\n",
              "  </svg>\n",
              "      </button>\n",
              "      \n",
              "  <style>\n",
              "    .colab-df-container {\n",
              "      display:flex;\n",
              "      flex-wrap:wrap;\n",
              "      gap: 12px;\n",
              "    }\n",
              "\n",
              "    .colab-df-convert {\n",
              "      background-color: #E8F0FE;\n",
              "      border: none;\n",
              "      border-radius: 50%;\n",
              "      cursor: pointer;\n",
              "      display: none;\n",
              "      fill: #1967D2;\n",
              "      height: 32px;\n",
              "      padding: 0 0 0 0;\n",
              "      width: 32px;\n",
              "    }\n",
              "\n",
              "    .colab-df-convert:hover {\n",
              "      background-color: #E2EBFA;\n",
              "      box-shadow: 0px 1px 2px rgba(60, 64, 67, 0.3), 0px 1px 3px 1px rgba(60, 64, 67, 0.15);\n",
              "      fill: #174EA6;\n",
              "    }\n",
              "\n",
              "    [theme=dark] .colab-df-convert {\n",
              "      background-color: #3B4455;\n",
              "      fill: #D2E3FC;\n",
              "    }\n",
              "\n",
              "    [theme=dark] .colab-df-convert:hover {\n",
              "      background-color: #434B5C;\n",
              "      box-shadow: 0px 1px 3px 1px rgba(0, 0, 0, 0.15);\n",
              "      filter: drop-shadow(0px 1px 2px rgba(0, 0, 0, 0.3));\n",
              "      fill: #FFFFFF;\n",
              "    }\n",
              "  </style>\n",
              "\n",
              "      <script>\n",
              "        const buttonEl =\n",
              "          document.querySelector('#df-f46eecc4-59fb-43cb-a6b1-43d81eebf698 button.colab-df-convert');\n",
              "        buttonEl.style.display =\n",
              "          google.colab.kernel.accessAllowed ? 'block' : 'none';\n",
              "\n",
              "        async function convertToInteractive(key) {\n",
              "          const element = document.querySelector('#df-f46eecc4-59fb-43cb-a6b1-43d81eebf698');\n",
              "          const dataTable =\n",
              "            await google.colab.kernel.invokeFunction('convertToInteractive',\n",
              "                                                     [key], {});\n",
              "          if (!dataTable) return;\n",
              "\n",
              "          const docLinkHtml = 'Like what you see? Visit the ' +\n",
              "            '<a target=\"_blank\" href=https://colab.research.google.com/notebooks/data_table.ipynb>data table notebook</a>'\n",
              "            + ' to learn more about interactive tables.';\n",
              "          element.innerHTML = '';\n",
              "          dataTable['output_type'] = 'display_data';\n",
              "          await google.colab.output.renderOutput(dataTable, element);\n",
              "          const docLink = document.createElement('div');\n",
              "          docLink.innerHTML = docLinkHtml;\n",
              "          element.appendChild(docLink);\n",
              "        }\n",
              "      </script>\n",
              "    </div>\n",
              "  </div>\n",
              "  "
            ]
          },
          "metadata": {},
          "execution_count": 156
        }
      ]
    },
    {
      "cell_type": "markdown",
      "source": [
        "Note : berdasarkan dari Z-Score, kita dapat melihat tidak adanya outlier"
      ],
      "metadata": {
        "id": "dveqliojzthX"
      }
    },
    {
      "cell_type": "code",
      "source": [
        "# Cek distribusi data\n",
        "\n",
        "dfBalcones.plot.hist(title='BALCONES RECYCLING', color=\"blue\", bins=20)\n",
        "plt.axvline(dfRecycle['load_weight'].mean(), color='red', linestyle='dashed', linewidth=2)\n",
        "plt.axvline(dfRecycle['load_weight'].median(), color='black', linestyle='dashed', linewidth=2)\n",
        "plt.show()"
      ],
      "metadata": {
        "colab": {
          "base_uri": "https://localhost:8080/",
          "height": 281
        },
        "id": "6ccL_DSFkC5U",
        "outputId": "fbb4a98f-ffef-458a-8fdf-66d39cb8b81c"
      },
      "execution_count": 124,
      "outputs": [
        {
          "output_type": "display_data",
          "data": {
            "text/plain": [
              "<Figure size 432x288 with 1 Axes>"
            ],
            "image/png": "[encoded data removed]"
          },
          "metadata": {
            "needs_background": "light"
          }
        }
      ]
    },
    {
      "cell_type": "markdown",
      "source": [
        "Note: skewness is negative because the mean value < median"
      ],
      "metadata": {
        "id": "4RwzSjrMzSMT"
      }
    },
    {
      "cell_type": "code",
      "source": [
        "# Cek Skewness\n",
        "\n",
        "dfBalcones['load_weight'].skew()"
      ],
      "metadata": {
        "id": "CqIM4btylpso",
        "colab": {
          "base_uri": "https://localhost:8080/"
        },
        "outputId": "126b43e9-1b53-4c00-90d7-5a0d74c28708"
      },
      "execution_count": 125,
      "outputs": [
        {
          "output_type": "execute_result",
          "data": {
            "text/plain": [
              "0.10148179348246143"
            ]
          },
          "metadata": {},
          "execution_count": 125
        }
      ]
    },
    {
      "cell_type": "markdown",
      "source": [
        "Note : nilai skewness sebesar 0.10148179348246143 dan data masih dalam kondisi normal"
      ],
      "metadata": {
        "id": "OMou5yR1zbqa"
      }
    },
    {
      "cell_type": "markdown",
      "source": [
        "# Problem 1.5 : Check data Outlier\n",
        "\n",
        "---\n",
        "\n"
      ],
      "metadata": {
        "id": "vHQiHobo5M-j"
      }
    },
    {
      "cell_type": "markdown",
      "source": [
        "- Nilai Percentile dan Quartile dari data dfBalcones"
      ],
      "metadata": {
        "id": "2qKHfl6hXwvm"
      }
    },
    {
      "cell_type": "code",
      "source": [
        "# Define Function Percentile & Quartile \n",
        "\n",
        "quartBal = percentile(dfBalcones['load_weight'], [25, 50, 75])\n",
        "balcMin, balcMax = dfBalcones['load_weight'].min(), dfBalcones['load_weight'].max()\n",
        "\n",
        "QBal0 = quartBal[0]\n",
        "QBal1 = quartBal[1]\n",
        "QBal2 = quartBal[2]\n",
        "\n",
        "# Print value from function\n",
        "\n",
        "print('Nilai Minimal dfBalcones : ', balcMin)\n",
        "print('Quartile ke 0 dari dfBalcones : ', QBal0)\n",
        "print('Quartile ke 1 dari dfBalcones : ', QBal1)\n",
        "print('Quartile ke 2 dari dfBalcones : ', QBal2)\n",
        "print('Nilai Maximal dfBalcones : ', balcMax)"
      ],
      "metadata": {
        "colab": {
          "base_uri": "https://localhost:8080/"
        },
        "id": "MamHgvRU5lo5",
        "outputId": "960016c4-152f-4d11-af09-8b42116f35ef"
      },
      "execution_count": 158,
      "outputs": [
        {
          "output_type": "stream",
          "name": "stdout",
          "text": [
            "Nilai Minimal dfBalcones :  140.0\n",
            "Quartile ke 0 dari dfBalcones :  6260.0\n",
            "Quartile ke 1 dari dfBalcones :  9840.0\n",
            "Quartile ke 2 dari dfBalcones :  12080.0\n",
            "Nilai Maximal dfBalcones :  25780.0\n"
          ]
        }
      ]
    },
    {
      "cell_type": "markdown",
      "source": [
        "- Nilai Extreme dfBalcones"
      ],
      "metadata": {
        "id": "D1zdr0TN59kX"
      }
    },
    {
      "cell_type": "code",
      "source": [
        "# Define Function of Extreme Value\n",
        "\n",
        "IQR = QBal2 - QBal0\n",
        "upperBal = QBal2 + 1.5 * IQR\n",
        "lowerBal = QBal0 - 1.5 * IQR\n",
        "\n",
        "# Print Value\n",
        "\n",
        "print('Nilai Extreme dari dfBalcones : ', IQR)\n",
        "print('Nilai Upper dari dfBalcones : ', upperBal)\n",
        "print('Nilai Lower dari dfBalcones : ', lowerBal)"
      ],
      "metadata": {
        "colab": {
          "base_uri": "https://localhost:8080/"
        },
        "id": "fuxcFxl15XaD",
        "outputId": "352804cc-e203-40eb-9934-b801b36b1922"
      },
      "execution_count": 165,
      "outputs": [
        {
          "output_type": "stream",
          "name": "stdout",
          "text": [
            "Nilai Extreme dari dfBalcones :  5820.0\n",
            "Nilai Upper dari dfBalcones :  20810.0\n",
            "Nilai Lower dari dfBalcones :  -2470.0\n"
          ]
        }
      ]
    },
    {
      "cell_type": "code",
      "source": [
        "# Cari data outlier berdasarkan nilai upper dfBalcones\n",
        "\n",
        "dfBalcones.loc[dfBalcones['load_weight'] > 20810]"
      ],
      "metadata": {
        "colab": {
          "base_uri": "https://localhost:8080/",
          "height": 300
        },
        "id": "yhGTd4zI5Oaa",
        "outputId": "6b3ff529-e632-4b97-8c64-bd2fcd4aecc5"
      },
      "execution_count": 166,
      "outputs": [
        {
          "output_type": "execute_result",
          "data": {
            "text/plain": [
              "                       load_type  load_weight        dropoff_site        date  \\\n",
              "11704  RECYCLING - SINGLE STREAM      21060.0  BALCONES RECYCLING  2021-05-11   \n",
              "11877  RECYCLING - SINGLE STREAM      23240.0  BALCONES RECYCLING  2021-05-12   \n",
              "13733  RECYCLING - SINGLE STREAM      21470.0  BALCONES RECYCLING  2021-05-26   \n",
              "15515  RECYCLING - SINGLE STREAM      25780.0  BALCONES RECYCLING  2021-06-09   \n",
              "15522  RECYCLING - SINGLE STREAM      22480.0  BALCONES RECYCLING  2021-06-09   \n",
              "19247  RECYCLING - SINGLE STREAM      20980.0  BALCONES RECYCLING  2021-01-02   \n",
              "20015  RECYCLING - SINGLE STREAM      21400.0  BALCONES RECYCLING  2021-01-07   \n",
              "20024  RECYCLING - SINGLE STREAM      21400.0  BALCONES RECYCLING  2021-01-07   \n",
              "\n",
              "        Z-Score  \n",
              "11704  3.002622  \n",
              "11877  3.567135  \n",
              "13733  3.108792  \n",
              "15515  4.224869  \n",
              "15522  3.370332  \n",
              "19247  2.981906  \n",
              "20015  3.090666  \n",
              "20024  3.090666  "
            ],
            "text/html": [
              "\n",
              "  <div id=\"df-5f578a17-c61e-48a4-b2d1-1d05c72cd85d\">\n",
              "    <div class=\"colab-df-container\">\n",
              "      <div>\n",
              "<style scoped>\n",
              "    .dataframe tbody tr th:only-of-type {\n",
              "        vertical-align: middle;\n",
              "    }\n",
              "\n",
              "    .dataframe tbody tr th {\n",
              "        vertical-align: top;\n",
              "    }\n",
              "\n",
              "    .dataframe thead th {\n",
              "        text-align: right;\n",
              "    }\n",
              "</style>\n",
              "<table border=\"1\" class=\"dataframe\">\n",
              "  <thead>\n",
              "    <tr style=\"text-align: right;\">\n",
              "      <th></th>\n",
              "      <th>load_type</th>\n",
              "      <th>load_weight</th>\n",
              "      <th>dropoff_site</th>\n",
              "      <th>date</th>\n",
              "      <th>Z-Score</th>\n",
              "    </tr>\n",
              "  </thead>\n",
              "  <tbody>\n",
              "    <tr>\n",
              "      <th>11704</th>\n",
              "      <td>RECYCLING - SINGLE STREAM</td>\n",
              "      <td>21060.0</td>\n",
              "      <td>BALCONES RECYCLING</td>\n",
              "      <td>2021-05-11</td>\n",
              "      <td>3.002622</td>\n",
              "    </tr>\n",
              "    <tr>\n",
              "      <th>11877</th>\n",
              "      <td>RECYCLING - SINGLE STREAM</td>\n",
              "      <td>23240.0</td>\n",
              "      <td>BALCONES RECYCLING</td>\n",
              "      <td>2021-05-12</td>\n",
              "      <td>3.567135</td>\n",
              "    </tr>\n",
              "    <tr>\n",
              "      <th>13733</th>\n",
              "      <td>RECYCLING - SINGLE STREAM</td>\n",
              "      <td>21470.0</td>\n",
              "      <td>BALCONES RECYCLING</td>\n",
              "      <td>2021-05-26</td>\n",
              "      <td>3.108792</td>\n",
              "    </tr>\n",
              "    <tr>\n",
              "      <th>15515</th>\n",
              "      <td>RECYCLING - SINGLE STREAM</td>\n",
              "      <td>25780.0</td>\n",
              "      <td>BALCONES RECYCLING</td>\n",
              "      <td>2021-06-09</td>\n",
              "      <td>4.224869</td>\n",
              "    </tr>\n",
              "    <tr>\n",
              "      <th>15522</th>\n",
              "      <td>RECYCLING - SINGLE STREAM</td>\n",
              "      <td>22480.0</td>\n",
              "      <td>BALCONES RECYCLING</td>\n",
              "      <td>2021-06-09</td>\n",
              "      <td>3.370332</td>\n",
              "    </tr>\n",
              "    <tr>\n",
              "      <th>19247</th>\n",
              "      <td>RECYCLING - SINGLE STREAM</td>\n",
              "      <td>20980.0</td>\n",
              "      <td>BALCONES RECYCLING</td>\n",
              "      <td>2021-01-02</td>\n",
              "      <td>2.981906</td>\n",
              "    </tr>\n",
              "    <tr>\n",
              "      <th>20015</th>\n",
              "      <td>RECYCLING - SINGLE STREAM</td>\n",
              "      <td>21400.0</td>\n",
              "      <td>BALCONES RECYCLING</td>\n",
              "      <td>2021-01-07</td>\n",
              "      <td>3.090666</td>\n",
              "    </tr>\n",
              "    <tr>\n",
              "      <th>20024</th>\n",
              "      <td>RECYCLING - SINGLE STREAM</td>\n",
              "      <td>21400.0</td>\n",
              "      <td>BALCONES RECYCLING</td>\n",
              "      <td>2021-01-07</td>\n",
              "      <td>3.090666</td>\n",
              "    </tr>\n",
              "  </tbody>\n",
              "</table>\n",
              "</div>\n",
              "      <button class=\"colab-df-convert\" onclick=\"convertToInteractive('df-5f578a17-c61e-48a4-b2d1-1d05c72cd85d')\"\n",
              "              title=\"Convert this dataframe to an interactive table.\"\n",
              "              style=\"display:none;\">\n",
              "        \n",
              "  <svg xmlns=\"http://www.w3.org/2000/svg\" height=\"24px\"viewBox=\"0 0 24 24\"\n",
              "       width=\"24px\">\n",
              "    <path d=\"M0 0h24v24H0V0z\" fill=\"none\"/>\n",
              "    <path d=\"M18.56 5.44l.94 2.06.94-2.06 2.06-.94-2.06-.94-.94-2.06-.94 2.06-2.06.94zm-11 1L8.5 8.5l.94-2.06 2.06-.94-2.06-.94L8.5 2.5l-.94 2.06-2.06.94zm10 10l.94 2.06.94-2.06 2.06-.94-2.06-.94-.94-2.06-.94 2.06-2.06.94z\"/><path d=\"M17.41 7.96l-1.37-1.37c-.4-.4-.92-.59-1.43-.59-.52 0-1.04.2-1.43.59L10.3 9.45l-7.72 7.72c-.78.78-.78 2.05 0 2.83L4 21.41c.39.39.9.59 1.41.59.51 0 1.02-.2 1.41-.59l7.78-7.78 2.81-2.81c.8-.78.8-2.07 0-2.86zM5.41 20L4 18.59l7.72-7.72 1.47 1.35L5.41 20z\"/>\n",
              "  </svg>\n",
              "      </button>\n",
              "      \n",
              "  <style>\n",
              "    .colab-df-container {\n",
              "      display:flex;\n",
              "      flex-wrap:wrap;\n",
              "      gap: 12px;\n",
              "    }\n",
              "\n",
              "    .colab-df-convert {\n",
              "      background-color: #E8F0FE;\n",
              "      border: none;\n",
              "      border-radius: 50%;\n",
              "      cursor: pointer;\n",
              "      display: none;\n",
              "      fill: #1967D2;\n",
              "      height: 32px;\n",
              "      padding: 0 0 0 0;\n",
              "      width: 32px;\n",
              "    }\n",
              "\n",
              "    .colab-df-convert:hover {\n",
              "      background-color: #E2EBFA;\n",
              "      box-shadow: 0px 1px 2px rgba(60, 64, 67, 0.3), 0px 1px 3px 1px rgba(60, 64, 67, 0.15);\n",
              "      fill: #174EA6;\n",
              "    }\n",
              "\n",
              "    [theme=dark] .colab-df-convert {\n",
              "      background-color: #3B4455;\n",
              "      fill: #D2E3FC;\n",
              "    }\n",
              "\n",
              "    [theme=dark] .colab-df-convert:hover {\n",
              "      background-color: #434B5C;\n",
              "      box-shadow: 0px 1px 3px 1px rgba(0, 0, 0, 0.15);\n",
              "      filter: drop-shadow(0px 1px 2px rgba(0, 0, 0, 0.3));\n",
              "      fill: #FFFFFF;\n",
              "    }\n",
              "  </style>\n",
              "\n",
              "      <script>\n",
              "        const buttonEl =\n",
              "          document.querySelector('#df-5f578a17-c61e-48a4-b2d1-1d05c72cd85d button.colab-df-convert');\n",
              "        buttonEl.style.display =\n",
              "          google.colab.kernel.accessAllowed ? 'block' : 'none';\n",
              "\n",
              "        async function convertToInteractive(key) {\n",
              "          const element = document.querySelector('#df-5f578a17-c61e-48a4-b2d1-1d05c72cd85d');\n",
              "          const dataTable =\n",
              "            await google.colab.kernel.invokeFunction('convertToInteractive',\n",
              "                                                     [key], {});\n",
              "          if (!dataTable) return;\n",
              "\n",
              "          const docLinkHtml = 'Like what you see? Visit the ' +\n",
              "            '<a target=\"_blank\" href=https://colab.research.google.com/notebooks/data_table.ipynb>data table notebook</a>'\n",
              "            + ' to learn more about interactive tables.';\n",
              "          element.innerHTML = '';\n",
              "          dataTable['output_type'] = 'display_data';\n",
              "          await google.colab.output.renderOutput(dataTable, element);\n",
              "          const docLink = document.createElement('div');\n",
              "          docLink.innerHTML = docLinkHtml;\n",
              "          element.appendChild(docLink);\n",
              "        }\n",
              "      </script>\n",
              "    </div>\n",
              "  </div>\n",
              "  "
            ]
          },
          "metadata": {},
          "execution_count": 166
        }
      ]
    },
    {
      "cell_type": "code",
      "source": [
        "# Banyak Data Outlier di site BALCONES berdasarkan 'load_weight'\n",
        "\n",
        "balconeOutlier = dfBalcones.loc[dfBalcones['load_weight'] > 20810].value_counts().sum()\n",
        "balconeOutlier"
      ],
      "metadata": {
        "colab": {
          "base_uri": "https://localhost:8080/"
        },
        "id": "7BjWDO4m5ydy",
        "outputId": "cafe6eea-19c9-428c-97ad-364c92e5f4cb"
      },
      "execution_count": 170,
      "outputs": [
        {
          "output_type": "execute_result",
          "data": {
            "text/plain": [
              "8"
            ]
          },
          "metadata": {},
          "execution_count": 170
        }
      ]
    },
    {
      "cell_type": "markdown",
      "source": [
        "Note : ada 8 data outlier yang kemungkinan terjadi karena sedang adanya acara di beberapa daerah di Kota Austin, jadi kita akan membiarkannya"
      ],
      "metadata": {
        "id": "wIPEcdyu5oxo"
      }
    },
    {
      "cell_type": "code",
      "source": [
        "# Outlier Visualization\n",
        "\n",
        "sns.boxplot(data=dfBalcones, y='load_weight')"
      ],
      "metadata": {
        "colab": {
          "base_uri": "https://localhost:8080/",
          "height": 269
        },
        "id": "7KQsEekp2Hpr",
        "outputId": "72c67c11-3995-4d0c-9691-7fd6df14ad1b"
      },
      "execution_count": 168,
      "outputs": [
        {
          "output_type": "execute_result",
          "data": {
            "text/plain": [
              "<matplotlib.axes._subplots.AxesSubplot at 0x7eff79213a90>"
            ]
          },
          "metadata": {},
          "execution_count": 168
        },
        {
          "output_type": "display_data",
          "data": {
            "text/plain": [
              "<Figure size 432x288 with 1 Axes>"
            ],
            "image/png": "[encoded data removed]"
          },
          "metadata": {
            "needs_background": "light"
          }
        }
      ]
    },
    {
      "cell_type": "markdown",
      "source": [
        "# Problem 1.6 : Pengukuran Range, Variansi dan Standard Deviasi\n",
        "\n",
        "---\n",
        "\n"
      ],
      "metadata": {
        "id": "DC9bEP1uzqKh"
      }
    },
    {
      "cell_type": "code",
      "source": [
        "# Cari Nilai Mean, Median dan Modus dari dfBalcones\n",
        "\n",
        "bMean = dfBalcones['load_weight'].mean()\n",
        "bMed = dfBalcones['load_weight'].median()\n",
        "bMod = dfBalcones['load_weight'].mode()\n",
        "\n",
        "print('Nilai Mean dari data Balcones : ', bMean)\n",
        "print('Nilai Median dari data Balcones : ', bMed)\n",
        "print('Nilai Modus dari data Balcones : ', bMod)"
      ],
      "metadata": {
        "colab": {
          "base_uri": "https://localhost:8080/"
        },
        "id": "AvUxTSo5z1ta",
        "outputId": "6576660b-fa0a-4768-e465-2e91b2760916"
      },
      "execution_count": 131,
      "outputs": [
        {
          "output_type": "stream",
          "name": "stdout",
          "text": [
            "Nilai Mean dari data Balcones :  9464.652071931196\n",
            "Nilai Median dari data Balcones :  9840.0\n",
            "Nilai Modus dari data Balcones :  0    11880.0\n",
            "dtype: float64\n"
          ]
        }
      ]
    },
    {
      "cell_type": "code",
      "source": [
        "# Cari Nilai Var & Std dari dfBalcones\n",
        "\n",
        "varBal = dfBalcones['load_weight'].var()\n",
        "stdBal = dfBalcones['load_weight'].std()\n",
        "\n",
        "print('Nilai Var dari data Balcones : ', varBal)\n",
        "print('Nilai Std dari data Balcones : ', stdBal)"
      ],
      "metadata": {
        "colab": {
          "base_uri": "https://localhost:8080/"
        },
        "id": "siswS8xD0tLL",
        "outputId": "ff2dbcb9-ecdc-4af7-b550-278b4d70ea8d"
      },
      "execution_count": 132,
      "outputs": [
        {
          "output_type": "stream",
          "name": "stdout",
          "text": [
            "Nilai Var dari data Balcones :  14916926.032459863\n",
            "Nilai Std dari data Balcones :  3862.243652653191\n"
          ]
        }
      ]
    },
    {
      "cell_type": "code",
      "source": [
        "sns.boxplot(data = dfBalcones, y = 'load_weight')"
      ],
      "metadata": {
        "colab": {
          "base_uri": "https://localhost:8080/",
          "height": 269
        },
        "id": "UBauHx4z6I_e",
        "outputId": "94d12a88-1f14-44f5-cb29-9145ef9f2125"
      },
      "execution_count": 133,
      "outputs": [
        {
          "output_type": "execute_result",
          "data": {
            "text/plain": [
              "<matplotlib.axes._subplots.AxesSubplot at 0x7eff782134c0>"
            ]
          },
          "metadata": {},
          "execution_count": 133
        },
        {
          "output_type": "display_data",
          "data": {
            "text/plain": [
              "<Figure size 432x288 with 1 Axes>"
            ],
            "image/png": "[encoded data removed]"
          },
          "metadata": {
            "needs_background": "light"
          }
        }
      ]
    },
    {
      "cell_type": "code",
      "source": [
        "dfBalcones.plot.hist(title = 'BALCONES RECYCLING', color='skyblue', bins=20)\n",
        "plt.axvline(dfBalcones['load_weight'].mean(), color='red', linestyle='dashed', linewidth=2)\n",
        "plt.axvline(dfBalcones['load_weight'].median(), color='black', linestyle='dashed', linewidth=2)\n",
        "plt.show()"
      ],
      "metadata": {
        "colab": {
          "base_uri": "https://localhost:8080/",
          "height": 281
        },
        "id": "DBnMNJgkNMLP",
        "outputId": "9e3c4e42-290f-4609-d54c-8c2fd90158d1"
      },
      "execution_count": 171,
      "outputs": [
        {
          "output_type": "display_data",
          "data": {
            "text/plain": [
              "<Figure size 432x288 with 1 Axes>"
            ],
            "image/png": "[encoded data removed]"
          },
          "metadata": {
            "needs_background": "light"
          }
        }
      ]
    },
    {
      "cell_type": "code",
      "source": [
        "dfBalcones.apply(pd.Series.mode)"
      ],
      "metadata": {
        "colab": {
          "base_uri": "https://localhost:8080/",
          "height": 81
        },
        "id": "U4mdVX9wOoBM",
        "outputId": "193ef1b9-d6b2-4a89-f2ed-608e5e88da90"
      },
      "execution_count": 136,
      "outputs": [
        {
          "output_type": "execute_result",
          "data": {
            "text/plain": [
              "                   load_type  load_weight        dropoff_site        date\n",
              "0  RECYCLING - SINGLE STREAM      11880.0  BALCONES RECYCLING  2021-03-04"
            ],
            "text/html": [
              "\n",
              "  <div id=\"df-47219755-3f26-41e1-ba66-385f531d0111\">\n",
              "    <div class=\"colab-df-container\">\n",
              "      <div>\n",
              "<style scoped>\n",
              "    .dataframe tbody tr th:only-of-type {\n",
              "        vertical-align: middle;\n",
              "    }\n",
              "\n",
              "    .dataframe tbody tr th {\n",
              "        vertical-align: top;\n",
              "    }\n",
              "\n",
              "    .dataframe thead th {\n",
              "        text-align: right;\n",
              "    }\n",
              "</style>\n",
              "<table border=\"1\" class=\"dataframe\">\n",
              "  <thead>\n",
              "    <tr style=\"text-align: right;\">\n",
              "      <th></th>\n",
              "      <th>load_type</th>\n",
              "      <th>load_weight</th>\n",
              "      <th>dropoff_site</th>\n",
              "      <th>date</th>\n",
              "    </tr>\n",
              "  </thead>\n",
              "  <tbody>\n",
              "    <tr>\n",
              "      <th>0</th>\n",
              "      <td>RECYCLING - SINGLE STREAM</td>\n",
              "      <td>11880.0</td>\n",
              "      <td>BALCONES RECYCLING</td>\n",
              "      <td>2021-03-04</td>\n",
              "    </tr>\n",
              "  </tbody>\n",
              "</table>\n",
              "</div>\n",
              "      <button class=\"colab-df-convert\" onclick=\"convertToInteractive('df-47219755-3f26-41e1-ba66-385f531d0111')\"\n",
              "              title=\"Convert this dataframe to an interactive table.\"\n",
              "              style=\"display:none;\">\n",
              "        \n",
              "  <svg xmlns=\"http://www.w3.org/2000/svg\" height=\"24px\"viewBox=\"0 0 24 24\"\n",
              "       width=\"24px\">\n",
              "    <path d=\"M0 0h24v24H0V0z\" fill=\"none\"/>\n",
              "    <path d=\"M18.56 5.44l.94 2.06.94-2.06 2.06-.94-2.06-.94-.94-2.06-.94 2.06-2.06.94zm-11 1L8.5 8.5l.94-2.06 2.06-.94-2.06-.94L8.5 2.5l-.94 2.06-2.06.94zm10 10l.94 2.06.94-2.06 2.06-.94-2.06-.94-.94-2.06-.94 2.06-2.06.94z\"/><path d=\"M17.41 7.96l-1.37-1.37c-.4-.4-.92-.59-1.43-.59-.52 0-1.04.2-1.43.59L10.3 9.45l-7.72 7.72c-.78.78-.78 2.05 0 2.83L4 21.41c.39.39.9.59 1.41.59.51 0 1.02-.2 1.41-.59l7.78-7.78 2.81-2.81c.8-.78.8-2.07 0-2.86zM5.41 20L4 18.59l7.72-7.72 1.47 1.35L5.41 20z\"/>\n",
              "  </svg>\n",
              "      </button>\n",
              "      \n",
              "  <style>\n",
              "    .colab-df-container {\n",
              "      display:flex;\n",
              "      flex-wrap:wrap;\n",
              "      gap: 12px;\n",
              "    }\n",
              "\n",
              "    .colab-df-convert {\n",
              "      background-color: #E8F0FE;\n",
              "      border: none;\n",
              "      border-radius: 50%;\n",
              "      cursor: pointer;\n",
              "      display: none;\n",
              "      fill: #1967D2;\n",
              "      height: 32px;\n",
              "      padding: 0 0 0 0;\n",
              "      width: 32px;\n",
              "    }\n",
              "\n",
              "    .colab-df-convert:hover {\n",
              "      background-color: #E2EBFA;\n",
              "      box-shadow: 0px 1px 2px rgba(60, 64, 67, 0.3), 0px 1px 3px 1px rgba(60, 64, 67, 0.15);\n",
              "      fill: #174EA6;\n",
              "    }\n",
              "\n",
              "    [theme=dark] .colab-df-convert {\n",
              "      background-color: #3B4455;\n",
              "      fill: #D2E3FC;\n",
              "    }\n",
              "\n",
              "    [theme=dark] .colab-df-convert:hover {\n",
              "      background-color: #434B5C;\n",
              "      box-shadow: 0px 1px 3px 1px rgba(0, 0, 0, 0.15);\n",
              "      filter: drop-shadow(0px 1px 2px rgba(0, 0, 0, 0.3));\n",
              "      fill: #FFFFFF;\n",
              "    }\n",
              "  </style>\n",
              "\n",
              "      <script>\n",
              "        const buttonEl =\n",
              "          document.querySelector('#df-47219755-3f26-41e1-ba66-385f531d0111 button.colab-df-convert');\n",
              "        buttonEl.style.display =\n",
              "          google.colab.kernel.accessAllowed ? 'block' : 'none';\n",
              "\n",
              "        async function convertToInteractive(key) {\n",
              "          const element = document.querySelector('#df-47219755-3f26-41e1-ba66-385f531d0111');\n",
              "          const dataTable =\n",
              "            await google.colab.kernel.invokeFunction('convertToInteractive',\n",
              "                                                     [key], {});\n",
              "          if (!dataTable) return;\n",
              "\n",
              "          const docLinkHtml = 'Like what you see? Visit the ' +\n",
              "            '<a target=\"_blank\" href=https://colab.research.google.com/notebooks/data_table.ipynb>data table notebook</a>'\n",
              "            + ' to learn more about interactive tables.';\n",
              "          element.innerHTML = '';\n",
              "          dataTable['output_type'] = 'display_data';\n",
              "          await google.colab.output.renderOutput(dataTable, element);\n",
              "          const docLink = document.createElement('div');\n",
              "          docLink.innerHTML = docLinkHtml;\n",
              "          element.appendChild(docLink);\n",
              "        }\n",
              "      </script>\n",
              "    </div>\n",
              "  </div>\n",
              "  "
            ]
          },
          "metadata": {},
          "execution_count": 136
        }
      ]
    },
    {
      "cell_type": "markdown",
      "source": [
        "note : nilai modus dari `droppoff_site` `BALCONES RECYCLING` adalah 11880"
      ],
      "metadata": {
        "id": "DAQesOMzO5tj"
      }
    },
    {
      "cell_type": "markdown",
      "source": [
        "- Data Comparison\n",
        "  - Data yang diambil adalah data dari site `ORGANICS BY GOSH`"
      ],
      "metadata": {
        "id": "-G2t_abKPPsL"
      }
    },
    {
      "cell_type": "code",
      "source": [
        "dfMetal = dfCopy.loc[dfCopy['load_type'] == 'RECYCLED METAL']\n",
        "dfMetal"
      ],
      "metadata": {
        "colab": {
          "base_uri": "https://localhost:8080/",
          "height": 1000
        },
        "id": "Nqe686ymPXhy",
        "outputId": "54cc5aff-da2d-47d9-94ef-5b5221ff5cf4"
      },
      "execution_count": 137,
      "outputs": [
        {
          "output_type": "execute_result",
          "data": {
            "text/plain": [
              "            load_type  load_weight           dropoff_site        date\n",
              "1083   RECYCLED METAL        320.0  AUSTIN IRON AND METAL  2021-07-08\n",
              "1314   RECYCLED METAL        520.0  AUSTIN IRON AND METAL  2021-03-02\n",
              "1477   RECYCLED METAL       8260.0       ORGANICS BY GOSH  2021-03-03\n",
              "2273   RECYCLED METAL        350.0  AUSTIN IRON AND METAL  2021-03-08\n",
              "2529   RECYCLED METAL        280.0  AUSTIN IRON AND METAL  2021-03-09\n",
              "2785   RECYCLED METAL        500.0  AUSTIN IRON AND METAL  2021-03-10\n",
              "3025   RECYCLED METAL        630.0  AUSTIN IRON AND METAL  2021-03-11\n",
              "3474   RECYCLED METAL       1040.0  AUSTIN IRON AND METAL  2021-03-15\n",
              "4530   RECYCLED METAL       5160.0       ORGANICS BY GOSH  2021-03-22\n",
              "4790   RECYCLED METAL        290.0  AUSTIN IRON AND METAL  2021-03-23\n",
              "6445   RECYCLED METAL      17440.0       ORGANICS BY GOSH  2021-04-02\n",
              "6888   RECYCLED METAL        290.0  AUSTIN IRON AND METAL  2021-04-06\n",
              "7642   RECYCLED METAL        240.0  AUSTIN IRON AND METAL  2021-04-12\n",
              "7814   RECYCLED METAL      20760.0       ORGANICS BY GOSH  2021-04-13\n",
              "8713   RECYCLED METAL        480.0  AUSTIN IRON AND METAL  2021-04-19\n",
              "9122   RECYCLED METAL        710.0  AUSTIN IRON AND METAL  2021-04-21\n",
              "9320   RECYCLED METAL        560.0  AUSTIN IRON AND METAL  2021-04-22\n",
              "9876   RECYCLED METAL        260.0  AUSTIN IRON AND METAL  2021-04-27\n",
              "10083  RECYCLED METAL        400.0  AUSTIN IRON AND METAL  2021-04-28\n",
              "10247  RECYCLED METAL        470.0  AUSTIN IRON AND METAL  2021-04-29\n",
              "10598  RECYCLED METAL        300.0  AUSTIN IRON AND METAL  2021-05-03\n",
              "10787  RECYCLED METAL        520.0  AUSTIN IRON AND METAL  2021-05-04\n",
              "10976  RECYCLED METAL        650.0  AUSTIN IRON AND METAL  2021-05-05\n",
              "11151  RECYCLED METAL        550.0  AUSTIN IRON AND METAL  2021-05-06\n",
              "11518  RECYCLED METAL        660.0  AUSTIN IRON AND METAL  2021-05-10\n",
              "11706  RECYCLED METAL       1060.0  AUSTIN IRON AND METAL  2021-05-11\n",
              "11920  RECYCLED METAL        600.0  AUSTIN IRON AND METAL  2021-05-12\n",
              "12114  RECYCLED METAL        320.0  AUSTIN IRON AND METAL  2021-05-13\n",
              "12681  RECYCLED METAL        520.0  AUSTIN IRON AND METAL  2021-05-18\n",
              "13040  RECYCLED METAL        230.0  AUSTIN IRON AND METAL  2021-05-20\n",
              "13576  RECYCLED METAL        600.0  AUSTIN IRON AND METAL  2021-05-25\n",
              "13958  RECYCLED METAL        220.0  AUSTIN IRON AND METAL  2021-05-27\n",
              "14468  RECYCLED METAL        530.0  AUSTIN IRON AND METAL  2021-06-01\n",
              "14817  RECYCLED METAL        260.0  AUSTIN IRON AND METAL  2021-06-03\n",
              "15168  RECYCLED METAL        510.0  AUSTIN IRON AND METAL  2021-06-07\n",
              "15355  RECYCLED METAL        320.0  AUSTIN IRON AND METAL  2021-06-08\n",
              "15764  RECYCLED METAL        340.0  AUSTIN IRON AND METAL  2021-06-10\n",
              "16129  RECYCLED METAL        230.0                    MRF  2021-06-15\n",
              "16499  RECYCLED METAL        160.0  AUSTIN IRON AND METAL  2021-06-16\n",
              "16644  RECYCLED METAL      11040.0       ORGANICS BY GOSH  2021-06-17\n",
              "16702  RECYCLED METAL        380.0  AUSTIN IRON AND METAL  2021-06-17\n",
              "17063  RECYCLED METAL        340.0  AUSTIN IRON AND METAL  2021-06-21\n",
              "17250  RECYCLED METAL        800.0  AUSTIN IRON AND METAL  2021-06-22\n",
              "17444  RECYCLED METAL        460.0  AUSTIN IRON AND METAL  2021-06-23\n",
              "17561  RECYCLED METAL        220.0           TDS LANDFILL  2021-06-24\n",
              "18979  RECYCLED METAL        150.0  AUSTIN IRON AND METAL  2021-07-06\n",
              "19127  RECYCLED METAL        540.0  AUSTIN IRON AND METAL  2021-07-07\n",
              "19687  RECYCLED METAL        260.0  AUSTIN IRON AND METAL  2021-01-05\n",
              "19872  RECYCLED METAL        220.0  AUSTIN IRON AND METAL  2021-01-06\n",
              "20785  RECYCLED METAL        640.0  AUSTIN IRON AND METAL  2021-01-13\n",
              "21516  RECYCLED METAL        830.0  AUSTIN IRON AND METAL  2021-01-19\n",
              "23735  RECYCLED METAL        140.0  AUSTIN IRON AND METAL  2021-02-04\n",
              "24099  RECYCLED METAL        390.0  AUSTIN IRON AND METAL  2021-02-08\n",
              "24288  RECYCLED METAL        780.0  AUSTIN IRON AND METAL  2021-02-09\n",
              "24501  RECYCLED METAL        180.0  AUSTIN IRON AND METAL  2021-02-10\n",
              "25156  RECYCLED METAL        400.0  AUSTIN IRON AND METAL  2021-02-23\n",
              "26156  RECYCLED METAL        360.0  AUSTIN IRON AND METAL  2021-03-01"
            ],
            "text/html": [
              "\n",
              "  <div id=\"df-7c3a9ee4-cf3c-4a1b-acea-6f4afa4ccad8\">\n",
              "    <div class=\"colab-df-container\">\n",
              "      <div>\n",
              "<style scoped>\n",
              "    .dataframe tbody tr th:only-of-type {\n",
              "        vertical-align: middle;\n",
              "    }\n",
              "\n",
              "    .dataframe tbody tr th {\n",
              "        vertical-align: top;\n",
              "    }\n",
              "\n",
              "    .dataframe thead th {\n",
              "        text-align: right;\n",
              "    }\n",
              "</style>\n",
              "<table border=\"1\" class=\"dataframe\">\n",
              "  <thead>\n",
              "    <tr style=\"text-align: right;\">\n",
              "      <th></th>\n",
              "      <th>load_type</th>\n",
              "      <th>load_weight</th>\n",
              "      <th>dropoff_site</th>\n",
              "      <th>date</th>\n",
              "    </tr>\n",
              "  </thead>\n",
              "  <tbody>\n",
              "    <tr>\n",
              "      <th>1083</th>\n",
              "      <td>RECYCLED METAL</td>\n",
              "      <td>320.0</td>\n",
              "      <td>AUSTIN IRON AND METAL</td>\n",
              "      <td>2021-07-08</td>\n",
              "    </tr>\n",
              "    <tr>\n",
              "      <th>1314</th>\n",
              "      <td>RECYCLED METAL</td>\n",
              "      <td>520.0</td>\n",
              "      <td>AUSTIN IRON AND METAL</td>\n",
              "      <td>2021-03-02</td>\n",
              "    </tr>\n",
              "    <tr>\n",
              "      <th>1477</th>\n",
              "      <td>RECYCLED METAL</td>\n",
              "      <td>8260.0</td>\n",
              "      <td>ORGANICS BY GOSH</td>\n",
              "      <td>2021-03-03</td>\n",
              "    </tr>\n",
              "    <tr>\n",
              "      <th>2273</th>\n",
              "      <td>RECYCLED METAL</td>\n",
              "      <td>350.0</td>\n",
              "      <td>AUSTIN IRON AND METAL</td>\n",
              "      <td>2021-03-08</td>\n",
              "    </tr>\n",
              "    <tr>\n",
              "      <th>2529</th>\n",
              "      <td>RECYCLED METAL</td>\n",
              "      <td>280.0</td>\n",
              "      <td>AUSTIN IRON AND METAL</td>\n",
              "      <td>2021-03-09</td>\n",
              "    </tr>\n",
              "    <tr>\n",
              "      <th>2785</th>\n",
              "      <td>RECYCLED METAL</td>\n",
              "      <td>500.0</td>\n",
              "      <td>AUSTIN IRON AND METAL</td>\n",
              "      <td>2021-03-10</td>\n",
              "    </tr>\n",
              "    <tr>\n",
              "      <th>3025</th>\n",
              "      <td>RECYCLED METAL</td>\n",
              "      <td>630.0</td>\n",
              "      <td>AUSTIN IRON AND METAL</td>\n",
              "      <td>2021-03-11</td>\n",
              "    </tr>\n",
              "    <tr>\n",
              "      <th>3474</th>\n",
              "      <td>RECYCLED METAL</td>\n",
              "      <td>1040.0</td>\n",
              "      <td>AUSTIN IRON AND METAL</td>\n",
              "      <td>2021-03-15</td>\n",
              "    </tr>\n",
              "    <tr>\n",
              "      <th>4530</th>\n",
              "      <td>RECYCLED METAL</td>\n",
              "      <td>5160.0</td>\n",
              "      <td>ORGANICS BY GOSH</td>\n",
              "      <td>2021-03-22</td>\n",
              "    </tr>\n",
              "    <tr>\n",
              "      <th>4790</th>\n",
              "      <td>RECYCLED METAL</td>\n",
              "      <td>290.0</td>\n",
              "      <td>AUSTIN IRON AND METAL</td>\n",
              "      <td>2021-03-23</td>\n",
              "    </tr>\n",
              "    <tr>\n",
              "      <th>6445</th>\n",
              "      <td>RECYCLED METAL</td>\n",
              "      <td>17440.0</td>\n",
              "      <td>ORGANICS BY GOSH</td>\n",
              "      <td>2021-04-02</td>\n",
              "    </tr>\n",
              "    <tr>\n",
              "      <th>6888</th>\n",
              "      <td>RECYCLED METAL</td>\n",
              "      <td>290.0</td>\n",
              "      <td>AUSTIN IRON AND METAL</td>\n",
              "      <td>2021-04-06</td>\n",
              "    </tr>\n",
              "    <tr>\n",
              "      <th>7642</th>\n",
              "      <td>RECYCLED METAL</td>\n",
              "      <td>240.0</td>\n",
              "      <td>AUSTIN IRON AND METAL</td>\n",
              "      <td>2021-04-12</td>\n",
              "    </tr>\n",
              "    <tr>\n",
              "      <th>7814</th>\n",
              "      <td>RECYCLED METAL</td>\n",
              "      <td>20760.0</td>\n",
              "      <td>ORGANICS BY GOSH</td>\n",
              "      <td>2021-04-13</td>\n",
              "    </tr>\n",
              "    <tr>\n",
              "      <th>8713</th>\n",
              "      <td>RECYCLED METAL</td>\n",
              "      <td>480.0</td>\n",
              "      <td>AUSTIN IRON AND METAL</td>\n",
              "      <td>2021-04-19</td>\n",
              "    </tr>\n",
              "    <tr>\n",
              "      <th>9122</th>\n",
              "      <td>RECYCLED METAL</td>\n",
              "      <td>710.0</td>\n",
              "      <td>AUSTIN IRON AND METAL</td>\n",
              "      <td>2021-04-21</td>\n",
              "    </tr>\n",
              "    <tr>\n",
              "      <th>9320</th>\n",
              "      <td>RECYCLED METAL</td>\n",
              "      <td>560.0</td>\n",
              "      <td>AUSTIN IRON AND METAL</td>\n",
              "      <td>2021-04-22</td>\n",
              "    </tr>\n",
              "    <tr>\n",
              "      <th>9876</th>\n",
              "      <td>RECYCLED METAL</td>\n",
              "      <td>260.0</td>\n",
              "      <td>AUSTIN IRON AND METAL</td>\n",
              "      <td>2021-04-27</td>\n",
              "    </tr>\n",
              "    <tr>\n",
              "      <th>10083</th>\n",
              "      <td>RECYCLED METAL</td>\n",
              "      <td>400.0</td>\n",
              "      <td>AUSTIN IRON AND METAL</td>\n",
              "      <td>2021-04-28</td>\n",
              "    </tr>\n",
              "    <tr>\n",
              "      <th>10247</th>\n",
              "      <td>RECYCLED METAL</td>\n",
              "      <td>470.0</td>\n",
              "      <td>AUSTIN IRON AND METAL</td>\n",
              "      <td>2021-04-29</td>\n",
              "    </tr>\n",
              "    <tr>\n",
              "      <th>10598</th>\n",
              "      <td>RECYCLED METAL</td>\n",
              "      <td>300.0</td>\n",
              "      <td>AUSTIN IRON AND METAL</td>\n",
              "      <td>2021-05-03</td>\n",
              "    </tr>\n",
              "    <tr>\n",
              "      <th>10787</th>\n",
              "      <td>RECYCLED METAL</td>\n",
              "      <td>520.0</td>\n",
              "      <td>AUSTIN IRON AND METAL</td>\n",
              "      <td>2021-05-04</td>\n",
              "    </tr>\n",
              "    <tr>\n",
              "      <th>10976</th>\n",
              "      <td>RECYCLED METAL</td>\n",
              "      <td>650.0</td>\n",
              "      <td>AUSTIN IRON AND METAL</td>\n",
              "      <td>2021-05-05</td>\n",
              "    </tr>\n",
              "    <tr>\n",
              "      <th>11151</th>\n",
              "      <td>RECYCLED METAL</td>\n",
              "      <td>550.0</td>\n",
              "      <td>AUSTIN IRON AND METAL</td>\n",
              "      <td>2021-05-06</td>\n",
              "    </tr>\n",
              "    <tr>\n",
              "      <th>11518</th>\n",
              "      <td>RECYCLED METAL</td>\n",
              "      <td>660.0</td>\n",
              "      <td>AUSTIN IRON AND METAL</td>\n",
              "      <td>2021-05-10</td>\n",
              "    </tr>\n",
              "    <tr>\n",
              "      <th>11706</th>\n",
              "      <td>RECYCLED METAL</td>\n",
              "      <td>1060.0</td>\n",
              "      <td>AUSTIN IRON AND METAL</td>\n",
              "      <td>2021-05-11</td>\n",
              "    </tr>\n",
              "    <tr>\n",
              "      <th>11920</th>\n",
              "      <td>RECYCLED METAL</td>\n",
              "      <td>600.0</td>\n",
              "      <td>AUSTIN IRON AND METAL</td>\n",
              "      <td>2021-05-12</td>\n",
              "    </tr>\n",
              "    <tr>\n",
              "      <th>12114</th>\n",
              "      <td>RECYCLED METAL</td>\n",
              "      <td>320.0</td>\n",
              "      <td>AUSTIN IRON AND METAL</td>\n",
              "      <td>2021-05-13</td>\n",
              "    </tr>\n",
              "    <tr>\n",
              "      <th>12681</th>\n",
              "      <td>RECYCLED METAL</td>\n",
              "      <td>520.0</td>\n",
              "      <td>AUSTIN IRON AND METAL</td>\n",
              "      <td>2021-05-18</td>\n",
              "    </tr>\n",
              "    <tr>\n",
              "      <th>13040</th>\n",
              "      <td>RECYCLED METAL</td>\n",
              "      <td>230.0</td>\n",
              "      <td>AUSTIN IRON AND METAL</td>\n",
              "      <td>2021-05-20</td>\n",
              "    </tr>\n",
              "    <tr>\n",
              "      <th>13576</th>\n",
              "      <td>RECYCLED METAL</td>\n",
              "      <td>600.0</td>\n",
              "      <td>AUSTIN IRON AND METAL</td>\n",
              "      <td>2021-05-25</td>\n",
              "    </tr>\n",
              "    <tr>\n",
              "      <th>13958</th>\n",
              "      <td>RECYCLED METAL</td>\n",
              "      <td>220.0</td>\n",
              "      <td>AUSTIN IRON AND METAL</td>\n",
              "      <td>2021-05-27</td>\n",
              "    </tr>\n",
              "    <tr>\n",
              "      <th>14468</th>\n",
              "      <td>RECYCLED METAL</td>\n",
              "      <td>530.0</td>\n",
              "      <td>AUSTIN IRON AND METAL</td>\n",
              "      <td>2021-06-01</td>\n",
              "    </tr>\n",
              "    <tr>\n",
              "      <th>14817</th>\n",
              "      <td>RECYCLED METAL</td>\n",
              "      <td>260.0</td>\n",
              "      <td>AUSTIN IRON AND METAL</td>\n",
              "      <td>2021-06-03</td>\n",
              "    </tr>\n",
              "    <tr>\n",
              "      <th>15168</th>\n",
              "      <td>RECYCLED METAL</td>\n",
              "      <td>510.0</td>\n",
              "      <td>AUSTIN IRON AND METAL</td>\n",
              "      <td>2021-06-07</td>\n",
              "    </tr>\n",
              "    <tr>\n",
              "      <th>15355</th>\n",
              "      <td>RECYCLED METAL</td>\n",
              "      <td>320.0</td>\n",
              "      <td>AUSTIN IRON AND METAL</td>\n",
              "      <td>2021-06-08</td>\n",
              "    </tr>\n",
              "    <tr>\n",
              "      <th>15764</th>\n",
              "      <td>RECYCLED METAL</td>\n",
              "      <td>340.0</td>\n",
              "      <td>AUSTIN IRON AND METAL</td>\n",
              "      <td>2021-06-10</td>\n",
              "    </tr>\n",
              "    <tr>\n",
              "      <th>16129</th>\n",
              "      <td>RECYCLED METAL</td>\n",
              "      <td>230.0</td>\n",
              "      <td>MRF</td>\n",
              "      <td>2021-06-15</td>\n",
              "    </tr>\n",
              "    <tr>\n",
              "      <th>16499</th>\n",
              "      <td>RECYCLED METAL</td>\n",
              "      <td>160.0</td>\n",
              "      <td>AUSTIN IRON AND METAL</td>\n",
              "      <td>2021-06-16</td>\n",
              "    </tr>\n",
              "    <tr>\n",
              "      <th>16644</th>\n",
              "      <td>RECYCLED METAL</td>\n",
              "      <td>11040.0</td>\n",
              "      <td>ORGANICS BY GOSH</td>\n",
              "      <td>2021-06-17</td>\n",
              "    </tr>\n",
              "    <tr>\n",
              "      <th>16702</th>\n",
              "      <td>RECYCLED METAL</td>\n",
              "      <td>380.0</td>\n",
              "      <td>AUSTIN IRON AND METAL</td>\n",
              "      <td>2021-06-17</td>\n",
              "    </tr>\n",
              "    <tr>\n",
              "      <th>17063</th>\n",
              "      <td>RECYCLED METAL</td>\n",
              "      <td>340.0</td>\n",
              "      <td>AUSTIN IRON AND METAL</td>\n",
              "      <td>2021-06-21</td>\n",
              "    </tr>\n",
              "    <tr>\n",
              "      <th>17250</th>\n",
              "      <td>RECYCLED METAL</td>\n",
              "      <td>800.0</td>\n",
              "      <td>AUSTIN IRON AND METAL</td>\n",
              "      <td>2021-06-22</td>\n",
              "    </tr>\n",
              "    <tr>\n",
              "      <th>17444</th>\n",
              "      <td>RECYCLED METAL</td>\n",
              "      <td>460.0</td>\n",
              "      <td>AUSTIN IRON AND METAL</td>\n",
              "      <td>2021-06-23</td>\n",
              "    </tr>\n",
              "    <tr>\n",
              "      <th>17561</th>\n",
              "      <td>RECYCLED METAL</td>\n",
              "      <td>220.0</td>\n",
              "      <td>TDS LANDFILL</td>\n",
              "      <td>2021-06-24</td>\n",
              "    </tr>\n",
              "    <tr>\n",
              "      <th>18979</th>\n",
              "      <td>RECYCLED METAL</td>\n",
              "      <td>150.0</td>\n",
              "      <td>AUSTIN IRON AND METAL</td>\n",
              "      <td>2021-07-06</td>\n",
              "    </tr>\n",
              "    <tr>\n",
              "      <th>19127</th>\n",
              "      <td>RECYCLED METAL</td>\n",
              "      <td>540.0</td>\n",
              "      <td>AUSTIN IRON AND METAL</td>\n",
              "      <td>2021-07-07</td>\n",
              "    </tr>\n",
              "    <tr>\n",
              "      <th>19687</th>\n",
              "      <td>RECYCLED METAL</td>\n",
              "      <td>260.0</td>\n",
              "      <td>AUSTIN IRON AND METAL</td>\n",
              "      <td>2021-01-05</td>\n",
              "    </tr>\n",
              "    <tr>\n",
              "      <th>19872</th>\n",
              "      <td>RECYCLED METAL</td>\n",
              "      <td>220.0</td>\n",
              "      <td>AUSTIN IRON AND METAL</td>\n",
              "      <td>2021-01-06</td>\n",
              "    </tr>\n",
              "    <tr>\n",
              "      <th>20785</th>\n",
              "      <td>RECYCLED METAL</td>\n",
              "      <td>640.0</td>\n",
              "      <td>AUSTIN IRON AND METAL</td>\n",
              "      <td>2021-01-13</td>\n",
              "    </tr>\n",
              "    <tr>\n",
              "      <th>21516</th>\n",
              "      <td>RECYCLED METAL</td>\n",
              "      <td>830.0</td>\n",
              "      <td>AUSTIN IRON AND METAL</td>\n",
              "      <td>2021-01-19</td>\n",
              "    </tr>\n",
              "    <tr>\n",
              "      <th>23735</th>\n",
              "      <td>RECYCLED METAL</td>\n",
              "      <td>140.0</td>\n",
              "      <td>AUSTIN IRON AND METAL</td>\n",
              "      <td>2021-02-04</td>\n",
              "    </tr>\n",
              "    <tr>\n",
              "      <th>24099</th>\n",
              "      <td>RECYCLED METAL</td>\n",
              "      <td>390.0</td>\n",
              "      <td>AUSTIN IRON AND METAL</td>\n",
              "      <td>2021-02-08</td>\n",
              "    </tr>\n",
              "    <tr>\n",
              "      <th>24288</th>\n",
              "      <td>RECYCLED METAL</td>\n",
              "      <td>780.0</td>\n",
              "      <td>AUSTIN IRON AND METAL</td>\n",
              "      <td>2021-02-09</td>\n",
              "    </tr>\n",
              "    <tr>\n",
              "      <th>24501</th>\n",
              "      <td>RECYCLED METAL</td>\n",
              "      <td>180.0</td>\n",
              "      <td>AUSTIN IRON AND METAL</td>\n",
              "      <td>2021-02-10</td>\n",
              "    </tr>\n",
              "    <tr>\n",
              "      <th>25156</th>\n",
              "      <td>RECYCLED METAL</td>\n",
              "      <td>400.0</td>\n",
              "      <td>AUSTIN IRON AND METAL</td>\n",
              "      <td>2021-02-23</td>\n",
              "    </tr>\n",
              "    <tr>\n",
              "      <th>26156</th>\n",
              "      <td>RECYCLED METAL</td>\n",
              "      <td>360.0</td>\n",
              "      <td>AUSTIN IRON AND METAL</td>\n",
              "      <td>2021-03-01</td>\n",
              "    </tr>\n",
              "  </tbody>\n",
              "</table>\n",
              "</div>\n",
              "      <button class=\"colab-df-convert\" onclick=\"convertToInteractive('df-7c3a9ee4-cf3c-4a1b-acea-6f4afa4ccad8')\"\n",
              "              title=\"Convert this dataframe to an interactive table.\"\n",
              "              style=\"display:none;\">\n",
              "        \n",
              "  <svg xmlns=\"http://www.w3.org/2000/svg\" height=\"24px\"viewBox=\"0 0 24 24\"\n",
              "       width=\"24px\">\n",
              "    <path d=\"M0 0h24v24H0V0z\" fill=\"none\"/>\n",
              "    <path d=\"M18.56 5.44l.94 2.06.94-2.06 2.06-.94-2.06-.94-.94-2.06-.94 2.06-2.06.94zm-11 1L8.5 8.5l.94-2.06 2.06-.94-2.06-.94L8.5 2.5l-.94 2.06-2.06.94zm10 10l.94 2.06.94-2.06 2.06-.94-2.06-.94-.94-2.06-.94 2.06-2.06.94z\"/><path d=\"M17.41 7.96l-1.37-1.37c-.4-.4-.92-.59-1.43-.59-.52 0-1.04.2-1.43.59L10.3 9.45l-7.72 7.72c-.78.78-.78 2.05 0 2.83L4 21.41c.39.39.9.59 1.41.59.51 0 1.02-.2 1.41-.59l7.78-7.78 2.81-2.81c.8-.78.8-2.07 0-2.86zM5.41 20L4 18.59l7.72-7.72 1.47 1.35L5.41 20z\"/>\n",
              "  </svg>\n",
              "      </button>\n",
              "      \n",
              "  <style>\n",
              "    .colab-df-container {\n",
              "      display:flex;\n",
              "      flex-wrap:wrap;\n",
              "      gap: 12px;\n",
              "    }\n",
              "\n",
              "    .colab-df-convert {\n",
              "      background-color: #E8F0FE;\n",
              "      border: none;\n",
              "      border-radius: 50%;\n",
              "      cursor: pointer;\n",
              "      display: none;\n",
              "      fill: #1967D2;\n",
              "      height: 32px;\n",
              "      padding: 0 0 0 0;\n",
              "      width: 32px;\n",
              "    }\n",
              "\n",
              "    .colab-df-convert:hover {\n",
              "      background-color: #E2EBFA;\n",
              "      box-shadow: 0px 1px 2px rgba(60, 64, 67, 0.3), 0px 1px 3px 1px rgba(60, 64, 67, 0.15);\n",
              "      fill: #174EA6;\n",
              "    }\n",
              "\n",
              "    [theme=dark] .colab-df-convert {\n",
              "      background-color: #3B4455;\n",
              "      fill: #D2E3FC;\n",
              "    }\n",
              "\n",
              "    [theme=dark] .colab-df-convert:hover {\n",
              "      background-color: #434B5C;\n",
              "      box-shadow: 0px 1px 3px 1px rgba(0, 0, 0, 0.15);\n",
              "      filter: drop-shadow(0px 1px 2px rgba(0, 0, 0, 0.3));\n",
              "      fill: #FFFFFF;\n",
              "    }\n",
              "  </style>\n",
              "\n",
              "      <script>\n",
              "        const buttonEl =\n",
              "          document.querySelector('#df-7c3a9ee4-cf3c-4a1b-acea-6f4afa4ccad8 button.colab-df-convert');\n",
              "        buttonEl.style.display =\n",
              "          google.colab.kernel.accessAllowed ? 'block' : 'none';\n",
              "\n",
              "        async function convertToInteractive(key) {\n",
              "          const element = document.querySelector('#df-7c3a9ee4-cf3c-4a1b-acea-6f4afa4ccad8');\n",
              "          const dataTable =\n",
              "            await google.colab.kernel.invokeFunction('convertToInteractive',\n",
              "                                                     [key], {});\n",
              "          if (!dataTable) return;\n",
              "\n",
              "          const docLinkHtml = 'Like what you see? Visit the ' +\n",
              "            '<a target=\"_blank\" href=https://colab.research.google.com/notebooks/data_table.ipynb>data table notebook</a>'\n",
              "            + ' to learn more about interactive tables.';\n",
              "          element.innerHTML = '';\n",
              "          dataTable['output_type'] = 'display_data';\n",
              "          await google.colab.output.renderOutput(dataTable, element);\n",
              "          const docLink = document.createElement('div');\n",
              "          docLink.innerHTML = docLinkHtml;\n",
              "          element.appendChild(docLink);\n",
              "        }\n",
              "      </script>\n",
              "    </div>\n",
              "  </div>\n",
              "  "
            ]
          },
          "metadata": {},
          "execution_count": 137
        }
      ]
    },
    {
      "cell_type": "code",
      "source": [
        "dfMetal.dropoff_site.unique()"
      ],
      "metadata": {
        "colab": {
          "base_uri": "https://localhost:8080/"
        },
        "id": "yF8UQ75PQEBw",
        "outputId": "63fae2d4-3402-4913-eae2-2dc3edaf8b4b"
      },
      "execution_count": 138,
      "outputs": [
        {
          "output_type": "execute_result",
          "data": {
            "text/plain": [
              "array(['AUSTIN IRON AND METAL', 'ORGANICS BY GOSH', 'MRF', 'TDS LANDFILL'],\n",
              "      dtype=object)"
            ]
          },
          "metadata": {},
          "execution_count": 138
        }
      ]
    },
    {
      "cell_type": "markdown",
      "source": [
        "note : ada 4 site yang dikhususkan untuk pengolahan limbah `RECYCLED METAL`"
      ],
      "metadata": {
        "id": "OpXwzH7CQrUR"
      }
    },
    {
      "cell_type": "code",
      "source": [
        "totalMetal = dfMetal.groupby(dfMetal['dropoff_site'],sort=True).sum()\n",
        "totalMetal"
      ],
      "metadata": {
        "colab": {
          "base_uri": "https://localhost:8080/",
          "height": 206
        },
        "id": "jTdzPh6wQy3u",
        "outputId": "39331c40-bb8f-492f-f87c-113735912174"
      },
      "execution_count": 139,
      "outputs": [
        {
          "output_type": "execute_result",
          "data": {
            "text/plain": [
              "                       load_weight\n",
              "dropoff_site                      \n",
              "AUSTIN IRON AND METAL      22560.0\n",
              "MRF                          230.0\n",
              "ORGANICS BY GOSH           62660.0\n",
              "TDS LANDFILL                 220.0"
            ],
            "text/html": [
              "\n",
              "  <div id=\"df-a4b66066-8904-43d0-b071-51be13ea7ff4\">\n",
              "    <div class=\"colab-df-container\">\n",
              "      <div>\n",
              "<style scoped>\n",
              "    .dataframe tbody tr th:only-of-type {\n",
              "        vertical-align: middle;\n",
              "    }\n",
              "\n",
              "    .dataframe tbody tr th {\n",
              "        vertical-align: top;\n",
              "    }\n",
              "\n",
              "    .dataframe thead th {\n",
              "        text-align: right;\n",
              "    }\n",
              "</style>\n",
              "<table border=\"1\" class=\"dataframe\">\n",
              "  <thead>\n",
              "    <tr style=\"text-align: right;\">\n",
              "      <th></th>\n",
              "      <th>load_weight</th>\n",
              "    </tr>\n",
              "    <tr>\n",
              "      <th>dropoff_site</th>\n",
              "      <th></th>\n",
              "    </tr>\n",
              "  </thead>\n",
              "  <tbody>\n",
              "    <tr>\n",
              "      <th>AUSTIN IRON AND METAL</th>\n",
              "      <td>22560.0</td>\n",
              "    </tr>\n",
              "    <tr>\n",
              "      <th>MRF</th>\n",
              "      <td>230.0</td>\n",
              "    </tr>\n",
              "    <tr>\n",
              "      <th>ORGANICS BY GOSH</th>\n",
              "      <td>62660.0</td>\n",
              "    </tr>\n",
              "    <tr>\n",
              "      <th>TDS LANDFILL</th>\n",
              "      <td>220.0</td>\n",
              "    </tr>\n",
              "  </tbody>\n",
              "</table>\n",
              "</div>\n",
              "      <button class=\"colab-df-convert\" onclick=\"convertToInteractive('df-a4b66066-8904-43d0-b071-51be13ea7ff4')\"\n",
              "              title=\"Convert this dataframe to an interactive table.\"\n",
              "              style=\"display:none;\">\n",
              "        \n",
              "  <svg xmlns=\"http://www.w3.org/2000/svg\" height=\"24px\"viewBox=\"0 0 24 24\"\n",
              "       width=\"24px\">\n",
              "    <path d=\"M0 0h24v24H0V0z\" fill=\"none\"/>\n",
              "    <path d=\"M18.56 5.44l.94 2.06.94-2.06 2.06-.94-2.06-.94-.94-2.06-.94 2.06-2.06.94zm-11 1L8.5 8.5l.94-2.06 2.06-.94-2.06-.94L8.5 2.5l-.94 2.06-2.06.94zm10 10l.94 2.06.94-2.06 2.06-.94-2.06-.94-.94-2.06-.94 2.06-2.06.94z\"/><path d=\"M17.41 7.96l-1.37-1.37c-.4-.4-.92-.59-1.43-.59-.52 0-1.04.2-1.43.59L10.3 9.45l-7.72 7.72c-.78.78-.78 2.05 0 2.83L4 21.41c.39.39.9.59 1.41.59.51 0 1.02-.2 1.41-.59l7.78-7.78 2.81-2.81c.8-.78.8-2.07 0-2.86zM5.41 20L4 18.59l7.72-7.72 1.47 1.35L5.41 20z\"/>\n",
              "  </svg>\n",
              "      </button>\n",
              "      \n",
              "  <style>\n",
              "    .colab-df-container {\n",
              "      display:flex;\n",
              "      flex-wrap:wrap;\n",
              "      gap: 12px;\n",
              "    }\n",
              "\n",
              "    .colab-df-convert {\n",
              "      background-color: #E8F0FE;\n",
              "      border: none;\n",
              "      border-radius: 50%;\n",
              "      cursor: pointer;\n",
              "      display: none;\n",
              "      fill: #1967D2;\n",
              "      height: 32px;\n",
              "      padding: 0 0 0 0;\n",
              "      width: 32px;\n",
              "    }\n",
              "\n",
              "    .colab-df-convert:hover {\n",
              "      background-color: #E2EBFA;\n",
              "      box-shadow: 0px 1px 2px rgba(60, 64, 67, 0.3), 0px 1px 3px 1px rgba(60, 64, 67, 0.15);\n",
              "      fill: #174EA6;\n",
              "    }\n",
              "\n",
              "    [theme=dark] .colab-df-convert {\n",
              "      background-color: #3B4455;\n",
              "      fill: #D2E3FC;\n",
              "    }\n",
              "\n",
              "    [theme=dark] .colab-df-convert:hover {\n",
              "      background-color: #434B5C;\n",
              "      box-shadow: 0px 1px 3px 1px rgba(0, 0, 0, 0.15);\n",
              "      filter: drop-shadow(0px 1px 2px rgba(0, 0, 0, 0.3));\n",
              "      fill: #FFFFFF;\n",
              "    }\n",
              "  </style>\n",
              "\n",
              "      <script>\n",
              "        const buttonEl =\n",
              "          document.querySelector('#df-a4b66066-8904-43d0-b071-51be13ea7ff4 button.colab-df-convert');\n",
              "        buttonEl.style.display =\n",
              "          google.colab.kernel.accessAllowed ? 'block' : 'none';\n",
              "\n",
              "        async function convertToInteractive(key) {\n",
              "          const element = document.querySelector('#df-a4b66066-8904-43d0-b071-51be13ea7ff4');\n",
              "          const dataTable =\n",
              "            await google.colab.kernel.invokeFunction('convertToInteractive',\n",
              "                                                     [key], {});\n",
              "          if (!dataTable) return;\n",
              "\n",
              "          const docLinkHtml = 'Like what you see? Visit the ' +\n",
              "            '<a target=\"_blank\" href=https://colab.research.google.com/notebooks/data_table.ipynb>data table notebook</a>'\n",
              "            + ' to learn more about interactive tables.';\n",
              "          element.innerHTML = '';\n",
              "          dataTable['output_type'] = 'display_data';\n",
              "          await google.colab.output.renderOutput(dataTable, element);\n",
              "          const docLink = document.createElement('div');\n",
              "          docLink.innerHTML = docLinkHtml;\n",
              "          element.appendChild(docLink);\n",
              "        }\n",
              "      </script>\n",
              "    </div>\n",
              "  </div>\n",
              "  "
            ]
          },
          "metadata": {},
          "execution_count": 139
        }
      ]
    },
    {
      "cell_type": "markdown",
      "source": [
        "note : data pembanding yang menarik perhatian yaitu site `ORGANICS BY GOSH` karena limbah yang diolah cukup besar"
      ],
      "metadata": {
        "id": "bjCK27O5RWyw"
      }
    },
    {
      "cell_type": "code",
      "source": [
        "dfOrganics = dfMetal.loc[dfMetal['dropoff_site'] == 'ORGANICS BY GOSH']\n",
        "dfOrganics"
      ],
      "metadata": {
        "colab": {
          "base_uri": "https://localhost:8080/",
          "height": 206
        },
        "id": "FWGQdyvCSUMy",
        "outputId": "6ae66911-4d76-48ad-8252-d49b3e9aa08e"
      },
      "execution_count": 140,
      "outputs": [
        {
          "output_type": "execute_result",
          "data": {
            "text/plain": [
              "            load_type  load_weight      dropoff_site        date\n",
              "1477   RECYCLED METAL       8260.0  ORGANICS BY GOSH  2021-03-03\n",
              "4530   RECYCLED METAL       5160.0  ORGANICS BY GOSH  2021-03-22\n",
              "6445   RECYCLED METAL      17440.0  ORGANICS BY GOSH  2021-04-02\n",
              "7814   RECYCLED METAL      20760.0  ORGANICS BY GOSH  2021-04-13\n",
              "16644  RECYCLED METAL      11040.0  ORGANICS BY GOSH  2021-06-17"
            ],
            "text/html": [
              "\n",
              "  <div id=\"df-58e7f82a-47c6-4a18-9b8f-06cb099741ee\">\n",
              "    <div class=\"colab-df-container\">\n",
              "      <div>\n",
              "<style scoped>\n",
              "    .dataframe tbody tr th:only-of-type {\n",
              "        vertical-align: middle;\n",
              "    }\n",
              "\n",
              "    .dataframe tbody tr th {\n",
              "        vertical-align: top;\n",
              "    }\n",
              "\n",
              "    .dataframe thead th {\n",
              "        text-align: right;\n",
              "    }\n",
              "</style>\n",
              "<table border=\"1\" class=\"dataframe\">\n",
              "  <thead>\n",
              "    <tr style=\"text-align: right;\">\n",
              "      <th></th>\n",
              "      <th>load_type</th>\n",
              "      <th>load_weight</th>\n",
              "      <th>dropoff_site</th>\n",
              "      <th>date</th>\n",
              "    </tr>\n",
              "  </thead>\n",
              "  <tbody>\n",
              "    <tr>\n",
              "      <th>1477</th>\n",
              "      <td>RECYCLED METAL</td>\n",
              "      <td>8260.0</td>\n",
              "      <td>ORGANICS BY GOSH</td>\n",
              "      <td>2021-03-03</td>\n",
              "    </tr>\n",
              "    <tr>\n",
              "      <th>4530</th>\n",
              "      <td>RECYCLED METAL</td>\n",
              "      <td>5160.0</td>\n",
              "      <td>ORGANICS BY GOSH</td>\n",
              "      <td>2021-03-22</td>\n",
              "    </tr>\n",
              "    <tr>\n",
              "      <th>6445</th>\n",
              "      <td>RECYCLED METAL</td>\n",
              "      <td>17440.0</td>\n",
              "      <td>ORGANICS BY GOSH</td>\n",
              "      <td>2021-04-02</td>\n",
              "    </tr>\n",
              "    <tr>\n",
              "      <th>7814</th>\n",
              "      <td>RECYCLED METAL</td>\n",
              "      <td>20760.0</td>\n",
              "      <td>ORGANICS BY GOSH</td>\n",
              "      <td>2021-04-13</td>\n",
              "    </tr>\n",
              "    <tr>\n",
              "      <th>16644</th>\n",
              "      <td>RECYCLED METAL</td>\n",
              "      <td>11040.0</td>\n",
              "      <td>ORGANICS BY GOSH</td>\n",
              "      <td>2021-06-17</td>\n",
              "    </tr>\n",
              "  </tbody>\n",
              "</table>\n",
              "</div>\n",
              "      <button class=\"colab-df-convert\" onclick=\"convertToInteractive('df-58e7f82a-47c6-4a18-9b8f-06cb099741ee')\"\n",
              "              title=\"Convert this dataframe to an interactive table.\"\n",
              "              style=\"display:none;\">\n",
              "        \n",
              "  <svg xmlns=\"http://www.w3.org/2000/svg\" height=\"24px\"viewBox=\"0 0 24 24\"\n",
              "       width=\"24px\">\n",
              "    <path d=\"M0 0h24v24H0V0z\" fill=\"none\"/>\n",
              "    <path d=\"M18.56 5.44l.94 2.06.94-2.06 2.06-.94-2.06-.94-.94-2.06-.94 2.06-2.06.94zm-11 1L8.5 8.5l.94-2.06 2.06-.94-2.06-.94L8.5 2.5l-.94 2.06-2.06.94zm10 10l.94 2.06.94-2.06 2.06-.94-2.06-.94-.94-2.06-.94 2.06-2.06.94z\"/><path d=\"M17.41 7.96l-1.37-1.37c-.4-.4-.92-.59-1.43-.59-.52 0-1.04.2-1.43.59L10.3 9.45l-7.72 7.72c-.78.78-.78 2.05 0 2.83L4 21.41c.39.39.9.59 1.41.59.51 0 1.02-.2 1.41-.59l7.78-7.78 2.81-2.81c.8-.78.8-2.07 0-2.86zM5.41 20L4 18.59l7.72-7.72 1.47 1.35L5.41 20z\"/>\n",
              "  </svg>\n",
              "      </button>\n",
              "      \n",
              "  <style>\n",
              "    .colab-df-container {\n",
              "      display:flex;\n",
              "      flex-wrap:wrap;\n",
              "      gap: 12px;\n",
              "    }\n",
              "\n",
              "    .colab-df-convert {\n",
              "      background-color: #E8F0FE;\n",
              "      border: none;\n",
              "      border-radius: 50%;\n",
              "      cursor: pointer;\n",
              "      display: none;\n",
              "      fill: #1967D2;\n",
              "      height: 32px;\n",
              "      padding: 0 0 0 0;\n",
              "      width: 32px;\n",
              "    }\n",
              "\n",
              "    .colab-df-convert:hover {\n",
              "      background-color: #E2EBFA;\n",
              "      box-shadow: 0px 1px 2px rgba(60, 64, 67, 0.3), 0px 1px 3px 1px rgba(60, 64, 67, 0.15);\n",
              "      fill: #174EA6;\n",
              "    }\n",
              "\n",
              "    [theme=dark] .colab-df-convert {\n",
              "      background-color: #3B4455;\n",
              "      fill: #D2E3FC;\n",
              "    }\n",
              "\n",
              "    [theme=dark] .colab-df-convert:hover {\n",
              "      background-color: #434B5C;\n",
              "      box-shadow: 0px 1px 3px 1px rgba(0, 0, 0, 0.15);\n",
              "      filter: drop-shadow(0px 1px 2px rgba(0, 0, 0, 0.3));\n",
              "      fill: #FFFFFF;\n",
              "    }\n",
              "  </style>\n",
              "\n",
              "      <script>\n",
              "        const buttonEl =\n",
              "          document.querySelector('#df-58e7f82a-47c6-4a18-9b8f-06cb099741ee button.colab-df-convert');\n",
              "        buttonEl.style.display =\n",
              "          google.colab.kernel.accessAllowed ? 'block' : 'none';\n",
              "\n",
              "        async function convertToInteractive(key) {\n",
              "          const element = document.querySelector('#df-58e7f82a-47c6-4a18-9b8f-06cb099741ee');\n",
              "          const dataTable =\n",
              "            await google.colab.kernel.invokeFunction('convertToInteractive',\n",
              "                                                     [key], {});\n",
              "          if (!dataTable) return;\n",
              "\n",
              "          const docLinkHtml = 'Like what you see? Visit the ' +\n",
              "            '<a target=\"_blank\" href=https://colab.research.google.com/notebooks/data_table.ipynb>data table notebook</a>'\n",
              "            + ' to learn more about interactive tables.';\n",
              "          element.innerHTML = '';\n",
              "          dataTable['output_type'] = 'display_data';\n",
              "          await google.colab.output.renderOutput(dataTable, element);\n",
              "          const docLink = document.createElement('div');\n",
              "          docLink.innerHTML = docLinkHtml;\n",
              "          element.appendChild(docLink);\n",
              "        }\n",
              "      </script>\n",
              "    </div>\n",
              "  </div>\n",
              "  "
            ]
          },
          "metadata": {},
          "execution_count": 140
        }
      ]
    },
    {
      "cell_type": "code",
      "source": [
        "totalOrganics = dfOrganics['load_weight'].sum()\n",
        "totalOrganics"
      ],
      "metadata": {
        "colab": {
          "base_uri": "https://localhost:8080/"
        },
        "id": "Q1YcKrWjSlgQ",
        "outputId": "cd721c60-1d13-4315-c347-b38a9e3f8eaa"
      },
      "execution_count": 141,
      "outputs": [
        {
          "output_type": "execute_result",
          "data": {
            "text/plain": [
              "62660.0"
            ]
          },
          "metadata": {},
          "execution_count": 141
        }
      ]
    },
    {
      "cell_type": "markdown",
      "source": [
        "note : total limbah `RECYCLED METAL` yang ada di site `ORGANICS BY GOSH` adalah 62660"
      ],
      "metadata": {
        "id": "MVAq-gRvTTGy"
      }
    },
    {
      "cell_type": "markdown",
      "source": [
        "- Nilai Mean, Median, Modus, Variansi dan Standard Deviasi dari site `ORGANICS BY GOSH`"
      ],
      "metadata": {
        "id": "s-ojdsjPTej9"
      }
    },
    {
      "cell_type": "code",
      "source": [
        "# Define Function Mean, Median, Mode, Variance & Standar\n",
        "\n",
        "orgMean = dfOrganics['load_weight'].mean()\n",
        "orgMed = dfOrganics['load_weight'].median()\n",
        "orgMod = dfOrganics['load_weight'].mode()\n",
        "orgVar = dfOrganics['load_weight'].var()\n",
        "orgStd = dfOrganics['load_weight'].std()\n",
        "\n",
        "# Print Value\n",
        "\n",
        "print('Nilai Mean dari data ORGANICS BY GOSH : ', orgMean)\n",
        "print('Nilai Median dari data ORGANICS BY GOSH : ', orgMed)\n",
        "print('Nilai Modus dari data ORGANICS BY GOSH :\\n', orgMod)\n",
        "print('Nilai Variansi dari data ORGANICS BY GOSH : ', orgVar)\n",
        "print('Nilai Standard dari data ORGANICS BY GOSH : ', orgStd)"
      ],
      "metadata": {
        "colab": {
          "base_uri": "https://localhost:8080/"
        },
        "id": "g40NtwZRTri2",
        "outputId": "f63e41bc-348d-412b-97a2-6f23dcd855ba"
      },
      "execution_count": 142,
      "outputs": [
        {
          "output_type": "stream",
          "name": "stdout",
          "text": [
            "Nilai Mean dari data ORGANICS BY GOSH :  12532.0\n",
            "Nilai Median dari data ORGANICS BY GOSH :  11040.0\n",
            "Nilai Modus dari data ORGANICS BY GOSH :\n",
            " 0     5160.0\n",
            "1     8260.0\n",
            "2    11040.0\n",
            "3    17440.0\n",
            "4    20760.0\n",
            "dtype: float64\n",
            "Nilai Variansi dari data ORGANICS BY GOSH :  41652720.0\n",
            "Nilai Standard dari data ORGANICS BY GOSH :  6453.891849109342\n"
          ]
        }
      ]
    },
    {
      "cell_type": "markdown",
      "source": [
        "- Create Distribution Plot of `ORGANICS BY GOSH`"
      ],
      "metadata": {
        "id": "7u7eTaaQUu6k"
      }
    },
    {
      "cell_type": "code",
      "source": [
        "# Ploting of Distribution Plot\n",
        "\n",
        "dfOrganics.plot.hist(Label = 'ORGANICS BY GOSH', color='magenta', bins=20)\n",
        "plt.axvline(orgMean, color='blue', linestyle='dashed', linewidth=2)\n",
        "plt.axvline(orgMed, color='black', linestyle='dashed', linewidth=2)\n",
        "plt.show()"
      ],
      "metadata": {
        "colab": {
          "base_uri": "https://localhost:8080/",
          "height": 265
        },
        "id": "by6LUxXJU1h4",
        "outputId": "277118d1-e926-407c-8184-13fdc0a43a9c"
      },
      "execution_count": 143,
      "outputs": [
        {
          "output_type": "display_data",
          "data": {
            "text/plain": [
              "<Figure size 432x288 with 1 Axes>"
            ],
            "image/png": "[encoded data removed]"
          },
          "metadata": {
            "needs_background": "light"
          }
        }
      ]
    },
    {
      "cell_type": "markdown",
      "source": [
        "- Nilai Percentile dan Quartile dari `ORGANICS BY GOSH`"
      ],
      "metadata": {
        "id": "4Wr6SGZeWpPl"
      }
    },
    {
      "cell_type": "code",
      "source": [
        "# Define Function Percentile & Quartile\n",
        "\n",
        "quartOrg = percentile(dfOrganics['load_weight'], [25, 50, 75])\n",
        "orgMin, orgMax = dfOrganics['load_weight'].min(), dfOrganics['load_weight'].max()\n",
        "\n",
        "QOrg0 = quartOrg[0]\n",
        "QOrg1 = quartOrg[1]\n",
        "QOrg2 = quartOrg[2]\n",
        "\n",
        "# Print Value\n",
        "\n",
        "print('Nilai Minimal dfOrganics : ', balcMin)\n",
        "print('Quartile ke 0 dari dfOrganics : ', QOrg0)\n",
        "print('Quartile ke 1 dari dfOrganics : ', QOrg1)\n",
        "print('Quartile ke 2 dari dfOrganics : ', QOrg2)\n",
        "print('Nilai Maximal dfOrganics : ', balcMax)"
      ],
      "metadata": {
        "colab": {
          "base_uri": "https://localhost:8080/"
        },
        "id": "OehaVkdcWwb5",
        "outputId": "73dfcf42-14ff-4562-a385-76cb3a8dd657"
      },
      "execution_count": 172,
      "outputs": [
        {
          "output_type": "stream",
          "name": "stdout",
          "text": [
            "Nilai Minimal dfOrganics :  140.0\n",
            "Quartile ke 0 dari dfOrganics :  8260.0\n",
            "Quartile ke 1 dari dfOrganics :  11040.0\n",
            "Quartile ke 2 dari dfOrganics :  17440.0\n",
            "Nilai Maximal dfOrganics :  25780.0\n"
          ]
        }
      ]
    },
    {
      "cell_type": "code",
      "source": [
        "# Define Function of Extreme Value\n",
        "\n",
        "IQROrg = QOrg2 - QOrg0\n",
        "upperOrg = QOrg2 + 1.5 * IQR\n",
        "lowerOrg = QOrg0 - 1.5 * IQR\n",
        "\n",
        "# Print Value\n",
        "\n",
        "print('Nilai Extreme dari dfOrganics : ', IQROrg)\n",
        "print('Nilai Upper dari dfOrganics : ', upperOrg)\n",
        "print('Nilai Lower dari dfOrganics : ', lowerOrg)"
      ],
      "metadata": {
        "colab": {
          "base_uri": "https://localhost:8080/"
        },
        "id": "nCTDaMd44uMy",
        "outputId": "add01fdf-8c92-490c-d20b-4ece126b22f1"
      },
      "execution_count": 173,
      "outputs": [
        {
          "output_type": "stream",
          "name": "stdout",
          "text": [
            "Nilai Extreme dari dfBalcones :  9180.0\n",
            "Nilai Upper dari dfBalcones :  26170.0\n",
            "Nilai Lower dari dfBalcones :  -470.0\n"
          ]
        }
      ]
    },
    {
      "cell_type": "code",
      "source": [
        "# Cari data outlier berdasarkan nilai upper dfOrganics\n",
        "\n",
        "dfOrganics.loc[dfOrganics['load_weight'] > 26170]"
      ],
      "metadata": {
        "colab": {
          "base_uri": "https://localhost:8080/",
          "height": 49
        },
        "id": "tYJaafGx5EQ-",
        "outputId": "8e2586a7-fdac-4a67-89e0-820262fe1cc7"
      },
      "execution_count": 174,
      "outputs": [
        {
          "output_type": "execute_result",
          "data": {
            "text/plain": [
              "Empty DataFrame\n",
              "Columns: [load_type, load_weight, dropoff_site, date]\n",
              "Index: []"
            ],
            "text/html": [
              "\n",
              "  <div id=\"df-9a2d74de-6eec-4ad3-937f-4275354c483a\">\n",
              "    <div class=\"colab-df-container\">\n",
              "      <div>\n",
              "<style scoped>\n",
              "    .dataframe tbody tr th:only-of-type {\n",
              "        vertical-align: middle;\n",
              "    }\n",
              "\n",
              "    .dataframe tbody tr th {\n",
              "        vertical-align: top;\n",
              "    }\n",
              "\n",
              "    .dataframe thead th {\n",
              "        text-align: right;\n",
              "    }\n",
              "</style>\n",
              "<table border=\"1\" class=\"dataframe\">\n",
              "  <thead>\n",
              "    <tr style=\"text-align: right;\">\n",
              "      <th></th>\n",
              "      <th>load_type</th>\n",
              "      <th>load_weight</th>\n",
              "      <th>dropoff_site</th>\n",
              "      <th>date</th>\n",
              "    </tr>\n",
              "  </thead>\n",
              "  <tbody>\n",
              "  </tbody>\n",
              "</table>\n",
              "</div>\n",
              "      <button class=\"colab-df-convert\" onclick=\"convertToInteractive('df-9a2d74de-6eec-4ad3-937f-4275354c483a')\"\n",
              "              title=\"Convert this dataframe to an interactive table.\"\n",
              "              style=\"display:none;\">\n",
              "        \n",
              "  <svg xmlns=\"http://www.w3.org/2000/svg\" height=\"24px\"viewBox=\"0 0 24 24\"\n",
              "       width=\"24px\">\n",
              "    <path d=\"M0 0h24v24H0V0z\" fill=\"none\"/>\n",
              "    <path d=\"M18.56 5.44l.94 2.06.94-2.06 2.06-.94-2.06-.94-.94-2.06-.94 2.06-2.06.94zm-11 1L8.5 8.5l.94-2.06 2.06-.94-2.06-.94L8.5 2.5l-.94 2.06-2.06.94zm10 10l.94 2.06.94-2.06 2.06-.94-2.06-.94-.94-2.06-.94 2.06-2.06.94z\"/><path d=\"M17.41 7.96l-1.37-1.37c-.4-.4-.92-.59-1.43-.59-.52 0-1.04.2-1.43.59L10.3 9.45l-7.72 7.72c-.78.78-.78 2.05 0 2.83L4 21.41c.39.39.9.59 1.41.59.51 0 1.02-.2 1.41-.59l7.78-7.78 2.81-2.81c.8-.78.8-2.07 0-2.86zM5.41 20L4 18.59l7.72-7.72 1.47 1.35L5.41 20z\"/>\n",
              "  </svg>\n",
              "      </button>\n",
              "      \n",
              "  <style>\n",
              "    .colab-df-container {\n",
              "      display:flex;\n",
              "      flex-wrap:wrap;\n",
              "      gap: 12px;\n",
              "    }\n",
              "\n",
              "    .colab-df-convert {\n",
              "      background-color: #E8F0FE;\n",
              "      border: none;\n",
              "      border-radius: 50%;\n",
              "      cursor: pointer;\n",
              "      display: none;\n",
              "      fill: #1967D2;\n",
              "      height: 32px;\n",
              "      padding: 0 0 0 0;\n",
              "      width: 32px;\n",
              "    }\n",
              "\n",
              "    .colab-df-convert:hover {\n",
              "      background-color: #E2EBFA;\n",
              "      box-shadow: 0px 1px 2px rgba(60, 64, 67, 0.3), 0px 1px 3px 1px rgba(60, 64, 67, 0.15);\n",
              "      fill: #174EA6;\n",
              "    }\n",
              "\n",
              "    [theme=dark] .colab-df-convert {\n",
              "      background-color: #3B4455;\n",
              "      fill: #D2E3FC;\n",
              "    }\n",
              "\n",
              "    [theme=dark] .colab-df-convert:hover {\n",
              "      background-color: #434B5C;\n",
              "      box-shadow: 0px 1px 3px 1px rgba(0, 0, 0, 0.15);\n",
              "      filter: drop-shadow(0px 1px 2px rgba(0, 0, 0, 0.3));\n",
              "      fill: #FFFFFF;\n",
              "    }\n",
              "  </style>\n",
              "\n",
              "      <script>\n",
              "        const buttonEl =\n",
              "          document.querySelector('#df-9a2d74de-6eec-4ad3-937f-4275354c483a button.colab-df-convert');\n",
              "        buttonEl.style.display =\n",
              "          google.colab.kernel.accessAllowed ? 'block' : 'none';\n",
              "\n",
              "        async function convertToInteractive(key) {\n",
              "          const element = document.querySelector('#df-9a2d74de-6eec-4ad3-937f-4275354c483a');\n",
              "          const dataTable =\n",
              "            await google.colab.kernel.invokeFunction('convertToInteractive',\n",
              "                                                     [key], {});\n",
              "          if (!dataTable) return;\n",
              "\n",
              "          const docLinkHtml = 'Like what you see? Visit the ' +\n",
              "            '<a target=\"_blank\" href=https://colab.research.google.com/notebooks/data_table.ipynb>data table notebook</a>'\n",
              "            + ' to learn more about interactive tables.';\n",
              "          element.innerHTML = '';\n",
              "          dataTable['output_type'] = 'display_data';\n",
              "          await google.colab.output.renderOutput(dataTable, element);\n",
              "          const docLink = document.createElement('div');\n",
              "          docLink.innerHTML = docLinkHtml;\n",
              "          element.appendChild(docLink);\n",
              "        }\n",
              "      </script>\n",
              "    </div>\n",
              "  </div>\n",
              "  "
            ]
          },
          "metadata": {},
          "execution_count": 174
        }
      ]
    },
    {
      "cell_type": "markdown",
      "source": [
        "note : Tidak ada data outlier didalam `dfOrganics`"
      ],
      "metadata": {
        "id": "TPos1_GQ5YKJ"
      }
    },
    {
      "cell_type": "code",
      "source": [
        "# Outlier Visualization\n",
        "\n",
        "sns.boxplot(data = dfOrganics, y = 'load_weight')"
      ],
      "metadata": {
        "colab": {
          "base_uri": "https://localhost:8080/",
          "height": 269
        },
        "id": "2uv-gA6O5fqV",
        "outputId": "5d44d879-315d-47f0-e590-d029728aa06e"
      },
      "execution_count": 175,
      "outputs": [
        {
          "output_type": "execute_result",
          "data": {
            "text/plain": [
              "<matplotlib.axes._subplots.AxesSubplot at 0x7eff767adca0>"
            ]
          },
          "metadata": {},
          "execution_count": 175
        },
        {
          "output_type": "display_data",
          "data": {
            "text/plain": [
              "<Figure size 432x288 with 1 Axes>"
            ],
            "image/png": "[encoded data removed]"
          },
          "metadata": {
            "needs_background": "light"
          }
        }
      ]
    },
    {
      "cell_type": "code",
      "source": [
        "# Check Skewness\n",
        "\n",
        "dfOrganics['load_weight'].skew()"
      ],
      "metadata": {
        "colab": {
          "base_uri": "https://localhost:8080/"
        },
        "id": "EJiBkyS05q1C",
        "outputId": "632c8f7d-b828-49f9-cc5f-bdad0d1656aa"
      },
      "execution_count": 177,
      "outputs": [
        {
          "output_type": "execute_result",
          "data": {
            "text/plain": [
              "0.2996635625809256"
            ]
          },
          "metadata": {},
          "execution_count": 177
        }
      ]
    },
    {
      "cell_type": "markdown",
      "source": [
        "# Problem 1.7 : Interval Confidence\n",
        "\n",
        "---\n",
        "\n"
      ],
      "metadata": {
        "id": "WXtrTv2IZrhq"
      }
    },
    {
      "cell_type": "code",
      "source": [
        "# Define new variable\n",
        "\n",
        "dailyWaste = dfRecycle[['load_type', 'load_weight']].groupby(dfRecycle['date']).sum()\n",
        "print('Average waste for a day in BALCONES RECYCLING : ', dailyWaste['load_weight'].mean())"
      ],
      "metadata": {
        "colab": {
          "base_uri": "https://localhost:8080/"
        },
        "id": "1tSN-Ecf8Bst",
        "outputId": "21151399-9156-436e-cc81-918d62120226"
      },
      "execution_count": 217,
      "outputs": [
        {
          "output_type": "stream",
          "name": "stdout",
          "text": [
            "Average waste for a day in BALCONES RECYCLING :  492079.01515151514\n"
          ]
        }
      ]
    },
    {
      "cell_type": "code",
      "source": [
        "# Call the variable\n",
        "\n",
        "dailyWaste"
      ],
      "metadata": {
        "colab": {
          "base_uri": "https://localhost:8080/",
          "height": 455
        },
        "id": "OyTfTBOfCYqo",
        "outputId": "38aa580d-456f-407c-90d0-edfa43c5df29"
      },
      "execution_count": 206,
      "outputs": [
        {
          "output_type": "execute_result",
          "data": {
            "text/plain": [
              "            load_weight\n",
              "date                   \n",
              "2021-01-02     555940.0\n",
              "2021-01-04     602120.0\n",
              "2021-01-05     619260.0\n",
              "2021-01-06     571820.0\n",
              "2021-01-07     613680.0\n",
              "...                 ...\n",
              "2021-07-01     379940.0\n",
              "2021-07-02     326910.0\n",
              "2021-07-05     304420.0\n",
              "2021-07-06     337440.0\n",
              "2021-07-07     129820.0\n",
              "\n",
              "[132 rows x 1 columns]"
            ],
            "text/html": [
              "\n",
              "  <div id=\"df-a8d1beb8-6512-4c1c-a74f-31c61887d51a\">\n",
              "    <div class=\"colab-df-container\">\n",
              "      <div>\n",
              "<style scoped>\n",
              "    .dataframe tbody tr th:only-of-type {\n",
              "        vertical-align: middle;\n",
              "    }\n",
              "\n",
              "    .dataframe tbody tr th {\n",
              "        vertical-align: top;\n",
              "    }\n",
              "\n",
              "    .dataframe thead th {\n",
              "        text-align: right;\n",
              "    }\n",
              "</style>\n",
              "<table border=\"1\" class=\"dataframe\">\n",
              "  <thead>\n",
              "    <tr style=\"text-align: right;\">\n",
              "      <th></th>\n",
              "      <th>load_weight</th>\n",
              "    </tr>\n",
              "    <tr>\n",
              "      <th>date</th>\n",
              "      <th></th>\n",
              "    </tr>\n",
              "  </thead>\n",
              "  <tbody>\n",
              "    <tr>\n",
              "      <th>2021-01-02</th>\n",
              "      <td>555940.0</td>\n",
              "    </tr>\n",
              "    <tr>\n",
              "      <th>2021-01-04</th>\n",
              "      <td>602120.0</td>\n",
              "    </tr>\n",
              "    <tr>\n",
              "      <th>2021-01-05</th>\n",
              "      <td>619260.0</td>\n",
              "    </tr>\n",
              "    <tr>\n",
              "      <th>2021-01-06</th>\n",
              "      <td>571820.0</td>\n",
              "    </tr>\n",
              "    <tr>\n",
              "      <th>2021-01-07</th>\n",
              "      <td>613680.0</td>\n",
              "    </tr>\n",
              "    <tr>\n",
              "      <th>...</th>\n",
              "      <td>...</td>\n",
              "    </tr>\n",
              "    <tr>\n",
              "      <th>2021-07-01</th>\n",
              "      <td>379940.0</td>\n",
              "    </tr>\n",
              "    <tr>\n",
              "      <th>2021-07-02</th>\n",
              "      <td>326910.0</td>\n",
              "    </tr>\n",
              "    <tr>\n",
              "      <th>2021-07-05</th>\n",
              "      <td>304420.0</td>\n",
              "    </tr>\n",
              "    <tr>\n",
              "      <th>2021-07-06</th>\n",
              "      <td>337440.0</td>\n",
              "    </tr>\n",
              "    <tr>\n",
              "      <th>2021-07-07</th>\n",
              "      <td>129820.0</td>\n",
              "    </tr>\n",
              "  </tbody>\n",
              "</table>\n",
              "<p>132 rows × 1 columns</p>\n",
              "</div>\n",
              "      <button class=\"colab-df-convert\" onclick=\"convertToInteractive('df-a8d1beb8-6512-4c1c-a74f-31c61887d51a')\"\n",
              "              title=\"Convert this dataframe to an interactive table.\"\n",
              "              style=\"display:none;\">\n",
              "        \n",
              "  <svg xmlns=\"http://www.w3.org/2000/svg\" height=\"24px\"viewBox=\"0 0 24 24\"\n",
              "       width=\"24px\">\n",
              "    <path d=\"M0 0h24v24H0V0z\" fill=\"none\"/>\n",
              "    <path d=\"M18.56 5.44l.94 2.06.94-2.06 2.06-.94-2.06-.94-.94-2.06-.94 2.06-2.06.94zm-11 1L8.5 8.5l.94-2.06 2.06-.94-2.06-.94L8.5 2.5l-.94 2.06-2.06.94zm10 10l.94 2.06.94-2.06 2.06-.94-2.06-.94-.94-2.06-.94 2.06-2.06.94z\"/><path d=\"M17.41 7.96l-1.37-1.37c-.4-.4-.92-.59-1.43-.59-.52 0-1.04.2-1.43.59L10.3 9.45l-7.72 7.72c-.78.78-.78 2.05 0 2.83L4 21.41c.39.39.9.59 1.41.59.51 0 1.02-.2 1.41-.59l7.78-7.78 2.81-2.81c.8-.78.8-2.07 0-2.86zM5.41 20L4 18.59l7.72-7.72 1.47 1.35L5.41 20z\"/>\n",
              "  </svg>\n",
              "      </button>\n",
              "      \n",
              "  <style>\n",
              "    .colab-df-container {\n",
              "      display:flex;\n",
              "      flex-wrap:wrap;\n",
              "      gap: 12px;\n",
              "    }\n",
              "\n",
              "    .colab-df-convert {\n",
              "      background-color: #E8F0FE;\n",
              "      border: none;\n",
              "      border-radius: 50%;\n",
              "      cursor: pointer;\n",
              "      display: none;\n",
              "      fill: #1967D2;\n",
              "      height: 32px;\n",
              "      padding: 0 0 0 0;\n",
              "      width: 32px;\n",
              "    }\n",
              "\n",
              "    .colab-df-convert:hover {\n",
              "      background-color: #E2EBFA;\n",
              "      box-shadow: 0px 1px 2px rgba(60, 64, 67, 0.3), 0px 1px 3px 1px rgba(60, 64, 67, 0.15);\n",
              "      fill: #174EA6;\n",
              "    }\n",
              "\n",
              "    [theme=dark] .colab-df-convert {\n",
              "      background-color: #3B4455;\n",
              "      fill: #D2E3FC;\n",
              "    }\n",
              "\n",
              "    [theme=dark] .colab-df-convert:hover {\n",
              "      background-color: #434B5C;\n",
              "      box-shadow: 0px 1px 3px 1px rgba(0, 0, 0, 0.15);\n",
              "      filter: drop-shadow(0px 1px 2px rgba(0, 0, 0, 0.3));\n",
              "      fill: #FFFFFF;\n",
              "    }\n",
              "  </style>\n",
              "\n",
              "      <script>\n",
              "        const buttonEl =\n",
              "          document.querySelector('#df-a8d1beb8-6512-4c1c-a74f-31c61887d51a button.colab-df-convert');\n",
              "        buttonEl.style.display =\n",
              "          google.colab.kernel.accessAllowed ? 'block' : 'none';\n",
              "\n",
              "        async function convertToInteractive(key) {\n",
              "          const element = document.querySelector('#df-a8d1beb8-6512-4c1c-a74f-31c61887d51a');\n",
              "          const dataTable =\n",
              "            await google.colab.kernel.invokeFunction('convertToInteractive',\n",
              "                                                     [key], {});\n",
              "          if (!dataTable) return;\n",
              "\n",
              "          const docLinkHtml = 'Like what you see? Visit the ' +\n",
              "            '<a target=\"_blank\" href=https://colab.research.google.com/notebooks/data_table.ipynb>data table notebook</a>'\n",
              "            + ' to learn more about interactive tables.';\n",
              "          element.innerHTML = '';\n",
              "          dataTable['output_type'] = 'display_data';\n",
              "          await google.colab.output.renderOutput(dataTable, element);\n",
              "          const docLink = document.createElement('div');\n",
              "          docLink.innerHTML = docLinkHtml;\n",
              "          element.appendChild(docLink);\n",
              "        }\n",
              "      </script>\n",
              "    </div>\n",
              "  </div>\n",
              "  "
            ]
          },
          "metadata": {},
          "execution_count": 206
        }
      ]
    },
    {
      "cell_type": "code",
      "source": [
        "# Define Function tTest & pValue\n",
        "\n",
        "t_stat, p_value = stats.ttest_1samp(dailyWaste.load_weight, 400000)\n",
        "\n",
        "# Print Value\n",
        "\n",
        "print('Hasil T-Test : ', t_stat)\n",
        "print('Hasil P_Value : ', p_value)"
      ],
      "metadata": {
        "colab": {
          "base_uri": "https://localhost:8080/"
        },
        "id": "mQP4sGPICiv6",
        "outputId": "f6e282da-576e-4666-cb23-0cf6ac990a65"
      },
      "execution_count": 219,
      "outputs": [
        {
          "output_type": "stream",
          "name": "stdout",
          "text": [
            "Hasil T-Test :  8.611357357644103\n",
            "Hasil P_Value :  1.984633227804853e-14\n"
          ]
        }
      ]
    },
    {
      "cell_type": "code",
      "source": [
        "dailyWastePop = np.random.normal(dailyWaste.load_weight.mean(), dailyWaste.load_weight.std(), 400000)\n",
        "\n",
        "ci = stats.norm.interval(0.90, dailyWaste.load_weight.mean(), dailyWaste.load_weight.std())\n",
        "\n",
        "plt.figure(figsize=(16,5))\n",
        "sns.displot(dailyWaste, label='Daily Waste Population', color='Black')\n",
        "plt.axvline(dailyWaste.load_weight.mean(), color='red', linewidth=2, label='Daily Waste Mean')\n",
        "plt.axvline(ci[1], color='yellow', linestyle='dashed', linewidth=2, label='Confidence Treshold of 95%')\n",
        "plt.axvline(dailyWastePop.mean() + t_stat * dailyWastePop.std(), color='blue', linestyle='dashed', linewidth=2, label='Alternative Hypothesis')\n",
        "plt.legend()"
      ],
      "metadata": {
        "colab": {
          "base_uri": "https://localhost:8080/",
          "height": 417
        },
        "id": "mRLEc6KAC2os",
        "outputId": "ddaaed7d-8005-4705-8035-e76361be1591"
      },
      "execution_count": 220,
      "outputs": [
        {
          "output_type": "execute_result",
          "data": {
            "text/plain": [
              "<matplotlib.legend.Legend at 0x7eff75a9a5e0>"
            ]
          },
          "metadata": {},
          "execution_count": 220
        },
        {
          "output_type": "display_data",
          "data": {
            "text/plain": [
              "<Figure size 1152x360 with 0 Axes>"
            ]
          },
          "metadata": {}
        },
        {
          "output_type": "display_data",
          "data": {
            "text/plain": [
              "<Figure size 456.125x360 with 1 Axes>"
            ],
            "image/png": "[encoded data removed]"
          },
          "metadata": {
            "needs_background": "light"
          }
        }
      ]
    },
    {
      "cell_type": "code",
      "source": [
        "# Fungsi Interval Confidence antara dfBalcones & dfOrganics\n",
        "\n",
        "ci = stats.norm.interval(0.95, dfBalcones['load_weight'].mean(), dfOrganics['load_weight'].std())\n",
        "\n",
        "# print fungsi\n",
        "\n",
        "print('Interval Confident C0 : ', ci[0])\n",
        "print('Interval Confident C1 : ', ci[1])"
      ],
      "metadata": {
        "colab": {
          "base_uri": "https://localhost:8080/"
        },
        "id": "ZDu6xDCVn_6H",
        "outputId": "30aa5e8d-9775-45ec-b113-7e781c7a5034"
      },
      "execution_count": 147,
      "outputs": [
        {
          "output_type": "stream",
          "name": "stdout",
          "text": [
            "Interval Confident C0 :  -3184.743512439727\n",
            "Interval Confident C1 :  22114.04765630212\n"
          ]
        }
      ]
    },
    {
      "cell_type": "markdown",
      "source": [
        "# Problem 1.8 : Analisa Uji Hipotesis\n",
        "\n",
        "---\n",
        "\n"
      ],
      "metadata": {
        "id": "rC348BagZzrd"
      }
    },
    {
      "cell_type": "markdown",
      "source": [
        "Berikut Hipotesis Awal pengujian"
      ],
      "metadata": {
        "id": "42NQRfTar4Ko"
      }
    },
    {
      "cell_type": "markdown",
      "source": [
        "- H0 : μ `BALCONES RECYCLING` `load_weight` = μ `ORGANICS BY GOSH` `load_weight`\n",
        "- H1 : μ `BALCONES RECYCLING` `load_weight` != μ `ORGANICS BY GOSH` `load_weight`"
      ],
      "metadata": {
        "id": "Oj2r9jEuaAtV"
      }
    },
    {
      "cell_type": "markdown",
      "source": [
        "- setelah kita menganilsa dan membandingkan 2 site yaitu `BALCONES RECYCLING` dengan `ORGANICS BY GOSH`, maka kita akan menggunakan t-test untuk Analisa Uji Hipotesis"
      ],
      "metadata": {
        "id": "yDJC4_I9anEQ"
      }
    },
    {
      "cell_type": "code",
      "source": [
        "# Define Function tTest & pValue\n",
        "\n",
        "t_stat, p_value = stats.ttest_ind(dfBalcones['load_weight'], dfOrganics['load_weight'])\n",
        "\n",
        "# Print Value\n",
        "\n",
        "print('Hasil T-Test : ', t_stat)\n",
        "print('Hasil P_Value : ', p_value)"
      ],
      "metadata": {
        "colab": {
          "base_uri": "https://localhost:8080/"
        },
        "id": "YsWTxtHUZ7rE",
        "outputId": "c8014a3f-c154-4fd6-823a-442b88c59901"
      },
      "execution_count": 148,
      "outputs": [
        {
          "output_type": "stream",
          "name": "stdout",
          "text": [
            "Hasil T-Test :  -1.773048272681914\n",
            "Hasil P_Value :  0.07629996166984572\n"
          ]
        }
      ]
    },
    {
      "cell_type": "code",
      "source": [
        "# Random Sampel Populasi Limbah\n",
        "balconesPop = np.random.normal(dfBalcones['load_weight'].mean(), dfBalcones['load_weight'].std(), 10000)\n",
        "organicsPop = np.random.normal(dfOrganics['load_weight'].mean(), dfOrganics['load_weight'].std(), 10000)\n",
        "\n",
        "# Interval Confident\n",
        "ci = stats.norm.interval(0.95, dfBalcones['load_weight'].mean(), dfOrganics['load_weight'].std())\n",
        "\n",
        "plt.figure(figsize=(16,5))\n",
        "sns.histplot(balconesPop, label='BALCONES RECYCLING Population', color='red')\n",
        "sns.histplot(organicsPop, label='ORGANICS BY GOSH Population', color='yellow')\n",
        "\n",
        "# Mean Value\n",
        "plt.axvline(dfBalcones['load_weight'].mean(), color='green', linewidth=3, label='BALCONES RECYCLING load_weight')\n",
        "plt.axvline(dfOrganics['load_weight'].mean(), color='blue', linewidth=3, label='ORGANICS BY GOSH load_weight')\n",
        "\n",
        "plt.axvline(ci[1], color='magenta', linestyle='dashed', linewidth=3, label='Confident Treshold of 95%')\n",
        "plt.axvline(ci[0], color='magenta', linestyle='dashed', linewidth=3, label='Confident Treshold of 95%')\n",
        "\n",
        "# Alternative Hypothesis\n",
        "plt.axvline(balconesPop.mean() + t_stat * balconesPop.std(), color=\"black\", linestyle='dashed', linewidth=3, label='Alternative Hypothesis')\n",
        "plt.axvline(organicsPop.mean() - t_stat * organicsPop.std(), color=\"black\", linestyle='dashed', linewidth=3)\n",
        "\n",
        "# Ploting\n",
        "plt.legend()\n",
        "print('Interval Confident C0 : ', ci[0])\n",
        "print('Interval Confident C1 : ', ci[1])"
      ],
      "metadata": {
        "colab": {
          "base_uri": "https://localhost:8080/",
          "height": 355
        },
        "id": "Yu85jPfrb4Rw",
        "outputId": "3df9836e-5e81-43b6-c661-b27f771dfa0b"
      },
      "execution_count": 149,
      "outputs": [
        {
          "output_type": "stream",
          "name": "stdout",
          "text": [
            "Interval Confident C0 :  -3184.743512439727\n",
            "Interval Confident C1 :  22114.04765630212\n"
          ]
        },
        {
          "output_type": "display_data",
          "data": {
            "text/plain": [
              "<Figure size 1152x360 with 1 Axes>"
            ],
            "image/png": "[encoded data removed]"
          },
          "metadata": {
            "needs_background": "light"
          }
        }
      ]
    },
    {
      "cell_type": "markdown",
      "source": [
        "Note: Based on the above results, we can conclude that we failed to reject the null hypothesis that `BALCONES RECYCLING` and `ORGANICS BY GOSH` are not significantly different in handling recyclable waste. From each site for the processing of recycled type waste is almost the same amount, both from `RECYCLED - SINGLE STREAM` type waste and `RECYCLED - METAL` type waste."
      ],
      "metadata": {
        "id": "Rh6U0eE9g-tY"
      }
    },
    {
      "cell_type": "markdown",
      "source": [
        "# Question Mark - Problem 1\n",
        "\n",
        "---\n",
        "\n"
      ],
      "metadata": {
        "id": "qzbl4pq5hagV"
      }
    },
    {
      "cell_type": "markdown",
      "source": [
        "\n",
        "\n",
        "1.   Teknik apa yang kamu pilih untuk handling outlier? jelaskan alasannya!\n",
        "  - Saya menggunakan teknik Z-Score untuk handling outlier dari data yang berdistribusi normal, dan untuk data outlier yang terjadi di `dfBalcones` maka kita biarkan saja karena hal tersebut mungkin saja terjadi mengingat kemungkinan sedang diadakannya acara disuatu daerah yang diambil datanya.\n",
        "2. Apa konsep dibalik confidence interval sehingga kita dapat menggunakannya untuk menyelesaikan langkah pada nomor 7?\n",
        "  - Konsep Interval Confidence digunakan untuk mengetahui seakurat mungkin range data yang digunakan untuk masing-masing `dropoff_site`.  Biasanya kita menggunakan persentase senilai 95% karena kita menggunakan Hypothesis Awal Two Sample Two Tail, agar rata-rata data yang didapatkan tidak berbeda jauh dari nilai batas atas dan nilai batas bawah data\n",
        "3. Jelaskan jenis uji hipotesis apa yang kamu terapkan dan mengapa?\n",
        "  - Saya menggunakan Hypothesis Two Sampel Two Tail (2S2T) karena saya ingin mengetahui apakah Jenis sampah yang bertipe daur ulang yang diproses di kedua `dropoff_site` sama banyaknya, dan ternyata hasil dari Hypothesis menunjukan bahwa tidak terlalu banyak perbedaan jenis sampah bertipe daur ulang yang diproses dikedua site, sehingga disimpulkan kita tidak dapat menolah Hypothesis nol\n",
        "\n"
      ],
      "metadata": {
        "id": "zMyj8adkh5Mo"
      }
    },
    {
      "cell_type": "markdown",
      "source": [
        "# Problem 2 - Math/Calculus\n",
        "\n",
        "---\n",
        "\n"
      ],
      "metadata": {
        "id": "3RnsH6xTioPV"
      }
    },
    {
      "cell_type": "markdown",
      "source": [
        "Kita sudah punya formula untuk memprediksi sampah ditanggal 10-07-2021\n",
        "\n",
        "---\n",
        "Formulanya\n",
        "\n",
        "**W`(tomorrow)` = W`today` + V * delta t**\n",
        "\n",
        "\n",
        "---\n",
        "\n",
        "\n",
        "\n"
      ],
      "metadata": {
        "id": "A50WlOz3sN29"
      }
    },
    {
      "cell_type": "code",
      "source": [
        "# Grouping data base on date\n",
        "\n",
        "dfPredict = dfCopy.groupby('date')['load_weight'].sum().to_frame()\n",
        "dfPredict"
      ],
      "metadata": {
        "colab": {
          "base_uri": "https://localhost:8080/",
          "height": 455
        },
        "id": "8D-04Ueksq9o",
        "outputId": "33f861ea-89d2-4c0c-bb55-6693804bc5d5"
      },
      "execution_count": 150,
      "outputs": [
        {
          "output_type": "execute_result",
          "data": {
            "text/plain": [
              "             load_weight\n",
              "date                    \n",
              "2021-01-01  4.890855e+04\n",
              "2021-01-02  2.206811e+06\n",
              "2021-01-04  2.920260e+06\n",
              "2021-01-05  2.400767e+06\n",
              "2021-01-06  2.457686e+06\n",
              "...                  ...\n",
              "2021-07-05  1.897290e+06\n",
              "2021-07-06  1.995003e+06\n",
              "2021-07-07  1.663124e+06\n",
              "2021-07-08  1.552148e+06\n",
              "2021-07-09  1.814757e+05\n",
              "\n",
              "[166 rows x 1 columns]"
            ],
            "text/html": [
              "\n",
              "  <div id=\"df-c88d63d0-41fd-4e43-9e44-503558be6205\">\n",
              "    <div class=\"colab-df-container\">\n",
              "      <div>\n",
              "<style scoped>\n",
              "    .dataframe tbody tr th:only-of-type {\n",
              "        vertical-align: middle;\n",
              "    }\n",
              "\n",
              "    .dataframe tbody tr th {\n",
              "        vertical-align: top;\n",
              "    }\n",
              "\n",
              "    .dataframe thead th {\n",
              "        text-align: right;\n",
              "    }\n",
              "</style>\n",
              "<table border=\"1\" class=\"dataframe\">\n",
              "  <thead>\n",
              "    <tr style=\"text-align: right;\">\n",
              "      <th></th>\n",
              "      <th>load_weight</th>\n",
              "    </tr>\n",
              "    <tr>\n",
              "      <th>date</th>\n",
              "      <th></th>\n",
              "    </tr>\n",
              "  </thead>\n",
              "  <tbody>\n",
              "    <tr>\n",
              "      <th>2021-01-01</th>\n",
              "      <td>4.890855e+04</td>\n",
              "    </tr>\n",
              "    <tr>\n",
              "      <th>2021-01-02</th>\n",
              "      <td>2.206811e+06</td>\n",
              "    </tr>\n",
              "    <tr>\n",
              "      <th>2021-01-04</th>\n",
              "      <td>2.920260e+06</td>\n",
              "    </tr>\n",
              "    <tr>\n",
              "      <th>2021-01-05</th>\n",
              "      <td>2.400767e+06</td>\n",
              "    </tr>\n",
              "    <tr>\n",
              "      <th>2021-01-06</th>\n",
              "      <td>2.457686e+06</td>\n",
              "    </tr>\n",
              "    <tr>\n",
              "      <th>...</th>\n",
              "      <td>...</td>\n",
              "    </tr>\n",
              "    <tr>\n",
              "      <th>2021-07-05</th>\n",
              "      <td>1.897290e+06</td>\n",
              "    </tr>\n",
              "    <tr>\n",
              "      <th>2021-07-06</th>\n",
              "      <td>1.995003e+06</td>\n",
              "    </tr>\n",
              "    <tr>\n",
              "      <th>2021-07-07</th>\n",
              "      <td>1.663124e+06</td>\n",
              "    </tr>\n",
              "    <tr>\n",
              "      <th>2021-07-08</th>\n",
              "      <td>1.552148e+06</td>\n",
              "    </tr>\n",
              "    <tr>\n",
              "      <th>2021-07-09</th>\n",
              "      <td>1.814757e+05</td>\n",
              "    </tr>\n",
              "  </tbody>\n",
              "</table>\n",
              "<p>166 rows × 1 columns</p>\n",
              "</div>\n",
              "      <button class=\"colab-df-convert\" onclick=\"convertToInteractive('df-c88d63d0-41fd-4e43-9e44-503558be6205')\"\n",
              "              title=\"Convert this dataframe to an interactive table.\"\n",
              "              style=\"display:none;\">\n",
              "        \n",
              "  <svg xmlns=\"http://www.w3.org/2000/svg\" height=\"24px\"viewBox=\"0 0 24 24\"\n",
              "       width=\"24px\">\n",
              "    <path d=\"M0 0h24v24H0V0z\" fill=\"none\"/>\n",
              "    <path d=\"M18.56 5.44l.94 2.06.94-2.06 2.06-.94-2.06-.94-.94-2.06-.94 2.06-2.06.94zm-11 1L8.5 8.5l.94-2.06 2.06-.94-2.06-.94L8.5 2.5l-.94 2.06-2.06.94zm10 10l.94 2.06.94-2.06 2.06-.94-2.06-.94-.94-2.06-.94 2.06-2.06.94z\"/><path d=\"M17.41 7.96l-1.37-1.37c-.4-.4-.92-.59-1.43-.59-.52 0-1.04.2-1.43.59L10.3 9.45l-7.72 7.72c-.78.78-.78 2.05 0 2.83L4 21.41c.39.39.9.59 1.41.59.51 0 1.02-.2 1.41-.59l7.78-7.78 2.81-2.81c.8-.78.8-2.07 0-2.86zM5.41 20L4 18.59l7.72-7.72 1.47 1.35L5.41 20z\"/>\n",
              "  </svg>\n",
              "      </button>\n",
              "      \n",
              "  <style>\n",
              "    .colab-df-container {\n",
              "      display:flex;\n",
              "      flex-wrap:wrap;\n",
              "      gap: 12px;\n",
              "    }\n",
              "\n",
              "    .colab-df-convert {\n",
              "      background-color: #E8F0FE;\n",
              "      border: none;\n",
              "      border-radius: 50%;\n",
              "      cursor: pointer;\n",
              "      display: none;\n",
              "      fill: #1967D2;\n",
              "      height: 32px;\n",
              "      padding: 0 0 0 0;\n",
              "      width: 32px;\n",
              "    }\n",
              "\n",
              "    .colab-df-convert:hover {\n",
              "      background-color: #E2EBFA;\n",
              "      box-shadow: 0px 1px 2px rgba(60, 64, 67, 0.3), 0px 1px 3px 1px rgba(60, 64, 67, 0.15);\n",
              "      fill: #174EA6;\n",
              "    }\n",
              "\n",
              "    [theme=dark] .colab-df-convert {\n",
              "      background-color: #3B4455;\n",
              "      fill: #D2E3FC;\n",
              "    }\n",
              "\n",
              "    [theme=dark] .colab-df-convert:hover {\n",
              "      background-color: #434B5C;\n",
              "      box-shadow: 0px 1px 3px 1px rgba(0, 0, 0, 0.15);\n",
              "      filter: drop-shadow(0px 1px 2px rgba(0, 0, 0, 0.3));\n",
              "      fill: #FFFFFF;\n",
              "    }\n",
              "  </style>\n",
              "\n",
              "      <script>\n",
              "        const buttonEl =\n",
              "          document.querySelector('#df-c88d63d0-41fd-4e43-9e44-503558be6205 button.colab-df-convert');\n",
              "        buttonEl.style.display =\n",
              "          google.colab.kernel.accessAllowed ? 'block' : 'none';\n",
              "\n",
              "        async function convertToInteractive(key) {\n",
              "          const element = document.querySelector('#df-c88d63d0-41fd-4e43-9e44-503558be6205');\n",
              "          const dataTable =\n",
              "            await google.colab.kernel.invokeFunction('convertToInteractive',\n",
              "                                                     [key], {});\n",
              "          if (!dataTable) return;\n",
              "\n",
              "          const docLinkHtml = 'Like what you see? Visit the ' +\n",
              "            '<a target=\"_blank\" href=https://colab.research.google.com/notebooks/data_table.ipynb>data table notebook</a>'\n",
              "            + ' to learn more about interactive tables.';\n",
              "          element.innerHTML = '';\n",
              "          dataTable['output_type'] = 'display_data';\n",
              "          await google.colab.output.renderOutput(dataTable, element);\n",
              "          const docLink = document.createElement('div');\n",
              "          docLink.innerHTML = docLinkHtml;\n",
              "          element.appendChild(docLink);\n",
              "        }\n",
              "      </script>\n",
              "    </div>\n",
              "  </div>\n",
              "  "
            ]
          },
          "metadata": {},
          "execution_count": 150
        }
      ]
    },
    {
      "cell_type": "markdown",
      "source": [
        "note : ada 166 baris data berdasarkan `date` dan `load_weight`\n",
        "\n",
        "Now count the differential of our data and dividing with the differential of our data range"
      ],
      "metadata": {
        "id": "lkAVnECFtb7L"
      }
    },
    {
      "cell_type": "code",
      "source": [
        "# Hitung Selisih Data kemudian dibagi dengan panjang data\n",
        "# Define Function\n",
        "\n",
        "vData = np.diff(dfPredict['load_weight'])/np.diff(range(166))\n",
        "vData"
      ],
      "metadata": {
        "colab": {
          "base_uri": "https://localhost:8080/"
        },
        "id": "-uHcEBgetjOO",
        "outputId": "ff669689-21ca-4996-d505-cbc33cf31826"
      },
      "execution_count": 151,
      "outputs": [
        {
          "output_type": "execute_result",
          "data": {
            "text/plain": [
              "array([ 2.15790286e+06,  7.13448591e+05, -5.19492864e+05,  5.69185452e+04,\n",
              "        6.62342726e+04, -6.05607136e+05, -1.85349141e+06,  2.44401573e+06,\n",
              "       -4.22690000e+05,  6.80228178e+04,  6.20870905e+04, -3.89222818e+05,\n",
              "       -1.73103855e+06,  2.39456286e+06, -1.81800046e+05, -1.79943185e+04,\n",
              "       -9.08956815e+04, -3.23451409e+05, -1.64462855e+06,  2.33922427e+06,\n",
              "       -4.64654273e+05,  1.03752818e+05, -4.61408922e+02, -4.13344273e+05,\n",
              "       -1.74725714e+06,  2.40265859e+06, -3.60620000e+05, -5.02985911e+04,\n",
              "        1.16700000e+05, -3.35988591e+05, -1.75790427e+06, -4.94156815e+04,\n",
              "        2.65705855e+06, -3.84905773e+05,  1.00618499e+05, -1.50721418e+06,\n",
              "        1.02882432e+06, -1.87568141e+06,  1.05132000e+06,  2.66098000e+06,\n",
              "       -5.04400000e+05,  1.48152818e+05,  5.15028637e+04, -9.24291455e+05,\n",
              "       -2.21702855e+06, -4.52156815e+04,  2.95084000e+06, -2.95220000e+05,\n",
              "       -8.62290954e+03,  1.01885452e+04, -3.54825000e+05, -2.24757782e+06,\n",
              "       -1.24182818e+05,  3.14426568e+06, -8.30958191e+04, -2.59805682e+05,\n",
              "       -4.70086369e+04, -4.21102772e+05, -2.14284141e+06,  2.49808637e+05,\n",
              "        2.43821559e+06, -3.57641317e+05, -1.71731455e+05,  5.12628637e+04,\n",
              "       -4.32217136e+05, -1.92788000e+06,  1.12831455e+05,  2.63209012e+06,\n",
              "       -3.11330009e+05,  9.15012925e+04,  1.36000000e+03, -3.55705727e+05,\n",
              "       -1.78233200e+06, -3.60603682e+05,  2.74096714e+06, -1.81847136e+05,\n",
              "       -3.83104318e+05,  1.79787136e+05, -6.69722864e+05, -1.86730427e+06,\n",
              "        2.16399995e+06,  2.06231501e+05, -2.40318591e+05,  8.62294089e+04,\n",
              "       -2.45628000e+05, -1.88548141e+06,  2.55162286e+06, -1.01114089e+04,\n",
              "       -9.84443185e+04, -1.22322864e+05, -3.93670000e+05, -1.74380714e+06,\n",
              "       -3.37195682e+05,  2.70263000e+06, -3.44430000e+05,  6.03628178e+04,\n",
              "       -9.40514548e+04, -3.93728545e+05, -1.59332141e+06,  2.18778373e+06,\n",
              "       -1.60422318e+05,  1.39221409e+05, -3.05721409e+05, -2.76712864e+05,\n",
              "       -1.71019427e+06,  2.39384145e+06, -3.30897136e+05,  1.49251409e+05,\n",
              "       -1.18295727e+05, -1.72268591e+05, -1.80249141e+06,  2.26375145e+06,\n",
              "       -1.93160046e+05,  7.34599542e+04, -2.82427261e+03, -4.03575727e+05,\n",
              "       -1.87351709e+06,  2.55128000e+06, -3.56484318e+05, -3.30000000e+03,\n",
              "       -1.66795727e+05, -3.64002818e+05, -1.79303141e+06,  2.32110900e+06,\n",
              "       -1.07364727e+05,  1.79951227e+05, -4.81440905e+04, -5.73040000e+05,\n",
              "       -1.79002568e+06, -4.52214089e+04,  2.60093000e+06, -1.80821455e+05,\n",
              "        1.21718545e+05, -1.39500000e+04, -4.08885727e+05, -1.80743568e+06,\n",
              "        2.54704714e+06, -3.60104273e+05, -1.33426115e+04, -2.02980000e+01,\n",
              "       -4.70672864e+05, -1.76835423e+06,  2.46616427e+06, -4.83222864e+05,\n",
              "        7.33214089e+04,  1.93140892e+03, -4.52118545e+05, -1.72065427e+06,\n",
              "        2.52288286e+06, -4.67400000e+05,  9.82128178e+04, -6.06685911e+04,\n",
              "       -5.70234273e+05, -1.57719995e+06,  2.51464427e+06, -5.09027136e+05,\n",
              "        2.81140892e+03,  8.50000000e+02, -3.39450000e+05, -1.46738855e+06,\n",
              "        1.61568718e+06,  9.77128178e+04, -3.31878591e+05, -1.10975727e+05,\n",
              "       -1.37067282e+06])"
            ]
          },
          "metadata": {},
          "execution_count": 151
        }
      ]
    },
    {
      "cell_type": "code",
      "source": [
        "# Lakukan perhitungan untuk prediksi data\n",
        "# Define Function\n",
        "\n",
        "wTomorrow = dfPredict['load_weight'][-1] + vData[-1] * 1\n",
        "abs(wTomorrow)"
      ],
      "metadata": {
        "colab": {
          "base_uri": "https://localhost:8080/"
        },
        "id": "f8B-nXdLuICu",
        "outputId": "e75e9ce7-f583-40bd-d883-0a66f201bf83"
      },
      "execution_count": 152,
      "outputs": [
        {
          "output_type": "execute_result",
          "data": {
            "text/plain": [
              "1189197.1363072763"
            ]
          },
          "metadata": {},
          "execution_count": 152
        }
      ]
    },
    {
      "cell_type": "markdown",
      "source": [
        "note : hasil prediksi total Volume sampah yang ada di tanggal 10-07-2021 sebanyak 1189197.1363072763"
      ],
      "metadata": {
        "id": "eXNJXBgsvBVf"
      }
    },
    {
      "cell_type": "markdown",
      "source": [
        "# Question Mark - Problem 2\n",
        "\n",
        "---\n",
        "\n"
      ],
      "metadata": {
        "id": "kb-Xfd9Pvz0I"
      }
    },
    {
      "cell_type": "markdown",
      "source": [
        "\n",
        "\n",
        "1.   Untuk menghitung turunan pertama dapat digunakan metode simbolik dan numerik, untuk kasus ini, teknik apa yang kamu gunakan?\n",
        "  - Saya menggunakan rumus fungsi yang telah disediakan oleh library numpy yaitu `.diff()`\n",
        "2. Apakah kamu membutuhkan fungsi matematis untuk menghitung turunannya? (ya/tidak) berikan alasanmu!\n",
        "  - Ya, karena fungsi matematis dapat mempercepat proses perhitungan sebuah masalah, dalam kasus ini untuk prediksi total volume sampah di tanggal 10-07-2021\n",
        "3. Berapa load weight yang kamu perkirakan di hari esok (10 Juli 2021)?\n",
        "  - Total `load_weight` di tanggal 10-07-2021 = `1189197.1363072763`\n",
        "\n"
      ],
      "metadata": {
        "id": "k4T68SxJv5aW"
      }
    },
    {
      "cell_type": "markdown",
      "source": [
        "# Conclusion\n",
        "\n",
        "\n",
        "---\n",
        "\n"
      ],
      "metadata": {
        "id": "keZPm3h7xMO6"
      }
    },
    {
      "cell_type": "code",
      "source": [
        "# Function to Check Total Volume of Waste\n",
        "\n",
        "volAll = dfCopy['load_weight'].sum()\n",
        "\n",
        "# Function to Check Total Volume of load_type == 'RECYCLING - SINGLE STREAM'\n",
        "\n",
        "volRecycle = dfRecycle['load_weight'].sum()\n",
        "\n",
        "# Function to Check Total Volume of load_type == 'RECYCLED METAL'\n",
        "\n",
        "volMetal = dfMetal['load_weight'].sum()\n",
        "\n",
        "# Function to Check total Recycled - Waste\n",
        "\n",
        "volRecMet = volMetal + volRecycle\n",
        "\n",
        "# Function to Check the percentage of Recycled Waste\n",
        "\n",
        "percentWaste = (volRecycle + volMetal) / volAll * 100\n",
        "\n",
        "# Print Value\n",
        "\n",
        "print('Total Volume of Waste : ', volAll.round(decimals = 2))\n",
        "print('Total Volume of RECYCLING - SINGLE STREAM : ', volRecycle)\n",
        "print('Total Volume of RECYCLING METAL : ', volMetal)\n",
        "print('Volume total of Recycle - Waste : ', volRecMet)\n",
        "print('Percentage : ', percentWaste.round(decimals=2), '%')"
      ],
      "metadata": {
        "colab": {
          "base_uri": "https://localhost:8080/"
        },
        "id": "4hbhElyvKFaN",
        "outputId": "8d2d4382-a8c2-4f22-fadb-f6b0006dc4e9"
      },
      "execution_count": 153,
      "outputs": [
        {
          "output_type": "stream",
          "name": "stdout",
          "text": [
            "Total Volume of Waste :  319825204.39\n",
            "Total Volume of RECYCLING - SINGLE STREAM :  64954430.0\n",
            "Total Volume of RECYCLING METAL :  85670.0\n",
            "Volume total of Recycle - Waste :  65040100.0\n",
            "Percentage :  20.34 %\n"
          ]
        }
      ]
    },
    {
      "cell_type": "markdown",
      "source": [
        "\n",
        "1.   The total volume of waste in the city of Austin as of 09-07-2021 was 319,825,204.39 with recycled type waste, be it `RECYCLING - SINGLE STREAM` or `RECYCLED METAL` as much as 65,040,100 or about 20.34% of the total waste. Making it the second largest type of waste. The Austin city government may be able to add `dropoff_sites` to process this recyclable waste so that this type of waste can be reused by the people of Austin. \n",
        "2.   We see that the distribution of waste data in the city of Austin has been well implemented with the normal distribution weights. If the waste data is not well distributed, then I hope the Austin city government can be more specific to manage the waste distribution data in the city of Austin so that the government can know how to handle each type of waste."
      ],
      "metadata": {
        "id": "MUXr27DcKBY5"
      }
    }
  ]
}